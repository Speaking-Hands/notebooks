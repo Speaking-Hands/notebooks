{
 "cells": [
  {
   "cell_type": "markdown",
   "id": "49dc2cee",
   "metadata": {
    "papermill": {
     "duration": 0.034952,
     "end_time": "2023-07-31T07:19:34.505857",
     "exception": false,
     "start_time": "2023-07-31T07:19:34.470905",
     "status": "completed"
    },
    "tags": []
   },
   "source": [
    "Hello Fellow Kagglers,\n",
    "\n",
    "This competition has been challenging to say the least, especially the submission.\n",
    "\n",
    "After a few weeks I finally got a working training + inference pipeline which is shared through this notebook.\n",
    "\n",
    "The model consists of a transformer embedding + encoder + decoder.\n",
    "\n",
    "Inference is performed by starting with an Start of Sentence (SOS) token and predicting one character at a time using the previous prediction.\n",
    "\n",
    "Feel free to ask for clarafications or comment.\n",
    "\n",
    "Notebook will be updated periodically.\n",
    "\n",
    "[Preprocessing Notebook](https://www.kaggle.com/code/m4nugnzl/aslfr-eda-preprocessing-dataset-for-beginners)\n",
    "\n",
    "**V6**\n",
    "\n",
    "This competition has an inference limit of 5 hours which requires careful allocation of computational resources in the model. Most changes are based on the assymetrical number of encoder/decoder calls during inference.\n",
    "\n",
    "Inference requires the encoder to encode the input frames and subsequently use that encoding to predict the 1st character by inputting the encoding and Start of Sentence token. Next, the encoding, SOS token and 1st predicted token are used to predict the 2nd character. Inference thus requires 1 call to the encoder and multiple calls to the encoder. On average a phrase is 18 characters long, requiring 18+1(SOS token) calls to the decoder. To stay within the 5 hour inference limit the encoder can be computationally heavy, however the decoder should be light.\n",
    "\n",
    "Some inspiration is taken from the [1st place solution - training](https://www.kaggle.com/code/hoyso48/1st-place-solution-training) from the last [Google - Isolated Sign Language Recognition\n",
    "](https://www.kaggle.com/competitions/asl-signs) competition.\n",
    "\n",
    "* Increased training epochs 30 -> 100\n",
    "* Using all data for training, no validation set\n",
    "* Increased number of decoder blocks 2 -> 3\n",
    "* Increased encoder dimensions 256 -> 384\n",
    "* Halved attention dimension to decrease computational intensity of Multi Head Attention\n",
    "* Added 20% dropout to multi head attention output\n",
    "* Batch size 128 -> 64\n",
    "* Classification layer linear activation for logits in loss function\n",
    "\n",
    "**V7**\n",
    "\n",
    "A small update, since several other notebooks got released with a LB score as high as 0.689!\n",
    "\n",
    "This will most likely be the last version of this notebook, it seems like the way to get to 0.70 is CTC loss.\n",
    "\n",
    "The 5 hour inference limit could is limitation with this encoder/decoder architecture.\n",
    "\n",
    "Performance could be improved by using FlashAttention, however this is not yet implemented in Tensorflow.\n",
    "\n",
    "Another observation is the huge speedup from jit_compile, which allows for inferencing up to ~30 samples per second. The TFLite model obtains about ~3 samples/s and it seems the `jit_compile` flag does not impact the TFLite model speed.\n",
    "\n",
    "Modifications in this version\n",
    "\n",
    "* More efficient transformer architecture based on 1st place solution - training by HOYSO48\n",
    "* NUM_BLOCKS_ENCODER = 3 → 4\n",
    "* Correct attention mask in decoder: causal → non empty frames\n",
    "\n",
    "**Helpful Tutorials**\n",
    "\n",
    "[English-to-Spanish translation with a sequence-to-sequence Transformer](https://keras.io/examples/nlp/neural_machine_translation_with_transformer/)\n",
    "\n",
    "[Lecture 12.1 Self-attention](https://www.youtube.com/watch?v=KmAISyVvE1Y&list=LL&index=3)"
   ]
  },
  {
   "cell_type": "code",
   "execution_count": 1,
   "id": "dd55e3c9",
   "metadata": {
    "execution": {
     "iopub.execute_input": "2023-07-31T07:19:34.573913Z",
     "iopub.status.busy": "2023-07-31T07:19:34.573111Z",
     "iopub.status.idle": "2023-07-31T07:19:42.889704Z",
     "shell.execute_reply": "2023-07-31T07:19:42.888638Z"
    },
    "papermill": {
     "duration": 8.352855,
     "end_time": "2023-07-31T07:19:42.891954",
     "exception": false,
     "start_time": "2023-07-31T07:19:34.539099",
     "status": "completed"
    },
    "tags": []
   },
   "outputs": [
    {
     "name": "stderr",
     "output_type": "stream",
     "text": [
      "/opt/conda/lib/python3.10/site-packages/scipy/__init__.py:146: UserWarning: A NumPy version >=1.16.5 and <1.23.0 is required for this version of SciPy (detected version 1.23.5\n",
      "  warnings.warn(f\"A NumPy version >={np_minversion} and <{np_maxversion}\"\n",
      "/opt/conda/lib/python3.10/site-packages/tensorflow_io/python/ops/__init__.py:98: UserWarning: unable to load libtensorflow_io_plugins.so: unable to open file: libtensorflow_io_plugins.so, from paths: ['/opt/conda/lib/python3.10/site-packages/tensorflow_io/python/ops/libtensorflow_io_plugins.so']\n",
      "caused by: ['/opt/conda/lib/python3.10/site-packages/tensorflow_io/python/ops/libtensorflow_io_plugins.so: undefined symbol: _ZN3tsl6StatusC1EN10tensorflow5error4CodeESt17basic_string_viewIcSt11char_traitsIcEENS_14SourceLocationE']\n",
      "  warnings.warn(f\"unable to load libtensorflow_io_plugins.so: {e}\")\n",
      "/opt/conda/lib/python3.10/site-packages/tensorflow_io/python/ops/__init__.py:104: UserWarning: file system plugins are not loaded: unable to open file: libtensorflow_io.so, from paths: ['/opt/conda/lib/python3.10/site-packages/tensorflow_io/python/ops/libtensorflow_io.so']\n",
      "caused by: ['/opt/conda/lib/python3.10/site-packages/tensorflow_io/python/ops/libtensorflow_io.so: undefined symbol: _ZTVN10tensorflow13GcsFileSystemE']\n",
      "  warnings.warn(f\"file system plugins are not loaded: {e}\")\n",
      "/opt/conda/lib/python3.10/site-packages/tensorflow_addons/utils/tfa_eol_msg.py:23: UserWarning: \n",
      "\n",
      "TensorFlow Addons (TFA) has ended development and introduction of new features.\n",
      "TFA has entered a minimal maintenance and release mode until a planned end of life in May 2024.\n",
      "Please modify downstream libraries to take dependencies from other repositories in our TensorFlow community (e.g. Keras, Keras-CV, and Keras-NLP). \n",
      "\n",
      "For more information see: https://github.com/tensorflow/addons/issues/2807 \n",
      "\n",
      "  warnings.warn(\n"
     ]
    },
    {
     "name": "stdout",
     "output_type": "stream",
     "text": [
      "Tensorflow Version 2.12.0\n",
      "Python Version: 3.10.12 | packaged by conda-forge | (main, Jun 23 2023, 22:40:32) [GCC 12.3.0]\n"
     ]
    }
   ],
   "source": [
    "import numpy as np\n",
    "import pandas as pd\n",
    "import matplotlib.pyplot as plt\n",
    "import matplotlib as mpl\n",
    "import seaborn as sn\n",
    "import tensorflow as tf\n",
    "import tensorflow_addons as tfa\n",
    "\n",
    "from tqdm.notebook import tqdm\n",
    "from sklearn.model_selection import train_test_split, GroupShuffleSplit\n",
    "from leven import levenshtein\n",
    "\n",
    "import glob\n",
    "import sys\n",
    "import os\n",
    "import math\n",
    "import gc\n",
    "import sys\n",
    "import sklearn\n",
    "import time\n",
    "import json\n",
    "\n",
    "# TQDM Progress Bar With Pandas Apply Function\n",
    "tqdm.pandas()\n",
    "\n",
    "print(f'Tensorflow Version {tf.__version__}')\n",
    "print(f'Python Version: {sys.version}')"
   ]
  },
  {
   "cell_type": "markdown",
   "id": "8fae0dbb",
   "metadata": {
    "papermill": {
     "duration": 0.033451,
     "end_time": "2023-07-31T07:19:42.960260",
     "exception": false,
     "start_time": "2023-07-31T07:19:42.926809",
     "status": "completed"
    },
    "tags": []
   },
   "source": [
    "# Character 2 Ordinal Encoding"
   ]
  },
  {
   "cell_type": "code",
   "execution_count": 2,
   "id": "bd18dcbe",
   "metadata": {
    "execution": {
     "iopub.execute_input": "2023-07-31T07:19:43.030670Z",
     "iopub.status.busy": "2023-07-31T07:19:43.030031Z",
     "iopub.status.idle": "2023-07-31T07:19:43.052007Z",
     "shell.execute_reply": "2023-07-31T07:19:43.051024Z"
    },
    "papermill": {
     "duration": 0.060199,
     "end_time": "2023-07-31T07:19:43.054039",
     "exception": false,
     "start_time": "2023-07-31T07:19:42.993840",
     "status": "completed"
    },
    "tags": []
   },
   "outputs": [
    {
     "data": {
      "text/html": [
       "<div>\n",
       "<style scoped>\n",
       "    .dataframe tbody tr th:only-of-type {\n",
       "        vertical-align: middle;\n",
       "    }\n",
       "\n",
       "    .dataframe tbody tr th {\n",
       "        vertical-align: top;\n",
       "    }\n",
       "\n",
       "    .dataframe thead th {\n",
       "        text-align: right;\n",
       "    }\n",
       "</style>\n",
       "<table border=\"1\" class=\"dataframe\">\n",
       "  <thead>\n",
       "    <tr style=\"text-align: right;\">\n",
       "      <th></th>\n",
       "      <th>Ordinal Encoding</th>\n",
       "    </tr>\n",
       "  </thead>\n",
       "  <tbody>\n",
       "    <tr>\n",
       "      <th></th>\n",
       "      <td>0</td>\n",
       "    </tr>\n",
       "    <tr>\n",
       "      <th>!</th>\n",
       "      <td>1</td>\n",
       "    </tr>\n",
       "    <tr>\n",
       "      <th>#</th>\n",
       "      <td>2</td>\n",
       "    </tr>\n",
       "    <tr>\n",
       "      <th>$</th>\n",
       "      <td>3</td>\n",
       "    </tr>\n",
       "    <tr>\n",
       "      <th>%</th>\n",
       "      <td>4</td>\n",
       "    </tr>\n",
       "  </tbody>\n",
       "</table>\n",
       "</div>"
      ],
      "text/plain": [
       "   Ordinal Encoding\n",
       "                  0\n",
       "!                 1\n",
       "#                 2\n",
       "$                 3\n",
       "%                 4"
      ]
     },
     "execution_count": 2,
     "metadata": {},
     "output_type": "execute_result"
    }
   ],
   "source": [
    "# Read Character to Ordinal Encoding Mapping\n",
    "with open('/kaggle/input/asl-fingerspelling/character_to_prediction_index.json') as json_file:\n",
    "    CHAR2ORD = json.load(json_file)\n",
    "    \n",
    "# Ordinal to Character Mapping\n",
    "ORD2CHAR = {j:i for i,j in CHAR2ORD.items()}\n",
    "\n",
    "# convert dictionary to pandas dataframe\n",
    "CHAR2ORD_DF = pd.DataFrame(CHAR2ORD.values(),index=CHAR2ORD.keys(),columns=['Ordinal Encoding'])\n",
    "CHAR2ORD_DF.head()"
   ]
  },
  {
   "cell_type": "markdown",
   "id": "c27a9374",
   "metadata": {
    "papermill": {
     "duration": 0.033178,
     "end_time": "2023-07-31T07:19:43.121286",
     "exception": false,
     "start_time": "2023-07-31T07:19:43.088108",
     "status": "completed"
    },
    "tags": []
   },
   "source": [
    "# Hyperparameters\n",
    "\n",
    "Definimos los hiperparámetros que vamos a usar posteriormente\n",
    "\n",
    "- `IS_INTERACTIVE`: Esta variable indica si el cuaderno se está ejecutando en modo interactivo, lo que significa que se está ejecutando en un entorno donde se pueden realizar cambios y experimentar de manera interactiva. En este modo, puedes ejecutar celdas de código individualmente, modificar el código y ver los resultados inmediatamente. Esto es útil cuando estás desarrollando y depurando tu código, ya que te permite realizar cambios rápidos y observar los efectos de esos cambios en tiempo real. **Si lo que se quiere es ejecutar el código completo (5 horas) dejar** `IS_INTERACTIVE=False`. **En caso contrario, comentar esa misma línea de código**\n",
    "\n",
    "- `SEED`: Esta es una semilla aleatoria global utilizada para reproducir los resultados. Al fijar una semilla, se garantiza que los resultados sean consistentes en diferentes ejecuciones.\n",
    "\n",
    "- `N_TARGET_FRAMES`: Esta variable indica el número de fotogramas a los que se redimensionarán las grabaciones. Esto se hace para **estandarizar la longitud de las secuencias de entrada**.\n",
    "\n",
    "- `DEBUG`: Esta variable indica si se está ejecutando en modo de depuración. Si es `True`, se ejecutará en modo de depuración, lo que puede implicar la ejecución de un subconjunto de los datos para una ejecución más rápida y para facilitar la depuración.\n",
    "\n",
    "- `N_UNIQUE_CHARACTERS0`: Esta variable representa el número de **caracteres únicos que se deben predecir en el modelo**. No incluye el token de padding (relleno), el token de inicio de oración y el token de fin de oración.\n",
    "\n",
    "- `N_UNIQUE_CHARACTERS`: Esta variable es similar a `N_UNIQUE_CHARACTERS0`, pero incluye el token de relleno, el token de inicio de oración y el token de fin de oración. Por lo tanto, representa el número total de clases que el modelo debe predecir.\n",
    "\n",
    "- `PAD_TOKEN`, `START_TOKEN` y `END_TOKEN`: Estas variables representan los índices de los tokens de padding, inicio de oración y fin de oración en el vocabulario. Se utilizan durante el procesamiento de los datos y la generación de las secuencias de texto objetivo.\n",
    "\n",
    "- `USE_VAL`: Esta variable controla si se utiliza el 10% de los datos para la validación durante el entrenamiento.\n",
    "\n",
    "- `BATCH_SIZE`: Esta variable determina el tamaño del lote para el entrenamiento.\n",
    "\n",
    "- `N_EPOCHS`: Esta variable establece el número de épocas para entrenar el modelo. Si `IS_INTERACTIVE` es True, se establece en 2 para un entrenamiento rápido en modo interactivo; de lo contrario, se establece en 100 para un entrenamiento normal.\n",
    "\n",
    "- `N_WARMUP_EPOCHS`: Esta variable define el número de épocas de calentamiento en el programador de la tasa de aprendizaje.\n",
    "\n",
    "- `LR_MAX`: Esta variable establece la tasa de aprendizaje máxima para el proceso de entrenamiento.\n",
    "\n",
    "- `WD_RATIO`: Esta variable representa el ratio de decaimiento de peso en función de la tasa de aprendizaje.\n",
    "\n",
    "- `MAX_PHRASE_LENGTH`: Esta variable define la longitud máxima de una frase, incluyendo el token de fin de frase.\n",
    "\n",
    "- `TRAIN_MODEL`: Esta variable controla si se entrena el modelo.\n",
    "\n",
    "- `LOAD_WEIGHTS`: Esta variable controla si se cargan pesos preentrenados para el modelo.\n",
    "\n",
    "- `WARMUP_METHOD`: Esta variable especifica el método de calentamiento para el programador de la tasa de aprendizaje, ya sea 'log' o 'exp'.  Si es 'log', la tasa de aprendizaje se aumenta gradualmente de manera logarítmica durante las primeras épocas de calentamiento. Esto significa que al principio se incrementa lentamente y luego se acelera a medida que avanzan las épocas de calentamiento. Es útil cuando se desea un calentamiento más suave y gradual. Si es 'exp', la tasa de aprendizaje se aumenta exponencialmente durante las primeras épocas de calentamiento. Esto implica un aumento más rápido al principio y una tasa de aprendizaje más alta en las primeras épocas. Es útil cuando se quiere un calentamiento más rápido y agresivo."
   ]
  },
  {
   "cell_type": "markdown",
   "id": "1704242b",
   "metadata": {
    "papermill": {
     "duration": 0.032766,
     "end_time": "2023-07-31T07:19:43.187285",
     "exception": false,
     "start_time": "2023-07-31T07:19:43.154519",
     "status": "completed"
    },
    "tags": []
   },
   "source": [
    "Tal y como lo tenemos ahora, el notebook se ejecuta en modo interactivo, con verbosidad 1, sin subset de entrenamiento ni conjunto de validación (usaremos todo para entrenar). Utilizaremos una configuración que permita una rápida ejecución, con un número de épocas de 2."
   ]
  },
  {
   "cell_type": "code",
   "execution_count": 3,
   "id": "c472aec1",
   "metadata": {
    "execution": {
     "iopub.execute_input": "2023-07-31T07:19:43.255858Z",
     "iopub.status.busy": "2023-07-31T07:19:43.254983Z",
     "iopub.status.idle": "2023-07-31T07:19:43.262785Z",
     "shell.execute_reply": "2023-07-31T07:19:43.261943Z"
    },
    "papermill": {
     "duration": 0.043864,
     "end_time": "2023-07-31T07:19:43.264743",
     "exception": false,
     "start_time": "2023-07-31T07:19:43.220879",
     "status": "completed"
    },
    "tags": []
   },
   "outputs": [],
   "source": [
    "# If Notebook Is Run By Committing or In Interactive Mode For Development\n",
    "IS_INTERACTIVE = os.environ['KAGGLE_KERNEL_RUN_TYPE'] == 'Interactive'\n",
    "#IS_INTERACTIVE = False # to run full code\n",
    "# Verbose Setting during training\n",
    "VERBOSE = 1 if IS_INTERACTIVE else 2\n",
    "# Global Random Seed\n",
    "SEED = 42\n",
    "# Number of Frames to resize recording to\n",
    "N_TARGET_FRAMES = 128\n",
    "# Global debug flag, takes subset of train\n",
    "DEBUG = False\n",
    "# Number of Unique Characters To Predict + Pad Token + SOS Token + EOS Token\n",
    "N_UNIQUE_CHARACTERS0 = len(CHAR2ORD)\n",
    "N_UNIQUE_CHARACTERS = len(CHAR2ORD) + 1 + 1 + 1\n",
    "PAD_TOKEN = len(CHAR2ORD) # Padding # 59\n",
    "START_TOKEN = len(CHAR2ORD) + 1 # Start Of Sentence # 60\n",
    "END_TOKEN = len(CHAR2ORD) + 2 # End Of Sentence # 61\n",
    "# Whether to use 10% of data for validation\n",
    "USE_VAL = False\n",
    "# Batch Size\n",
    "BATCH_SIZE = 64\n",
    "# Number of Epochs to Train for\n",
    "N_EPOCHS = 2 if IS_INTERACTIVE else 100\n",
    "# Number of Warmup Epochs in Learning Rate Scheduler\n",
    "N_WARMUP_EPOCHS = 10\n",
    "# Maximum Learning Rate\n",
    "LR_MAX = 1e-3\n",
    "# Weight Decay Ratio as Ratio of Learning Rate\n",
    "WD_RATIO = 0.05\n",
    "# Length of Phrase + EOS Token\n",
    "MAX_PHRASE_LENGTH = 31 + 1\n",
    "# Whether to Train The model\n",
    "TRAIN_MODEL = True\n",
    "# Whether to Load Pretrained Weights\n",
    "LOAD_WEIGHTS = False\n",
    "# Learning Rate Warmup Method [log,exp]\n",
    "WARMUP_METHOD = 'exp'"
   ]
  },
  {
   "cell_type": "markdown",
   "id": "72467d1e",
   "metadata": {
    "papermill": {
     "duration": 0.033026,
     "end_time": "2023-07-31T07:19:43.331054",
     "exception": false,
     "start_time": "2023-07-31T07:19:43.298028",
     "status": "completed"
    },
    "tags": []
   },
   "source": [
    "# Read an Prepare the Data\n",
    "\n",
    "# Read Train\n",
    "\n",
    "Como `DEBUG=False`, cargamos el conjunto de entrenamiento entero. Le añadimos una columna `file_path`, con la dirección o ruta completa de los archivos tipo parquet."
   ]
  },
  {
   "cell_type": "code",
   "execution_count": 4,
   "id": "5e8fef08",
   "metadata": {
    "execution": {
     "iopub.execute_input": "2023-07-31T07:19:43.399914Z",
     "iopub.status.busy": "2023-07-31T07:19:43.398834Z",
     "iopub.status.idle": "2023-07-31T07:19:43.579801Z",
     "shell.execute_reply": "2023-07-31T07:19:43.578884Z"
    },
    "papermill": {
     "duration": 0.217719,
     "end_time": "2023-07-31T07:19:43.582072",
     "exception": false,
     "start_time": "2023-07-31T07:19:43.364353",
     "status": "completed"
    },
    "tags": []
   },
   "outputs": [
    {
     "data": {
      "text/html": [
       "<div>\n",
       "<style scoped>\n",
       "    .dataframe tbody tr th:only-of-type {\n",
       "        vertical-align: middle;\n",
       "    }\n",
       "\n",
       "    .dataframe tbody tr th {\n",
       "        vertical-align: top;\n",
       "    }\n",
       "\n",
       "    .dataframe thead th {\n",
       "        text-align: right;\n",
       "    }\n",
       "</style>\n",
       "<table border=\"1\" class=\"dataframe\">\n",
       "  <thead>\n",
       "    <tr style=\"text-align: right;\">\n",
       "      <th></th>\n",
       "      <th>path</th>\n",
       "      <th>file_id</th>\n",
       "      <th>sequence_id</th>\n",
       "      <th>participant_id</th>\n",
       "      <th>phrase</th>\n",
       "      <th>file_path</th>\n",
       "    </tr>\n",
       "  </thead>\n",
       "  <tbody>\n",
       "    <tr>\n",
       "      <th>0</th>\n",
       "      <td>train_landmarks/5414471.parquet</td>\n",
       "      <td>5414471</td>\n",
       "      <td>1816796431</td>\n",
       "      <td>217</td>\n",
       "      <td>3 creekhouse</td>\n",
       "      <td>/kaggle/input/asl-fingerspelling/train_landmar...</td>\n",
       "    </tr>\n",
       "    <tr>\n",
       "      <th>1</th>\n",
       "      <td>train_landmarks/5414471.parquet</td>\n",
       "      <td>5414471</td>\n",
       "      <td>1816825349</td>\n",
       "      <td>107</td>\n",
       "      <td>scales/kuhaylah</td>\n",
       "      <td>/kaggle/input/asl-fingerspelling/train_landmar...</td>\n",
       "    </tr>\n",
       "    <tr>\n",
       "      <th>2</th>\n",
       "      <td>train_landmarks/5414471.parquet</td>\n",
       "      <td>5414471</td>\n",
       "      <td>1816909464</td>\n",
       "      <td>1</td>\n",
       "      <td>1383 william lanier</td>\n",
       "      <td>/kaggle/input/asl-fingerspelling/train_landmar...</td>\n",
       "    </tr>\n",
       "    <tr>\n",
       "      <th>3</th>\n",
       "      <td>train_landmarks/5414471.parquet</td>\n",
       "      <td>5414471</td>\n",
       "      <td>1816967051</td>\n",
       "      <td>63</td>\n",
       "      <td>988 franklin lane</td>\n",
       "      <td>/kaggle/input/asl-fingerspelling/train_landmar...</td>\n",
       "    </tr>\n",
       "    <tr>\n",
       "      <th>4</th>\n",
       "      <td>train_landmarks/5414471.parquet</td>\n",
       "      <td>5414471</td>\n",
       "      <td>1817123330</td>\n",
       "      <td>89</td>\n",
       "      <td>6920 northeast 661st road</td>\n",
       "      <td>/kaggle/input/asl-fingerspelling/train_landmar...</td>\n",
       "    </tr>\n",
       "  </tbody>\n",
       "</table>\n",
       "</div>"
      ],
      "text/plain": [
       "                              path  file_id  sequence_id  participant_id  \\\n",
       "0  train_landmarks/5414471.parquet  5414471   1816796431             217   \n",
       "1  train_landmarks/5414471.parquet  5414471   1816825349             107   \n",
       "2  train_landmarks/5414471.parquet  5414471   1816909464               1   \n",
       "3  train_landmarks/5414471.parquet  5414471   1816967051              63   \n",
       "4  train_landmarks/5414471.parquet  5414471   1817123330              89   \n",
       "\n",
       "                      phrase  \\\n",
       "0               3 creekhouse   \n",
       "1            scales/kuhaylah   \n",
       "2        1383 william lanier   \n",
       "3          988 franklin lane   \n",
       "4  6920 northeast 661st road   \n",
       "\n",
       "                                           file_path  \n",
       "0  /kaggle/input/asl-fingerspelling/train_landmar...  \n",
       "1  /kaggle/input/asl-fingerspelling/train_landmar...  \n",
       "2  /kaggle/input/asl-fingerspelling/train_landmar...  \n",
       "3  /kaggle/input/asl-fingerspelling/train_landmar...  \n",
       "4  /kaggle/input/asl-fingerspelling/train_landmar...  "
      ]
     },
     "execution_count": 4,
     "metadata": {},
     "output_type": "execute_result"
    }
   ],
   "source": [
    "# Read Train DataFrame\n",
    "if DEBUG:\n",
    "    train = pd.read_csv('/kaggle/input/asl-fingerspelling/train.csv').head(5000)\n",
    "else:\n",
    "    train = pd.read_csv('/kaggle/input/asl-fingerspelling/train.csv')\n",
    "\n",
    "# this will be used to construct TFLite model\n",
    "train_sequence_id = train.set_index('sequence_id')\n",
    "\n",
    "# Get complete file path to file\n",
    "def get_file_path(path):\n",
    "    return f'/kaggle/input/asl-fingerspelling/{path}'\n",
    "\n",
    "train['file_path'] = train['path'].apply(get_file_path)\n",
    "\n",
    "train.head()"
   ]
  },
  {
   "cell_type": "markdown",
   "id": "2ab09361",
   "metadata": {
    "papermill": {
     "duration": 0.03365,
     "end_time": "2023-07-31T07:19:43.651730",
     "exception": false,
     "start_time": "2023-07-31T07:19:43.618080",
     "status": "completed"
    },
    "tags": []
   },
   "source": [
    "## Example File Paths\n",
    "\n",
    "Cargamos ahora los 10 elementos parquet que habíamos guardado en `train_landmark_subsets`"
   ]
  },
  {
   "cell_type": "code",
   "execution_count": 5,
   "id": "e559dc16",
   "metadata": {
    "execution": {
     "iopub.execute_input": "2023-07-31T07:19:43.720714Z",
     "iopub.status.busy": "2023-07-31T07:19:43.720016Z",
     "iopub.status.idle": "2023-07-31T07:19:43.742953Z",
     "shell.execute_reply": "2023-07-31T07:19:43.741730Z"
    },
    "papermill": {
     "duration": 0.059852,
     "end_time": "2023-07-31T07:19:43.745039",
     "exception": false,
     "start_time": "2023-07-31T07:19:43.685187",
     "status": "completed"
    },
    "tags": []
   },
   "outputs": [
    {
     "name": "stdout",
     "output_type": "stream",
     "text": [
      "Found 10 Inference Pickle Files\n"
     ]
    }
   ],
   "source": [
    "# Unique Parquet Files\n",
    "INFERENCE_FILE_PATHS = pd.Series(\n",
    "        glob.glob('/kaggle/input//aslfr-eda-preprocessing-dataset-for-beginners/train_landmark_subsets/*')\n",
    "    )\n",
    "\n",
    "print(f'Found {len(INFERENCE_FILE_PATHS)} Inference Pickle Files')"
   ]
  },
  {
   "cell_type": "markdown",
   "id": "30ef77c9",
   "metadata": {
    "papermill": {
     "duration": 0.033612,
     "end_time": "2023-07-31T07:19:43.812312",
     "exception": false,
     "start_time": "2023-07-31T07:19:43.778700",
     "status": "completed"
    },
    "tags": []
   },
   "source": [
    "# Example Parquet\n",
    "\n",
    "Recordemos la forma que tiene un archivo parquet de los que hemos guardado previo a preprocesarlo:"
   ]
  },
  {
   "cell_type": "code",
   "execution_count": 6,
   "id": "9f6e756b",
   "metadata": {
    "execution": {
     "iopub.execute_input": "2023-07-31T07:19:43.881006Z",
     "iopub.status.busy": "2023-07-31T07:19:43.880428Z",
     "iopub.status.idle": "2023-07-31T07:19:45.590170Z",
     "shell.execute_reply": "2023-07-31T07:19:45.588873Z"
    },
    "papermill": {
     "duration": 1.746332,
     "end_time": "2023-07-31T07:19:45.592205",
     "exception": false,
     "start_time": "2023-07-31T07:19:43.845873",
     "status": "completed"
    },
    "tags": []
   },
   "outputs": [
    {
     "name": "stdout",
     "output_type": "stream",
     "text": [
      "Number of Unique Recording: 1000\n"
     ]
    },
    {
     "data": {
      "text/html": [
       "<div>\n",
       "<style scoped>\n",
       "    .dataframe tbody tr th:only-of-type {\n",
       "        vertical-align: middle;\n",
       "    }\n",
       "\n",
       "    .dataframe tbody tr th {\n",
       "        vertical-align: top;\n",
       "    }\n",
       "\n",
       "    .dataframe thead th {\n",
       "        text-align: right;\n",
       "    }\n",
       "</style>\n",
       "<table border=\"1\" class=\"dataframe\">\n",
       "  <thead>\n",
       "    <tr style=\"text-align: right;\">\n",
       "      <th></th>\n",
       "      <th>x_left_hand_0</th>\n",
       "      <th>x_left_hand_1</th>\n",
       "      <th>x_left_hand_2</th>\n",
       "      <th>x_left_hand_3</th>\n",
       "      <th>x_left_hand_4</th>\n",
       "      <th>x_left_hand_5</th>\n",
       "      <th>x_left_hand_6</th>\n",
       "      <th>x_left_hand_7</th>\n",
       "      <th>x_left_hand_8</th>\n",
       "      <th>x_left_hand_9</th>\n",
       "      <th>...</th>\n",
       "      <th>y_face_314</th>\n",
       "      <th>y_face_317</th>\n",
       "      <th>y_face_318</th>\n",
       "      <th>y_face_321</th>\n",
       "      <th>y_face_324</th>\n",
       "      <th>y_face_375</th>\n",
       "      <th>y_face_402</th>\n",
       "      <th>y_face_405</th>\n",
       "      <th>y_face_409</th>\n",
       "      <th>y_face_415</th>\n",
       "    </tr>\n",
       "    <tr>\n",
       "      <th>sequence_id</th>\n",
       "      <th></th>\n",
       "      <th></th>\n",
       "      <th></th>\n",
       "      <th></th>\n",
       "      <th></th>\n",
       "      <th></th>\n",
       "      <th></th>\n",
       "      <th></th>\n",
       "      <th></th>\n",
       "      <th></th>\n",
       "      <th></th>\n",
       "      <th></th>\n",
       "      <th></th>\n",
       "      <th></th>\n",
       "      <th></th>\n",
       "      <th></th>\n",
       "      <th></th>\n",
       "      <th></th>\n",
       "      <th></th>\n",
       "      <th></th>\n",
       "      <th></th>\n",
       "    </tr>\n",
       "  </thead>\n",
       "  <tbody>\n",
       "    <tr>\n",
       "      <th>1816796431</th>\n",
       "      <td>NaN</td>\n",
       "      <td>NaN</td>\n",
       "      <td>NaN</td>\n",
       "      <td>NaN</td>\n",
       "      <td>NaN</td>\n",
       "      <td>NaN</td>\n",
       "      <td>NaN</td>\n",
       "      <td>NaN</td>\n",
       "      <td>NaN</td>\n",
       "      <td>NaN</td>\n",
       "      <td>...</td>\n",
       "      <td>0.551424</td>\n",
       "      <td>0.538415</td>\n",
       "      <td>0.539000</td>\n",
       "      <td>0.546458</td>\n",
       "      <td>0.539715</td>\n",
       "      <td>0.543958</td>\n",
       "      <td>0.538425</td>\n",
       "      <td>0.549351</td>\n",
       "      <td>0.538230</td>\n",
       "      <td>0.540015</td>\n",
       "    </tr>\n",
       "    <tr>\n",
       "      <th>1816796431</th>\n",
       "      <td>NaN</td>\n",
       "      <td>NaN</td>\n",
       "      <td>NaN</td>\n",
       "      <td>NaN</td>\n",
       "      <td>NaN</td>\n",
       "      <td>NaN</td>\n",
       "      <td>NaN</td>\n",
       "      <td>NaN</td>\n",
       "      <td>NaN</td>\n",
       "      <td>NaN</td>\n",
       "      <td>...</td>\n",
       "      <td>0.550706</td>\n",
       "      <td>0.538216</td>\n",
       "      <td>0.538723</td>\n",
       "      <td>0.545990</td>\n",
       "      <td>0.539296</td>\n",
       "      <td>0.543357</td>\n",
       "      <td>0.538225</td>\n",
       "      <td>0.548827</td>\n",
       "      <td>0.537376</td>\n",
       "      <td>0.539256</td>\n",
       "    </tr>\n",
       "    <tr>\n",
       "      <th>1816796431</th>\n",
       "      <td>NaN</td>\n",
       "      <td>NaN</td>\n",
       "      <td>NaN</td>\n",
       "      <td>NaN</td>\n",
       "      <td>NaN</td>\n",
       "      <td>NaN</td>\n",
       "      <td>NaN</td>\n",
       "      <td>NaN</td>\n",
       "      <td>NaN</td>\n",
       "      <td>NaN</td>\n",
       "      <td>...</td>\n",
       "      <td>0.550613</td>\n",
       "      <td>0.537836</td>\n",
       "      <td>0.538564</td>\n",
       "      <td>0.545949</td>\n",
       "      <td>0.539212</td>\n",
       "      <td>0.543279</td>\n",
       "      <td>0.537961</td>\n",
       "      <td>0.548796</td>\n",
       "      <td>0.537360</td>\n",
       "      <td>0.539332</td>\n",
       "    </tr>\n",
       "    <tr>\n",
       "      <th>1816796431</th>\n",
       "      <td>NaN</td>\n",
       "      <td>NaN</td>\n",
       "      <td>NaN</td>\n",
       "      <td>NaN</td>\n",
       "      <td>NaN</td>\n",
       "      <td>NaN</td>\n",
       "      <td>NaN</td>\n",
       "      <td>NaN</td>\n",
       "      <td>NaN</td>\n",
       "      <td>NaN</td>\n",
       "      <td>...</td>\n",
       "      <td>0.549740</td>\n",
       "      <td>0.536994</td>\n",
       "      <td>0.538449</td>\n",
       "      <td>0.545622</td>\n",
       "      <td>0.539666</td>\n",
       "      <td>0.543694</td>\n",
       "      <td>0.537328</td>\n",
       "      <td>0.548015</td>\n",
       "      <td>0.538301</td>\n",
       "      <td>0.539954</td>\n",
       "    </tr>\n",
       "    <tr>\n",
       "      <th>1816796431</th>\n",
       "      <td>NaN</td>\n",
       "      <td>NaN</td>\n",
       "      <td>NaN</td>\n",
       "      <td>NaN</td>\n",
       "      <td>NaN</td>\n",
       "      <td>NaN</td>\n",
       "      <td>NaN</td>\n",
       "      <td>NaN</td>\n",
       "      <td>NaN</td>\n",
       "      <td>NaN</td>\n",
       "      <td>...</td>\n",
       "      <td>0.550614</td>\n",
       "      <td>0.538677</td>\n",
       "      <td>0.540376</td>\n",
       "      <td>0.547104</td>\n",
       "      <td>0.541524</td>\n",
       "      <td>0.545222</td>\n",
       "      <td>0.539203</td>\n",
       "      <td>0.549211</td>\n",
       "      <td>0.539734</td>\n",
       "      <td>0.541707</td>\n",
       "    </tr>\n",
       "  </tbody>\n",
       "</table>\n",
       "<p>5 rows × 164 columns</p>\n",
       "</div>"
      ],
      "text/plain": [
       "             x_left_hand_0  x_left_hand_1  x_left_hand_2  x_left_hand_3  \\\n",
       "sequence_id                                                               \n",
       "1816796431             NaN            NaN            NaN            NaN   \n",
       "1816796431             NaN            NaN            NaN            NaN   \n",
       "1816796431             NaN            NaN            NaN            NaN   \n",
       "1816796431             NaN            NaN            NaN            NaN   \n",
       "1816796431             NaN            NaN            NaN            NaN   \n",
       "\n",
       "             x_left_hand_4  x_left_hand_5  x_left_hand_6  x_left_hand_7  \\\n",
       "sequence_id                                                               \n",
       "1816796431             NaN            NaN            NaN            NaN   \n",
       "1816796431             NaN            NaN            NaN            NaN   \n",
       "1816796431             NaN            NaN            NaN            NaN   \n",
       "1816796431             NaN            NaN            NaN            NaN   \n",
       "1816796431             NaN            NaN            NaN            NaN   \n",
       "\n",
       "             x_left_hand_8  x_left_hand_9  ...  y_face_314  y_face_317  \\\n",
       "sequence_id                                ...                           \n",
       "1816796431             NaN            NaN  ...    0.551424    0.538415   \n",
       "1816796431             NaN            NaN  ...    0.550706    0.538216   \n",
       "1816796431             NaN            NaN  ...    0.550613    0.537836   \n",
       "1816796431             NaN            NaN  ...    0.549740    0.536994   \n",
       "1816796431             NaN            NaN  ...    0.550614    0.538677   \n",
       "\n",
       "             y_face_318  y_face_321  y_face_324  y_face_375  y_face_402  \\\n",
       "sequence_id                                                               \n",
       "1816796431     0.539000    0.546458    0.539715    0.543958    0.538425   \n",
       "1816796431     0.538723    0.545990    0.539296    0.543357    0.538225   \n",
       "1816796431     0.538564    0.545949    0.539212    0.543279    0.537961   \n",
       "1816796431     0.538449    0.545622    0.539666    0.543694    0.537328   \n",
       "1816796431     0.540376    0.547104    0.541524    0.545222    0.539203   \n",
       "\n",
       "             y_face_405  y_face_409  y_face_415  \n",
       "sequence_id                                      \n",
       "1816796431     0.549351    0.538230    0.540015  \n",
       "1816796431     0.548827    0.537376    0.539256  \n",
       "1816796431     0.548796    0.537360    0.539332  \n",
       "1816796431     0.548015    0.538301    0.539954  \n",
       "1816796431     0.549211    0.539734    0.541707  \n",
       "\n",
       "[5 rows x 164 columns]"
      ]
     },
     "metadata": {},
     "output_type": "display_data"
    }
   ],
   "source": [
    "# Read First Parquet File\n",
    "# example_parquet_df = pd.read_parquet(train['file_path'][0])\n",
    "example_parquet_df = pd.read_parquet(INFERENCE_FILE_PATHS[0])\n",
    "\n",
    "# Each parquet file contains 1000 recordings\n",
    "print(f'Number of Unique Recording: {example_parquet_df.index.nunique()}')\n",
    "# Display DataFrame layout\n",
    "display(example_parquet_df.head())"
   ]
  },
  {
   "cell_type": "markdown",
   "id": "2b6ee7b2",
   "metadata": {
    "papermill": {
     "duration": 0.03367,
     "end_time": "2023-07-31T07:19:45.663174",
     "exception": false,
     "start_time": "2023-07-31T07:19:45.629504",
     "status": "completed"
    },
    "tags": []
   },
   "source": [
    "## Load X/y\n",
    "\n",
    "De igual forma, cargamos los ficheros de entrenamiento y validación. En nuestro caso, `USE_VAL=False`, por lo que cargamos `X` e `y` completas. La forma original de los ficheros `y` es de `[61955,128]`, debido al relleno que hemos hecho. Como hemos elegido como límite para la frase `31+1` espacios, siendo el último el token de fin de sentencia, restrignimos el tamaño de 128 a 32."
   ]
  },
  {
   "cell_type": "code",
   "execution_count": 7,
   "id": "e2407b7d",
   "metadata": {
    "execution": {
     "iopub.execute_input": "2023-07-31T07:19:45.732640Z",
     "iopub.status.busy": "2023-07-31T07:19:45.732122Z",
     "iopub.status.idle": "2023-07-31T07:20:38.637237Z",
     "shell.execute_reply": "2023-07-31T07:20:38.636264Z"
    },
    "papermill": {
     "duration": 52.977447,
     "end_time": "2023-07-31T07:20:38.674707",
     "exception": false,
     "start_time": "2023-07-31T07:19:45.697260",
     "status": "completed"
    },
    "tags": []
   },
   "outputs": [
    {
     "name": "stdout",
     "output_type": "stream",
     "text": [
      "X_train shape: (61955, 128, 164)\n",
      "y_train shape: (61955, 32)\n"
     ]
    }
   ],
   "source": [
    "# Train/Validation\n",
    "if USE_VAL:\n",
    "    # TRAIN\n",
    "    X_train = np.load('/kaggle/input/aslfr-eda-preprocessing-dataset-for-beginners/X_train.npy')\n",
    "    y_train = np.load('/kaggle/input/aslfr-eda-preprocessing-dataset-for-beginners/y_train.npy')[:,:MAX_PHRASE_LENGTH]\n",
    "    N_TRAIN_SAMPLES = len(X_train)\n",
    "    # VAL\n",
    "    X_val = np.load('/kaggle/input/aslfr-eda-preprocessing-dataset-for-beginners/X_val.npy')\n",
    "    y_val = np.load('/kaggle/input/aslfr-eda-preprocessing-dataset-for-beginners/y_val.npy')[:,:MAX_PHRASE_LENGTH]\n",
    "    N_VAL_SAMPLES = len(X_val)\n",
    "    # Shapes\n",
    "    print(f'X_train shape: {X_train.shape}, X_val shape: {X_val.shape}')\n",
    "    print(f'y_train shape: {X_train.shape}, y_val shape: {X_val.shape}')\n",
    "    \n",
    "# Train On All Data\n",
    "else:\n",
    "    # TRAIN\n",
    "    X_train = np.load('/kaggle/input/aslfr-eda-preprocessing-dataset-for-beginners/X.npy')\n",
    "    y_train = np.load('/kaggle/input/aslfr-eda-preprocessing-dataset-for-beginners/y.npy')[:,:MAX_PHRASE_LENGTH]\n",
    "    N_TRAIN_SAMPLES = len(X_train)\n",
    "    print(f'X_train shape: {X_train.shape}')\n",
    "    print(f'y_train shape: {y_train.shape}')"
   ]
  },
  {
   "cell_type": "markdown",
   "id": "b2974e83",
   "metadata": {
    "papermill": {
     "duration": 0.033946,
     "end_time": "2023-07-31T07:20:38.742692",
     "exception": false,
     "start_time": "2023-07-31T07:20:38.708746",
     "status": "completed"
    },
    "tags": []
   },
   "source": [
    "# Example Batch\n",
    "\n",
    "Ahora, creamos ejemplos de lotes (batches) con el fin de depurar (debugging) o probar el funcionamiento del código. Creamos dos conjuntos de ejemplos: uno con un tamaño de muestra más grande (`N_EXAMPLE_BATCH_SAMPLES`) y otro con un tamaño de muestra más pequeño (`N_EXAMPLE_BATCH_SAMPLES_SMALL`).\n",
    "\n",
    "En cada conjunto de ejemplos, creamos un diccionario `X_batch` que contiene las características de entrada y un array `y_batch` que contiene las etiquetas de salida.\n",
    "\n",
    "En el diccionario `X_batch`, copiamos las primeras `N_EXAMPLE_BATCH_SAMPLES` muestras entrenamiento `X_train`. El valor `frames` representa los datos de los cuadros (frames, en este caso filas, siendo casa fila un conjunto de `[1,128,164]`) y phrase representa las frases asociadas a los frames.\n",
    "\n",
    "En el array `y_batch`, copiamos las primeras `N_EXAMPLE_BATCH_SAMPLES` etiquetas de entrenamiento `y_train`, que corresponden a las frases asociadas a los frames.\n",
    "\n",
    "Realizamos el mismo procedimiento para el conjunto más pequeño, utilizando las variables `X_batch_small` e `y_batch_small`."
   ]
  },
  {
   "cell_type": "code",
   "execution_count": 8,
   "id": "34717efb",
   "metadata": {
    "execution": {
     "iopub.execute_input": "2023-07-31T07:20:38.813224Z",
     "iopub.status.busy": "2023-07-31T07:20:38.812883Z",
     "iopub.status.idle": "2023-07-31T07:20:38.923380Z",
     "shell.execute_reply": "2023-07-31T07:20:38.922459Z"
    },
    "papermill": {
     "duration": 0.148995,
     "end_time": "2023-07-31T07:20:38.925825",
     "exception": false,
     "start_time": "2023-07-31T07:20:38.776830",
     "status": "completed"
    },
    "tags": []
   },
   "outputs": [],
   "source": [
    "# Example Batch For Debugging\n",
    "N_EXAMPLE_BATCH_SAMPLES = 1024\n",
    "N_EXAMPLE_BATCH_SAMPLES_SMALL = 32\n",
    "# Example Batch\n",
    "X_batch = {\n",
    "    'frames': np.copy(X_train[:N_EXAMPLE_BATCH_SAMPLES]),\n",
    "    'phrase': np.copy(y_train[:N_EXAMPLE_BATCH_SAMPLES]),\n",
    "#     'phrase_type': np.copy(y_phrase_type_train[:N_EXAMPLE_BATCH_SAMPLES]),\n",
    "}\n",
    "y_batch = np.copy(y_train[:N_EXAMPLE_BATCH_SAMPLES])\n",
    "# Small Example Batch\n",
    "X_batch_small = {\n",
    "    'frames': np.copy(X_train[:N_EXAMPLE_BATCH_SAMPLES_SMALL]),\n",
    "    'phrase': np.copy(y_train[:N_EXAMPLE_BATCH_SAMPLES_SMALL]),\n",
    "#     'phrase_type': np.copy(y_phrase_type_train[:N_EXAMPLE_BATCH_SAMPLES_SMALL]),\n",
    "}\n",
    "y_batch_small = np.copy(y_train[:N_EXAMPLE_BATCH_SAMPLES_SMALL])"
   ]
  },
  {
   "cell_type": "code",
   "execution_count": 9,
   "id": "52d2753f",
   "metadata": {
    "execution": {
     "iopub.execute_input": "2023-07-31T07:20:38.995930Z",
     "iopub.status.busy": "2023-07-31T07:20:38.995649Z",
     "iopub.status.idle": "2023-07-31T07:20:39.002433Z",
     "shell.execute_reply": "2023-07-31T07:20:39.001551Z"
    },
    "papermill": {
     "duration": 0.044128,
     "end_time": "2023-07-31T07:20:39.004755",
     "exception": false,
     "start_time": "2023-07-31T07:20:38.960627",
     "status": "completed"
    },
    "tags": []
   },
   "outputs": [
    {
     "name": "stdout",
     "output_type": "stream",
     "text": [
      "Primer elemento de frames: [[0.         0.         0.         ... 0.549351   0.53822994 0.54001456]\n",
      " [0.         0.         0.         ... 0.548015   0.53830063 0.5399543 ]\n",
      " [0.         0.         0.         ... 0.5492628  0.53790134 0.5397798 ]\n",
      " ...\n",
      " [0.         0.         0.         ... 0.         0.         0.        ]\n",
      " [0.         0.         0.         ... 0.         0.         0.        ]\n",
      " [0.         0.         0.         ... 0.         0.         0.        ]]\n",
      "Shape de cada elemento frames: (128, 164) \n",
      "\n",
      "\n",
      "Primer elemento de phrase: [18  0 34 49 36 36 42 39 46 52 50 36 61 59 59 59 59 59 59 59 59 59 59 59\n",
      " 59 59 59 59 59 59 59 59]\n",
      "Shape de cada elemento phrase: (32,)\n"
     ]
    }
   ],
   "source": [
    "print(\"Primer elemento de frames:\", X_batch_small['frames'][0])\n",
    "print(f'Shape de cada elemento frames: {X_batch_small[\"frames\"][0].shape} \\n\\n')\n",
    "print(\"Primer elemento de phrase:\", X_batch_small['phrase'][0])\n",
    "print(f'Shape de cada elemento phrase: {X_batch_small[\"phrase\"][0].shape}')"
   ]
  },
  {
   "cell_type": "markdown",
   "id": "5c4cb2c7",
   "metadata": {
    "papermill": {
     "duration": 0.034457,
     "end_time": "2023-07-31T07:20:39.074087",
     "exception": false,
     "start_time": "2023-07-31T07:20:39.039630",
     "status": "completed"
    },
    "tags": []
   },
   "source": [
    "# Landmark Indices\n",
    "\n",
    "De igual forma que en el notebook de preprocesamiento, definimos la función `get_idxs` para obtener los índices de las manos izquierda derecha y los labios."
   ]
  },
  {
   "cell_type": "code",
   "execution_count": 10,
   "id": "fa83b9f4",
   "metadata": {
    "execution": {
     "iopub.execute_input": "2023-07-31T07:20:39.143547Z",
     "iopub.status.busy": "2023-07-31T07:20:39.142783Z",
     "iopub.status.idle": "2023-07-31T07:20:39.150425Z",
     "shell.execute_reply": "2023-07-31T07:20:39.149566Z"
    },
    "papermill": {
     "duration": 0.044563,
     "end_time": "2023-07-31T07:20:39.152496",
     "exception": false,
     "start_time": "2023-07-31T07:20:39.107933",
     "status": "completed"
    },
    "tags": []
   },
   "outputs": [],
   "source": [
    "# Get indices in original dataframe\n",
    "def get_idxs(df, words_pos, words_neg=[], ret_names=True, idxs_pos=None):\n",
    "    idxs = []\n",
    "    names = []\n",
    "    for w in words_pos:\n",
    "        for col_idx, col in enumerate(example_parquet_df.columns):\n",
    "            # Exclude Non Landmark Columns\n",
    "            if col in ['frame']:\n",
    "                continue\n",
    "                \n",
    "            col_idx = int(col.split('_')[-1])\n",
    "            # Check if column name contains all words\n",
    "            if (w in col) and (idxs_pos is None or col_idx in idxs_pos) and all([w not in col for w in words_neg]):\n",
    "                idxs.append(col_idx)\n",
    "                names.append(col)\n",
    "    # Convert to Numpy arrays\n",
    "    idxs = np.array(idxs)\n",
    "    names = np.array(names)\n",
    "    # Returns either both column indices and names\n",
    "    if ret_names:\n",
    "        return idxs, names\n",
    "    # Or only columns indices\n",
    "    else:\n",
    "        return idxs"
   ]
  },
  {
   "cell_type": "code",
   "execution_count": 11,
   "id": "c5ea6961",
   "metadata": {
    "execution": {
     "iopub.execute_input": "2023-07-31T07:20:39.222816Z",
     "iopub.status.busy": "2023-07-31T07:20:39.221889Z",
     "iopub.status.idle": "2023-07-31T07:20:39.232972Z",
     "shell.execute_reply": "2023-07-31T07:20:39.232083Z"
    },
    "papermill": {
     "duration": 0.04856,
     "end_time": "2023-07-31T07:20:39.234975",
     "exception": false,
     "start_time": "2023-07-31T07:20:39.186415",
     "status": "completed"
    },
    "tags": []
   },
   "outputs": [
    {
     "name": "stdout",
     "output_type": "stream",
     "text": [
      "N_COLS0: 164\n"
     ]
    }
   ],
   "source": [
    "# Lips Landmark Face Ids\n",
    "LIPS_LANDMARK_IDXS = np.array([\n",
    "        61, 185, 40, 39, 37, 0, 267, 269, 270, 409,\n",
    "        291, 146, 91, 181, 84, 17, 314, 405, 321, 375,\n",
    "        78, 191, 80, 81, 82, 13, 312, 311, 310, 415,\n",
    "        95, 88, 178, 87, 14, 317, 402, 318, 324, 308,\n",
    "    ])\n",
    "\n",
    "# Landmark Indices for Left/Right hand without z axis in raw data\n",
    "LEFT_HAND_IDXS0, LEFT_HAND_NAMES0 = get_idxs(example_parquet_df, ['left_hand'], ['z'])\n",
    "RIGHT_HAND_IDXS0, RIGHT_HAND_NAMES0 = get_idxs(example_parquet_df, ['right_hand'], ['z'])\n",
    "LIPS_IDXS0, LIPS_NAMES0 = get_idxs(example_parquet_df, ['face'], ['z'], idxs_pos=LIPS_LANDMARK_IDXS)\n",
    "COLUMNS0 = np.concatenate((LEFT_HAND_NAMES0, RIGHT_HAND_NAMES0, LIPS_NAMES0))\n",
    "N_COLS0 = len(COLUMNS0)\n",
    "# Only X/Y axes are used\n",
    "N_DIMS0 = 2\n",
    "\n",
    "print(f'N_COLS0: {N_COLS0}')"
   ]
  },
  {
   "cell_type": "code",
   "execution_count": 12,
   "id": "55a4c1e9",
   "metadata": {
    "execution": {
     "iopub.execute_input": "2023-07-31T07:20:39.310646Z",
     "iopub.status.busy": "2023-07-31T07:20:39.310354Z",
     "iopub.status.idle": "2023-07-31T07:20:39.318917Z",
     "shell.execute_reply": "2023-07-31T07:20:39.317905Z"
    },
    "papermill": {
     "duration": 0.045926,
     "end_time": "2023-07-31T07:20:39.321317",
     "exception": false,
     "start_time": "2023-07-31T07:20:39.275391",
     "status": "completed"
    },
    "tags": []
   },
   "outputs": [
    {
     "name": "stdout",
     "output_type": "stream",
     "text": [
      "N_COLS: 164\n"
     ]
    }
   ],
   "source": [
    "# Landmark Indices in subset of dataframe with only COLUMNS selected\n",
    "LEFT_HAND_IDXS = np.argwhere(np.isin(COLUMNS0, LEFT_HAND_NAMES0)).squeeze()\n",
    "RIGHT_HAND_IDXS = np.argwhere(np.isin(COLUMNS0, RIGHT_HAND_NAMES0)).squeeze()\n",
    "LIPS_IDXS = np.argwhere(np.isin(COLUMNS0, LIPS_NAMES0)).squeeze()\n",
    "HAND_IDXS = np.concatenate((LEFT_HAND_IDXS, RIGHT_HAND_IDXS), axis=0)\n",
    "N_COLS = N_COLS0\n",
    "# Only X/Y axes are used\n",
    "N_DIMS = 2\n",
    "\n",
    "print(f'N_COLS: {N_COLS}')"
   ]
  },
  {
   "cell_type": "code",
   "execution_count": 13,
   "id": "617437a5",
   "metadata": {
    "execution": {
     "iopub.execute_input": "2023-07-31T07:20:39.391722Z",
     "iopub.status.busy": "2023-07-31T07:20:39.391424Z",
     "iopub.status.idle": "2023-07-31T07:20:39.398159Z",
     "shell.execute_reply": "2023-07-31T07:20:39.397106Z"
    },
    "papermill": {
     "duration": 0.045479,
     "end_time": "2023-07-31T07:20:39.401700",
     "exception": false,
     "start_time": "2023-07-31T07:20:39.356221",
     "status": "completed"
    },
    "tags": []
   },
   "outputs": [
    {
     "name": "stdout",
     "output_type": "stream",
     "text": [
      "HAND_X_NAMES: ['x_left_hand_0' 'x_left_hand_1' 'x_left_hand_2' 'x_left_hand_3'\n",
      " 'x_left_hand_4' 'x_left_hand_5' 'x_left_hand_6' 'x_left_hand_7'\n",
      " 'x_left_hand_8' 'x_left_hand_9' 'x_left_hand_10' 'x_left_hand_11'\n",
      " 'x_left_hand_12' 'x_left_hand_13' 'x_left_hand_14' 'x_left_hand_15'\n",
      " 'x_left_hand_16' 'x_left_hand_17' 'x_left_hand_18' 'x_left_hand_19'\n",
      " 'x_left_hand_20']\n"
     ]
    }
   ],
   "source": [
    "# Indices in processed data by axes with only dominant hand\n",
    "HAND_X_IDXS = np.array(\n",
    "        [idx for idx, name in enumerate(LEFT_HAND_NAMES0) if 'x' in name]\n",
    "    ).squeeze()\n",
    "HAND_Y_IDXS = np.array(\n",
    "        [idx for idx, name in enumerate(LEFT_HAND_NAMES0) if 'y' in name]\n",
    "    ).squeeze()\n",
    "# Names in processed data by axes\n",
    "HAND_X_NAMES = LEFT_HAND_NAMES0[HAND_X_IDXS]\n",
    "HAND_Y_NAMES = LEFT_HAND_NAMES0[HAND_Y_IDXS]\n",
    "\n",
    "print(f'HAND_X_NAMES: {HAND_X_NAMES}')"
   ]
  },
  {
   "cell_type": "markdown",
   "id": "09a9afb8",
   "metadata": {
    "papermill": {
     "duration": 0.038384,
     "end_time": "2023-07-31T07:20:39.476514",
     "exception": false,
     "start_time": "2023-07-31T07:20:39.438130",
     "status": "completed"
    },
    "tags": []
   },
   "source": [
    "# Mean/STD Loading\n",
    "\n",
    "Cargamos la media y la desviación estándar de la media de aquellos valores que eran distintos de 0."
   ]
  },
  {
   "cell_type": "code",
   "execution_count": 14,
   "id": "f95d459b",
   "metadata": {
    "execution": {
     "iopub.execute_input": "2023-07-31T07:20:39.557238Z",
     "iopub.status.busy": "2023-07-31T07:20:39.556901Z",
     "iopub.status.idle": "2023-07-31T07:20:39.585181Z",
     "shell.execute_reply": "2023-07-31T07:20:39.583461Z"
    },
    "papermill": {
     "duration": 0.0738,
     "end_time": "2023-07-31T07:20:39.587952",
     "exception": false,
     "start_time": "2023-07-31T07:20:39.514152",
     "status": "completed"
    },
    "tags": []
   },
   "outputs": [
    {
     "name": "stdout",
     "output_type": "stream",
     "text": [
      "First 5 values of MEANS: [0.69352776 0.60659605 0.53412515 0.4970676  0.48584947]\n",
      "Shape of MEANS: (164,)\n"
     ]
    }
   ],
   "source": [
    "# Mean/Standard Deviations of data used for normalizing\n",
    "MEANS = np.load('/kaggle/input/aslfr-eda-preprocessing-dataset-for-beginners/MEANS.npy').reshape(-1)\n",
    "STDS = np.load('/kaggle/input/aslfr-eda-preprocessing-dataset-for-beginners/STDS.npy').reshape(-1)\n",
    "\n",
    "print(f'First 5 values of MEANS: {MEANS[:5]}')\n",
    "print(f'Shape of MEANS: {MEANS.shape}') # 164 values, 1 for every column"
   ]
  },
  {
   "cell_type": "markdown",
   "id": "e7d59206",
   "metadata": {
    "papermill": {
     "duration": 0.040611,
     "end_time": "2023-07-31T07:20:39.672930",
     "exception": false,
     "start_time": "2023-07-31T07:20:39.632319",
     "status": "completed"
    },
    "tags": []
   },
   "source": [
    "Añadimos la capa de preprocesamiento de nuevo aquí, ya que la usaremos en el modelo de `TFLite`"
   ]
  },
  {
   "cell_type": "code",
   "execution_count": 15,
   "id": "6af8aacd",
   "metadata": {
    "execution": {
     "iopub.execute_input": "2023-07-31T07:20:39.753756Z",
     "iopub.status.busy": "2023-07-31T07:20:39.753356Z",
     "iopub.status.idle": "2023-07-31T07:20:42.624359Z",
     "shell.execute_reply": "2023-07-31T07:20:42.623300Z"
    },
    "papermill": {
     "duration": 2.91458,
     "end_time": "2023-07-31T07:20:42.627056",
     "exception": false,
     "start_time": "2023-07-31T07:20:39.712476",
     "status": "completed"
    },
    "tags": []
   },
   "outputs": [],
   "source": [
    "class PreprocessLayer(tf.keras.layers.Layer):\n",
    "    def __init__(self):\n",
    "        super(PreprocessLayer, self).__init__()\n",
    "        self.normalisation_correction = tf.constant(\n",
    "                    # Add 0.50 to x coordinates of left hand (original right hand) and substract 0.50 of right hand (original left hand)\n",
    "                     [0.50 if 'x' in name else 0.00 for name in LEFT_HAND_NAMES0],\n",
    "                dtype=tf.float32,\n",
    "            )\n",
    "    \n",
    "    @tf.function(\n",
    "        input_signature=(tf.TensorSpec(shape=[None,N_COLS0], dtype=tf.float32),),\n",
    "    )\n",
    "    def call(self, data0, resize=True):\n",
    "        # Fill NaN Values With 0\n",
    "        data = tf.where(tf.math.is_nan(data0), 0.0, data0)\n",
    "        \n",
    "        # Hacky\n",
    "        data = data[None]\n",
    "        \n",
    "        # Empty Hand Frame Filtering\n",
    "        hands = tf.slice(data, [0,0,0], [-1, -1, 84])\n",
    "        hands = tf.abs(hands)\n",
    "        mask = tf.reduce_sum(hands, axis=2)\n",
    "        mask = tf.not_equal(mask, 0)\n",
    "        data = data[mask][None]\n",
    "        \n",
    "        # Pad Zeros\n",
    "        N_FRAMES = len(data[0])\n",
    "        if N_FRAMES < N_TARGET_FRAMES:\n",
    "            data = tf.concat((\n",
    "                data,\n",
    "                tf.zeros([1,N_TARGET_FRAMES-N_FRAMES,N_COLS], dtype=tf.float32)\n",
    "            ), axis=1)\n",
    "        # Downsample\n",
    "        data = tf.image.resize(\n",
    "            data,\n",
    "            [1, N_TARGET_FRAMES],\n",
    "            method=tf.image.ResizeMethod.BILINEAR,\n",
    "        )\n",
    "        \n",
    "        # Squeeze Batch Dimension\n",
    "        data = tf.squeeze(data, axis=[0])\n",
    "        \n",
    "        return data\n",
    "    \n",
    "preprocess_layer = PreprocessLayer()"
   ]
  },
  {
   "cell_type": "markdown",
   "id": "9700221f",
   "metadata": {
    "papermill": {
     "duration": 0.035243,
     "end_time": "2023-07-31T07:20:42.697414",
     "exception": false,
     "start_time": "2023-07-31T07:20:42.662171",
     "status": "completed"
    },
    "tags": []
   },
   "source": [
    "# Train Dataset\n",
    "\n",
    "Ahora, pasamos a crear el dataset de train  a través de la función `get_train_dataset`, que recibe como argumentos las variables `X`, `y` y el tamaño del lote o batch.\n",
    "\n",
    "- Dentro de la función, se crea un array llamado `sample_idxs` que contiene los índices de las muestras en el conjunto de datos.\n",
    "- Luego, se crea un bucle infinito con la sentencia `while True`, que permite iterar continuamente sobre el conjunto de datos en lotes.\n",
    "- En cada iteración, se obtienen índices aleatorios a partir de `sample_idxs` utilizando la función `np.random.choice`. Se seleccionan `batch_size` índices aleatorios sin reemplazo.\n",
    "- A continuación, se crean dos diccionarios: `inputs` y `outputs`. En `inputs`, se asignan los lotes de frames y phrase correspondientes a los índices aleatorios seleccionados. En `outputs`, se asigna el lote de `y` correspondiente a los índices aleatorios.\n",
    "- Por último, se utiliza la sentencia `yield` para devolver los diccionarios `inputs` y `outputs` como un par de valores en cada iteración del generador.\n",
    "\n",
    "De esta manera, al llamar a la función `get_train_dataset` se obtiene un generador que puede ser utilizado en un bucle `for` para iterar sobre los lotes de entrenamiento en cada época de entrenamiento. Cada lote contiene los datos de entrada y salida correspondientes a los índices aleatorios seleccionados.\n",
    "\n",
    "En el contexto del **entrenamiento de un modelo**, el generador de datos se utiliza para proporcionar lotes de muestras de entrenamiento de manera eficiente durante el proceso de entrenamiento.\n",
    "\n",
    "El generador de datos se utiliza como el valor de x en el método `fit()` del modelo. En lugar de pasar todos los datos de entrenamiento directamente como un tensor grande, que podría ocupar mucha memoria y ser ineficiente, se utiliza un generador de datos para proporcionar lotes de muestras más pequeños en cada paso de entrenamiento.\n",
    "\n",
    "La función `get_train_dataset` devuelve un generador infinito que, en cada iteración, toma un lote aleatorio de muestras de entrenamiento (`batch_size`) a partir del conjunto de datos de entrenamiento X e y. Cada lote de muestras es un diccionario con dos claves: 'frames' y 'phrase'. Los datos de entrada se encuentran en la clave 'frames', que contiene las secuencias de datos numéricos correspondientes a las \"frames\" (secuencias de entrada de datos). Los datos de salida (etiquetas) se encuentran en la clave 'phrase', que contiene las secuencias de índices enteros que representan las \"frases\" (secuencias de salida deseada).\n",
    "\n",
    "Cuando el método fit() del modelo recibe este generador de datos (train_dataset) como x, se ejecuta en cada época de entrenamiento y toma lotes de muestras del generador para actualizar los pesos del modelo. Esto permite entrenar el modelo utilizando todos los datos de entrenamiento, pero sin cargarlos todos en la memoria al mismo tiempo, lo que es útil para conjuntos de datos grandes. El generador continuará proporcionando lotes de muestras indefinidamente durante el entrenamiento, lo que asegura que el modelo se entrene en todas las muestras de entrenamiento disponibles."
   ]
  },
  {
   "cell_type": "code",
   "execution_count": 16,
   "id": "1d9ff458",
   "metadata": {
    "execution": {
     "iopub.execute_input": "2023-07-31T07:20:42.769414Z",
     "iopub.status.busy": "2023-07-31T07:20:42.768467Z",
     "iopub.status.idle": "2023-07-31T07:20:42.774616Z",
     "shell.execute_reply": "2023-07-31T07:20:42.773658Z"
    },
    "papermill": {
     "duration": 0.043806,
     "end_time": "2023-07-31T07:20:42.776705",
     "exception": false,
     "start_time": "2023-07-31T07:20:42.732899",
     "status": "completed"
    },
    "tags": []
   },
   "outputs": [],
   "source": [
    "# Train Dataset Iterator\n",
    "def get_train_dataset(X, y, batch_size=BATCH_SIZE):\n",
    "    sample_idxs = np.arange(len(X))\n",
    "    while True:\n",
    "        # Get random indices\n",
    "        random_sample_idxs = np.random.choice(sample_idxs, batch_size)\n",
    "        \n",
    "        inputs = {\n",
    "            'frames': X[random_sample_idxs],\n",
    "            'phrase': y[random_sample_idxs],\n",
    "        }\n",
    "        outputs = y[random_sample_idxs]\n",
    "        \n",
    "        yield inputs, outputs"
   ]
  },
  {
   "cell_type": "code",
   "execution_count": 17,
   "id": "4271e255",
   "metadata": {
    "execution": {
     "iopub.execute_input": "2023-07-31T07:20:42.847185Z",
     "iopub.status.busy": "2023-07-31T07:20:42.846374Z",
     "iopub.status.idle": "2023-07-31T07:20:42.853165Z",
     "shell.execute_reply": "2023-07-31T07:20:42.852195Z"
    },
    "papermill": {
     "duration": 0.044198,
     "end_time": "2023-07-31T07:20:42.855070",
     "exception": false,
     "start_time": "2023-07-31T07:20:42.810872",
     "status": "completed"
    },
    "tags": []
   },
   "outputs": [
    {
     "data": {
      "text/plain": [
       "<generator object get_train_dataset at 0x7e7ab58447b0>"
      ]
     },
     "execution_count": 17,
     "metadata": {},
     "output_type": "execute_result"
    }
   ],
   "source": [
    "# Train Dataset\n",
    "train_dataset = get_train_dataset(X_train, y_train)\n",
    "\n",
    "train_dataset"
   ]
  },
  {
   "cell_type": "code",
   "execution_count": 18,
   "id": "13f0cc6f",
   "metadata": {
    "execution": {
     "iopub.execute_input": "2023-07-31T07:20:42.925653Z",
     "iopub.status.busy": "2023-07-31T07:20:42.924801Z",
     "iopub.status.idle": "2023-07-31T07:20:42.930439Z",
     "shell.execute_reply": "2023-07-31T07:20:42.929467Z"
    },
    "papermill": {
     "duration": 0.043021,
     "end_time": "2023-07-31T07:20:42.932407",
     "exception": false,
     "start_time": "2023-07-31T07:20:42.889386",
     "status": "completed"
    },
    "tags": []
   },
   "outputs": [
    {
     "name": "stdout",
     "output_type": "stream",
     "text": [
      "TRAIN_STEPS_PER_EPOCH: 969\n"
     ]
    }
   ],
   "source": [
    "# Training Steps Per Epoch\n",
    "TRAIN_STEPS_PER_EPOCH = math.ceil(N_TRAIN_SAMPLES / BATCH_SIZE)\n",
    "print(f'TRAIN_STEPS_PER_EPOCH: {TRAIN_STEPS_PER_EPOCH}')"
   ]
  },
  {
   "cell_type": "markdown",
   "id": "e78a41e4",
   "metadata": {
    "papermill": {
     "duration": 0.034471,
     "end_time": "2023-07-31T07:20:43.001557",
     "exception": false,
     "start_time": "2023-07-31T07:20:42.967086",
     "status": "completed"
    },
    "tags": []
   },
   "source": [
    "# Validation Dataset\n",
    "\n",
    "Hcaemos lo mismo para el set de validación"
   ]
  },
  {
   "cell_type": "code",
   "execution_count": 19,
   "id": "4ba014e0",
   "metadata": {
    "execution": {
     "iopub.execute_input": "2023-07-31T07:20:43.072397Z",
     "iopub.status.busy": "2023-07-31T07:20:43.071724Z",
     "iopub.status.idle": "2023-07-31T07:20:43.077987Z",
     "shell.execute_reply": "2023-07-31T07:20:43.077097Z"
    },
    "papermill": {
     "duration": 0.04361,
     "end_time": "2023-07-31T07:20:43.079965",
     "exception": false,
     "start_time": "2023-07-31T07:20:43.036355",
     "status": "completed"
    },
    "tags": []
   },
   "outputs": [],
   "source": [
    "# Validation Set\n",
    "def get_val_dataset(X, y, batch_size=BATCH_SIZE):\n",
    "    offsets = np.arange(0, len(X), batch_size)\n",
    "    while True:\n",
    "        # Iterate over whole validation set\n",
    "        for offset in offsets:\n",
    "            inputs = {\n",
    "                'frames': X[offset:offset+batch_size],\n",
    "                'phrase': y[offset:offset+batch_size],\n",
    "            }\n",
    "            outputs = y[offset:offset+batch_size]\n",
    "\n",
    "            yield inputs, outputs"
   ]
  },
  {
   "cell_type": "code",
   "execution_count": 20,
   "id": "0e7eb84f",
   "metadata": {
    "execution": {
     "iopub.execute_input": "2023-07-31T07:20:43.150564Z",
     "iopub.status.busy": "2023-07-31T07:20:43.149818Z",
     "iopub.status.idle": "2023-07-31T07:20:43.154444Z",
     "shell.execute_reply": "2023-07-31T07:20:43.153575Z"
    },
    "papermill": {
     "duration": 0.041972,
     "end_time": "2023-07-31T07:20:43.156427",
     "exception": false,
     "start_time": "2023-07-31T07:20:43.114455",
     "status": "completed"
    },
    "tags": []
   },
   "outputs": [],
   "source": [
    "# Validation Dataset\n",
    "if USE_VAL:\n",
    "    val_dataset = get_val_dataset(X_val, y_val)"
   ]
  },
  {
   "cell_type": "code",
   "execution_count": 21,
   "id": "5779adb4",
   "metadata": {
    "execution": {
     "iopub.execute_input": "2023-07-31T07:20:43.227896Z",
     "iopub.status.busy": "2023-07-31T07:20:43.226985Z",
     "iopub.status.idle": "2023-07-31T07:20:43.231914Z",
     "shell.execute_reply": "2023-07-31T07:20:43.231083Z"
    },
    "papermill": {
     "duration": 0.0426,
     "end_time": "2023-07-31T07:20:43.233872",
     "exception": false,
     "start_time": "2023-07-31T07:20:43.191272",
     "status": "completed"
    },
    "tags": []
   },
   "outputs": [],
   "source": [
    "if USE_VAL:\n",
    "    N_VAL_STEPS_PER_EPOCH = math.ceil(N_VAL_SAMPLES / BATCH_SIZE)\n",
    "    print(f'N_VAL_STEPS_PER_EPOCH: {N_VAL_STEPS_PER_EPOCH}')"
   ]
  },
  {
   "cell_type": "markdown",
   "id": "2fd8148d",
   "metadata": {
    "papermill": {
     "duration": 0.038629,
     "end_time": "2023-07-31T07:20:43.307014",
     "exception": false,
     "start_time": "2023-07-31T07:20:43.268385",
     "status": "completed"
    },
    "tags": []
   },
   "source": [
    "# Model Config\n",
    "\n",
    "Previo al proceso de modelizado, comentaremos en qué consiste un modelo de tipo transformer:\n",
    "\n",
    "A diferencia de las arquitecturas recurrentes tradicionales como las redes neuronales recurrentes (RNN) o las redes neuronales convolucionales (CNN), que se basan en conexiones recurrentes o convoluciones para capturar dependencias temporales en los datos secuenciales, el modelo Transformer se basa en mecanismos de atención para capturar estas dependencias. El enfoque principal del mecanismo de atención es calcular las relaciones entre todos los elementos de una secuencia para asignar ponderaciones o importancias a cada elemento en función de su relevancia para la tarea en cuestión.\n",
    "\n",
    "El modelo Transformer consta de dos componentes principales: el codificador y el decodificador. Cada componente está compuesto por múltiples capas apiladas. El codificador se encarga de procesar la entrada de texto original y capturar información relevante de cada palabra o token en la secuencia. Este proceso se realiza mediante mecanismos de atención, que permiten al modelo focalizarse en las partes más importantes de la entrada en cada paso. En el codificador, se aplican capas de atención multi-cabezal y capas de redes neuronales completamente conectadas para capturar y procesar la información contextual de la entrada.\n",
    "\n",
    "Por otro lado, el decodificador se encarga de generar la salida deseada, como la traducción de la entrada original a otro idioma. El decodificador también utiliza mecanismos de atención, pero en este caso, se enfoca tanto en la entrada original (a través de la atención enmascarada) como en la salida generada hasta el momento. Esto permite al modelo generar palabras o tokens de salida basados en el contexto actual y las palabras generadas anteriormente.\n",
    "\n",
    "En cada capa tanto del codificador como del decodificador, se aplican técnicas de normalización y regularización, como la normalización de capa y el dropout, para estabilizar y regularizar el proceso de aprendizaje. Estas técnicas ayudan a mejorar la generalización del modelo y prevenir el sobreajuste.\n",
    "\n",
    "En resumen, el codificador procesa la entrada original y captura la información contextual utilizando mecanismos de atención, mientras que el decodificador utiliza la información del codificador y las salidas generadas hasta el momento para producir la salida deseada.\n",
    "\n",
    "Procedemos ahora a definir varias variables relacionadas con la arquitectura y configuración de un modelo Transformer. \n",
    "\n",
    "- `LAYER_NORM_EPS` : Representa el valor epsilon utilizado en la capa de normalización del modelo Transformer.\n",
    "- `UNITS_ENCODER` y `UNITS_DECODER`: Estas variables indican el tamaño de la salida final y de los embeddings del codificador y decodificador respectivamente.\n",
    "- `NUM_BLOCKS_ENCODER` y `NUM_BLOCKS_DECODER`: Representan el número de bloques (capas) en el codificador y decodificador del Transformer.\n",
    "- `NUM_HEADS`: Indica el número de cabezas de atención en el mecanismo de atención multi-cabeza del Transformer.\n",
    "- `MLP_RATIO`: Es el factor de multiplicación utilizado para calcular el tamaño de la capa de feed-forward en el bloque del Transformer.\n",
    "- `EMBEDDING_DROPOUT`, `MLP_DROPOUT_RATIO`, `MHA_DROPOUT_RATIO` y `CLASSIFIER_DROPOUT_RATIO`: Estas variables definen las tasas de dropout utilizadas en diferentes partes del modelo, como la capa de embedding, la capa de feed-forward y la capa clasificadora.\n",
    "- `INIT_HE_UNIFORM`, `INIT_GLOROT_UNIFORM` y `INIT_ZEROS`: Son inicializadores utilizados para inicializar los pesos de las capas del modelo. `INIT_HE_UNIFORM` utiliza la inicialización He Uniform, `INIT_GLOROT_UNIFORM` utiliza la inicialización Glorot Uniform e `INIT_ZEROS` inicializa los pesos con ceros.\n",
    "- `GELU`: Es una función de activación llamada GELU (Gaussian Error Linear Unit) utilizada en el modelo."
   ]
  },
  {
   "cell_type": "code",
   "execution_count": 22,
   "id": "028df43b",
   "metadata": {
    "execution": {
     "iopub.execute_input": "2023-07-31T07:20:43.377998Z",
     "iopub.status.busy": "2023-07-31T07:20:43.377172Z",
     "iopub.status.idle": "2023-07-31T07:20:43.383917Z",
     "shell.execute_reply": "2023-07-31T07:20:43.382900Z"
    },
    "papermill": {
     "duration": 0.044378,
     "end_time": "2023-07-31T07:20:43.385870",
     "exception": false,
     "start_time": "2023-07-31T07:20:43.341492",
     "status": "completed"
    },
    "tags": []
   },
   "outputs": [],
   "source": [
    "# Epsilon value for layer normalisation\n",
    "LAYER_NORM_EPS = 1e-6\n",
    "\n",
    "# final embedding and transformer embedding size\n",
    "UNITS_ENCODER = 384\n",
    "UNITS_DECODER = 256\n",
    "\n",
    "# Transformer\n",
    "NUM_BLOCKS_ENCODER = 4\n",
    "NUM_BLOCKS_DECODER = 3\n",
    "NUM_HEADS = 4\n",
    "MLP_RATIO = 2\n",
    "\n",
    "# Dropout\n",
    "EMBEDDING_DROPOUT = 0.00\n",
    "MLP_DROPOUT_RATIO = 0.30\n",
    "MHA_DROPOUT_RATIO = 0.20\n",
    "CLASSIFIER_DROPOUT_RATIO = 0.10\n",
    "\n",
    "# Initiailizers\n",
    "INIT_HE_UNIFORM = tf.keras.initializers.he_uniform\n",
    "INIT_GLOROT_UNIFORM = tf.keras.initializers.glorot_uniform\n",
    "INIT_ZEROS = tf.keras.initializers.constant(0.0)\n",
    "# Activations\n",
    "GELU = tf.keras.activations.gelu"
   ]
  },
  {
   "cell_type": "markdown",
   "id": "e7d97be8",
   "metadata": {
    "papermill": {
     "duration": 0.034498,
     "end_time": "2023-07-31T07:20:43.454752",
     "exception": false,
     "start_time": "2023-07-31T07:20:43.420254",
     "status": "completed"
    },
    "tags": []
   },
   "source": [
    "# Landmark Embedding\n",
    "\n",
    "\n",
    "En este paso, definiremos una clase llamada `LandmarkEmbedding` que hereda de `tf.keras.Model` y se utiliza para realizar el embedding de un landmark utilizando capas completamente conectadas. El embedding de un landmark, se refiere a la transformación de una representación de coordenadas (landmarks), en un vector resultado de aplicar transformaciones no lineales y aprender representaciones más expresivas de los landmarks. Estas representaciones embebidas pueden capturar características importantes de los landmarks, como su posición relativa, forma o cualquier otra información relevante para la tarea en cuestión...\n",
    "\n",
    "La clase `LandmarkEmbedding` tiene los siguientes componentes:\n",
    "\n",
    "- El método `__init__` se encarga de inicializar la clase y configurar sus atributos. Recibe dos parámetros: `units`, que representa la dimensión de la incrustación, y `name`, que es el nombre de la incrustación.\n",
    "- El método `build` se utiliza para construir la arquitectura del modelo. Recibe el `input_shape` que define la forma de los datos de entrada. En este caso, se construye una incrustación para los landmarks. \n",
    "    * Dentro del método `build`, se define un peso llamado `empty_embedding` utilizando `self.add_weight`. Este peso representa la incrustación para un landmark faltante en un frame y se inicializa con ceros.\n",
    "    * A continuación, se define una secuencia de capas densas utilizando `tf.keras.Sequential`. Estas capas se utilizan para realizar la incrustación de los landmarks. La primera capa densa tiene `units` unidades y utiliza la función de activación GELU (Gaussian Error Linear Unit). La segunda capa densa también tiene `units` unidades y se inicializa con el método He Uniform.\n",
    "- El método `call` es la función de llamada del modelo y se utiliza para realizar la incrustación de los datos de entrada `x`. En esta función, se utiliza`tf.where` para aplicar una condición. Si la suma de los landmarks en un frame es igual a cero, lo que significa que el landmark es nulo, se utiliza la incrustación vacía `empty_embedding`. De lo contrario, se utiliza la incrustación de los datos de landmark utilizando la secuencia de capas densas definida anteriormente."
   ]
  },
  {
   "cell_type": "code",
   "execution_count": 23,
   "id": "938e26e3",
   "metadata": {
    "execution": {
     "iopub.execute_input": "2023-07-31T07:20:43.525326Z",
     "iopub.status.busy": "2023-07-31T07:20:43.525051Z",
     "iopub.status.idle": "2023-07-31T07:20:43.533562Z",
     "shell.execute_reply": "2023-07-31T07:20:43.532657Z"
    },
    "papermill": {
     "duration": 0.046223,
     "end_time": "2023-07-31T07:20:43.535510",
     "exception": false,
     "start_time": "2023-07-31T07:20:43.489287",
     "status": "completed"
    },
    "tags": []
   },
   "outputs": [],
   "source": [
    "# Embeds a landmark using fully connected layers\n",
    "class LandmarkEmbedding(tf.keras.Model):\n",
    "    def __init__(self, units, name):\n",
    "        super(LandmarkEmbedding, self).__init__(name=f'{name}_embedding')\n",
    "        self.units = units\n",
    "        self.supports_masking = True\n",
    "        \n",
    "    def build(self, input_shape):\n",
    "        # Embedding for missing landmark in frame, initialized with zeros\n",
    "        self.empty_embedding = self.add_weight(\n",
    "            name=f'{self.name}_empty_embedding',\n",
    "            shape=[self.units],\n",
    "            initializer=INIT_ZEROS,)\n",
    "        # Embedding: 2 dense layers\n",
    "        self.dense = tf.keras.Sequential([\n",
    "            tf.keras.layers.Dense(self.units, name=f'{self.name}_dense_1', use_bias=False, kernel_initializer=INIT_GLOROT_UNIFORM, activation=GELU),\n",
    "            tf.keras.layers.Dense(self.units, name=f'{self.name}_dense_2', use_bias=False, kernel_initializer=INIT_HE_UNIFORM),\n",
    "        ], name=f'{self.name}_dense')\n",
    "\n",
    "    def call(self, x):\n",
    "        # if the landmark = 0 -> use empty embedding (return 0s), else use dense embedding\n",
    "        return tf.where(\n",
    "                # Checks whether landmark is missing in frame\n",
    "                tf.reduce_sum(x, axis=2, keepdims=True) == 0,\n",
    "                # If so, the empty embedding is used\n",
    "                self.empty_embedding,\n",
    "                # Otherwise the landmark data is embedded\n",
    "                self.dense(x),\n",
    "            )"
   ]
  },
  {
   "cell_type": "markdown",
   "id": "585ffa1b",
   "metadata": {
    "papermill": {
     "duration": 0.034267,
     "end_time": "2023-07-31T07:20:43.605852",
     "exception": false,
     "start_time": "2023-07-31T07:20:43.571585",
     "status": "completed"
    },
    "tags": []
   },
   "source": [
    "> Ejemplo : Definimos los landmarks de tres frames utilizando tensores constantes de TensorFlow. Cada frame tiene dos landmarks representados como pares de coordenadas `(x, y)`. Pasamos los landmarks por el modelo de embedding utilizando la función `call()` del modelo. Esto generará las representaciones embebidas de los landmarks. En cada print, se verán las representaciones embebidas de los landmarks en forma de tensores. Cada tensor tendrá la forma `(n_batch,num_landmarks, num_dimensions)`, donde `num_landmarks` es el número de landmarks en el frame y `num_dimensions` es el número de dimensiones de cada landmark (en este caso, 2 para las coordenadas x e y)."
   ]
  },
  {
   "cell_type": "code",
   "execution_count": 24,
   "id": "86c6252d",
   "metadata": {
    "execution": {
     "iopub.execute_input": "2023-07-31T07:20:43.676919Z",
     "iopub.status.busy": "2023-07-31T07:20:43.676569Z",
     "iopub.status.idle": "2023-07-31T07:20:45.593967Z",
     "shell.execute_reply": "2023-07-31T07:20:45.593043Z"
    },
    "papermill": {
     "duration": 1.955956,
     "end_time": "2023-07-31T07:20:45.596458",
     "exception": false,
     "start_time": "2023-07-31T07:20:43.640502",
     "status": "completed"
    },
    "tags": []
   },
   "outputs": [
    {
     "name": "stdout",
     "output_type": "stream",
     "text": [
      "Frame 1 shape: (1, 2, 2) \n",
      "Frame 1 embeddings:\n",
      "tf.Tensor(\n",
      "[[[3.1116607 2.957823 ]\n",
      "  [6.569265  6.1657634]]], shape=(1, 2, 2), dtype=float32)\n",
      "\n",
      "\n",
      "Frame 2 embeddings:\n",
      "tf.Tensor(\n",
      "[[[ 0.        0.      ]\n",
      "  [ 9.981428  9.362338]]\n",
      "\n",
      " [[13.389832 12.559214]\n",
      "  [16.798143 15.756097]]], shape=(2, 2, 2), dtype=float32)\n"
     ]
    }
   ],
   "source": [
    "# Create an instance of the LandmarkEmbedding model\n",
    "embedding_model = LandmarkEmbedding(units=2, name='landmark')\n",
    "\n",
    "# Define the landmarks of the three frames\n",
    "frame_1 = tf.constant([[[1, 2], [3, 4]]])\n",
    "frame_2 = tf.constant([[[0, 0], [5, 6]], [[7, 8], [9, 10]]])\n",
    "\n",
    "# Pass the landmarks through the embedding model\n",
    "embedding_1 = embedding_model(frame_1)\n",
    "embedding_2 = embedding_model(frame_2)\n",
    "\n",
    "# Print the embedded representations of the landmarks\n",
    "print(f'Frame 1 shape: {frame_1.shape} ')\n",
    "print(\"Frame 1 embeddings:\")\n",
    "print(embedding_1)\n",
    "\n",
    "print(\"\\n\\nFrame 2 embeddings:\")\n",
    "print(embedding_2)"
   ]
  },
  {
   "cell_type": "markdown",
   "id": "b546580e",
   "metadata": {
    "papermill": {
     "duration": 0.034824,
     "end_time": "2023-07-31T07:20:45.666993",
     "exception": false,
     "start_time": "2023-07-31T07:20:45.632169",
     "status": "completed"
    },
    "tags": []
   },
   "source": [
    "> **Output**: En la salida del primer frame , se muestra un tensor de forma `(1, 2, 2)` y tipo de dato *float32*. Esto significa que hay una sola muestra en el batch, dos landmarks en el frame (dos vectores) y dos dimensiones para cada landmark (x,y).\n",
    "Cada valor en el tensor representa la representación embebida de un landmark en el frame. Por ejemplo, el primer valor `[0.00237609, -0.14469941]` corresponde a la representación embebida del primer landmark `[1,2]`, y el segundo valor `[0.00064886, -0.10494988]` corresponde a la representación embebida del segundo landmark.\n",
    "\n",
    " El modelo LandmarkEmbedding realiza una transformación de los valores originales de los landmarks utilizando las capas densas definidas en el método build.\n",
    "\n",
    "- Si el valor de un landmark es igual a cero, lo que indica que el landmark está faltante en el frame, se utiliza una incrustación vacía (representada por `self.empty_embedding`) en lugar de realizar la transformación.\n",
    "- Si el valor de un landmark es distinto de cero, se aplica la transformación utilizando las capas densas (`self.dense`). En este caso, se realiza una operación lineal seguida de una función de activación GELU para obtener el embedding final del landmark.\n",
    "\n",
    "En este último caso, se utilizan dos capas densas consecutivas. La primera capa (`self.dense_1`) realiza una multiplicación matricial de los valores de entrada con una matriz de pesos. Los pesos de esta capa se inicializan utilizando la inicialización Glorot uniforme. Luego, se aplica una función de activación llamada GELU (Gaussian Error Linear Unit), que no es más que una versión suavizada de la ReLU, e introduce de igual forma no linealidad en la transformación. La segunda capa (`self.dense_2`) realiza una operación similar, multiplicando la salida de la capa anterior por otra matriz de pesos inicializada con el método He uniforme.\n",
    "\n",
    "En el ejemplo proporcionado, el número de `units` del modelo de embedding se establece en '2'. Esto significa que la dimensión de la salida del embedding será de tamaño 2 (nos quedaremos por tanto con la misma forma de tensor que la original).\n",
    "\n",
    "En general, el propósito del embedding no es necesariamente reducir la dimensión de los datos de entrada, sino más bien proporcionar una representación densa y más significativa de los datos originales. El objetivo es capturar características relevantes y relaciones semánticas entre los datos de entrada.\n",
    "\n",
    "A través de las capas densas del modelo, se aplican transformaciones lineales y no lineales a los datos de entrada, lo que puede permitir capturar patrones y relaciones más complejas entre los landmarks.\n",
    "\n",
    "Por tanto, aunque el tamaño de la dimensión de salida del embedding se mantiene igual al tamaño de la dimensión de entrada (en este caso, 2), las capas densas introducen pesos y sesgos que permiten una transformación no lineal de los datos. Esto puede ayudar a capturar características más discriminativas y a representar de manera más efectiva las relaciones entre los landmarks."
   ]
  },
  {
   "cell_type": "markdown",
   "id": "ad840728",
   "metadata": {
    "papermill": {
     "duration": 0.034688,
     "end_time": "2023-07-31T07:20:45.736870",
     "exception": false,
     "start_time": "2023-07-31T07:20:45.702182",
     "status": "completed"
    },
    "tags": []
   },
   "source": [
    "# Embedding\n",
    "\n",
    "La clase `Embedding` es una subclase de `tf.keras.Model` que se utiliza para crear una representación embebida para cada frame de entrada. Veamos paso a paso la función de esta clase:\n",
    "\n",
    "- En el método`__init__`, se inicializa la clase Embedding y se establece la propiedad `supports_masking=True`. Esto indica que el modelo admite el uso de máscaras para ignorar ciertas entradas durante el entrenamiento o la inferencia.\n",
    "\n",
    "- En el método `build`, se construye el modelo y se definen los parámetros y capas necesarios. EEn este caso, se crea una capa especial llamada \"embedding posicional\" para cada frame y una capa llamada \"embedding de landmarks\".\n",
    "\n",
    "    - La capa de \"embedding posicional\" se utiliza para agregar información sobre la posición de cada frame en la secuencia. Se inicializa con un tensor de forma `[N_TARGET_FRAMES, UNITS_ENCODER]` lleno de ceros y se ajustará durante el entrenamiento para capturar patrones de posición.\n",
    "\n",
    "    - La capa de \"embedding de landmarks\" se utiliza para generar una representación especial de los landmarks de cada frame. Esta representación captura características importantes de los landmarks y se utilizará para realizar tareas específicas más adelante.\n",
    "\n",
    "- En el método `call`, se define la lógica de la propagación hacia adelante del modelo. Aquí se realiza el procesamiento de los datos de entrada:\n",
    "    - Primero, se normalizan los datos de entrada `x` restando la media y dividiendo por la desviación estándar. Esto asegura que los datos estén en una escala adecuada para el modelo.\n",
    "\n",
    "    - Luego, se pasa la entrada normalizada a través de la capa de embedding para los landmarks `dominant_hand_embedding`. Se aplica por tanto un embedding a los datos de los landmarks. Imagina los landmarks como puntos de referencia en una secuencia de imágenes. La incrustación de landmarks es similar a una transformación que coge estos puntos y los transforma en una representación más compacta y rica en información, para ayudar al modelo a capturar características importantes de los landmarks y hacer que sean más fáciles de procesar. \n",
    "    \n",
    "    - Después, se agrega información sobre la posición de cada frame en la secuencia de frames (vídeo). Esto es importante porque el orden de los frames puede ser relevante para entender el contexto y la relación entre ellos. Por ejemplo, en un video, el orden de los frames puede representar el flujo temporal de las acciones. La incrustación posicional agrega esta información de posición a los datos incrustados. En el código, utilizamos un tensor llamado `positional_embedding` que contiene el embedding posicional correspondiente a cada frame en la secuencia.\n",
    "\n",
    "- Finalmente, se devuelve la representación embebida resultante `x`.\n",
    "\n",
    "En resumen, la clase Embedding se utiliza para generar una representación embebida para cada frame de entrada. Esto implica normalizar los datos de entrada, generar una representación embebida de los landmarks y agregar información posicional a la representación embebida resultante."
   ]
  },
  {
   "cell_type": "code",
   "execution_count": 25,
   "id": "be7966c2",
   "metadata": {
    "execution": {
     "iopub.execute_input": "2023-07-31T07:20:45.808061Z",
     "iopub.status.busy": "2023-07-31T07:20:45.807718Z",
     "iopub.status.idle": "2023-07-31T07:20:45.815536Z",
     "shell.execute_reply": "2023-07-31T07:20:45.814582Z"
    },
    "papermill": {
     "duration": 0.046335,
     "end_time": "2023-07-31T07:20:45.817727",
     "exception": false,
     "start_time": "2023-07-31T07:20:45.771392",
     "status": "completed"
    },
    "tags": []
   },
   "outputs": [],
   "source": [
    "# Creates embedding for each frame\n",
    "class Embedding(tf.keras.Model):\n",
    "    def __init__(self):\n",
    "        super(Embedding, self).__init__()\n",
    "        self.supports_masking = True\n",
    "    \n",
    "    def build(self, input_shape):\n",
    "        # Positional embedding for each frame index\n",
    "        self.positional_embedding = tf.Variable(\n",
    "            initial_value=tf.zeros([N_TARGET_FRAMES, UNITS_ENCODER], dtype=tf.float32),\n",
    "            trainable=True,\n",
    "            name='embedding_positional_encoder',)\n",
    "        # Embedding layer for Landmarks\n",
    "        self.dominant_hand_embedding = LandmarkEmbedding(UNITS_ENCODER, 'dominant_hand')\n",
    "\n",
    "    def call(self, x, training=False):\n",
    "        # Normalize data before aplying embedding\n",
    "        x = tf.where(\n",
    "                tf.math.equal(x, 0.0),\n",
    "                0.0,\n",
    "                (x - MEANS) / STDS,)\n",
    "        # Dominant Hand: apply landmark embedding to extract information\n",
    "        x = self.dominant_hand_embedding(x)\n",
    "        # Add Positional Encoding\n",
    "        x = x + self.positional_embedding\n",
    "        \n",
    "        return x"
   ]
  },
  {
   "cell_type": "markdown",
   "id": "1ef04eaf",
   "metadata": {
    "papermill": {
     "duration": 0.03459,
     "end_time": "2023-07-31T07:20:45.887419",
     "exception": false,
     "start_time": "2023-07-31T07:20:45.852829",
     "status": "completed"
    },
    "tags": []
   },
   "source": [
    "> Ejemplo: *vamos a visualizar la parte posicional de la clase Embedding. Para ello, crearemos una clase que realice únicamente embedding posicional, ya que el ejemplo de la parte del landmark embedding ya ha sido mostrado. Posteriormente, veremos el efecto conjunto*."
   ]
  },
  {
   "cell_type": "code",
   "execution_count": 26,
   "id": "42bd2c3f",
   "metadata": {
    "execution": {
     "iopub.execute_input": "2023-07-31T07:20:45.958541Z",
     "iopub.status.busy": "2023-07-31T07:20:45.958199Z",
     "iopub.status.idle": "2023-07-31T07:20:45.964380Z",
     "shell.execute_reply": "2023-07-31T07:20:45.963470Z"
    },
    "papermill": {
     "duration": 0.044054,
     "end_time": "2023-07-31T07:20:45.966394",
     "exception": false,
     "start_time": "2023-07-31T07:20:45.922340",
     "status": "completed"
    },
    "tags": []
   },
   "outputs": [],
   "source": [
    "# positional Embedding class\n",
    "class PositionalEmbedding(tf.keras.Model):\n",
    "    def __init__(self):\n",
    "        super(PositionalEmbedding, self).__init__()\n",
    "    \n",
    "    def build(self, input_shape):\n",
    "        self.positional_embedding = tf.Variable(\n",
    "            initial_value=tf.zeros([1, 164], dtype=tf.float32),\n",
    "            trainable=True,\n",
    "            name='positional_embedding')\n",
    "    \n",
    "    def call(self, x):\n",
    "        return x + self.positional_embedding"
   ]
  },
  {
   "cell_type": "code",
   "execution_count": 27,
   "id": "6643f195",
   "metadata": {
    "execution": {
     "iopub.execute_input": "2023-07-31T07:20:46.038248Z",
     "iopub.status.busy": "2023-07-31T07:20:46.037373Z",
     "iopub.status.idle": "2023-07-31T07:20:46.057115Z",
     "shell.execute_reply": "2023-07-31T07:20:46.055558Z"
    },
    "papermill": {
     "duration": 0.058217,
     "end_time": "2023-07-31T07:20:46.059415",
     "exception": false,
     "start_time": "2023-07-31T07:20:46.001198",
     "status": "completed"
    },
    "tags": []
   },
   "outputs": [
    {
     "name": "stdout",
     "output_type": "stream",
     "text": [
      "Input Shape: (1, 1, 164)\n",
      "\n",
      "Embedded Shape: (1, 1, 164)\n",
      "\n",
      "Input Data:\n",
      "[[[0.         0.         0.         0.         0.         0.\n",
      "   0.         0.         0.         0.         0.         0.\n",
      "   0.         0.         0.         0.         0.         0.\n",
      "   0.         0.         0.         0.         0.         0.\n",
      "   0.         0.         0.         0.         0.         0.\n",
      "   0.         0.         0.         0.         0.         0.\n",
      "   0.         0.         0.         0.         0.         0.\n",
      "   0.40883234 0.5199118  0.61215943 0.70757556 0.7973126  0.4947091\n",
      "   0.5328174  0.55355626 0.5662193  0.39119607 0.34656417 0.32939762\n",
      "   0.3102556  0.30347627 0.3326449  0.4077688  0.45275384 0.24126682\n",
      "   0.30298656 0.3729765  0.41312987 0.82836163 0.7978132  0.7294452\n",
      "   0.6939002  0.67741686 0.6423935  0.5563355  0.50164294 0.4529853\n",
      "   0.6480803  0.55267835 0.49061453 0.43906426 0.68014765 0.64513445\n",
      "   0.6970513  0.73924994 0.72837895 0.7303779  0.77016485 0.7986206\n",
      "   0.7105884  0.71221876 0.71185684 0.7126419  0.69106823 0.67249095\n",
      "   0.65999925 0.6449286  0.65124655 0.6708801  0.6825447  0.69646037\n",
      "   0.69303155 0.69581866 0.6702579  0.6618306  0.66150206 0.6521845\n",
      "   0.68178016 0.6757736  0.6507896  0.66168845 0.7308389  0.7523068\n",
      "   0.7673126  0.78701276 0.780604   0.7582259  0.74461937 0.7291747\n",
      "   0.73332167 0.7290565  0.7582114  0.76756513 0.7688735  0.7787297\n",
      "   0.7446046  0.7520213  0.77903545 0.76924825 0.52735406 0.53783846\n",
      "   0.5386621  0.55205506 0.5253081  0.5296061  0.53419906 0.5416003\n",
      "   0.54087377 0.53897274 0.5379896  0.5376386  0.55127263 0.53844535\n",
      "   0.5390815  0.5463651  0.5398256  0.54404455 0.53850317 0.54916835\n",
      "   0.53814346 0.5399856  0.52539194 0.53008837 0.534582   0.5414107\n",
      "   0.54074234 0.5390636  0.5380918  0.5376858  0.551424   0.53841543\n",
      "   0.5389999  0.5464575  0.53971463 0.54395825 0.53842527 0.549351\n",
      "   0.53822994 0.54001456]]]\n",
      "\n",
      "\n",
      "Embedded Data:\n",
      "tf.Tensor(\n",
      "[[[0.         0.         0.         0.         0.         0.\n",
      "   0.         0.         0.         0.         0.         0.\n",
      "   0.         0.         0.         0.         0.         0.\n",
      "   0.         0.         0.         0.         0.         0.\n",
      "   0.         0.         0.         0.         0.         0.\n",
      "   0.         0.         0.         0.         0.         0.\n",
      "   0.         0.         0.         0.         0.         0.\n",
      "   0.40883234 0.5199118  0.61215943 0.70757556 0.7973126  0.4947091\n",
      "   0.5328174  0.55355626 0.5662193  0.39119607 0.34656417 0.32939762\n",
      "   0.3102556  0.30347627 0.3326449  0.4077688  0.45275384 0.24126682\n",
      "   0.30298656 0.3729765  0.41312987 0.82836163 0.7978132  0.7294452\n",
      "   0.6939002  0.67741686 0.6423935  0.5563355  0.50164294 0.4529853\n",
      "   0.6480803  0.55267835 0.49061453 0.43906426 0.68014765 0.64513445\n",
      "   0.6970513  0.73924994 0.72837895 0.7303779  0.77016485 0.7986206\n",
      "   0.7105884  0.71221876 0.71185684 0.7126419  0.69106823 0.67249095\n",
      "   0.65999925 0.6449286  0.65124655 0.6708801  0.6825447  0.69646037\n",
      "   0.69303155 0.69581866 0.6702579  0.6618306  0.66150206 0.6521845\n",
      "   0.68178016 0.6757736  0.6507896  0.66168845 0.7308389  0.7523068\n",
      "   0.7673126  0.78701276 0.780604   0.7582259  0.74461937 0.7291747\n",
      "   0.73332167 0.7290565  0.7582114  0.76756513 0.7688735  0.7787297\n",
      "   0.7446046  0.7520213  0.77903545 0.76924825 0.52735406 0.53783846\n",
      "   0.5386621  0.55205506 0.5253081  0.5296061  0.53419906 0.5416003\n",
      "   0.54087377 0.53897274 0.5379896  0.5376386  0.55127263 0.53844535\n",
      "   0.5390815  0.5463651  0.5398256  0.54404455 0.53850317 0.54916835\n",
      "   0.53814346 0.5399856  0.52539194 0.53008837 0.534582   0.5414107\n",
      "   0.54074234 0.5390636  0.5380918  0.5376858  0.551424   0.53841543\n",
      "   0.5389999  0.5464575  0.53971463 0.54395825 0.53842527 0.549351\n",
      "   0.53822994 0.54001456]]], shape=(1, 1, 164), dtype=float32)\n"
     ]
    }
   ],
   "source": [
    "# Create model instance\n",
    "embedding_model = PositionalEmbedding()\n",
    "\n",
    "# Define input data of dimension [1,1,164]\n",
    "input_data = X_train[0,0,:].reshape(1,1,164)\n",
    "\n",
    "# make the embedding\n",
    "embedded_data = embedding_model(input_data)\n",
    "\n",
    "print(f'Input Shape: {input_data.shape}')\n",
    "\n",
    "print(f'\\nEmbedded Shape: {embedded_data.shape}')\n",
    "\n",
    "# Imprimir los datos de salida incrustados\n",
    "print(\"\\nInput Data:\")\n",
    "print(input_data)\n",
    "\n",
    "print(\"\\n\\nEmbedded Data:\")\n",
    "print(embedded_data)"
   ]
  },
  {
   "cell_type": "markdown",
   "id": "566e92cf",
   "metadata": {
    "execution": {
     "iopub.execute_input": "2023-07-14T10:53:31.206404Z",
     "iopub.status.busy": "2023-07-14T10:53:31.205937Z",
     "iopub.status.idle": "2023-07-14T10:53:31.217320Z",
     "shell.execute_reply": "2023-07-14T10:53:31.216247Z",
     "shell.execute_reply.started": "2023-07-14T10:53:31.206367Z"
    },
    "papermill": {
     "duration": 0.034698,
     "end_time": "2023-07-31T07:20:46.130829",
     "exception": false,
     "start_time": "2023-07-31T07:20:46.096131",
     "status": "completed"
    },
    "tags": []
   },
   "source": [
    "El embedding posicional se calcula utilizando funciones matemáticas o patrones predefinidos que permiten asignar un **valor numérico único a cada posición en la secuencia**. Estos valores numéricos se utilizan para **representar la información de posición relativa**, que **el modelo puede utilizar** para realizar operaciones específicas, como **reconocer patrones de dependencia espacial o temporal en la secuencia**.\n",
    "\n",
    "En este ejemplo, la secuencia se refiere a los datos de entrada que estás pasando a través del modelo. La forma de los datos de entrada es `[1, 164]`, lo que significa que tienes **una secuencia** de longitud 164.\n",
    "\n",
    "En general, no se puede asumir que los valores de los elementos en un mismo índice de diferentes lotes (frames) serán iguales en un contexto general.\n",
    "\n",
    "Si tuviesemos datos de tipo `[N, 164]`, donde N representa el número de lotes (número de secuencias) y 164 es la longitud de la secuencia (número de columnas), **los valores de los elementos en un mismo índice pueden ser diferentes en diferentes secuencias**, a menos que haya una lógica específica en tus datos que garantice lo contrario.\n",
    "\n",
    "Es importante tener en cuenta que los valores de los elementos en un mismo índice de diferentes lotes pueden variar para capturar la variabilidad en los datos y permitir al modelo aprender patrones y generalizar mejor.\n",
    "\n",
    "Veamos ahora el efecto conjunto de ambos embeddings:"
   ]
  },
  {
   "cell_type": "code",
   "execution_count": 28,
   "id": "3f47ec2c",
   "metadata": {
    "execution": {
     "iopub.execute_input": "2023-07-31T07:20:46.202015Z",
     "iopub.status.busy": "2023-07-31T07:20:46.201657Z",
     "iopub.status.idle": "2023-07-31T07:20:46.277397Z",
     "shell.execute_reply": "2023-07-31T07:20:46.276311Z"
    },
    "papermill": {
     "duration": 0.114035,
     "end_time": "2023-07-31T07:20:46.279771",
     "exception": false,
     "start_time": "2023-07-31T07:20:46.165736",
     "status": "completed"
    },
    "tags": []
   },
   "outputs": [
    {
     "name": "stdout",
     "output_type": "stream",
     "text": [
      "Input Shape: (1, 1, 164)\n",
      "\n",
      "Embedded Shape: (1, 128, 384)\n",
      "\n",
      "Input Data:\n",
      "[[[0.         0.         0.         0.         0.         0.\n",
      "   0.         0.         0.         0.         0.         0.\n",
      "   0.         0.         0.         0.         0.         0.\n",
      "   0.         0.         0.         0.         0.         0.\n",
      "   0.         0.         0.         0.         0.         0.\n",
      "   0.         0.         0.         0.         0.         0.\n",
      "   0.         0.         0.         0.         0.         0.\n",
      "   0.40883234 0.5199118  0.61215943 0.70757556 0.7973126  0.4947091\n",
      "   0.5328174  0.55355626 0.5662193  0.39119607 0.34656417 0.32939762\n",
      "   0.3102556  0.30347627 0.3326449  0.4077688  0.45275384 0.24126682\n",
      "   0.30298656 0.3729765  0.41312987 0.82836163 0.7978132  0.7294452\n",
      "   0.6939002  0.67741686 0.6423935  0.5563355  0.50164294 0.4529853\n",
      "   0.6480803  0.55267835 0.49061453 0.43906426 0.68014765 0.64513445\n",
      "   0.6970513  0.73924994 0.72837895 0.7303779  0.77016485 0.7986206\n",
      "   0.7105884  0.71221876 0.71185684 0.7126419  0.69106823 0.67249095\n",
      "   0.65999925 0.6449286  0.65124655 0.6708801  0.6825447  0.69646037\n",
      "   0.69303155 0.69581866 0.6702579  0.6618306  0.66150206 0.6521845\n",
      "   0.68178016 0.6757736  0.6507896  0.66168845 0.7308389  0.7523068\n",
      "   0.7673126  0.78701276 0.780604   0.7582259  0.74461937 0.7291747\n",
      "   0.73332167 0.7290565  0.7582114  0.76756513 0.7688735  0.7787297\n",
      "   0.7446046  0.7520213  0.77903545 0.76924825 0.52735406 0.53783846\n",
      "   0.5386621  0.55205506 0.5253081  0.5296061  0.53419906 0.5416003\n",
      "   0.54087377 0.53897274 0.5379896  0.5376386  0.55127263 0.53844535\n",
      "   0.5390815  0.5463651  0.5398256  0.54404455 0.53850317 0.54916835\n",
      "   0.53814346 0.5399856  0.52539194 0.53008837 0.534582   0.5414107\n",
      "   0.54074234 0.5390636  0.5380918  0.5376858  0.551424   0.53841543\n",
      "   0.5389999  0.5464575  0.53971463 0.54395825 0.53842527 0.549351\n",
      "   0.53822994 0.54001456]]]\n",
      "\n",
      "\n",
      "Embedded Data:\n",
      "tf.Tensor(\n",
      "[[[ 1.1070583  -0.07459809  0.38944805 ...  0.590876    0.5915529\n",
      "   -0.13435923]\n",
      "  [ 1.1070583  -0.07459809  0.38944805 ...  0.590876    0.5915529\n",
      "   -0.13435923]\n",
      "  [ 1.1070583  -0.07459809  0.38944805 ...  0.590876    0.5915529\n",
      "   -0.13435923]\n",
      "  ...\n",
      "  [ 1.1070583  -0.07459809  0.38944805 ...  0.590876    0.5915529\n",
      "   -0.13435923]\n",
      "  [ 1.1070583  -0.07459809  0.38944805 ...  0.590876    0.5915529\n",
      "   -0.13435923]\n",
      "  [ 1.1070583  -0.07459809  0.38944805 ...  0.590876    0.5915529\n",
      "   -0.13435923]]], shape=(1, 128, 384), dtype=float32)\n"
     ]
    }
   ],
   "source": [
    "# Create model instance\n",
    "embedding_model = Embedding()\n",
    "\n",
    "# Define input data of dimension [1,1,164]\n",
    "input_data = X_train[0,0,:].reshape(1,1,164)\n",
    "\n",
    "# make the embedding\n",
    "embedded_data = embedding_model(input_data)\n",
    "\n",
    "print(f'Input Shape: {input_data.shape}')\n",
    "\n",
    "print(f'\\nEmbedded Shape: {embedded_data.shape}')\n",
    "\n",
    "# Imprimir los datos de salida incrustados\n",
    "print(\"\\nInput Data:\")\n",
    "print(input_data)\n",
    "\n",
    "print(\"\\n\\nEmbedded Data:\")\n",
    "print(embedded_data)"
   ]
  },
  {
   "cell_type": "markdown",
   "id": "dc19103c",
   "metadata": {
    "papermill": {
     "duration": 0.035221,
     "end_time": "2023-07-31T07:20:46.354301",
     "exception": false,
     "start_time": "2023-07-31T07:20:46.319080",
     "status": "completed"
    },
    "tags": []
   },
   "source": [
    "Podemos ver como la forma de los datos ha cambiado, debido a que se realiza la siguiente transformación: \n",
    "\n",
    "* Landmark embedding: Los datos de entrada se pasan a través de la capa `dominant_hand_embedding` de la clase `LandmarkEmbedding`. Esta capa aplica una transformación lineal a los datos de entrada utilizando capas densas. Como la dimensión de la incrustación (`UNITS_ENCODER`) es 384, en este caso, cada elemento de entrada individual es transformado en una representación de forma `[1, 1, 384]`. Esto se debe a que la dimensión de la secuencia se mantiene en 1, ya que solo se tiene un elemento de entrada en la secuencia.\n",
    "\n",
    "* Embedding posicional: Después del landmark embedding, se agrega un embedding posicional a cada elemento transformado. El embedding posicional, almacenada en la variable `positional_embedding`, tiene una forma de `[N_TARGET_FRAMES, UNITS_ENCODER]`. En este caso, `N_TARGET_FRAMES` se establece en 128 y `UNITS_ENCODER` se establece en 384.\n",
    "\n",
    "* Resultado final: Al sumar la el landmark embedding y el embedding posicional, se obtiene el resultado final con shape `[1, 128, 384]`. La primera dimensión (1) se refiere al número de elementos en el lote, la segunda dimensión (128) representa los fotogramas objetivo y la tercera dimensión (384) es la dimensión de la incrustación resultante.\n",
    "\n",
    "Veamos ahora lo que sucede con unos datos de entrada de forma `[1,128,164]`:"
   ]
  },
  {
   "cell_type": "code",
   "execution_count": 29,
   "id": "c373638d",
   "metadata": {
    "execution": {
     "iopub.execute_input": "2023-07-31T07:20:46.426077Z",
     "iopub.status.busy": "2023-07-31T07:20:46.425256Z",
     "iopub.status.idle": "2023-07-31T07:20:46.472217Z",
     "shell.execute_reply": "2023-07-31T07:20:46.470830Z"
    },
    "papermill": {
     "duration": 0.084995,
     "end_time": "2023-07-31T07:20:46.474444",
     "exception": false,
     "start_time": "2023-07-31T07:20:46.389449",
     "status": "completed"
    },
    "tags": []
   },
   "outputs": [
    {
     "name": "stdout",
     "output_type": "stream",
     "text": [
      "Input Shape: (1, 128, 164)\n",
      "\n",
      "Embedded Shape: (1, 128, 384)\n",
      "\n",
      "Input Data:\n",
      "[[[0.         0.         0.         ... 0.549351   0.53822994 0.54001456]\n",
      "  [0.         0.         0.         ... 0.548015   0.53830063 0.5399543 ]\n",
      "  [0.         0.         0.         ... 0.5492628  0.53790134 0.5397798 ]\n",
      "  ...\n",
      "  [0.         0.         0.         ... 0.         0.         0.        ]\n",
      "  [0.         0.         0.         ... 0.         0.         0.        ]\n",
      "  [0.         0.         0.         ... 0.         0.         0.        ]]]\n",
      "\n",
      "\n",
      "Embedded Data:\n",
      "tf.Tensor(\n",
      "[[[-0.7477408   0.913819   -0.25068352 ...  0.5462196  -1.6324589\n",
      "    0.03030418]\n",
      "  [-0.7537701   1.002062   -0.06287858 ...  0.7017124  -1.4109156\n",
      "   -0.19455044]\n",
      "  [-0.61917853  0.8526556  -0.11516351 ...  0.6527226  -1.4996622\n",
      "   -0.0923839 ]\n",
      "  ...\n",
      "  [ 0.          0.          0.         ...  0.          0.\n",
      "    0.        ]\n",
      "  [ 0.          0.          0.         ...  0.          0.\n",
      "    0.        ]\n",
      "  [ 0.          0.          0.         ...  0.          0.\n",
      "    0.        ]]], shape=(1, 128, 384), dtype=float32)\n"
     ]
    }
   ],
   "source": [
    "# Create model instance\n",
    "embedding_model = Embedding()\n",
    "\n",
    "# Define input data of dimension [1,128,164]\n",
    "input_data = X_train[0,:,:].reshape(1,128,164) # [128,164] -> [1,128,164]\n",
    "\n",
    "# Make embedding\n",
    "embedded_data = embedding_model(input_data)\n",
    "\n",
    "\n",
    "print(f'Input Shape: {input_data.shape}')\n",
    "print(f'\\nEmbedded Shape: {embedded_data.shape}')\n",
    "\n",
    "print(\"\\nInput Data:\")\n",
    "print(input_data)\n",
    "\n",
    "print(\"\\n\\nEmbedded Data:\")\n",
    "print(embedded_data)"
   ]
  },
  {
   "cell_type": "markdown",
   "id": "8bee3c85",
   "metadata": {
    "papermill": {
     "duration": 0.035086,
     "end_time": "2023-07-31T07:20:46.546115",
     "exception": false,
     "start_time": "2023-07-31T07:20:46.511029",
     "status": "completed"
    },
    "tags": []
   },
   "source": [
    "En el ejemplo, los datos de entrada tienen una forma de `[1, 128, 164]`. Cuando se pasan a través de la clase `Embedding` , se realizan los embeddings de los landmarks y la posicion, lo que nos permite capturar información sobre los landmarks y a su vez guardar la posición de estos en el vídeo. \n",
    "\n",
    "En el caso específico del embedding de landmarks, se utiliza la clase `LandmarkEmbedding` que tiene una capa densa final con unidades `UNITS_ENCODER`. En el código, `UNITS_ENCODER=384`. Por lo tanto, después de aplicar el embedding de landmarks, los datos se ajustan a la dimensión de 384.\n",
    "\n",
    "Luego, se agrega el embedding posicional, que es un tensor de forma `[384,]`, por lo que se sumará a cada uno de los datos, sin cambiar las dimensiones.\n",
    "\n",
    "En el contexto del procesamiento de lenguaje natural, el embedding aumenta la dimensión de los datos, no lo contrario.\n",
    "\n",
    "Cuando se aplica un embedding a datos de texto, como palabras o secuencias, se busca asignar a cada elemento (palabra o token) una representación vectorial en un espacio de mayor dimensión. Es decir, se transforma una representación en formato discreto (por ejemplo, una palabra representada como un índice) a una representación en formato vectorial con un conjunto de números reales que representan las características del elemento.\n",
    "\n",
    "Por ejemplo, si se tiene un vocabulario de tamaño 10,000 palabras y se quiere representar cada palabra como un vector de 300 dimensiones utilizando un embedding, entonces se aumentaría la dimensión de las palabras de 1 (el índice de la palabra en el vocabulario) a 300.\n",
    "\n",
    "Este aumento de dimensión es beneficioso porque el embedding puede capturar mejor la semántica y relaciones entre las palabras o tokens, lo que ayuda a mejorar el rendimiento en tareas posteriores, como clasificación de texto, generación de texto, entre otras."
   ]
  },
  {
   "cell_type": "markdown",
   "id": "33ffad45",
   "metadata": {
    "papermill": {
     "duration": 0.035024,
     "end_time": "2023-07-31T07:20:46.616071",
     "exception": false,
     "start_time": "2023-07-31T07:20:46.581047",
     "status": "completed"
    },
    "tags": []
   },
   "source": [
    "# Transformer\n",
    "\n",
    "Ahora, se implementa una capa de atención multi-cabeza utilizando la operación de producto escalar. La atención multi-cabeza es una componente clave en los modelos de Transformers utilizados en tareas de procesamiento de lenguaje natural y otros dominios.\n",
    "\n",
    "En un Transformer con atención multi-cabeza, los conceptos de consultas, claves y valores son clave, ya que se utilizan para calcular la atención entre elementos de una secuencia. El mecanismo de atención en un Transformer es lo que le permite enfocarse en partes relevantes de la entrada durante la etapa de codificación o decodificación. **La atención se calcula en cada posición de la secuencia de entrada en función de las consultas, claves y valores**.\n",
    "\n",
    "A continuación, se explica en qué consisten estas tres partes:\n",
    "\n",
    "- Consultas (Queries): son vectores que representan la posición actual en la secuencia de entrada para la cual se quiere calcular la atención. En otras palabras, son las posiciones que se están tratando de codificar o decodificar. Cada consulta se utiliza para calcular el grado de relevancia o similitud entre esta posición y todas las demás posiciones en la secuencia.\n",
    "\n",
    "- Claves (Keys): son vectores que representan todas las posiciones en la secuencia de entrada. Se utilizan para calcular el grado de relevancia entre las consultas y las diferentes posiciones en la secuencia. Las claves son fundamentales para determinar qué partes de la entrada son importantes para cada consulta.\n",
    "\n",
    "- Valores (Values): son vectores que contienen la información real en cada posición de la secuencia de entrada. Se utilizan para calcular los pesos de atención y ponderar la importancia de cada posición en función de su relevancia con respecto a las consultas y las claves.\n",
    "\n",
    "El cálculo de la atención implica medir la similitud entre las consultas y las claves para obtener los pesos de atención. Estos pesos de atención indican cuánta importancia se le debe dar a cada posición de la secuencia en función de su relación con la consulta actual. Luego, se ponderan los valores utilizando estos pesos de atención para obtener la representación atendida o contextualizada de la consulta actual.\n",
    "\n",
    "En el contexto de la atención multi-cabeza, este proceso se realiza varias veces, cada vez con diferentes conjuntos de parámetros (consultas, claves y valores), lo que permite al Transformer capturar diferentes patrones y relaciones en la secuencia de entrada de manera más efectiva.\n",
    "\n",
    "\n",
    "\n",
    "Dividimos la explicación de nuestro mecanismo de atención en pasos:\n",
    "\n",
    "- `scaled_dot_product` es una función que realiza el producto escalar escalado entre las consultas (q), claves (k) y valores (v) de la atención. El \"scaled dot product\" es una operación fundamental en la atención, y se utiliza para **calcular la relevancia entre las consultas y las claves**. En el contexto de la atención multi-cabeza, se aplica el \"scaled dot product\" de forma paralela en cada cabeza de atención para capturar diferentes relaciones y patrones en los datos. El proceso del \"scaled dot product\" se realiza en tres pasos:\n",
    "\n",
    "    - Producto escalar: Se calcula el producto escalar entre las consultas (q) y las claves (k) transpuestas. Esto se logra mediante la operación de multiplicación matricial. El resultado es una matriz que representa la relevancia entre cada par de consulta y clave.\n",
    "    - Escalamiento: Después de calcular el producto escalar, se escala dividiendo por la raíz cuadrada de la dimensión de las consultas (q). Esta operación de escalamiento ayuda a estabilizar el proceso de atención y asegura que los valores de atención no sean demasiado grandes.\n",
    "    - Softmax y ponderación: A continuación, se aplica una función de softmax a la matriz escalada. El softmax convierte los valores en una distribución de probabilidad, lo que significa que cada valor de atención representa la importancia relativa de la clave correspondiente para una consulta dada. Luego, se utiliza esta distribución de atención para ponderar los valores (v) y obtener una representación combinada de los valores ponderados. \n",
    "    \n",
    "    La razón por la que utilizamos esta capa de \"scaled dot product\" en la atención multi-cabeza es que **nos permite capturar las relaciones y dependencias entre las consultas y las claves** de manera más expresiva. Al realizar el \"scaled dot product\" en múltiples cabezas de atención, podemos capturar diferentes patrones y relaciones en paralelo, lo que mejora la capacidad de modelar información relevante en los datos. \n",
    "    \n",
    "- `MultiHeadAttention` es una capa de atención multi-cabeza. Recibe como entrada las consultas (q), claves (k) y valores (v) de la atención. También puede recibir una máscara de atención opcional para enmascarar ciertas entradas. Los parámetros principales de esta capa son:\n",
    "    - `d_model`: la dimensión del espacio de representación para las consultas, claves y valores.\n",
    "    - `num_of_heads`: el número de cabezas de atención que se utilizarán.\n",
    "    - `dropout`: la probabilidad de dropout para regularizar la salida.\n",
    "    - `d_out` (opcional): si se proporciona, especifica la dimensión de salida después de la capa de atención multi-cabeza.\n",
    "- En el método `call`, se realizan las siguientes operaciones:\n",
    "    - Para cada cabeza de atención, se aplica una transformación lineal independiente a las consultas (q), claves (k) y valores (v) utilizando capas densas (wq, wk, wv) para proyectarlos a subespacios más pequeños.\n",
    "    - Se llama a la función `scaled_dot_product` para calcular la atención con las proyecciones de q, k y v para cada cabeza de atención.\n",
    "    - Las salidas de todas las cabezas de atención se concatenan a lo largo de la última dimensión para obtener una representación combinada.\n",
    "    - La representación combinada pasa por una capa lineal final (wo) para obtener la salida de la capa de atención multi-cabeza.\n",
    "    - Se aplica una capa de dropout para regularizar la salida antes de retornarla.\n",
    "    \n",
    "En resumen, esta implementación realiza una atención multi-cabeza en paralelo, donde cada cabeza aprende diferentes representaciones ponderadas de las entradas. Luego, combina las salidas de todas las cabezas en una representación final que puede ser utilizada en tareas de procesamiento de lenguaje natural y otros problemas de aprendizaje automático.\n",
    "\n",
    "> Inciso: \n",
    "> - `tf.math.sqrt()`: calcula la raíz cuadrada de un tensor. En el contexto del código, se utiliza para calcular la raíz cuadrada de la dimensión de las consultas (q). Proporciona el valor utilizado para escalar el producto escalar, controlando la magnitud de los valores de atención resultantes.\n",
    "> - `tf.cast()`: se utiliza para realizar una conversión a tensor. En el código, se utiliza para convertir la dimensión de las consultas `(q.shape[-1])` a tf.float32 antes de aplicar la función `sqrt()`. Esto asegura que el cálculo de la raíz cuadrada se realice correctamente y con el tipo de datos adecuado.\n",
    "> - `tf.matmul()`: realiza la multiplicación matricial entre dos tensores. En el código, se utiliza para calcular el producto escalar entre las consultas (q) y las claves (k) transpuestas. La transposición de k se realiza automáticamente debido al argumento `transpose_b=True`. El resultado es una matriz que representa la relevancia entre cada par de consulta y clave. Esta función también se utiliza al fial para realizar la multiplicación matricial, pero en este caso se utiliza para multiplicar los pesos de atención normalizados (softmax) por los valores (v). Esto resulta en una combinación ponderada de los valores, donde cada valor es escalado por su peso de atención correspondiente.\n",
    "> - `softmax()`: es una capa de softmax aplicada a una matriz. En el código, se utiliza para calcular los pesos de atención normalizados. La función softmax convierte los valores de la matriz en una distribución de probabilidad, donde cada valor representa la importancia relativa de la clave correspondiente para una consulta dada."
   ]
  },
  {
   "cell_type": "markdown",
   "id": "aaa67643",
   "metadata": {
    "papermill": {
     "duration": 0.035343,
     "end_time": "2023-07-31T07:20:46.686618",
     "exception": false,
     "start_time": "2023-07-31T07:20:46.651275",
     "status": "completed"
    },
    "tags": []
   },
   "source": [
    "> Ejemplo: Explicación de consultas, claves y valores en un Transformer con atención multi cabeza. Supongamos que tenemos la siguiente oración: `\"El gato está durmiendo en la alfombra\"`.El proceso de atención multi cabeza funcionaría así:\n",
    "\n",
    "1. Primero, dividimos la oración en vectores de palabras o tokens:\n",
    "\n",
    "    - **Consultas:**\n",
    "        - \"El\"\n",
    "        - \"gato\"\n",
    "        - \"está\"\n",
    "        - \"durmiendo\"\n",
    "        - \"en\"\n",
    "        - \"la\"\n",
    "        - \"alfombra\"\n",
    "\n",
    "    - **Claves:**\n",
    "        - \"El\"\n",
    "        - \"gato\"\n",
    "        - \"está\"\n",
    "        - \"durmiendo\"\n",
    "        - \"en\"\n",
    "        - \"la\"\n",
    "        - \"alfombra\"\n",
    "\n",
    "    - **Valores:**\n",
    "        - Vector de información correspondiente a cada palabra.\n",
    "\n",
    "2. A continuación, calculamos la similitud (producto escalar, por ejemplo) entre cada consulta y cada clave para obtener los pesos de atención.\n",
    "\n",
    "3. Los pesos de atención nos indican qué palabras son más relevantes para cada consulta. Estos pesos se aplican a los valores correspondientes a las palabras en la entrada para obtener el resultado final.\n",
    "\n",
    "4. Finalmente, la atención multi cabeza combina las representaciones ponderadas de las palabras para obtener una representación de alta calidad para la oración original."
   ]
  },
  {
   "cell_type": "code",
   "execution_count": 30,
   "id": "523503aa",
   "metadata": {
    "execution": {
     "iopub.execute_input": "2023-07-31T07:20:46.759134Z",
     "iopub.status.busy": "2023-07-31T07:20:46.758794Z",
     "iopub.status.idle": "2023-07-31T07:20:46.772178Z",
     "shell.execute_reply": "2023-07-31T07:20:46.771256Z"
    },
    "papermill": {
     "duration": 0.051972,
     "end_time": "2023-07-31T07:20:46.774252",
     "exception": false,
     "start_time": "2023-07-31T07:20:46.722280",
     "status": "completed"
    },
    "tags": []
   },
   "outputs": [],
   "source": [
    "# based on: https://stackoverflow.com/questions/67342988/verifying-the-implementation-of-multihead-attention-in-transformer\n",
    "# replaced softmax with softmax layer to support masked softmax\n",
    "class MultiHeadAttention(tf.keras.layers.Layer):\n",
    "    def __init__(self, d_model, n_heads, dropout, d_out=None):\n",
    "        super(MultiHeadAttention,self).__init__()\n",
    "        # Number of Units in Model\n",
    "        self.d_model = d_model\n",
    "        # Number of Attention Heads\n",
    "        self.n_heads = n_heads\n",
    "        # Number of Units in Intermediate Layers\n",
    "        self.depth = d_model // 2\n",
    "        # Scaling Factor Of Values\n",
    "        self.scale = 1.0 / tf.math.sqrt(tf.cast(self.depth, tf.float32))\n",
    "        # Learnable Projections to Depth\n",
    "        self.wq = self.fused_mha(self.depth)\n",
    "        self.wk = self.fused_mha(self.depth)\n",
    "        self.wv = self.fused_mha(self.depth)\n",
    "        # Output Projection\n",
    "        self.wo = tf.keras.layers.Dense(d_model if d_out is None else d_out, use_bias=False)\n",
    "        # Softmax Activation Which Supports Masking\n",
    "        self.softmax = tf.keras.layers.Softmax()\n",
    "        # Reshaping Of Multiple Attention heads to Single Value\n",
    "        self.reshape = tf.keras.Sequential([\n",
    "            # [attention heads, number of frames, d_model] → [number of frames, n_heads, d_model // n_heads]\n",
    "            tf.keras.layers.Permute([2, 1, 3]),\n",
    "            # [number of frames, attention heads, d_model] → [number of frames, d_model]\n",
    "            tf.keras.layers.Reshape([N_TARGET_FRAMES, self.depth]),\n",
    "        ])\n",
    "        # Output Dropout\n",
    "        self.do = tf.keras.layers.Dropout(dropout)\n",
    "        self.supports_masking = True\n",
    "        \n",
    "    # Single dense layer for all attention heads\n",
    "    def fused_mha(self, dim):\n",
    "        return tf.keras.Sequential([\n",
    "            # Single dense layer\n",
    "            tf.keras.layers.Dense(dim, use_bias=False),\n",
    "            # Reshape to [number of frames, number of attention head, depth]\n",
    "            tf.keras.layers.Reshape([N_TARGET_FRAMES, self.n_heads, dim // self.n_heads]),\n",
    "            # Permutate to [number of attention heads, number of frames, depth]\n",
    "            tf.keras.layers.Permute([2, 1, 3]),\n",
    "        ])\n",
    "        \n",
    "    def call(self, q, k, v, attention_mask=None, training=False):\n",
    "        # Projections to attention heads\n",
    "        Q = self.wq(q)\n",
    "        K = self.wk(k)\n",
    "        V = self.wv(v)\n",
    "        # Matrix multiply QxK to acquire attention scores\n",
    "        x = tf.matmul(Q, K, transpose_b=True) * self.scale\n",
    "        # Softmax attention scores and Multiply with Values\n",
    "        x = self.softmax(x, mask=attention_mask) @ V\n",
    "        # Reshape to flatten attention heads\n",
    "        x = self.reshape(x)\n",
    "        # Output projection\n",
    "        x = self.wo(x)\n",
    "        # Dropout\n",
    "        x = self.do(x, training=training)\n",
    "        return x"
   ]
  },
  {
   "cell_type": "markdown",
   "id": "d04c18d8",
   "metadata": {
    "papermill": {
     "duration": 0.034731,
     "end_time": "2023-07-31T07:20:46.844023",
     "exception": false,
     "start_time": "2023-07-31T07:20:46.809292",
     "status": "completed"
    },
    "tags": []
   },
   "source": [
    "# Encoder\n",
    "\n",
    "[source](https://keras.io/examples/nlp/neural_machine_translation_with_transformer/)\n",
    "\n",
    "Ahora, crearemos un Encoder basado en bloques de mecanismos de atención (transformer blocks). Un Encoder toma una secuencia de entrada `x`  y la transforma en una representación vectorial, que luego puede ser utilizada para tareas posteriores como la traducción o la generación de texto. Procedemos a explicar la clas`Encoder`:\n",
    "\n",
    "\n",
    "- Se define una clase llamada `Encoder`, que hereda de `tf.keras.Model`. Esta clase representa el componente del Encoder en un modelo basado en la arquitectura Transformer.\n",
    "- En el constructor `__init__`, se inicializa el Encoder con el número de bloques de atención (`num_blocks`) que se utilizarán en el proceso de codificación.\n",
    "- El método `build` se encarga de crear los componentes necesarios para los bloques de atención. Estos componentes son:\n",
    "  - Listas `ln_1s`, `mhas`, `ln_2s` y `mlps` que almacenarán capas de normalización, atención multi-cabeza, capas de normalización adicionales y perceptrones multicapa, respectivamente. Se crea una lista para cada bloque de atención.\n",
    "  - Para cada bloque de atención, se crea una capa de normalización (`tf.keras.layers.LayerNormalization`) llamada `ln_1`, una capa de atención multi-cabeza llamada `mha`, otra capa de normalización `ln_2` y un perceptrón multicapa `mlp`.\n",
    "  - También se verifica si la dimensión del Encoder es diferente a la dimensión del Decoder. Si es así, se crea una capa de proyección (`dense_out`) para adaptar la dimensión de salida del Encoder a la dimensión del Decoder.\n",
    "- El método `call` se utiliza para realizar la codificación de la entrada (`x`). Toma como entrada `x` y una variable `x_inp` que contiene información sobre la secuencia de entrada (como máscaras de atención). Aquí se realiza el procesamiento en cada bloque de atención:\n",
    "    - Se crea una \"máscara de atención\" (attention_mask) para evitar que el modelo preste atención a partes no válidas o rellenas de la secuencia de entrada. Esta máscara se calcula a partir de `x_inp`, que es una variable que contiene información sobre la secuencia de entrada.\n",
    "    - Se itera sobre los bloques de atención definidos previamente (`ln_1`, `mha`, `ln_2` y `mlp`) y se aplican en secuencia a la entrada x.\n",
    "    - En cada iteración, primero se aplica una normalización (`ln_1`) sobre la entrada x más el resultado de la atención multi-cabeza (`mha`). Esto se conoce como una \"conexión residual\", donde la entrada original se suma a la salida de la atención multi-cabeza antes de aplicar la normalización. Esta técnica ayuda a evitar problemas de desvanecimiento del gradiente y mejora el flujo de información.\n",
    "    - Luego, se aplica otra normalización (`ln_2`) sobre la salida de la conexión residual más el resultado del perceptrón multicapa (`mlp`).\n",
    "    - Después de pasar por todos los bloques de atención y perceptron, si la dimensión del Encoder es diferente a la dimensión del Decoder (`UNITS_ENCODER != UNITS_DECODER`), se realiza una proyección (`dense_out`) para adaptar la dimensión de salida del Encoder a la dimensión del Decoder.\n",
    "    - Finalmente, la función devuelve la representación vectorial resultante después de aplicar todos los bloques de atención y el perceptrón multicapa.\n",
    "    \n",
    "    \n",
    "> Inciso: El perceptrón multicapa y el embedding son conceptos diferentes utilizados en el campo del aprendizaje automático y el procesamiento del lenguaje natural . A continuación, explicaremos y destacaremos sus diferencias:   \n",
    "\n",
    "El perceptrón multicapa (MLP), o red neuronal con alimentación hacia adelante, es una arquitectura de red neuronal que consta de múltiples capas; incluidas al menos una capa de entrada, una o más capas ocultas y una capa de salida. Las neuronas de la capa se llaman nodos o perceptrones.\n",
    "\n",
    "En el MLP, cada neurona de una capa se conecta con todas las neuronas de la capa anterior y posterior mediante conexiones ponderadas. Las conexiones ponderadas permiten que una neurona ajuste su \"sensibilidad\" a ciertos patrones en los datos de entrada. Durante el proceso de entrenamiento, los pesos se ajustan para minimizar el error entre las salidas predichas por la red y las salidas reales conocidas, en el caso del aprendizaje supervisado.\n",
    "\n",
    "Los pesos pueden ser positivos o negativos, lo que significa que pueden amplificar o reducir la contribución de una entrada en particular. Al aprender los pesos óptimos, la red neuronal puede encontrar patrones y relaciones relevantes en los datos de entrada, lo que le permite realizar tareas de clasificación, regresión u otras tareas específicas para las cuales ha sido entrenada. Durante el proceso de entrenamiento, los pesos de estas conexiones se ajustan para que el modelo pueda aprender a representar relaciones complejas y no lineales en los datos. \n",
    "\n",
    "El propósito principal del MLP es aprender funciones no lineales para clasificación o regresión en conjuntos de datos complejos. A través de las capas ocultas y la no linealidad introducida por funciones de activación, el MLP puede aprender representaciones más complejas que las que se logran con modelos lineales.\n",
    "\n",
    "La principal diferencia entre un perceptrón multicapa y un embedding radica en su propósito y función:\n",
    "\n",
    "- Perceptrón Multicapa (MLP): Es una arquitectura de red neuronal que se utiliza para aprender representaciones no lineales en conjuntos de datos complejos. Se aplica en tareas de clasificación y regresión en aprendizaje supervisado, y su objetivo es aprender funciones complejas a partir de características numéricas.\n",
    "- Embedding: Es una representación vectorial continua y densa de palabras o tokens en un espacio vectorial de baja dimensión. Se utiliza específicamente en NLP para mapear palabras o tokens desde el espacio de palabras (discreto) a un espacio vectorial (continuo). Su objetivo es capturar el significado y las relaciones semánticas entre las palabras en tareas de procesamiento del lenguaje natural."
   ]
  },
  {
   "cell_type": "code",
   "execution_count": 31,
   "id": "47c20188",
   "metadata": {
    "execution": {
     "iopub.execute_input": "2023-07-31T07:20:46.915770Z",
     "iopub.status.busy": "2023-07-31T07:20:46.915458Z",
     "iopub.status.idle": "2023-07-31T07:20:46.928666Z",
     "shell.execute_reply": "2023-07-31T07:20:46.927640Z"
    },
    "papermill": {
     "duration": 0.051429,
     "end_time": "2023-07-31T07:20:46.930733",
     "exception": false,
     "start_time": "2023-07-31T07:20:46.879304",
     "status": "completed"
    },
    "tags": []
   },
   "outputs": [],
   "source": [
    "# Encoder based on multiple transformer blocks\n",
    "class Encoder(tf.keras.Model):\n",
    "    def __init__(self, num_blocks):\n",
    "        super(Encoder, self).__init__(name='encoder')\n",
    "        self.num_blocks = num_blocks\n",
    "        self.supports_masking = True\n",
    "    \n",
    "    def build(self, input_shape):\n",
    "        self.ln_1s = []\n",
    "        self.mhas = []\n",
    "        self.ln_2s = []\n",
    "        self.mlps = []\n",
    "        # Make Transformer Blocks\n",
    "        for i in range(self.num_blocks):\n",
    "            # First Layer Normalisation\n",
    "            self.ln_1s.append(tf.keras.layers.LayerNormalization(epsilon=LAYER_NORM_EPS))\n",
    "            # Multi Head Attention\n",
    "            self.mhas.append(MultiHeadAttention(UNITS_ENCODER, NUM_HEADS, MHA_DROPOUT_RATIO))\n",
    "            # Second Layer Normalisation\n",
    "            self.ln_2s.append(tf.keras.layers.LayerNormalization(epsilon=LAYER_NORM_EPS))\n",
    "            # Multi Layer Perception\n",
    "            self.mlps.append(tf.keras.Sequential([\n",
    "                tf.keras.layers.Dense(UNITS_ENCODER * MLP_RATIO, activation=GELU, kernel_initializer=INIT_GLOROT_UNIFORM, use_bias=False),\n",
    "                tf.keras.layers.Dropout(MLP_DROPOUT_RATIO),\n",
    "                tf.keras.layers.Dense(UNITS_ENCODER, kernel_initializer=INIT_HE_UNIFORM, use_bias=False),\n",
    "            ]))\n",
    "            # Optional Projection to Decoder Dimension\n",
    "            if UNITS_ENCODER != UNITS_DECODER:\n",
    "                self.dense_out = tf.keras.layers.Dense(UNITS_DECODER, kernel_initializer=INIT_GLOROT_UNIFORM, use_bias=False)\n",
    "                self.apply_dense_out = True\n",
    "            else:\n",
    "                self.apply_dense_out = False\n",
    "                \n",
    "    def get_attention_mask(self, x_inp):\n",
    "        # Attention Mask\n",
    "        attention_mask = tf.math.count_nonzero(x_inp, axis=[2], keepdims=True, dtype=tf.int32)\n",
    "        attention_mask = tf.math.count_nonzero(attention_mask, axis=[2], keepdims=False)\n",
    "        attention_mask = tf.expand_dims(attention_mask, axis=1)\n",
    "        attention_mask = tf.expand_dims(attention_mask, axis=1)\n",
    "        return attention_mask\n",
    "        \n",
    "    def call(self, x, x_inp, training=False):\n",
    "        # Attention mask to ignore missing frames\n",
    "        attention_mask = self.get_attention_mask(x_inp)\n",
    "        # Iterate input over transformer blocks\n",
    "        for ln_1, mha, ln_2, mlp in zip(self.ln_1s, self.mhas, self.ln_2s, self.mlps):\n",
    "            x = ln_1(x + mha(x, x, x, attention_mask=attention_mask))\n",
    "            x = ln_2(x + mlp(x))\n",
    "            \n",
    "        # Optional Projection to Decoder Dimension\n",
    "        if self.apply_dense_out:\n",
    "            x = self.dense_out(x)\n",
    "    \n",
    "        return x"
   ]
  },
  {
   "cell_type": "markdown",
   "id": "41d81423",
   "metadata": {
    "papermill": {
     "duration": 0.034871,
     "end_time": "2023-07-31T07:20:47.000875",
     "exception": false,
     "start_time": "2023-07-31T07:20:46.966004",
     "status": "completed"
    },
    "tags": []
   },
   "source": [
    "# Decoder\n",
    "\n",
    "Después del `Encoder`, definimos la clase `Decoder`, que se encarga de utilizar las representaciones embeddings obtenidas por el Encoder para generar una secuencia de salida. Procedemos a desglosar los distintos pasos:\n",
    "\n",
    "- En el método `__init__`, se inicializa el modelo Decoder y se especifica el número de bloques de Transformer (`num_blocks`) que se utilizarán en la generación de la secuencia de salida. Además, se indica que el modelo es compatible con el enmascaramiento (`supports_masking = True`). El enmascaramiento es una técnica crucial que se utiliza para manejar secuencias de longitud variable durante el procesamiento.\n",
    "\n",
    "- En el método `build`, se construyen las capas necesarias para el modelo Decoder. Aquí es donde definimos las diferentes partes del modelo que se utilizarán durante el proceso de generación de la secuencia de salida. Estas capas son:\n",
    "\n",
    " - `positional_embedding`: Esta es la capa de embedding posicional, que se utiliza para asignar una representación numérica a cada posición en la secuencia de salida. Es decir, asigna una representación única a cada palabra o token en la secuencia.\n",
    " - `char_emb`: Esta es la capa de embedding de caracteres, que convierte las secuencias de caracteres (frases) en representaciones numéricas. Es un paso fundamental en el procesamiento del texto, ya que las redes neuronales trabajan con números, no con texto en bruto.\n",
    " - `pos_emb_mha`: Esta es la capa de atención multi-cabeza con enmascaramiento causal para el embedding posicional. La atención con enmascaramiento causal es una técnica que ayuda al modelo a aprender relaciones de dependencia temporal mientras genera la secuencia de salida. Es decir, permite que el modelo \"mire\" solo las palabras anteriores (o a sí mismo) durante la generación de la secuencia.\n",
    " - `pos_emb_ln`: Esta es la capa de normalización que se aplica después de la atención con enmascaramiento causal. La normalización es una técnica que ayuda a estabilizar y acelerar el entrenamiento del modelo.\n",
    " - `ln_1s`, `mhas`, `ln_2s`, y `mlps`: Estas son listas que contienen varias capas de normalización, atención multi-cabeza y capas de perceptrón multicapa (MLP), respectivamente. Se construyen `num_blocks` de estas capas para permitir que el Decoder realice múltiples iteraciones y capte relaciones más complejas en la secuencia de salida generada.\n",
    "\n",
    "- En el método `get_causal_attention_mask`, se crea una máscara de atención causal. Esta máscara se utiliza en la capa de atención con enmascaramiento causal para asegurar que cada posición solo atienda a las posiciones anteriores (o a sí misma), evitando que se produzca información del futuro durante la generación de la secuencia.\n",
    "\n",
    "- En el método `call`, se realiza el procesamiento de la secuencia de salida a través de los bloques de Transformer en el Decoder. A continuación, se describen los pasos:\n",
    "\n",
    "1. Se realiza el preprocesamiento de la secuencia de entrada (`phrase`) para convertirla en representaciones numéricas (embedding) utilizando la capa de embedding de caracteres (`char_emb`). Además, se agrega el token especial de inicio (`START_TOKEN`) al principio de cada secuencia y se añaden tokens de relleno (`PAD_TOKEN`) al final para alcanzar la longitud máxima deseada (`MAX_PHRASE_LENGTH`).\n",
    "\n",
    "2. Se crea la máscara de atención causal utilizando el método `get_causal_attention_mask` para evitar que el modelo acceda a información del futuro durante la generación de la secuencia de salida.\n",
    "\n",
    "3. Se obtienen las representaciones embeddings iniciales sumando la capa de embedding posicional (`positional_embedding`) y la capa de embedding de caracteres (`char_emb`) de la secuencia de entrada (`phrase`). Esta suma combina información espacial (posicional) y semántica (embedding de caracteres) para cada palabra en la secuencia.\n",
    "\n",
    "4. Se aplica una capa de normalización (`pos_emb_ln`) a las representaciones embeddings iniciales después de la atención con enmascaramiento causal (`pos_emb_mha`). La normalización ayuda a que el modelo se entrene de manera más estable y eficiente.\n",
    "\n",
    "5. Se iteran los bloques de Transformer (capas de normalización, atención multi-cabeza y MLP) a través de un bucle `for`. Cada bloque es responsable de procesar y mejorar las representaciones embeddings durante la generación de la secuencia de salida.\n",
    "\n",
    "6. Finalmente, se recorta la secuencia generada para eliminar cualquier token de relleno (`PAD_TOKEN`) y se obtiene la salida del modelo Decoder con una longitud de `MAX_PHRASE_LENGTH`.\n",
    "\n",
    "En resumen, el modelo Decoder utiliza múltiples bloques de Transformer para generar una secuencia de salida basada en la información del Encoder. Aplica atención con enmascaramiento causal para capturar dependencias temporales y utiliza técnicas de normalización y MLP para procesar y mejorar las representaciones embeddings durante la generación de la secuencia. El objetivo es que el modelo genere secuencias de texto significativas y coherentes a partir de la información del Encoder."
   ]
  },
  {
   "cell_type": "code",
   "execution_count": 32,
   "id": "127e8789",
   "metadata": {
    "execution": {
     "iopub.execute_input": "2023-07-31T07:20:47.072798Z",
     "iopub.status.busy": "2023-07-31T07:20:47.072494Z",
     "iopub.status.idle": "2023-07-31T07:20:47.092212Z",
     "shell.execute_reply": "2023-07-31T07:20:47.091332Z"
    },
    "papermill": {
     "duration": 0.057984,
     "end_time": "2023-07-31T07:20:47.094174",
     "exception": false,
     "start_time": "2023-07-31T07:20:47.036190",
     "status": "completed"
    },
    "tags": []
   },
   "outputs": [],
   "source": [
    "# Decoder based on multiple transformer blocks\n",
    "class Decoder(tf.keras.Model):\n",
    "    def __init__(self, num_blocks):\n",
    "        super(Decoder, self).__init__(name='decoder')\n",
    "        self.num_blocks = num_blocks\n",
    "        self.supports_masking = True\n",
    "    \n",
    "    def build(self, input_shape):\n",
    "        # Causal Mask Batch Size 1\n",
    "        self.causal_mask = self.get_causal_attention_mask()\n",
    "        # Positional Embedding, initialized with zeros\n",
    "        self.positional_embedding = tf.Variable(\n",
    "            initial_value=tf.zeros([N_TARGET_FRAMES, UNITS_DECODER], dtype=tf.float32),\n",
    "            trainable=True,\n",
    "            name='embedding_positional_encoder',\n",
    "        )\n",
    "        # Character Embedding\n",
    "        self.char_emb = tf.keras.layers.Embedding(N_UNIQUE_CHARACTERS, UNITS_DECODER, embeddings_initializer=INIT_ZEROS)\n",
    "        # Positional Encoder MHA\n",
    "        self.pos_emb_mha = MultiHeadAttention(UNITS_DECODER, NUM_HEADS, MHA_DROPOUT_RATIO)\n",
    "        self.pos_emb_ln = tf.keras.layers.LayerNormalization(epsilon=LAYER_NORM_EPS)\n",
    "        # First Layer Normalisation\n",
    "        self.ln_1s = []\n",
    "        self.mhas = []\n",
    "        self.ln_2s = []\n",
    "        self.mlps = []\n",
    "        # Make Transformer Blocks\n",
    "        for i in range(self.num_blocks):\n",
    "            # First Layer Normalisation\n",
    "            self.ln_1s.append(tf.keras.layers.LayerNormalization(epsilon=LAYER_NORM_EPS))\n",
    "            # Multi Head Attention\n",
    "            self.mhas.append(MultiHeadAttention(UNITS_DECODER, NUM_HEADS, MHA_DROPOUT_RATIO))\n",
    "            # Second Layer Normalisation\n",
    "            self.ln_2s.append(tf.keras.layers.LayerNormalization(epsilon=LAYER_NORM_EPS))\n",
    "            # Multi Layer Perception\n",
    "            self.mlps.append(tf.keras.Sequential([\n",
    "                tf.keras.layers.Dense(UNITS_DECODER * MLP_RATIO, activation=GELU, kernel_initializer=INIT_GLOROT_UNIFORM, use_bias=False),\n",
    "                tf.keras.layers.Dropout(MLP_DROPOUT_RATIO),\n",
    "                tf.keras.layers.Dense(UNITS_DECODER, kernel_initializer=INIT_HE_UNIFORM, use_bias=False),\n",
    "            ]))\n",
    "            \n",
    "    def get_causal_attention_mask(self):\n",
    "        i = tf.range(N_TARGET_FRAMES)[:, tf.newaxis]\n",
    "        j = tf.range(N_TARGET_FRAMES)\n",
    "        mask = tf.cast(i >= j, dtype=tf.int32)\n",
    "        mask = tf.reshape(mask, (1, N_TARGET_FRAMES, N_TARGET_FRAMES))\n",
    "        mult = tf.concat(\n",
    "            [tf.expand_dims(1, -1), tf.constant([1, 1], dtype=tf.int32)],\n",
    "            axis=0,\n",
    "        )\n",
    "        mask = tf.tile(mask, mult)\n",
    "        mask = tf.cast(mask, tf.float32)\n",
    "        return mask\n",
    "    \n",
    "    def get_attention_mask(self, x_inp):\n",
    "        # Attention Mask\n",
    "        attention_mask = tf.math.count_nonzero(x_inp, axis=[2], keepdims=True, dtype=tf.int32)\n",
    "        attention_mask = tf.math.count_nonzero(attention_mask, axis=[2], keepdims=False)\n",
    "        attention_mask = tf.expand_dims(attention_mask, axis=1)\n",
    "        attention_mask = tf.expand_dims(attention_mask, axis=1)\n",
    "        return attention_mask\n",
    "        \n",
    "    def call(self, encoder_outputs, phrase, x_inp, training=False):\n",
    "        # Batch Size\n",
    "        B = tf.shape(encoder_outputs)[0]\n",
    "        # Cast to INT32\n",
    "        phrase = tf.cast(phrase, tf.int32)\n",
    "        # Prepend SOS Token\n",
    "        phrase = tf.pad(phrase, [[0,0], [1,0]], constant_values=START_TOKEN, name='prepend_sos_token')\n",
    "        # Pad With PAD Token\n",
    "        phrase = tf.pad(phrase, [[0,0], [0,N_TARGET_FRAMES-MAX_PHRASE_LENGTH-1]], constant_values=PAD_TOKEN, name='append_pad_token')\n",
    "        # Positional Embedding\n",
    "        x = self.positional_embedding + self.char_emb(phrase)\n",
    "        # Causal Attention\n",
    "        x = self.pos_emb_ln(x + self.pos_emb_mha(x, x, x, attention_mask=self.causal_mask))\n",
    "        # Attention mask to ignore missing frames\n",
    "        attention_mask = self.get_attention_mask(x_inp)\n",
    "        # Iterate input over transformer blocks\n",
    "        for ln_1, mha, ln_2, mlp in zip(self.ln_1s, self.mhas, self.ln_2s, self.mlps):\n",
    "            x = ln_1(x + mha(x, encoder_outputs, encoder_outputs, attention_mask=attention_mask))\n",
    "            x = ln_2(x + mlp(x))\n",
    "        # Slice 31 Characters\n",
    "        x = tf.slice(x, [0, 0, 0], [-1, MAX_PHRASE_LENGTH, -1])\n",
    "    \n",
    "        return x"
   ]
  },
  {
   "cell_type": "markdown",
   "id": "a545b947",
   "metadata": {
    "papermill": {
     "duration": 0.034719,
     "end_time": "2023-07-31T07:20:47.163878",
     "exception": false,
     "start_time": "2023-07-31T07:20:47.129159",
     "status": "completed"
    },
    "tags": []
   },
   "source": [
    "Creamos la máscara de atención causal fuera de la clase `Decoder `. La máscara de atención causal tiene como objetivo evitar que el modelo de Decoder acceda a información del futuro durante la generación de la secuencia de salida. En las tareas de generación de texto, traducción automática u otras tareas donde la secuencia de salida se genera de manera autoregresiva, es esencial que el modelo solo tenga acceso a la información de las posiciones anteriores a la que está prediciendo en ese momento. De lo contrario, el modelo podría utilizar información del futuro para hacer predicciones, lo que llevaría a resultados incoherentes y poco realistas (data leakage).\n",
    "\n",
    "- Esta función toma un único parámetro `B`. La función crea una secuencia numérica de longitud `N_TARGET_FRAMES` utilizando `tf.range(N_TARGET_FRAMES)`. Luego, se agregan dimensiones adicionales a esta secuencia mediante `[:, tf.newaxis]` para convertirla en un vector columna.\n",
    "\n",
    "- Se realiza un producto cartesiano entre la secuencia creada en el paso 2 y la secuencia original utilizando `i >= j`. Esto crea una matriz de ceros y unos, donde los elementos son cero en todas las posiciones que corresponden a posiciones futuras (columnas) en relación con la posición actual (fila).\n",
    "\n",
    "- La matriz de ceros y unos se remodela para tener una forma de `(1, N_TARGET_FRAMES, N_TARGET_FRAMES)`. La dimensión adicional al principio es necesaria para su uso posterior en el cálculo de la máscara final.\n",
    "\n",
    "- El valor de `B` se concatena con una constante `[1, 1]` mediante `tf.concat` para crear un tensor que especifica cuántas veces se replicará la máscara para manejar el tamaño del lote (batch) en el modelo.\n",
    "\n",
    "- Se utiliza `tf.tile` para replicar la máscara de atención causal `B` veces, donde `B` es el tamaño del lote (batch). Esto se hace para que la máscara pueda aplicarse a todos los elementos del lote en el modelo.\n",
    "\n",
    "- La máscara resultante se convierte en un tensor de tipo `float32` mediante `tf.cast` para asegurarse de que sea compatible con el cálculo de atención en TensorFlow. Finalmente, la función devuelve la máscara de atención causal resultante."
   ]
  },
  {
   "cell_type": "code",
   "execution_count": 33,
   "id": "ac99b730",
   "metadata": {
    "execution": {
     "iopub.execute_input": "2023-07-31T07:20:47.235746Z",
     "iopub.status.busy": "2023-07-31T07:20:47.235334Z",
     "iopub.status.idle": "2023-07-31T07:20:47.270790Z",
     "shell.execute_reply": "2023-07-31T07:20:47.269831Z"
    },
    "papermill": {
     "duration": 0.073924,
     "end_time": "2023-07-31T07:20:47.272961",
     "exception": false,
     "start_time": "2023-07-31T07:20:47.199037",
     "status": "completed"
    },
    "tags": []
   },
   "outputs": [
    {
     "data": {
      "text/plain": [
       "<tf.Tensor: shape=(1, 128, 128), dtype=float32, numpy=\n",
       "array([[[1., 0., 0., ..., 0., 0., 0.],\n",
       "        [1., 1., 0., ..., 0., 0., 0.],\n",
       "        [1., 1., 1., ..., 0., 0., 0.],\n",
       "        ...,\n",
       "        [1., 1., 1., ..., 1., 0., 0.],\n",
       "        [1., 1., 1., ..., 1., 1., 0.],\n",
       "        [1., 1., 1., ..., 1., 1., 1.]]], dtype=float32)>"
      ]
     },
     "execution_count": 33,
     "metadata": {},
     "output_type": "execute_result"
    }
   ],
   "source": [
    "# Causal Attention to make decoder not attent to future characters which it needs to predict\n",
    "def get_causal_attention_mask(B):\n",
    "    i = tf.range(N_TARGET_FRAMES)[:, tf.newaxis]\n",
    "    j = tf.range(N_TARGET_FRAMES)\n",
    "    mask = tf.cast(i >= j, dtype=tf.int32)\n",
    "    mask = tf.reshape(mask, (1, N_TARGET_FRAMES, N_TARGET_FRAMES))\n",
    "    mult = tf.concat(\n",
    "        [tf.expand_dims(B, -1), tf.constant([1, 1], dtype=tf.int32)],\n",
    "        axis=0,\n",
    "    )\n",
    "    mask = tf.tile(mask, mult)\n",
    "    mask = tf.cast(mask, tf.float32)\n",
    "    return mask\n",
    "\n",
    "get_causal_attention_mask(1)"
   ]
  },
  {
   "cell_type": "markdown",
   "id": "5979b7a1",
   "metadata": {
    "papermill": {
     "duration": 0.035398,
     "end_time": "2023-07-31T07:20:47.346291",
     "exception": false,
     "start_time": "2023-07-31T07:20:47.310893",
     "status": "completed"
    },
    "tags": []
   },
   "source": [
    "Procedemos a ver ahora paso por paso el proceso de la máscara de atención:"
   ]
  },
  {
   "cell_type": "code",
   "execution_count": 34,
   "id": "9e985fa6",
   "metadata": {
    "execution": {
     "iopub.execute_input": "2023-07-31T07:20:47.418692Z",
     "iopub.status.busy": "2023-07-31T07:20:47.417878Z",
     "iopub.status.idle": "2023-07-31T07:20:47.428724Z",
     "shell.execute_reply": "2023-07-31T07:20:47.427606Z"
    },
    "papermill": {
     "duration": 0.04945,
     "end_time": "2023-07-31T07:20:47.430808",
     "exception": false,
     "start_time": "2023-07-31T07:20:47.381358",
     "status": "completed"
    },
    "tags": []
   },
   "outputs": [
    {
     "name": "stdout",
     "output_type": "stream",
     "text": [
      "tf.Tensor(\n",
      "[[0]\n",
      " [1]\n",
      " [2]\n",
      " [3]\n",
      " [4]], shape=(5, 1), dtype=int32)\n",
      "tf.Tensor(\n",
      "[  0   1   2   3   4   5   6   7   8   9  10  11  12  13  14  15  16  17\n",
      "  18  19  20  21  22  23  24  25  26  27  28  29  30  31  32  33  34  35\n",
      "  36  37  38  39  40  41  42  43  44  45  46  47  48  49  50  51  52  53\n",
      "  54  55  56  57  58  59  60  61  62  63  64  65  66  67  68  69  70  71\n",
      "  72  73  74  75  76  77  78  79  80  81  82  83  84  85  86  87  88  89\n",
      "  90  91  92  93  94  95  96  97  98  99 100 101 102 103 104 105 106 107\n",
      " 108 109 110 111 112 113 114 115 116 117 118 119 120 121 122 123 124 125\n",
      " 126 127], shape=(128,), dtype=int32)\n"
     ]
    }
   ],
   "source": [
    "B = 1\n",
    "i = tf.range(N_TARGET_FRAMES)[:, tf.newaxis]\n",
    "j = tf.range(N_TARGET_FRAMES)\n",
    "print(i[:5])\n",
    "print(j)"
   ]
  },
  {
   "cell_type": "markdown",
   "id": "2c192c7c",
   "metadata": {
    "papermill": {
     "duration": 0.035146,
     "end_time": "2023-07-31T07:20:47.502039",
     "exception": false,
     "start_time": "2023-07-31T07:20:47.466893",
     "status": "completed"
    },
    "tags": []
   },
   "source": [
    "Ahora, al realizar la operación `tf.cast(i >= j, dtype=tf.int32)`, en cada elemento `i` de los 128, obtendremos un array de tamaño 128 con 1 uno (`i=j`) y el resto ceros. Al repetir la operación a lo largo de `i` tendremos 128 elementos de tamaño 128"
   ]
  },
  {
   "cell_type": "code",
   "execution_count": 35,
   "id": "6713ccf6",
   "metadata": {
    "execution": {
     "iopub.execute_input": "2023-07-31T07:20:47.574047Z",
     "iopub.status.busy": "2023-07-31T07:20:47.573260Z",
     "iopub.status.idle": "2023-07-31T07:20:47.580688Z",
     "shell.execute_reply": "2023-07-31T07:20:47.579244Z"
    },
    "papermill": {
     "duration": 0.045397,
     "end_time": "2023-07-31T07:20:47.582783",
     "exception": false,
     "start_time": "2023-07-31T07:20:47.537386",
     "status": "completed"
    },
    "tags": []
   },
   "outputs": [
    {
     "name": "stdout",
     "output_type": "stream",
     "text": [
      "tf.Tensor(\n",
      "[[1 0 0 ... 0 0 0]\n",
      " [1 1 0 ... 0 0 0]\n",
      " [1 1 1 ... 0 0 0]\n",
      " ...\n",
      " [1 1 1 ... 1 0 0]\n",
      " [1 1 1 ... 1 1 0]\n",
      " [1 1 1 ... 1 1 1]], shape=(128, 128), dtype=int32)\n"
     ]
    }
   ],
   "source": [
    "mask = tf.cast(i >= j, dtype=tf.int32)\n",
    "print(mask)"
   ]
  },
  {
   "cell_type": "markdown",
   "id": "ad909ed4",
   "metadata": {
    "papermill": {
     "duration": 0.035015,
     "end_time": "2023-07-31T07:20:47.654407",
     "exception": false,
     "start_time": "2023-07-31T07:20:47.619392",
     "status": "completed"
    },
    "tags": []
   },
   "source": [
    "Redimensionamos el tensor añadiendole una dimensión a la izquierda y creamos `mult` para replicar mask `B` veces. Como en este caso `B=1`, no cambiará nada. `expand_dims` expande en una dimensión `B` en la posición que marque el segundo argumento. En este caso, añade una dimensión a `B` a la derecha, por lo que pasa a ser un array `[1]` en vez de un elemento `1`."
   ]
  },
  {
   "cell_type": "code",
   "execution_count": 36,
   "id": "476c8c27",
   "metadata": {
    "execution": {
     "iopub.execute_input": "2023-07-31T07:20:47.727554Z",
     "iopub.status.busy": "2023-07-31T07:20:47.726964Z",
     "iopub.status.idle": "2023-07-31T07:20:47.734401Z",
     "shell.execute_reply": "2023-07-31T07:20:47.733258Z"
    },
    "papermill": {
     "duration": 0.046342,
     "end_time": "2023-07-31T07:20:47.736435",
     "exception": false,
     "start_time": "2023-07-31T07:20:47.690093",
     "status": "completed"
    },
    "tags": []
   },
   "outputs": [
    {
     "data": {
      "text/plain": [
       "<tf.Tensor: shape=(1,), dtype=int32, numpy=array([1], dtype=int32)>"
      ]
     },
     "execution_count": 36,
     "metadata": {},
     "output_type": "execute_result"
    }
   ],
   "source": [
    "tf.expand_dims(B, -1)"
   ]
  },
  {
   "cell_type": "code",
   "execution_count": 37,
   "id": "faf3ecff",
   "metadata": {
    "execution": {
     "iopub.execute_input": "2023-07-31T07:20:47.809101Z",
     "iopub.status.busy": "2023-07-31T07:20:47.808261Z",
     "iopub.status.idle": "2023-07-31T07:20:47.817307Z",
     "shell.execute_reply": "2023-07-31T07:20:47.816380Z"
    },
    "papermill": {
     "duration": 0.047422,
     "end_time": "2023-07-31T07:20:47.819355",
     "exception": false,
     "start_time": "2023-07-31T07:20:47.771933",
     "status": "completed"
    },
    "tags": []
   },
   "outputs": [
    {
     "name": "stdout",
     "output_type": "stream",
     "text": [
      "tf.Tensor([1 1 1], shape=(3,), dtype=int32)\n",
      "tf.Tensor(\n",
      "[[[1 0 0 ... 0 0 0]\n",
      "  [1 1 0 ... 0 0 0]\n",
      "  [1 1 1 ... 0 0 0]\n",
      "  ...\n",
      "  [1 1 1 ... 1 0 0]\n",
      "  [1 1 1 ... 1 1 0]\n",
      "  [1 1 1 ... 1 1 1]]], shape=(1, 128, 128), dtype=int32)\n"
     ]
    }
   ],
   "source": [
    "mask = tf.reshape(mask, (1, N_TARGET_FRAMES, N_TARGET_FRAMES)) # reshape [128,128] to [1,128,128]  \n",
    "mult = tf.concat(\n",
    "        [tf.expand_dims(B, -1), tf.constant([1, 1], dtype=tf.int32)],\n",
    "        axis=0,)\n",
    "\n",
    "print(mult)\n",
    "\n",
    "mask = tf.tile(mask, mult)\n",
    "print(mask)"
   ]
  },
  {
   "cell_type": "code",
   "execution_count": 38,
   "id": "593eb13c",
   "metadata": {
    "execution": {
     "iopub.execute_input": "2023-07-31T07:20:47.892411Z",
     "iopub.status.busy": "2023-07-31T07:20:47.892147Z",
     "iopub.status.idle": "2023-07-31T07:20:47.899825Z",
     "shell.execute_reply": "2023-07-31T07:20:47.898788Z"
    },
    "papermill": {
     "duration": 0.046547,
     "end_time": "2023-07-31T07:20:47.902051",
     "exception": false,
     "start_time": "2023-07-31T07:20:47.855504",
     "status": "completed"
    },
    "tags": []
   },
   "outputs": [
    {
     "data": {
      "text/plain": [
       "<tf.Tensor: shape=(1, 128, 128), dtype=float32, numpy=\n",
       "array([[[1., 0., 0., ..., 0., 0., 0.],\n",
       "        [1., 1., 0., ..., 0., 0., 0.],\n",
       "        [1., 1., 1., ..., 0., 0., 0.],\n",
       "        ...,\n",
       "        [1., 1., 1., ..., 1., 0., 0.],\n",
       "        [1., 1., 1., ..., 1., 1., 0.],\n",
       "        [1., 1., 1., ..., 1., 1., 1.]]], dtype=float32)>"
      ]
     },
     "execution_count": 38,
     "metadata": {},
     "output_type": "execute_result"
    }
   ],
   "source": [
    "mask = tf.cast(mask, tf.float32) # turn into float\n",
    "mask"
   ]
  },
  {
   "cell_type": "markdown",
   "id": "d23349ab",
   "metadata": {
    "papermill": {
     "duration": 0.035709,
     "end_time": "2023-07-31T07:20:47.974326",
     "exception": false,
     "start_time": "2023-07-31T07:20:47.938617",
     "status": "completed"
    },
    "tags": []
   },
   "source": [
    "# Non Pad/START/END Token Accuracy\n",
    "\n",
    "Definimos ahora la clase `TopKAccuracy`. Se trata de una métrica personalizada que hereda de `tf.keras.metrics.Metric`. Su propósito es el de calcular la precisión top-k de un modelo con una salida de varias dimensiones.\n",
    "\n",
    "En lugar de simplemente comparar la clase predicha por el modelo con la clase verdadera, el Top-K Accuracy considera si la clase verdadera se encuentra dentro de las K clases más probables predichas por el modelo.\n",
    "\n",
    "Imagina que tienes un modelo de clasificación que tiene que predecir la categoría correcta de una imagen. Si el Top-K es 1 (Top-1 Accuracy), entonces el modelo debe predecir la categoría correcta como la de mayor probabilidad. Sin embargo, si el Top-K es 5 (Top-5 Accuracy), el modelo se considera acertado si la categoría correcta está dentro de las 5 categorías con mayores probabilidades predichas por el modelo.\n",
    "\n",
    "La métrica se calcula de la siguiente manera:\n",
    "\n",
    "- Para cada muestra o ejemplo en el conjunto de datos, el modelo genera una distribución de probabilidad sobre todas las clases posibles.\n",
    "- El modelo selecciona las K clases con las mayores probabilidades y verifica si la clase verdadera está dentro de estas K clases.\n",
    "- Si la clase verdadera está entre las K clases más probables, entonces el modelo ha acertado esa muestra para el cálculo del Top-K Accuracy.\n",
    "- La métrica Top-K Accuracy se calcula tomando el porcentaje de muestras donde el modelo ha acertado en predecir la clase verdadera dentro de las K clases más probables.\n",
    "- El valor de K en el Top-K Accuracy permite ajustar el nivel de exigencia del modelo. Un Top-K con un valor alto (por ejemplo, Top-5 o Top-10) puede ser útil cuando algunas tareas de clasificación son difíciles y hay varias clases posibles cercanas en términos de probabilidad. Por otro lado, un Top-K con un valor bajo (como Top-1) es más estricto y solo considera la clase con la mayor probabilidad predicha.\n",
    "\n",
    "Los pasos son los siguientes:\n",
    "\n",
    "- En el método `__init__`, se inicializa la clase y recibe un parámetro `k`, que indica el valor de k en la precisión top-k. Por ejemplo, si `k=1`, se calculará la precisión top-1 (también conocida como precisión en el ranking de mayor probabilidad). Dentro del método __init__, se crea una instancia de `tf.keras.metrics.SparseTopKCategoricalAccuracy`, que es una métrica incorporada de TensorFlow que calcula la precisión top-k para salidas categóricas dispersas. Esta instancia se guarda en el atributo `self.top_k_acc` para su uso posterior.\n",
    "\n",
    "- En el método `update_state`, se realiza el cálculo de la precisión top-k actualizando el estado de la métrica. Este método toma tres argumentos:\n",
    "    - `y_true`: La etiqueta verdadera del modelo, que contiene los índices de las clases correctas para cada muestra.\n",
    "    - `y_pred`: La salida predicha por el modelo, que contiene las probabilidades de las clases para cada muestra.\n",
    "    - `sample_weight`: Pesos opcionales para las muestras.\n",
    "\n",
    "    - Se realiza una serie de transformaciones para preparar los datos para el cálculo de la precisión top-k:\n",
    "        - Ambos, `y_true` y `y_pred`, se redimensionan para convertirse en tensores unidimensionales. Esto se hace para asegurar que los datos estén en el formato correcto para la métrica de precisión top-k.\n",
    "        - Se obtienen los índices de aquellos `y_true` que son menores que `N_UNIQUE_CHARACTERS` (recordemos que había un total de 62 token o caracteres distintos). Esto se hace para filtrar solo los índices válidos en el cálculo de la métrica, ya que podría haber índices fuera del rango válido en ciertos casos.\n",
    "        - Se utiliza `tf.gather` para seleccionar solo las muestras correspondientes a los índices válidos tanto en `y_true` como en `y_pred`.\n",
    "\n",
    "    - Finalmente, se llama al método `update_state` de `self.top_k_acc`, pasándole los datos preprocesados `y_true` e `y_pred` para realizar el cálculo real de la precisión top-k.\n",
    "\n",
    "- Los métodos `result` y `reset_state` simplemente devuelven el resultado de la precisión top-k actual y restablecen el estado de la métrica, respectivamente."
   ]
  },
  {
   "cell_type": "code",
   "execution_count": 39,
   "id": "898d3596",
   "metadata": {
    "execution": {
     "iopub.execute_input": "2023-07-31T07:20:48.091142Z",
     "iopub.status.busy": "2023-07-31T07:20:48.090694Z",
     "iopub.status.idle": "2023-07-31T07:20:48.099874Z",
     "shell.execute_reply": "2023-07-31T07:20:48.098827Z"
    },
    "papermill": {
     "duration": 0.049402,
     "end_time": "2023-07-31T07:20:48.101823",
     "exception": false,
     "start_time": "2023-07-31T07:20:48.052421",
     "status": "completed"
    },
    "tags": []
   },
   "outputs": [],
   "source": [
    "# TopK accuracy for multi dimensional output\n",
    "class TopKAccuracy(tf.keras.metrics.Metric):\n",
    "    def __init__(self, k, **kwargs):\n",
    "        super(TopKAccuracy, self).__init__(name=f'top{k}acc', **kwargs)\n",
    "        self.top_k_acc = tf.keras.metrics.SparseTopKCategoricalAccuracy(k=k)\n",
    "\n",
    "    def update_state(self, y_true, y_pred, sample_weight=None):\n",
    "        y_true = tf.reshape(y_true, [-1])\n",
    "        y_pred = tf.reshape(y_pred, [-1, N_UNIQUE_CHARACTERS])\n",
    "        character_idxs = tf.where(y_true < N_UNIQUE_CHARACTERS0)\n",
    "        y_true = tf.gather(y_true, character_idxs, axis=0)\n",
    "        y_pred = tf.gather(y_pred, character_idxs, axis=0)\n",
    "        self.top_k_acc.update_state(y_true, y_pred)\n",
    "\n",
    "    def result(self):\n",
    "        return self.top_k_acc.result()\n",
    "    \n",
    "    def reset_state(self):\n",
    "        self.top_k_acc.reset_state()"
   ]
  },
  {
   "cell_type": "markdown",
   "id": "ced838cd",
   "metadata": {
    "papermill": {
     "duration": 0.035569,
     "end_time": "2023-07-31T07:20:48.173397",
     "exception": false,
     "start_time": "2023-07-31T07:20:48.137828",
     "status": "completed"
    },
    "tags": []
   },
   "source": [
    "# Loss Weights\n",
    "\n"
   ]
  },
  {
   "cell_type": "code",
   "execution_count": 40,
   "id": "add65054",
   "metadata": {
    "execution": {
     "iopub.execute_input": "2023-07-31T07:20:48.246989Z",
     "iopub.status.busy": "2023-07-31T07:20:48.246200Z",
     "iopub.status.idle": "2023-07-31T07:20:48.251255Z",
     "shell.execute_reply": "2023-07-31T07:20:48.250393Z"
    },
    "papermill": {
     "duration": 0.043693,
     "end_time": "2023-07-31T07:20:48.253221",
     "exception": false,
     "start_time": "2023-07-31T07:20:48.209528",
     "status": "completed"
    },
    "tags": []
   },
   "outputs": [],
   "source": [
    "# Create Initial Loss Weights All Set To 1\n",
    "loss_weights = np.ones(N_UNIQUE_CHARACTERS, dtype=np.float32)\n",
    "# Set Loss Weight Of Pad Token To 0\n",
    "loss_weights[PAD_TOKEN] = 0"
   ]
  },
  {
   "cell_type": "markdown",
   "id": "da53661f",
   "metadata": {
    "papermill": {
     "duration": 0.037599,
     "end_time": "2023-07-31T07:20:48.326658",
     "exception": false,
     "start_time": "2023-07-31T07:20:48.289059",
     "status": "completed"
    },
    "tags": []
   },
   "source": [
    "# Sparse Categorical Crossentropy With Label Smoothing¶\n",
    "\n",
    "Ahora, creamos la función `scce_with_ls`, que calcula la pérdida utilizando la función de pérdida `categorical_crossentropy` con soporte para el suavizado de etiquetas. Esta técnica se aplica para evitar que el modelo se vuelva demasiado confiado y \"sobreconfiado\" en sus predicciones.\n",
    "\n",
    "Cuando entrenamos un modelo de clasificación, normalmente usamos etiquetas o salidas objetivo en formato \"one-hot\". En formato \"one-hot\", cada muestra tiene una etiqueta que es un vector binario con un \"1\" en la posición correspondiente a la clase verdadera y \"0\" en todas las demás posiciones. Por ejemplo, si tenemos un problema de clasificación con 3 clases, una muestra perteneciente a la clase 2 tendría una etiqueta `[0, 1, 0]`.\n",
    "\n",
    "El suavizado de etiquetas consiste en disminuir la confianza absoluta del modelo en las etiquetas individuales, redistribuyendo una pequeña cantidad de probabilidad desde la clase verdadera a las otras clases. En lugar de utilizar \"1\" en la posición correspondiente a la clase verdadera, se utiliza un valor cercano a \"1\", y el resto del valor se distribuye entre las otras clases.\n",
    "\n",
    "Por ejemplo, si aplicamos un suavizado de etiquetas con un valor de suavizado (smoothing value) de 0.1 en el problema anterior, la etiqueta `[0, 1, 0]` podría convertirse en `[0.05, 0.9, 0.05]`. Esto significa que en lugar de estar completamente seguro de que la muestra pertenece a la clase 2, el modelo se vuelve un poco menos seguro y distribuye una pequeña cantidad de probabilidad a las otras clases. Este efecto generalmente resulta en una mejora en la generalización del modelo y evita el sobreajuste (overfitting).\n",
    "\n",
    "\n",
    "La función contiene los siguientes elementos:\n",
    "\n",
    "1. `idxs = tf.where(y_true != PAD_TOKEN)`: En esta línea, se utiliza `tf.where` para encontrar las posiciones en `y_true` donde el valor es diferente del token de relleno (`PAD_TOKEN`). El objetivo es filtrar los índices que no corresponden a tokens de relleno, ya que no queremos considerarlos en el cálculo de la pérdida.\n",
    "\n",
    "2. `y_true = tf.gather_nd(y_true, idxs)`: Aquí, se utiliza `tf.gather_nd` para obtener los valores de las etiquetas de `y_true` que no son tokens de relleno. \n",
    "\n",
    "3. `y_pred = tf.gather_nd(y_pred, idxs)`: De manera similar, `tf.gather_nd` se utiliza para obtener las predicciones del modelo que corresponden a los índices filtrados de `y_true`. \n",
    "\n",
    "4. `y_true = tf.cast(y_true, tf.int32)`: Para el cálculo de la pérdida con `tf.keras.losses.categorical_crossentropy`, es necesario que `y_true` sea de tipo int32, por lo que se realiza una conversión.\n",
    "\n",
    "5. `y_true = tf.one_hot(y_true, N_UNIQUE_CHARACTERS, axis=1)`: La función `tf.one_hot` se utiliza para convertir las etiquetas `y_true` en una representación \"one-hot\".\n",
    "\n",
    "6. `loss = tf.keras.losses.categorical_crossentropy(y_true, y_pred, label_smoothing=0.25, from_logits=True)`: Aquí se calcula la pérdida utilizando la función de pérdida `categorical_crossentropy`. La función tiene un parámetro opcional `label_smoothing`, que en este caso se establece en 0.25. El valor 0.25 indica cuánta \"confianza\" se debe agregar a la clase verdadera y se resta de la probabilidad de la clase verdadera y se suma a las otras clases en la pérdida. `from_logits=True` indica que `y_pred` no ha sido pasado por una función de activación softmax antes del cálculo de la pérdida.\n",
    "\n",
    "7. `loss = tf.math.reduce_mean(loss)`: Finalmente, la pérdida calculada en el paso anterior se reduce a un solo valor tomando su promedio utilizando `tf.math.reduce_mean`. Esto es necesario para obtener una única medida de pérdida que represente el rendimiento general del modelo en el conjunto de datos."
   ]
  },
  {
   "cell_type": "code",
   "execution_count": 41,
   "id": "d44260eb",
   "metadata": {
    "execution": {
     "iopub.execute_input": "2023-07-31T07:20:48.399996Z",
     "iopub.status.busy": "2023-07-31T07:20:48.399409Z",
     "iopub.status.idle": "2023-07-31T07:20:48.406375Z",
     "shell.execute_reply": "2023-07-31T07:20:48.405371Z"
    },
    "papermill": {
     "duration": 0.045479,
     "end_time": "2023-07-31T07:20:48.408384",
     "exception": false,
     "start_time": "2023-07-31T07:20:48.362905",
     "status": "completed"
    },
    "tags": []
   },
   "outputs": [],
   "source": [
    "# source:: https://stackoverflow.com/questions/60689185/label-smoothing-for-sparse-categorical-crossentropy\n",
    "def scce_with_ls(y_true, y_pred):\n",
    "    # Filter Pad Tokens\n",
    "    idxs = tf.where(y_true != PAD_TOKEN)\n",
    "    y_true = tf.gather_nd(y_true, idxs)\n",
    "    y_pred = tf.gather_nd(y_pred, idxs)\n",
    "    # One Hot Encode Sparsely Encoded Target Sign\n",
    "    y_true = tf.cast(y_true, tf.int32)\n",
    "    y_true = tf.one_hot(y_true, N_UNIQUE_CHARACTERS, axis=1)\n",
    "    # Categorical Crossentropy with native label smoothing support\n",
    "    loss = tf.keras.losses.categorical_crossentropy(y_true, y_pred, label_smoothing=0.25, from_logits=True)\n",
    "    loss = tf.math.reduce_mean(loss)\n",
    "    return loss"
   ]
  },
  {
   "cell_type": "markdown",
   "id": "7623c23b",
   "metadata": {
    "papermill": {
     "duration": 0.035958,
     "end_time": "2023-07-31T07:20:48.479998",
     "exception": false,
     "start_time": "2023-07-31T07:20:48.444040",
     "status": "completed"
    },
    "tags": []
   },
   "source": [
    "# Model\n",
    "\n",
    "Una vez definidos los distintos subelementos que conforman el modelo, creamos el modelo. \n",
    "\n",
    "- Dicho modelo tiene dos elementos de entrada `tf.keras.layers.Input` que corresponden a los elementos del diccionario `X_batch`. La primera entrada es para los datos de entrada llamados \"frames\" que hemos definido , que son secuencias de datos numéricos de forma `[N_TARGET_FRAMES, N_COLS]=[128,164]` . La segunda entrada es para los datos de entrada llamados \"phrase\", que son secuencias de palabras representadas por índices enteros de forma `[MAX_PHRASE_LENGTH]=32`.\n",
    "\n",
    "- Se inicia la construcción del modelo con los datos de entrada \"frames\" usando `x = frames_inp`. A continuación, se aplica una capa de `Masking` para ignorar valores nulos en los datos de entrada \"frames\". Esto se hace para lidiar con secuencias de longitud variable, donde los valores nulos representan puntos de tiempo sin información válida.\n",
    "\n",
    "- A continuación, se aplica la capa de `Embedding`. Acabaremos teniendo una dimensión de `[N,128,384]`.\n",
    "\n",
    "- Luego, se pasan los datos \"frames\" a través de bloques de Transformer usando la capa `Encoder(NUM_BLOCKS_ENCODER)(x, frames_inp)`. Los bloques de Transformer son responsables de procesar y extraer características relevantes de las secuencias de entrada.\n"
   ]
  },
  {
   "cell_type": "code",
   "execution_count": 42,
   "id": "f54cf260",
   "metadata": {
    "execution": {
     "iopub.execute_input": "2023-07-31T07:20:48.553366Z",
     "iopub.status.busy": "2023-07-31T07:20:48.553008Z",
     "iopub.status.idle": "2023-07-31T07:20:48.558608Z",
     "shell.execute_reply": "2023-07-31T07:20:48.557726Z"
    },
    "papermill": {
     "duration": 0.045363,
     "end_time": "2023-07-31T07:20:48.561100",
     "exception": false,
     "start_time": "2023-07-31T07:20:48.515737",
     "status": "completed"
    },
    "tags": []
   },
   "outputs": [
    {
     "name": "stdout",
     "output_type": "stream",
     "text": [
      " # elements in \"X_batch\": 2\n",
      " Shape of the first element \"frames\": (1024, 128, 164)\n",
      " Shape of the second element \"phrase\": (1024, 32)\n"
     ]
    }
   ],
   "source": [
    "print(f' # elements in \"X_batch\": {len(X_batch)}') # frames and phrase\n",
    "print(f' Shape of the first element \"frames\": {X_batch[\"frames\"].shape}') # [N_batch, TARGET_FRAMES, COLS] \n",
    "print(f' Shape of the second element \"phrase\": {X_batch[\"phrase\"].shape}') # [N_batch, MAX_PHRASE_LENGTH]"
   ]
  },
  {
   "cell_type": "markdown",
   "id": "4bab8de2",
   "metadata": {
    "papermill": {
     "duration": 0.035979,
     "end_time": "2023-07-31T07:20:48.632701",
     "exception": false,
     "start_time": "2023-07-31T07:20:48.596722",
     "status": "completed"
    },
    "tags": []
   },
   "source": [
    "Partimos de dos tensores con la misma forma que 'frames' y 'phrase'. Utilizamos la máscara para que no haya nulos y hacemos una representación densa de los datos, con Landmark Embedding y Embedding posicional. Luego, aplicamos el encoder para que aprenda y estudie los patrones"
   ]
  },
  {
   "cell_type": "code",
   "execution_count": 43,
   "id": "4ad23703",
   "metadata": {
    "execution": {
     "iopub.execute_input": "2023-07-31T07:20:48.706997Z",
     "iopub.status.busy": "2023-07-31T07:20:48.706403Z",
     "iopub.status.idle": "2023-07-31T07:20:50.380235Z",
     "shell.execute_reply": "2023-07-31T07:20:50.378421Z"
    },
    "papermill": {
     "duration": 1.713873,
     "end_time": "2023-07-31T07:20:50.382313",
     "exception": false,
     "start_time": "2023-07-31T07:20:48.668440",
     "status": "completed"
    },
    "tags": []
   },
   "outputs": [
    {
     "name": "stdout",
     "output_type": "stream",
     "text": [
      " Input shape: (None, 128, 164)\n",
      " Shape post Embedding: (None, 128, 384)\n",
      " Shape post encoder: (None, 128, 256)\n",
      " Units Decoder: 256\n"
     ]
    }
   ],
   "source": [
    "# Inputs\n",
    "frames_inp = tf.keras.layers.Input([N_TARGET_FRAMES, N_COLS], dtype=tf.float32, name='frames')\n",
    "phrase_inp = tf.keras.layers.Input([MAX_PHRASE_LENGTH], dtype=tf.int32, name='phrase')\n",
    "# Frames\n",
    "x = frames_inp\n",
    "\n",
    "# Masking to eliminate NaN values in frames\n",
    "x = tf.keras.layers.Masking(mask_value=0.0, input_shape=(N_TARGET_FRAMES, N_COLS))(x)\n",
    "print(f' Input shape: {x.shape}')\n",
    "# Embedding\n",
    "x = Embedding()(x)\n",
    "\n",
    "print(f' Shape post Embedding: {x.shape}')\n",
    "    \n",
    "# Encoder Transformer Blocks\n",
    "x = Encoder(NUM_BLOCKS_ENCODER)(x, frames_inp)\n",
    "\n",
    "print(f' Shape post encoder: {x.shape}')\n",
    "print(f' Units Decoder: {UNITS_DECODER}')"
   ]
  },
  {
   "cell_type": "markdown",
   "id": "0764d01e",
   "metadata": {
    "papermill": {
     "duration": 0.036067,
     "end_time": "2023-07-31T07:20:50.455279",
     "exception": false,
     "start_time": "2023-07-31T07:20:50.419212",
     "status": "completed"
    },
    "tags": []
   },
   "source": [
    "- Después de pasar por los bloques del encoder, los datos se pasan a través de la capa `Decoder(NUM_BLOCKS_DECODER)(x, phrase_inp)`. Gracias a esta capa se generan secuencias de texto basadas en las características extraídas del encoder. \n",
    "\n",
    "- Luego, se agrega una capa `Sequential` que contiene una capa de `Dropout` para evitar el sobreajuste, seguida de una capa `Dense` que representa la capa de salida del modelo. Esta capa tiene una cantidad de neuronas igual a `N_UNIQUE_CHARACTERS`, que es el número total de clases o tokens posibles en el problema de generación de texto.\n",
    "\n",
    "- Los outputs del modelo son asignados a `x`."
   ]
  },
  {
   "cell_type": "code",
   "execution_count": 44,
   "id": "257b3b45",
   "metadata": {
    "execution": {
     "iopub.execute_input": "2023-07-31T07:20:50.529537Z",
     "iopub.status.busy": "2023-07-31T07:20:50.529215Z",
     "iopub.status.idle": "2023-07-31T07:20:51.951608Z",
     "shell.execute_reply": "2023-07-31T07:20:51.950639Z"
    },
    "papermill": {
     "duration": 1.461821,
     "end_time": "2023-07-31T07:20:51.953981",
     "exception": false,
     "start_time": "2023-07-31T07:20:50.492160",
     "status": "completed"
    },
    "tags": []
   },
   "outputs": [
    {
     "name": "stdout",
     "output_type": "stream",
     "text": [
      "Shape post Decoder: (None, 32, 256)\n",
      "# of unique characters: 62\n"
     ]
    }
   ],
   "source": [
    "# Decoder\n",
    "x = Decoder(NUM_BLOCKS_DECODER)(x, phrase_inp, frames_inp)\n",
    "print(f'Shape post Decoder: {x.shape}')    \n",
    "print(f'# of unique characters: {N_UNIQUE_CHARACTERS}')\n",
    "# Classifier\n",
    "x = tf.keras.Sequential([\n",
    "    # Dropout\n",
    "    tf.keras.layers.Dropout(CLASSIFIER_DROPOUT_RATIO), # CLASSIFIER_DROPOUT_RATIO = 0.1\n",
    "    # Output Neurons: 62 classes (different tokens)\n",
    "    tf.keras.layers.Dense(N_UNIQUE_CHARACTERS, activation=tf.keras.activations.linear,\n",
    "                          kernel_initializer=INIT_HE_UNIFORM, use_bias=False),\n",
    "    ], name='classifier')(x)\n",
    "    \n",
    "outputs = x"
   ]
  },
  {
   "cell_type": "markdown",
   "id": "c1ff73e6",
   "metadata": {
    "papermill": {
     "duration": 0.036061,
     "end_time": "2023-07-31T07:20:52.027423",
     "exception": false,
     "start_time": "2023-07-31T07:20:51.991362",
     "status": "completed"
    },
    "tags": []
   },
   "source": [
    "- El modelo es construido utilizando `tf.keras.models.Model`, tomando las entradas y salidas definidas anteriormente.\n",
    "\n",
    "- Se define la función de pérdida `scce_with_ls`, que es la Categorical Crossentropy Loss con soporte para Label Smoothing, como la función de pérdida del modelo.\n",
    "\n",
    "- Se define el optimizador del modelo utilizando `RectifiedAdam`, una variante del optimizador Adam.\n",
    "\n",
    "- Se definen dos métricas de evaluación del modelo: la precisión Top-1 (`TopKAccuracy(1)`) y la precisión Top-5 (`TopKAccuracy(5)`).\n",
    "\n",
    "- El modelo se compila utilizando `model.compile`, especificando la función de pérdida, el optimizador, las métricas y los pesos de pérdida. Los pesos de pérdida son los que se definieron anteriormente y se utilizan para ajustar la contribución relativa de cada clase en el cálculo de la pérdida total del modelo.\n",
    "\n",
    "El modelo que hemos construido se trata de seq2seq con atención, comúnmente utilizado en tareas de generación de texto y traducción automática."
   ]
  },
  {
   "cell_type": "code",
   "execution_count": 45,
   "id": "8709a8bc",
   "metadata": {
    "execution": {
     "iopub.execute_input": "2023-07-31T07:20:52.101727Z",
     "iopub.status.busy": "2023-07-31T07:20:52.101329Z",
     "iopub.status.idle": "2023-07-31T07:20:52.183611Z",
     "shell.execute_reply": "2023-07-31T07:20:52.182580Z"
    },
    "papermill": {
     "duration": 0.12218,
     "end_time": "2023-07-31T07:20:52.185897",
     "exception": false,
     "start_time": "2023-07-31T07:20:52.063717",
     "status": "completed"
    },
    "tags": []
   },
   "outputs": [
    {
     "name": "stdout",
     "output_type": "stream",
     "text": [
      "Model: \"model\"\n",
      "__________________________________________________________________________________________________\n",
      " Layer (type)                   Output Shape         Param #     Connected to                     \n",
      "==================================================================================================\n",
      " frames (InputLayer)            [(None, 128, 164)]   0           []                               \n",
      "                                                                                                  \n",
      " masking (Masking)              (None, 128, 164)     0           ['frames[0][0]']                 \n",
      "                                                                                                  \n",
      " embedding_2 (Embedding)        (None, 128, 384)     259968      ['masking[0][0]']                \n",
      "                                                                                                  \n",
      " encoder (Encoder)              (None, 128, 256)     3643392     ['embedding_2[0][0]',            \n",
      "                                                                  'frames[0][0]']                 \n",
      "                                                                                                  \n",
      " phrase (InputLayer)            [(None, 32)]         0           []                               \n",
      "                                                                                                  \n",
      " decoder (Decoder)              (None, 32, 256)      1362944     ['encoder[0][0]',                \n",
      "                                                                  'phrase[0][0]',                 \n",
      "                                                                  'frames[0][0]']                 \n",
      "                                                                                                  \n",
      " classifier (Sequential)        (None, 32, 62)       15872       ['decoder[0][0]']                \n",
      "                                                                                                  \n",
      "==================================================================================================\n",
      "Total params: 5,282,176\n",
      "Trainable params: 5,282,176\n",
      "Non-trainable params: 0\n",
      "__________________________________________________________________________________________________\n"
     ]
    }
   ],
   "source": [
    "# Create Tensorflow Model\n",
    "model = tf.keras.models.Model(inputs=[frames_inp, phrase_inp], outputs=outputs)\n",
    "    \n",
    "# Categorical Crossentropy Loss With Label Smoothing\n",
    "loss = scce_with_ls\n",
    "    \n",
    "# Adam Optimizer\n",
    "optimizer = tfa.optimizers.RectifiedAdam(sma_threshold=4)\n",
    "optimizer = tfa.optimizers.Lookahead(optimizer, sync_period=5)\n",
    "\n",
    "# TopK Metrics\n",
    "metrics = [\n",
    "        TopKAccuracy(1),\n",
    "        TopKAccuracy(5),]\n",
    "    \n",
    "model.compile(\n",
    "    loss=loss,\n",
    "    optimizer=optimizer,\n",
    "    metrics=metrics,\n",
    "    loss_weights=loss_weights,\n",
    "    )\n",
    "model.summary()"
   ]
  },
  {
   "cell_type": "markdown",
   "id": "27145bf7",
   "metadata": {
    "papermill": {
     "duration": 0.037958,
     "end_time": "2023-07-31T07:20:52.262511",
     "exception": false,
     "start_time": "2023-07-31T07:20:52.224553",
     "status": "completed"
    },
    "tags": []
   },
   "source": [
    "Una vez vistos todos los elementos necesarios para la creación del modelo, definimos la función `get_model` que contiene todos ellos agrupados. "
   ]
  },
  {
   "cell_type": "code",
   "execution_count": 46,
   "id": "8be45da0",
   "metadata": {
    "execution": {
     "iopub.execute_input": "2023-07-31T07:20:52.342690Z",
     "iopub.status.busy": "2023-07-31T07:20:52.342353Z",
     "iopub.status.idle": "2023-07-31T07:20:52.352588Z",
     "shell.execute_reply": "2023-07-31T07:20:52.351570Z"
    },
    "papermill": {
     "duration": 0.054323,
     "end_time": "2023-07-31T07:20:52.354664",
     "exception": false,
     "start_time": "2023-07-31T07:20:52.300341",
     "status": "completed"
    },
    "tags": []
   },
   "outputs": [],
   "source": [
    "def get_model():\n",
    "    # Inputs\n",
    "    frames_inp = tf.keras.layers.Input([N_TARGET_FRAMES, N_COLS], dtype=tf.float32, name='frames')\n",
    "    phrase_inp = tf.keras.layers.Input([MAX_PHRASE_LENGTH], dtype=tf.int32, name='phrase')\n",
    "    # Frames\n",
    "    x = frames_inp\n",
    "\n",
    "    # Masking\n",
    "    x = tf.keras.layers.Masking(mask_value=0.0, input_shape=(N_TARGET_FRAMES, N_COLS))(x)\n",
    "    \n",
    "    # Embedding\n",
    "    x = Embedding()(x)\n",
    "    \n",
    "    # Encoder Transformer Blocks\n",
    "    x = Encoder(NUM_BLOCKS_ENCODER)(x, frames_inp)\n",
    "    \n",
    "    # Decoder\n",
    "    x = Decoder(NUM_BLOCKS_DECODER)(x, phrase_inp, frames_inp)\n",
    "    \n",
    "    # Classifier\n",
    "    x = tf.keras.Sequential([\n",
    "        # Dropout\n",
    "        tf.keras.layers.Dropout(CLASSIFIER_DROPOUT_RATIO),\n",
    "        # Output Neurons\n",
    "        tf.keras.layers.Dense(N_UNIQUE_CHARACTERS, activation=tf.keras.activations.linear, kernel_initializer=INIT_HE_UNIFORM, use_bias=False),\n",
    "    ], name='classifier')(x)\n",
    "    \n",
    "    outputs = x\n",
    "    \n",
    "    # Create Tensorflow Model\n",
    "    model = tf.keras.models.Model(inputs=[frames_inp, phrase_inp], outputs=outputs)\n",
    "    \n",
    "    # Categorical Crossentropy Loss With Label Smoothing\n",
    "    loss = scce_with_ls\n",
    "    \n",
    "    # Adam Optimizer\n",
    "    optimizer = tfa.optimizers.RectifiedAdam(sma_threshold=4)\n",
    "    optimizer = tfa.optimizers.Lookahead(optimizer, sync_period=5)\n",
    "\n",
    "    # TopK Metrics\n",
    "    metrics = [\n",
    "        TopKAccuracy(1),\n",
    "        TopKAccuracy(5),\n",
    "    ]\n",
    "    \n",
    "    model.compile(\n",
    "        loss=loss,\n",
    "        optimizer=optimizer,\n",
    "        metrics=metrics,\n",
    "        loss_weights=loss_weights,\n",
    "    )\n",
    "    \n",
    "    return model"
   ]
  },
  {
   "cell_type": "code",
   "execution_count": 47,
   "id": "cfe1830b",
   "metadata": {
    "execution": {
     "iopub.execute_input": "2023-07-31T07:20:52.435837Z",
     "iopub.status.busy": "2023-07-31T07:20:52.435537Z",
     "iopub.status.idle": "2023-07-31T07:20:52.440523Z",
     "shell.execute_reply": "2023-07-31T07:20:52.439658Z"
    },
    "papermill": {
     "duration": 0.04947,
     "end_time": "2023-07-31T07:20:52.442583",
     "exception": false,
     "start_time": "2023-07-31T07:20:52.393113",
     "status": "completed"
    },
    "tags": []
   },
   "outputs": [
    {
     "name": "stdout",
     "output_type": "stream",
     "text": [
      "frames: (1024, 128, 164)\n",
      "phrase: (1024, 32)\n"
     ]
    }
   ],
   "source": [
    "# Input data: X_batch['frames'] & X_batch['phrase']\n",
    "for k, v in X_batch.items():\n",
    "    print(f'{k}: {v.shape}')"
   ]
  },
  {
   "cell_type": "code",
   "execution_count": 48,
   "id": "09a671ca",
   "metadata": {
    "execution": {
     "iopub.execute_input": "2023-07-31T07:20:52.520720Z",
     "iopub.status.busy": "2023-07-31T07:20:52.519958Z",
     "iopub.status.idle": "2023-07-31T07:20:55.113482Z",
     "shell.execute_reply": "2023-07-31T07:20:55.112504Z"
    },
    "papermill": {
     "duration": 2.635392,
     "end_time": "2023-07-31T07:20:55.116083",
     "exception": false,
     "start_time": "2023-07-31T07:20:52.480691",
     "status": "completed"
    },
    "tags": []
   },
   "outputs": [],
   "source": [
    "tf.keras.backend.clear_session()\n",
    "\n",
    "model = get_model()"
   ]
  },
  {
   "cell_type": "code",
   "execution_count": 49,
   "id": "bc0c80e5",
   "metadata": {
    "execution": {
     "iopub.execute_input": "2023-07-31T07:20:55.194962Z",
     "iopub.status.busy": "2023-07-31T07:20:55.194618Z",
     "iopub.status.idle": "2023-07-31T07:20:55.338686Z",
     "shell.execute_reply": "2023-07-31T07:20:55.337947Z"
    },
    "papermill": {
     "duration": 0.289861,
     "end_time": "2023-07-31T07:20:55.445286",
     "exception": false,
     "start_time": "2023-07-31T07:20:55.155425",
     "status": "completed"
    },
    "tags": []
   },
   "outputs": [
    {
     "name": "stdout",
     "output_type": "stream",
     "text": [
      "Model: \"model\"\n",
      "__________________________________________________________________________________________________\n",
      " Layer (type)                   Output Shape         Param #     Connected to                     \n",
      "==================================================================================================\n",
      " frames (InputLayer)            [(None, 128, 164)]   0           []                               \n",
      "                                                                                                  \n",
      " masking (Masking)              (None, 128, 164)     0           ['frames[0][0]']                 \n",
      "                                                                                                  \n",
      " embedding (Embedding)          (None, 128, 384)     259968      ['masking[0][0]']                \n",
      "|¯¯¯¯¯¯¯¯¯¯¯¯¯¯¯¯¯¯¯¯¯¯¯¯¯¯¯¯¯¯¯¯¯¯¯¯¯¯¯¯¯¯¯¯¯¯¯¯¯¯¯¯¯¯¯¯¯¯¯¯¯¯¯¯¯¯¯¯¯¯¯¯¯¯¯¯¯¯¯¯¯¯¯¯¯¯¯¯¯¯¯¯¯¯¯¯|\n",
      "| dominant_hand_embedding (Landm  multiple          210816      []                               |\n",
      "| arkEmbedding)                                                                                  |\n",
      "||¯¯¯¯¯¯¯¯¯¯¯¯¯¯¯¯¯¯¯¯¯¯¯¯¯¯¯¯¯¯¯¯¯¯¯¯¯¯¯¯¯¯¯¯¯¯¯¯¯¯¯¯¯¯¯¯¯¯¯¯¯¯¯¯¯¯¯¯¯¯¯¯¯¯¯¯¯¯¯¯¯¯¯¯¯¯¯¯¯¯¯¯¯¯||\n",
      "|| dominant_hand_embedding_dense   (None, 128, 384)  210432    []                               ||\n",
      "|| (Sequential)                                                                                 ||\n",
      "|||¯¯¯¯¯¯¯¯¯¯¯¯¯¯¯¯¯¯¯¯¯¯¯¯¯¯¯¯¯¯¯¯¯¯¯¯¯¯¯¯¯¯¯¯¯¯¯¯¯¯¯¯¯¯¯¯¯¯¯¯¯¯¯¯¯¯¯¯¯¯¯¯¯¯¯¯¯¯¯¯¯¯¯¯¯¯¯¯¯¯¯¯|||\n",
      "||| dominant_hand_embedding_dense_  (None, 128, 384)  62976   []                               |||\n",
      "||| 1 (Dense)                                                                                  |||\n",
      "|||                                                                                            |||\n",
      "||| dominant_hand_embedding_dense_  (None, 128, 384)  147456  []                               |||\n",
      "||| 2 (Dense)                                                                                  |||\n",
      "||¯¯¯¯¯¯¯¯¯¯¯¯¯¯¯¯¯¯¯¯¯¯¯¯¯¯¯¯¯¯¯¯¯¯¯¯¯¯¯¯¯¯¯¯¯¯¯¯¯¯¯¯¯¯¯¯¯¯¯¯¯¯¯¯¯¯¯¯¯¯¯¯¯¯¯¯¯¯¯¯¯¯¯¯¯¯¯¯¯¯¯¯¯¯||\n",
      "|¯¯¯¯¯¯¯¯¯¯¯¯¯¯¯¯¯¯¯¯¯¯¯¯¯¯¯¯¯¯¯¯¯¯¯¯¯¯¯¯¯¯¯¯¯¯¯¯¯¯¯¯¯¯¯¯¯¯¯¯¯¯¯¯¯¯¯¯¯¯¯¯¯¯¯¯¯¯¯¯¯¯¯¯¯¯¯¯¯¯¯¯¯¯¯¯|\n",
      "¯¯¯¯¯¯¯¯¯¯¯¯¯¯¯¯¯¯¯¯¯¯¯¯¯¯¯¯¯¯¯¯¯¯¯¯¯¯¯¯¯¯¯¯¯¯¯¯¯¯¯¯¯¯¯¯¯¯¯¯¯¯¯¯¯¯¯¯¯¯¯¯¯¯¯¯¯¯¯¯¯¯¯¯¯¯¯¯¯¯¯¯¯¯¯¯¯¯\n",
      " encoder (Encoder)              (None, 128, 256)     3643392     ['embedding[0][0]',              \n",
      "                                                                  'frames[0][0]']                 \n",
      "|¯¯¯¯¯¯¯¯¯¯¯¯¯¯¯¯¯¯¯¯¯¯¯¯¯¯¯¯¯¯¯¯¯¯¯¯¯¯¯¯¯¯¯¯¯¯¯¯¯¯¯¯¯¯¯¯¯¯¯¯¯¯¯¯¯¯¯¯¯¯¯¯¯¯¯¯¯¯¯¯¯¯¯¯¯¯¯¯¯¯¯¯¯¯¯¯|\n",
      "| layer_normalization (LayerNorm  multiple          768         []                               |\n",
      "| alization)                                                                                     |\n",
      "|                                                                                                |\n",
      "| layer_normalization_2 (LayerNo  multiple          768         []                               |\n",
      "| rmalization)                                                                                   |\n",
      "|                                                                                                |\n",
      "| layer_normalization_4 (LayerNo  multiple          768         []                               |\n",
      "| rmalization)                                                                                   |\n",
      "|                                                                                                |\n",
      "| layer_normalization_6 (LayerNo  multiple          768         []                               |\n",
      "| rmalization)                                                                                   |\n",
      "|                                                                                                |\n",
      "| multi_head_attention (MultiHea  multiple          294912      []                               |\n",
      "| dAttention)                                                                                    |\n",
      "|                                                                                                |\n",
      "| multi_head_attention_1 (MultiH  multiple          294912      []                               |\n",
      "| eadAttention)                                                                                  |\n",
      "|                                                                                                |\n",
      "| multi_head_attention_2 (MultiH  multiple          294912      []                               |\n",
      "| eadAttention)                                                                                  |\n",
      "|                                                                                                |\n",
      "| multi_head_attention_3 (MultiH  multiple          294912      []                               |\n",
      "| eadAttention)                                                                                  |\n",
      "|                                                                                                |\n",
      "| layer_normalization_1 (LayerNo  multiple          768         []                               |\n",
      "| rmalization)                                                                                   |\n",
      "|                                                                                                |\n",
      "| layer_normalization_3 (LayerNo  multiple          768         []                               |\n",
      "| rmalization)                                                                                   |\n",
      "|                                                                                                |\n",
      "| layer_normalization_5 (LayerNo  multiple          768         []                               |\n",
      "| rmalization)                                                                                   |\n",
      "|                                                                                                |\n",
      "| layer_normalization_7 (LayerNo  multiple          768         []                               |\n",
      "| rmalization)                                                                                   |\n",
      "|                                                                                                |\n",
      "| sequential_4 (Sequential)    (None, 128, 384)     589824      []                               |\n",
      "||¯¯¯¯¯¯¯¯¯¯¯¯¯¯¯¯¯¯¯¯¯¯¯¯¯¯¯¯¯¯¯¯¯¯¯¯¯¯¯¯¯¯¯¯¯¯¯¯¯¯¯¯¯¯¯¯¯¯¯¯¯¯¯¯¯¯¯¯¯¯¯¯¯¯¯¯¯¯¯¯¯¯¯¯¯¯¯¯¯¯¯¯¯¯||\n",
      "|| dense_4 (Dense)            (None, 128, 768)     294912      []                               ||\n",
      "||                                                                                              ||\n",
      "|| dropout_1 (Dropout)        (None, 128, 768)     0           []                               ||\n",
      "||                                                                                              ||\n",
      "|| dense_5 (Dense)            (None, 128, 384)     294912      []                               ||\n",
      "|¯¯¯¯¯¯¯¯¯¯¯¯¯¯¯¯¯¯¯¯¯¯¯¯¯¯¯¯¯¯¯¯¯¯¯¯¯¯¯¯¯¯¯¯¯¯¯¯¯¯¯¯¯¯¯¯¯¯¯¯¯¯¯¯¯¯¯¯¯¯¯¯¯¯¯¯¯¯¯¯¯¯¯¯¯¯¯¯¯¯¯¯¯¯¯¯|\n",
      "| sequential_9 (Sequential)    (None, 128, 384)     589824      []                               |\n",
      "||¯¯¯¯¯¯¯¯¯¯¯¯¯¯¯¯¯¯¯¯¯¯¯¯¯¯¯¯¯¯¯¯¯¯¯¯¯¯¯¯¯¯¯¯¯¯¯¯¯¯¯¯¯¯¯¯¯¯¯¯¯¯¯¯¯¯¯¯¯¯¯¯¯¯¯¯¯¯¯¯¯¯¯¯¯¯¯¯¯¯¯¯¯¯||\n",
      "|| dense_11 (Dense)           (None, 128, 768)     294912      []                               ||\n",
      "||                                                                                              ||\n",
      "|| dropout_3 (Dropout)        (None, 128, 768)     0           []                               ||\n",
      "||                                                                                              ||\n",
      "|| dense_12 (Dense)           (None, 128, 384)     294912      []                               ||\n",
      "|¯¯¯¯¯¯¯¯¯¯¯¯¯¯¯¯¯¯¯¯¯¯¯¯¯¯¯¯¯¯¯¯¯¯¯¯¯¯¯¯¯¯¯¯¯¯¯¯¯¯¯¯¯¯¯¯¯¯¯¯¯¯¯¯¯¯¯¯¯¯¯¯¯¯¯¯¯¯¯¯¯¯¯¯¯¯¯¯¯¯¯¯¯¯¯¯|\n",
      "| sequential_14 (Sequential)   (None, 128, 384)     589824      []                               |\n",
      "||¯¯¯¯¯¯¯¯¯¯¯¯¯¯¯¯¯¯¯¯¯¯¯¯¯¯¯¯¯¯¯¯¯¯¯¯¯¯¯¯¯¯¯¯¯¯¯¯¯¯¯¯¯¯¯¯¯¯¯¯¯¯¯¯¯¯¯¯¯¯¯¯¯¯¯¯¯¯¯¯¯¯¯¯¯¯¯¯¯¯¯¯¯¯||\n",
      "|| dense_18 (Dense)           (None, 128, 768)     294912      []                               ||\n",
      "||                                                                                              ||\n",
      "|| dropout_5 (Dropout)        (None, 128, 768)     0           []                               ||\n",
      "||                                                                                              ||\n",
      "|| dense_19 (Dense)           (None, 128, 384)     294912      []                               ||\n",
      "|¯¯¯¯¯¯¯¯¯¯¯¯¯¯¯¯¯¯¯¯¯¯¯¯¯¯¯¯¯¯¯¯¯¯¯¯¯¯¯¯¯¯¯¯¯¯¯¯¯¯¯¯¯¯¯¯¯¯¯¯¯¯¯¯¯¯¯¯¯¯¯¯¯¯¯¯¯¯¯¯¯¯¯¯¯¯¯¯¯¯¯¯¯¯¯¯|\n",
      "| sequential_19 (Sequential)   (None, 128, 384)     589824      []                               |\n",
      "||¯¯¯¯¯¯¯¯¯¯¯¯¯¯¯¯¯¯¯¯¯¯¯¯¯¯¯¯¯¯¯¯¯¯¯¯¯¯¯¯¯¯¯¯¯¯¯¯¯¯¯¯¯¯¯¯¯¯¯¯¯¯¯¯¯¯¯¯¯¯¯¯¯¯¯¯¯¯¯¯¯¯¯¯¯¯¯¯¯¯¯¯¯¯||\n",
      "|| dense_25 (Dense)           (None, 128, 768)     294912      []                               ||\n",
      "||                                                                                              ||\n",
      "|| dropout_7 (Dropout)        (None, 128, 768)     0           []                               ||\n",
      "||                                                                                              ||\n",
      "|| dense_26 (Dense)           (None, 128, 384)     294912      []                               ||\n",
      "|¯¯¯¯¯¯¯¯¯¯¯¯¯¯¯¯¯¯¯¯¯¯¯¯¯¯¯¯¯¯¯¯¯¯¯¯¯¯¯¯¯¯¯¯¯¯¯¯¯¯¯¯¯¯¯¯¯¯¯¯¯¯¯¯¯¯¯¯¯¯¯¯¯¯¯¯¯¯¯¯¯¯¯¯¯¯¯¯¯¯¯¯¯¯¯¯|\n",
      "| dense_27 (Dense)             multiple             98304       []                               |\n",
      "¯¯¯¯¯¯¯¯¯¯¯¯¯¯¯¯¯¯¯¯¯¯¯¯¯¯¯¯¯¯¯¯¯¯¯¯¯¯¯¯¯¯¯¯¯¯¯¯¯¯¯¯¯¯¯¯¯¯¯¯¯¯¯¯¯¯¯¯¯¯¯¯¯¯¯¯¯¯¯¯¯¯¯¯¯¯¯¯¯¯¯¯¯¯¯¯¯¯\n",
      " phrase (InputLayer)            [(None, 32)]         0           []                               \n",
      "                                                                                                  \n",
      " decoder (Decoder)              (None, 32, 256)      1362944     ['encoder[0][0]',                \n",
      "                                                                  'phrase[0][0]',                 \n",
      "                                                                  'frames[0][0]']                 \n",
      "|¯¯¯¯¯¯¯¯¯¯¯¯¯¯¯¯¯¯¯¯¯¯¯¯¯¯¯¯¯¯¯¯¯¯¯¯¯¯¯¯¯¯¯¯¯¯¯¯¯¯¯¯¯¯¯¯¯¯¯¯¯¯¯¯¯¯¯¯¯¯¯¯¯¯¯¯¯¯¯¯¯¯¯¯¯¯¯¯¯¯¯¯¯¯¯¯|\n",
      "| embedding (Embedding)        multiple             15872       []                               |\n",
      "|                                                                                                |\n",
      "| multi_head_attention (MultiHea  multiple          131072      []                               |\n",
      "| dAttention)                                                                                    |\n",
      "|                                                                                                |\n",
      "| layer_normalization (LayerNorm  multiple          512         []                               |\n",
      "| alization)                                                                                     |\n",
      "|                                                                                                |\n",
      "| layer_normalization_1 (LayerNo  multiple          512         []                               |\n",
      "| rmalization)                                                                                   |\n",
      "|                                                                                                |\n",
      "| layer_normalization_3 (LayerNo  multiple          512         []                               |\n",
      "| rmalization)                                                                                   |\n",
      "|                                                                                                |\n",
      "| layer_normalization_5 (LayerNo  multiple          512         []                               |\n",
      "| rmalization)                                                                                   |\n",
      "|                                                                                                |\n",
      "| multi_head_attention_1 (MultiH  multiple          131072      []                               |\n",
      "| eadAttention)                                                                                  |\n",
      "|                                                                                                |\n",
      "| multi_head_attention_2 (MultiH  multiple          131072      []                               |\n",
      "| eadAttention)                                                                                  |\n",
      "|                                                                                                |\n",
      "| multi_head_attention_3 (MultiH  multiple          131072      []                               |\n",
      "| eadAttention)                                                                                  |\n",
      "|                                                                                                |\n",
      "| layer_normalization_2 (LayerNo  multiple          512         []                               |\n",
      "| rmalization)                                                                                   |\n",
      "|                                                                                                |\n",
      "| layer_normalization_4 (LayerNo  multiple          512         []                               |\n",
      "| rmalization)                                                                                   |\n",
      "|                                                                                                |\n",
      "| layer_normalization_6 (LayerNo  multiple          512         []                               |\n",
      "| rmalization)                                                                                   |\n",
      "|                                                                                                |\n",
      "| sequential_8 (Sequential)    (None, 128, 256)     262144      []                               |\n",
      "||¯¯¯¯¯¯¯¯¯¯¯¯¯¯¯¯¯¯¯¯¯¯¯¯¯¯¯¯¯¯¯¯¯¯¯¯¯¯¯¯¯¯¯¯¯¯¯¯¯¯¯¯¯¯¯¯¯¯¯¯¯¯¯¯¯¯¯¯¯¯¯¯¯¯¯¯¯¯¯¯¯¯¯¯¯¯¯¯¯¯¯¯¯¯||\n",
      "|| dense_8 (Dense)            (None, 128, 512)     131072      []                               ||\n",
      "||                                                                                              ||\n",
      "|| dropout_2 (Dropout)        (None, 128, 512)     0           []                               ||\n",
      "||                                                                                              ||\n",
      "|| dense_9 (Dense)            (None, 128, 256)     131072      []                               ||\n",
      "|¯¯¯¯¯¯¯¯¯¯¯¯¯¯¯¯¯¯¯¯¯¯¯¯¯¯¯¯¯¯¯¯¯¯¯¯¯¯¯¯¯¯¯¯¯¯¯¯¯¯¯¯¯¯¯¯¯¯¯¯¯¯¯¯¯¯¯¯¯¯¯¯¯¯¯¯¯¯¯¯¯¯¯¯¯¯¯¯¯¯¯¯¯¯¯¯|\n",
      "| sequential_13 (Sequential)   (None, 128, 256)     262144      []                               |\n",
      "||¯¯¯¯¯¯¯¯¯¯¯¯¯¯¯¯¯¯¯¯¯¯¯¯¯¯¯¯¯¯¯¯¯¯¯¯¯¯¯¯¯¯¯¯¯¯¯¯¯¯¯¯¯¯¯¯¯¯¯¯¯¯¯¯¯¯¯¯¯¯¯¯¯¯¯¯¯¯¯¯¯¯¯¯¯¯¯¯¯¯¯¯¯¯||\n",
      "|| dense_14 (Dense)           (None, 128, 512)     131072      []                               ||\n",
      "||                                                                                              ||\n",
      "|| dropout_4 (Dropout)        (None, 128, 512)     0           []                               ||\n",
      "||                                                                                              ||\n",
      "|| dense_15 (Dense)           (None, 128, 256)     131072      []                               ||\n",
      "|¯¯¯¯¯¯¯¯¯¯¯¯¯¯¯¯¯¯¯¯¯¯¯¯¯¯¯¯¯¯¯¯¯¯¯¯¯¯¯¯¯¯¯¯¯¯¯¯¯¯¯¯¯¯¯¯¯¯¯¯¯¯¯¯¯¯¯¯¯¯¯¯¯¯¯¯¯¯¯¯¯¯¯¯¯¯¯¯¯¯¯¯¯¯¯¯|\n",
      "| sequential_18 (Sequential)   (None, 128, 256)     262144      []                               |\n",
      "||¯¯¯¯¯¯¯¯¯¯¯¯¯¯¯¯¯¯¯¯¯¯¯¯¯¯¯¯¯¯¯¯¯¯¯¯¯¯¯¯¯¯¯¯¯¯¯¯¯¯¯¯¯¯¯¯¯¯¯¯¯¯¯¯¯¯¯¯¯¯¯¯¯¯¯¯¯¯¯¯¯¯¯¯¯¯¯¯¯¯¯¯¯¯||\n",
      "|| dense_20 (Dense)           (None, 128, 512)     131072      []                               ||\n",
      "||                                                                                              ||\n",
      "|| dropout_6 (Dropout)        (None, 128, 512)     0           []                               ||\n",
      "||                                                                                              ||\n",
      "|| dense_21 (Dense)           (None, 128, 256)     131072      []                               ||\n",
      "|¯¯¯¯¯¯¯¯¯¯¯¯¯¯¯¯¯¯¯¯¯¯¯¯¯¯¯¯¯¯¯¯¯¯¯¯¯¯¯¯¯¯¯¯¯¯¯¯¯¯¯¯¯¯¯¯¯¯¯¯¯¯¯¯¯¯¯¯¯¯¯¯¯¯¯¯¯¯¯¯¯¯¯¯¯¯¯¯¯¯¯¯¯¯¯¯|\n",
      "¯¯¯¯¯¯¯¯¯¯¯¯¯¯¯¯¯¯¯¯¯¯¯¯¯¯¯¯¯¯¯¯¯¯¯¯¯¯¯¯¯¯¯¯¯¯¯¯¯¯¯¯¯¯¯¯¯¯¯¯¯¯¯¯¯¯¯¯¯¯¯¯¯¯¯¯¯¯¯¯¯¯¯¯¯¯¯¯¯¯¯¯¯¯¯¯¯¯\n",
      " classifier (Sequential)        (None, 32, 62)       15872       ['decoder[0][0]']                \n",
      "|¯¯¯¯¯¯¯¯¯¯¯¯¯¯¯¯¯¯¯¯¯¯¯¯¯¯¯¯¯¯¯¯¯¯¯¯¯¯¯¯¯¯¯¯¯¯¯¯¯¯¯¯¯¯¯¯¯¯¯¯¯¯¯¯¯¯¯¯¯¯¯¯¯¯¯¯¯¯¯¯¯¯¯¯¯¯¯¯¯¯¯¯¯¯¯¯|\n",
      "| dropout (Dropout)            (None, 32, 256)      0           []                               |\n",
      "|                                                                                                |\n",
      "| dense (Dense)                (None, 32, 62)       15872       []                               |\n",
      "¯¯¯¯¯¯¯¯¯¯¯¯¯¯¯¯¯¯¯¯¯¯¯¯¯¯¯¯¯¯¯¯¯¯¯¯¯¯¯¯¯¯¯¯¯¯¯¯¯¯¯¯¯¯¯¯¯¯¯¯¯¯¯¯¯¯¯¯¯¯¯¯¯¯¯¯¯¯¯¯¯¯¯¯¯¯¯¯¯¯¯¯¯¯¯¯¯¯\n",
      "==================================================================================================\n",
      "Total params: 5,282,176\n",
      "Trainable params: 5,282,176\n",
      "Non-trainable params: 0\n",
      "__________________________________________________________________________________________________\n"
     ]
    }
   ],
   "source": [
    "# Plot model summary\n",
    "model.summary(expand_nested=True)"
   ]
  },
  {
   "cell_type": "code",
   "execution_count": 50,
   "id": "53f3bb5d",
   "metadata": {
    "execution": {
     "iopub.execute_input": "2023-07-31T07:20:55.553286Z",
     "iopub.status.busy": "2023-07-31T07:20:55.552938Z",
     "iopub.status.idle": "2023-07-31T07:20:56.175201Z",
     "shell.execute_reply": "2023-07-31T07:20:56.174231Z"
    },
    "papermill": {
     "duration": 0.692465,
     "end_time": "2023-07-31T07:20:56.192055",
     "exception": false,
     "start_time": "2023-07-31T07:20:55.499590",
     "status": "completed"
    },
    "tags": []
   },
   "outputs": [
    {
     "data": {
      "image/png": "[encoded data removed]",
      "text/plain": [
       "<IPython.core.display.Image object>"
      ]
     },
     "execution_count": 50,
     "metadata": {},
     "output_type": "execute_result"
    }
   ],
   "source": [
    "# Plot Model Architecture\n",
    "tf.keras.utils.plot_model(model, show_shapes=True, show_dtype=True, show_layer_names=True, expand_nested=True, show_layer_activations=True)"
   ]
  },
  {
   "cell_type": "markdown",
   "id": "86913322",
   "metadata": {
    "papermill": {
     "duration": 0.075591,
     "end_time": "2023-07-31T07:20:56.344118",
     "exception": false,
     "start_time": "2023-07-31T07:20:56.268527",
     "status": "completed"
    },
    "tags": []
   },
   "source": [
    "# Verify Training Flag\n",
    "\n",
    "Comprobamos ahora si funciona correctamente:\n",
    "\n",
    "En el primer assert se obtienen las predicciones del modelo utilizando el conjunto de datos de entrada `X_batch_small` con el indicador `training=False`. Esto significa que se está realizando una inferencia estática, donde el modelo no se actualizará ni cambiará durante este proceso. Las predicciones se almacenan en la variable `pred`.\n",
    "\n",
    "Luego, se realiza un bucle `for` diez veces para verificar si las predicciones son consistentes en múltiples ejecuciones de inferencia. Se hace esto comparando las predicciones originales con nuevas predicciones obtenidas utilizando nuevamente el conjunto de datos de entrada `X_batch_small` y el indicador de entrenamiento en `training=False`. Para esta comparación, se utiliza la función `tf.cast` para asegurarse de que las predicciones sean de tipo int8 (enteros de 8 bits) y luego se reduce el tensor resultante utilizando `tf.reduce_min`.\n",
    "\n",
    "La función `tf.reduce_min` se utiliza para encontrar el valor mínimo en el tensor resultante, que debe ser igual a 1. Esto significa que todas las predicciones originales y las nuevas predicciones deben ser idénticas, lo que indica que el modelo produce resultados estáticos coherentes durante la inferencia.\n",
    "\n",
    "En el segundo assert, nuevamente se obtienen las predicciones utilizando el conjunto de datos de entrada `X_batch_small`, pero esta vez con el indicador `training=True`. Esto simula el proceso de entrenamiento, donde el modelo utiliza la técnica de dropout para reducir el sobreajuste y mejorar la generalización. El dropout consiste en desactivar aleatoriamente algunas neuronas durante el entrenamiento para evitar que el modelo se vuelva demasiado dependiente de ciertas características específicas de los datos de entrenamiento.\n",
    "\n",
    "Luego, se realiza un bucle `for` diez veces para verificar si las predicciones varían significativamente en múltiples ejecuciones durante el entrenamiento. Para ello, se compara el tensor de predicciones originales (calculado en el paso 1) con nuevas predicciones obtenidas con el conjunto de datos `X_batch_small` y el indicador de entrenamiento en `True`. Se utiliza la función `tf.cast` para asegurarse de que las predicciones sean de tipo float32 (números de punto flotante) y luego se calcula la media utilizando `tf.reduce_mean`.\n",
    "\n",
    "Se espera que el valor medio resultante sea mayor que 0.99, lo que significa que al menos el 99% de las predicciones en cada ejecución durante el entrenamiento son diferentes entre sí debido al dropout aplicado. Esto es una indicación de que el modelo está utilizando diferentes subconjuntos de neuronas en diferentes ejecuciones, lo que es deseable para mejorar la generalización y reducir el sobreajuste."
   ]
  },
  {
   "cell_type": "code",
   "execution_count": 51,
   "id": "a5d9af9c",
   "metadata": {
    "execution": {
     "iopub.execute_input": "2023-07-31T07:20:56.499260Z",
     "iopub.status.busy": "2023-07-31T07:20:56.498840Z",
     "iopub.status.idle": "2023-07-31T07:20:56.505010Z",
     "shell.execute_reply": "2023-07-31T07:20:56.504185Z"
    },
    "papermill": {
     "duration": 0.088122,
     "end_time": "2023-07-31T07:20:56.509784",
     "exception": false,
     "start_time": "2023-07-31T07:20:56.421662",
     "status": "completed"
    },
    "tags": []
   },
   "outputs": [
    {
     "name": "stdout",
     "output_type": "stream",
     "text": [
      "(32, 128, 164)\n",
      "(32, 32)\n"
     ]
    }
   ],
   "source": [
    "print(X_batch_small['frames'].shape)\n",
    "print(X_batch_small['phrase'].shape)"
   ]
  },
  {
   "cell_type": "code",
   "execution_count": 52,
   "id": "823d0e41",
   "metadata": {
    "execution": {
     "iopub.execute_input": "2023-07-31T07:20:56.667571Z",
     "iopub.status.busy": "2023-07-31T07:20:56.667183Z",
     "iopub.status.idle": "2023-07-31T07:21:00.357682Z",
     "shell.execute_reply": "2023-07-31T07:21:00.355673Z"
    },
    "papermill": {
     "duration": 3.771427,
     "end_time": "2023-07-31T07:21:00.359764",
     "exception": false,
     "start_time": "2023-07-31T07:20:56.588337",
     "status": "completed"
    },
    "tags": []
   },
   "outputs": [
    {
     "data": {
      "application/vnd.jupyter.widget-view+json": {
       "model_id": "76b36eacfd884663be64e8609b629a1d",
       "version_major": 2,
       "version_minor": 0
      },
      "text/plain": [
       "  0%|          | 0/10 [00:00<?, ?it/s]"
      ]
     },
     "metadata": {},
     "output_type": "display_data"
    },
    {
     "data": {
      "application/vnd.jupyter.widget-view+json": {
       "model_id": "a0129c424a3d4247b6b74111f70825a5",
       "version_major": 2,
       "version_minor": 0
      },
      "text/plain": [
       "  0%|          | 0/10 [00:00<?, ?it/s]"
      ]
     },
     "metadata": {},
     "output_type": "display_data"
    }
   ],
   "source": [
    "def verify_correct_training_flag():\n",
    "    # Verify static output for inference\n",
    "    pred = model(X_batch_small, training=False)\n",
    "    for _ in tqdm(range(10)):\n",
    "        assert tf.reduce_min(tf.cast(pred == model(X_batch_small, training=False), tf.int8)) == 1\n",
    "\n",
    "    # Verify at least 99% varying output due to dropout during training\n",
    "    for _ in tqdm(range(10)):\n",
    "        assert tf.reduce_mean(tf.cast(pred != model(X_batch_small, training=True), tf.float32)) > 0.99\n",
    "        \n",
    "verify_correct_training_flag()"
   ]
  },
  {
   "cell_type": "markdown",
   "id": "3dbe42ca",
   "metadata": {
    "papermill": {
     "duration": 0.054305,
     "end_time": "2023-07-31T07:21:00.468972",
     "exception": false,
     "start_time": "2023-07-31T07:21:00.414667",
     "status": "completed"
    },
    "tags": []
   },
   "source": [
    "# Verify No NaN Predictions\n",
    "\n",
    "Comprobamos ahora si hay valores NaN en las predicciones realizadas por el modelo.\n",
    "\n",
    "El código comienza utilizando el método \"predict\" del modelo para obtener las predicciones del conjunto de datos de entrenamiento (\"train_dataset\"), ya que no se está utilizando el conjunto de validación. Se especifica la cantidad de pasos a realizar utilizando el parámetro `steps`, que se establece en `N_VAL_STEPS_PER_EPOCH` si se utiliza el conjunto de validación o en 100 si no se utiliza el conjunto de validación (usamos por tanto 100). El parámetro \"verbose\" se establece en 1.\n",
    "\n",
    "Una vez que se obtienen las predicciones, el código cuenta cuántos valores NaN hay en el resultado utilizando la función `np.isnan(y_pred).sum()`. Si el resultado de esta cuenta es mayor que cero, significa que hay valores NaN en las predicciones.\n",
    "\n",
    "Luego, el código muestra un histograma de las predicciones para visualizar la distribución de los logits. En este contexto, los logits son los valores de salida de una red neuronal antes de aplicar una función de activación, como la función softmax. Los logits representan las puntuaciones o puntajes asociados a cada clase en un problema de clasificación.\n",
    "\n",
    "Por ejemplo, supongamos que tienes un problema de clasificación con tres clases: \"perro\", \"gato\" y \"pájaro\". Después de entrenar una red neuronal, esta producirá un conjunto de valores numéricos como resultado para una entrada dada, que corresponderán a los logits para cada clase. Por ejemplo, podrías obtener [2.5, 1.8, 0.1] como logits para una imagen dada. Estos valores representan las puntuaciones o niveles de confianza que la red asigna a cada clase. En este caso, la red está más segura de que la imagen es un \"perro\" porque el valor más alto es 2.5, seguido de \"gato\" con 1.8 y \"pájaro\" con 0.1.\n",
    "\n",
    "Después de obtener los logits, generalmente aplicamos una función de activación, como la función softmax, para convertir estos valores en probabilidades, de modo que sumen 1 y podamos interpretarlos como las probabilidades de que la entrada pertenezca a cada clase. En este ejemplo, después de aplicar la función softmax, podríamos obtener [0.64, 0.29, 0.07], lo que indica que la red tiene una probabilidad del 64% de que la imagen sea un \"perro\", del 29% de que sea un \"gato\" y del 7% de que sea un \"pájaro\".\n",
    "\n",
    "Esto es útil para comprender cómo se distribuyen las predicciones y si hay valores extremadamente altos o bajos que podrían indicar un problema."
   ]
  },
  {
   "cell_type": "code",
   "execution_count": 53,
   "id": "478534a3",
   "metadata": {
    "execution": {
     "iopub.execute_input": "2023-07-31T07:21:00.577402Z",
     "iopub.status.busy": "2023-07-31T07:21:00.577013Z",
     "iopub.status.idle": "2023-07-31T07:21:08.669491Z",
     "shell.execute_reply": "2023-07-31T07:21:08.668519Z"
    },
    "papermill": {
     "duration": 8.149201,
     "end_time": "2023-07-31T07:21:08.671919",
     "exception": false,
     "start_time": "2023-07-31T07:21:00.522718",
     "status": "completed"
    },
    "tags": []
   },
   "outputs": [
    {
     "name": "stdout",
     "output_type": "stream",
     "text": [
      "100/100 - 7s - 7s/epoch - 67ms/step\n",
      "# NaN Values In Predictions: 0\n"
     ]
    },
    {
     "data": {
      "image/png": "[encoded data removed]",
      "text/plain": [
       "<Figure size 1500x800 with 1 Axes>"
      ]
     },
     "metadata": {},
     "output_type": "display_data"
    }
   ],
   "source": [
    "# Verify No NaN predictions\n",
    "def verify_no_nan_predictions():\n",
    "    y_pred = model.predict(\n",
    "        val_dataset if USE_VAL else train_dataset,\n",
    "        steps=N_VAL_STEPS_PER_EPOCH if USE_VAL else 100,\n",
    "        verbose=VERBOSE,\n",
    "    )\n",
    "\n",
    "    print(f'# NaN Values In Predictions: {np.isnan(y_pred).sum()}')\n",
    "    \n",
    "    plt.figure(figsize=(15,8))\n",
    "    plt.title(f'Logit Predictions Initialized Model')\n",
    "    pd.Series(y_pred.flatten()).plot(kind='hist', bins=128)\n",
    "    plt.xlabel('Logits')\n",
    "    plt.grid()\n",
    "    plt.show()\n",
    "    \n",
    "verify_no_nan_predictions()"
   ]
  },
  {
   "cell_type": "markdown",
   "id": "f00ec0f4",
   "metadata": {
    "papermill": {
     "duration": 0.05492,
     "end_time": "2023-07-31T07:21:08.782366",
     "exception": false,
     "start_time": "2023-07-31T07:21:08.727446",
     "status": "completed"
    },
    "tags": []
   },
   "source": [
    "# Learning Rate Scheduler\n",
    "\n",
    "Ahora, definimos la función llamada `lrfn`, que utilizaremos para calcular el learning rate durante el entrenamiento del modelo.\n",
    "\n",
    "La función `lrfn` toma varios argumentos:\n",
    "\n",
    "- `current_step`: El paso de entrenamiento actual, que indica cuántos pasos se han completado hasta ahora en el entrenamiento del modelo.\n",
    "- `num_warmup_steps`: El número de pasos de entrenamiento que se utilizan para el calentamiento (`warm-up`) del `learning rate`. Durante el calentamiento, el `learning rate` aumenta gradualmente desde un valor muy pequeño hasta su valor máximo.\n",
    "- `lr_max`: El valor máximo que puede tomar el `learning rate` durante el entrenamiento. Después del calentamiento, el `learning rate` oscilará entre 0 y este valor máximo.\n",
    "- `num_cycles`: El número de ciclos completos de oscilación del `learning rate`. Un ciclo completo significa que el `learning rate` va desde su valor máximo hasta 0 y luego regresa a su valor máximo. Un valor de 0.50 indica que habrá medio ciclo completo.\n",
    "- `num_training_steps`: El número total de pasos de entrenamiento que se llevarán a cabo durante todo el entrenamiento del modelo.\n",
    "\n",
    "El objetivo principal de la función `lrfn` es calcular el `learning rate` para cada paso de entrenamiento. Ello se divide en dos partes:\n",
    "\n",
    "1. Calentamiento del `Learning Rate`: Si el paso de entrenamiento actual es menor que el número de pasos de calentamiento (`num_warmup_steps`), entonces el `learning rate` aumentará gradualmente desde un valor muy pequeño hacia su valor máximo. Se utilizan dos métodos posibles de calentamiento: logarítmico (`'log'`) o exponencial (`2 ** -`). Esto permite que el modelo se adapte de manera más suave a los datos al comienzo del entrenamiento.\n",
    "2. Oscilación del `Learning Rate`: Después de los pasos de calentamiento, el `learning rate` oscilará entre 0 y su valor máximo (`lr_max`). La forma de esta oscilación sigue una función coseno modificada, que va desde 0 a 1 y luego vuelve a 0 a medida que avanzan los ciclos."
   ]
  },
  {
   "cell_type": "code",
   "execution_count": 54,
   "id": "ab49011a",
   "metadata": {
    "execution": {
     "iopub.execute_input": "2023-07-31T07:21:08.893350Z",
     "iopub.status.busy": "2023-07-31T07:21:08.892985Z",
     "iopub.status.idle": "2023-07-31T07:21:08.900098Z",
     "shell.execute_reply": "2023-07-31T07:21:08.899082Z"
    },
    "papermill": {
     "duration": 0.065118,
     "end_time": "2023-07-31T07:21:08.902244",
     "exception": false,
     "start_time": "2023-07-31T07:21:08.837126",
     "status": "completed"
    },
    "tags": []
   },
   "outputs": [],
   "source": [
    "def lrfn(current_step, num_warmup_steps, lr_max, num_cycles=0.50, num_training_steps=N_EPOCHS):\n",
    "    \n",
    "    if current_step < num_warmup_steps:\n",
    "        if WARMUP_METHOD == 'log':\n",
    "            return lr_max * 0.10 ** (num_warmup_steps - current_step)\n",
    "        else:\n",
    "            return lr_max * 2 ** -(num_warmup_steps - current_step)\n",
    "    else:\n",
    "        progress = float(current_step - num_warmup_steps) / float(max(1, num_training_steps - num_warmup_steps))\n",
    "\n",
    "        return max(0.0, 0.5 * (1.0 + math.cos(math.pi * float(num_cycles) * 2.0 * progress))) * lr_max"
   ]
  },
  {
   "cell_type": "markdown",
   "id": "b2050493",
   "metadata": {
    "papermill": {
     "duration": 0.054402,
     "end_time": "2023-07-31T07:21:09.011837",
     "exception": false,
     "start_time": "2023-07-31T07:21:08.957435",
     "status": "completed"
    },
    "tags": []
   },
   "source": [
    "Ahora, se define una función `plot_lr_schedule` que se utilizará para visualizarla tasa de aprendizaje. La función recibe dos argumentos:\n",
    "- `lr_schedule`: Una lista que contiene los valores de la tasa de aprendizaje para cada paso de entrenamiento (`epoch`).\n",
    "- `epochs`: El número total de `epochs` de entrenamiento.\n",
    "\n",
    "- Se traza una línea para el learning rate programado (`lr_schedule`). Se agrega un valor None al inicio y al final para evitar que la línea llegue hasta los bordes del gráfico.\n",
    "- Se trazan puntos en el gráfico para cada learning rate en lr_schedule. Dependiendo del número total de `epochs`, se muestran solo algunos puntos para evitar que el gráfico se vuelva demasiado denso. Los puntos se etiquetan con los valores del learning rate.\n",
    "\n",
    "Luego, se crea una lista llamada `LR_SCHEDULE` utilizando la función `lrfn` que calcula el learning rate para cada step en el número de épocas, que en este caso es 20, y dibujamos el gafico viendo el learning rate de cada época. \n",
    "\n",
    "Finalmente, se crea un callback de Keras llamado `lr_callback`, que se utilizará durante el entrenamiento del modelo. Este callback ajustará automáticamente la tasa de aprendizaje en cada `epoch` de entrenamiento utilizando la función lambda `step: LR_SCHEDULE[step]`. El valor de la tasa de aprendizaje para cada `epoch` se obtendrá de la lista `LR_SCHEDULE` que se creó anteriormente."
   ]
  },
  {
   "cell_type": "code",
   "execution_count": 55,
   "id": "3c5959c0",
   "metadata": {
    "execution": {
     "iopub.execute_input": "2023-07-31T07:21:09.123072Z",
     "iopub.status.busy": "2023-07-31T07:21:09.122715Z",
     "iopub.status.idle": "2023-07-31T07:21:09.128161Z",
     "shell.execute_reply": "2023-07-31T07:21:09.127093Z"
    },
    "papermill": {
     "duration": 0.065354,
     "end_time": "2023-07-31T07:21:09.131923",
     "exception": false,
     "start_time": "2023-07-31T07:21:09.066569",
     "status": "completed"
    },
    "tags": []
   },
   "outputs": [
    {
     "name": "stdout",
     "output_type": "stream",
     "text": [
      "N_EPOCHS: 100\n",
      "N_WARMUP_EPOCHS: 10\n"
     ]
    }
   ],
   "source": [
    "print(f'N_EPOCHS: {N_EPOCHS}')\n",
    "print(f'N_WARMUP_EPOCHS: {N_WARMUP_EPOCHS}')"
   ]
  },
  {
   "cell_type": "code",
   "execution_count": 56,
   "id": "61e810b8",
   "metadata": {
    "execution": {
     "iopub.execute_input": "2023-07-31T07:21:09.243106Z",
     "iopub.status.busy": "2023-07-31T07:21:09.242740Z",
     "iopub.status.idle": "2023-07-31T07:21:10.057956Z",
     "shell.execute_reply": "2023-07-31T07:21:10.056580Z"
    },
    "papermill": {
     "duration": 0.87389,
     "end_time": "2023-07-31T07:21:10.060633",
     "exception": false,
     "start_time": "2023-07-31T07:21:09.186743",
     "status": "completed"
    },
    "tags": []
   },
   "outputs": [
    {
     "data": {
      "image/png": "[encoded data removed]",
      "text/plain": [
       "<Figure size 2000x1000 with 1 Axes>"
      ]
     },
     "metadata": {},
     "output_type": "display_data"
    }
   ],
   "source": [
    "def plot_lr_schedule(lr_schedule, epochs):\n",
    "    fig = plt.figure(figsize=(20, 10))\n",
    "    plt.plot([None] + lr_schedule + [None])\n",
    "    # X Labels\n",
    "    x = np.arange(1, epochs + 1)\n",
    "    x_axis_labels = [i if epochs <= 40 or i % 5 == 0 or i == 1 else None for i in range(1, epochs + 1)]\n",
    "    plt.xlim([1, epochs])\n",
    "    plt.xticks(x, x_axis_labels) # set tick step to 1 and let x axis start at 1\n",
    "    \n",
    "    # Increase y-limit for better readability\n",
    "    plt.ylim([0, max(lr_schedule) * 1.1])\n",
    "    \n",
    "    # Title\n",
    "    schedule_info = f'start: {lr_schedule[0]:.1E}, max: {max(lr_schedule):.1E}, final: {lr_schedule[-1]:.1E}'\n",
    "    plt.title(f'Step Learning Rate Schedule, {schedule_info}', size=18, pad=12)\n",
    "    \n",
    "    # Plot Learning Rates\n",
    "    for x, val in enumerate(lr_schedule):\n",
    "        if epochs <= 40 or x % 5 == 0 or x is epochs - 1:\n",
    "            if x < len(lr_schedule) - 1:\n",
    "                if lr_schedule[x - 1] < val:\n",
    "                    ha = 'right'\n",
    "                else:\n",
    "                    ha = 'left'\n",
    "            elif x == 0:\n",
    "                ha = 'right'\n",
    "            else:\n",
    "                ha = 'left'\n",
    "            plt.plot(x + 1, val, 'o', color='black');\n",
    "            offset_y = (max(lr_schedule) - min(lr_schedule)) * 0.02\n",
    "            plt.annotate(f'{val:.1E}', xy=(x + 1, val + offset_y), size=12, ha=ha)\n",
    "    \n",
    "    plt.xlabel('Epoch', size=16, labelpad=5)\n",
    "    plt.ylabel('Learning Rate', size=16, labelpad=5)\n",
    "    plt.grid()\n",
    "    plt.show()\n",
    "\n",
    "# Learning rate for encoder\n",
    "LR_SCHEDULE = [lrfn(step, num_warmup_steps=N_WARMUP_EPOCHS, lr_max=LR_MAX, num_cycles=0.50) for step in range(N_EPOCHS)]\n",
    "# Plot Learning Rate Schedule\n",
    "plot_lr_schedule(LR_SCHEDULE, epochs=N_EPOCHS)\n",
    "# Learning Rate Callback\n",
    "lr_callback = tf.keras.callbacks.LearningRateScheduler(lambda step: LR_SCHEDULE[step], verbose=0)"
   ]
  },
  {
   "cell_type": "markdown",
   "id": "061e0d12",
   "metadata": {
    "papermill": {
     "duration": 0.064423,
     "end_time": "2023-07-31T07:21:10.193193",
     "exception": false,
     "start_time": "2023-07-31T07:21:10.128770",
     "status": "completed"
    },
    "tags": []
   },
   "source": [
    "# Weight Decay Callback"
   ]
  },
  {
   "cell_type": "markdown",
   "id": "80a12b3b",
   "metadata": {
    "papermill": {
     "duration": 0.064665,
     "end_time": "2023-07-31T07:21:10.322875",
     "exception": false,
     "start_time": "2023-07-31T07:21:10.258210",
     "status": "completed"
    },
    "tags": []
   },
   "source": [
    "\n",
    "Este fragmento de código define una clase de callback personalizado llamado WeightDecayCallback, que se utilizará durante el entrenamiento del modelo para actualizar el término de \"weight decay\" (decaimiento de peso) en el optimizador en función de la tasa de aprendizaje.\n",
    "\n",
    "El weight decay, también conocido como \"L2 regularization\", es una técnica utilizada en el entrenamiento de modelos de aprendizaje automático para prevenir el sobreajuste (overfitting) y mejorar la generalización del modelo.\n",
    "\n",
    "En términos simples, el weight decay consiste en agregar un término de penalización a la función de pérdida del modelo que está relacionado con los valores de los pesos del modelo. Este término de penalización es proporcional al cuadrado de los valores de los pesos y se agrega a la función de pérdida durante el proceso de optimización.\n",
    "\n",
    "El objetivo del weight decay es penalizar los pesos grandes del modelo, lo que significa que el modelo tiene menos probabilidad de ajustar sus pesos a valores extremadamente grandes que podrían causar sobreajuste. Al penalizar los pesos grandes, el modelo se ve incentivado a utilizar pesos más pequeños, lo que puede mejorar la generalización y evitar que el modelo memorice los datos de entrenamiento en lugar de aprender patrones generales.\n",
    "\n",
    "El callback WeightDecayCallback tiene un constructor __init__ que toma un parámetro opcional wd_ratio, que representa la proporción de weight decay respecto a la tasa de aprendizaje (por defecto es igual a WD_RATIO).\n",
    "\n",
    "El callback tiene un método on_epoch_begin, que se ejecuta al comienzo de cada época durante el entrenamiento del modelo. En este método, se actualiza el weight decay en el optimizador multiplicando la tasa de aprendizaje actual del modelo por el valor del wd_ratio. Esto permite que el weight decay se ajuste automáticamente en función del learning rate, lo que puede ayudar a mejorar la regularización del modelo y prevenir el sobreajuste.\n",
    "\n",
    "Además, el método on_epoch_begin imprime en pantalla el valor actual de la tasa de aprendizaje y el weight decay, lo que proporciona información útil durante el entrenamiento para monitorear cómo estos valores están cambiando a lo largo de las épocas."
   ]
  },
  {
   "cell_type": "code",
   "execution_count": 57,
   "id": "f00f1b26",
   "metadata": {
    "execution": {
     "iopub.execute_input": "2023-07-31T07:21:10.457401Z",
     "iopub.status.busy": "2023-07-31T07:21:10.457027Z",
     "iopub.status.idle": "2023-07-31T07:21:10.465553Z",
     "shell.execute_reply": "2023-07-31T07:21:10.464602Z"
    },
    "papermill": {
     "duration": 0.080508,
     "end_time": "2023-07-31T07:21:10.467823",
     "exception": false,
     "start_time": "2023-07-31T07:21:10.387315",
     "status": "completed"
    },
    "tags": []
   },
   "outputs": [],
   "source": [
    "# Custom callback to update weight decay with learning rate\n",
    "class WeightDecayCallback(tf.keras.callbacks.Callback):\n",
    "    def __init__(self, wd_ratio=WD_RATIO):\n",
    "        self.step_counter = 0\n",
    "        self.wd_ratio = wd_ratio\n",
    "    \n",
    "    def on_epoch_begin(self, epoch, logs=None):\n",
    "        model.optimizer.weight_decay = model.optimizer.learning_rate * self.wd_ratio\n",
    "        print(f'learning rate: {model.optimizer.learning_rate.numpy():.2e}, weight decay: {model.optimizer.weight_decay.numpy():.2e}')"
   ]
  },
  {
   "cell_type": "markdown",
   "id": "df174a08",
   "metadata": {
    "papermill": {
     "duration": 0.063765,
     "end_time": "2023-07-31T07:21:10.595726",
     "exception": false,
     "start_time": "2023-07-31T07:21:10.531961",
     "status": "completed"
    },
    "tags": []
   },
   "source": [
    "# Evaluate Initialized Model\n",
    "\n",
    "Evaluamos ahora el modelo con el set de datos de entrenamiento"
   ]
  },
  {
   "cell_type": "code",
   "execution_count": 58,
   "id": "db0fa8a4",
   "metadata": {
    "execution": {
     "iopub.execute_input": "2023-07-31T07:21:10.724107Z",
     "iopub.status.busy": "2023-07-31T07:21:10.723699Z",
     "iopub.status.idle": "2023-07-31T07:22:34.942283Z",
     "shell.execute_reply": "2023-07-31T07:22:34.941152Z"
    },
    "papermill": {
     "duration": 84.34328,
     "end_time": "2023-07-31T07:22:35.001901",
     "exception": false,
     "start_time": "2023-07-31T07:21:10.658621",
     "status": "completed"
    },
    "tags": []
   },
   "outputs": [
    {
     "name": "stdout",
     "output_type": "stream",
     "text": [
      "969/969 - 49s - loss: 4.9259 - top1acc: 0.0194 - top5acc: 0.0863 - 49s/epoch - 51ms/step\n"
     ]
    },
    {
     "data": {
      "text/plain": [
       "[4.925861835479736, 0.01935415342450142, 0.08627739548683167]"
      ]
     },
     "execution_count": 58,
     "metadata": {},
     "output_type": "execute_result"
    }
   ],
   "source": [
    "# Evaluate Initialized Model On Validation Data\n",
    "model.evaluate(\n",
    "    val_dataset if USE_VAL else train_dataset,\n",
    "    steps=N_VAL_STEPS_PER_EPOCH if USE_VAL else TRAIN_STEPS_PER_EPOCH,\n",
    "    verbose=VERBOSE,\n",
    ")"
   ]
  },
  {
   "cell_type": "markdown",
   "id": "8f960630",
   "metadata": {
    "papermill": {
     "duration": 0.056769,
     "end_time": "2023-07-31T07:22:35.115579",
     "exception": false,
     "start_time": "2023-07-31T07:22:35.058810",
     "status": "completed"
    },
    "tags": []
   },
   "source": [
    "# Baseline\n",
    "\n",
    "Este fragmento de código calcula la \"baseline accuracy\" o precisión de referencia para el modelo cuando solo se predice el token de relleno (`PAD_TOKEN`).\n",
    "\n",
    "En este caso particular, la \"precisión de referencia\" se refiere a la precisión del modelo cuando solo se predice el token de relleno (`PAD_TOKEN`) para todas las muestras en el conjunto de datos. Esta precisión se calcula como la proporción de muestras en el conjunto de datos que contienen solo el token de relleno.\n",
    "\n",
    "Es importante calcular la \"precisión de referencia\" para tener una idea de cómo se comportaría un modelo simple o ingenuo que siempre predice el valor más común (el token de relleno). Si el modelo que estamos construyendo no supera significativamente esta precisión de referencia, indica que el modelo no está aprendiendo patrones relevantes en los datos y necesita mejorar para ser útil en la tarea que se está abordando.\n",
    "\n",
    "Si la variable `USE_VAL` es verdadera, significa que se está utilizando el conjunto de validación para calcular la precisión de referencia. En caso contrario, se utiliza el conjunto de entrenamiento.\n",
    "\n",
    "La precisión de referencia se calcula comparando las etiquetas reales (`y_val` o `y_train`) con el valor del token de relleno (`PAD_TOKEN`). El token de relleno se utiliza en secuencias para indicar posiciones vacías o sin información relevante.\n",
    "\n",
    "El cálculo de la precisión de referencia se realiza de la siguiente manera:\n",
    "\n",
    "- Si `USE_VAL=True`, se calcula la precisión de referencia utilizando el conjunto de validación: Se compara cada elemento en el conjunto de validación (`y_val`) con el valor del token de relleno (`PAD_TOKEN`).\n",
    "- Se obtiene un array booleano que indica si cada elemento es igual al token de relleno o no.\n",
    "- Se calcula la media de este array booleano para obtener la proporción de elementos que son iguales al token de relleno. Esta proporción representa la precisión de referencia en el conjunto de validación.\n",
    "- Si `USE_VAL=False`, se realiza el mismo proceso pero utilizando el conjunto de entrenamiento (y_train) en su lugar.\n",
    "\n",
    "Una precisión de referencia alta podría indicar que el modelo necesita mejorar para ser útil en la tarea que se está abordando."
   ]
  },
  {
   "cell_type": "code",
   "execution_count": 59,
   "id": "e600ffe8",
   "metadata": {
    "execution": {
     "iopub.execute_input": "2023-07-31T07:22:35.230342Z",
     "iopub.status.busy": "2023-07-31T07:22:35.229982Z",
     "iopub.status.idle": "2023-07-31T07:22:35.239781Z",
     "shell.execute_reply": "2023-07-31T07:22:35.238727Z"
    },
    "papermill": {
     "duration": 0.069728,
     "end_time": "2023-07-31T07:22:35.242160",
     "exception": false,
     "start_time": "2023-07-31T07:22:35.172432",
     "status": "completed"
    },
    "tags": []
   },
   "outputs": [
    {
     "name": "stdout",
     "output_type": "stream",
     "text": [
      "Baseline Accuracy: 0.4100\n"
     ]
    }
   ],
   "source": [
    "# baseline accuracy when only pad token is predicted\n",
    "if USE_VAL:\n",
    "    baseline_accuracy = np.mean(y_val == PAD_TOKEN)\n",
    "else:\n",
    "    baseline_accuracy = np.mean(y_train == PAD_TOKEN)\n",
    "print(f'Baseline Accuracy: {baseline_accuracy:.4f}')"
   ]
  },
  {
   "cell_type": "markdown",
   "id": "e4c8e94e",
   "metadata": {
    "papermill": {
     "duration": 0.055812,
     "end_time": "2023-07-31T07:22:35.353718",
     "exception": false,
     "start_time": "2023-07-31T07:22:35.297906",
     "status": "completed"
    },
    "tags": []
   },
   "source": [
    "# Train\n",
    "\n",
    "llamamos manualmente a gc.collect() para liberar la memoria no utilizada:"
   ]
  },
  {
   "cell_type": "code",
   "execution_count": 60,
   "id": "5d68b217",
   "metadata": {
    "execution": {
     "iopub.execute_input": "2023-07-31T07:22:35.467944Z",
     "iopub.status.busy": "2023-07-31T07:22:35.467131Z",
     "iopub.status.idle": "2023-07-31T07:22:35.748989Z",
     "shell.execute_reply": "2023-07-31T07:22:35.747934Z"
    },
    "papermill": {
     "duration": 0.342065,
     "end_time": "2023-07-31T07:22:35.751612",
     "exception": false,
     "start_time": "2023-07-31T07:22:35.409547",
     "status": "completed"
    },
    "tags": []
   },
   "outputs": [
    {
     "data": {
      "text/plain": [
       "28047"
      ]
     },
     "execution_count": 60,
     "metadata": {},
     "output_type": "execute_result"
    }
   ],
   "source": [
    "gc.collect()"
   ]
  },
  {
   "cell_type": "markdown",
   "id": "bacd92d6",
   "metadata": {
    "papermill": {
     "duration": 0.055907,
     "end_time": "2023-07-31T07:22:35.867722",
     "exception": false,
     "start_time": "2023-07-31T07:22:35.811815",
     "status": "completed"
    },
    "tags": []
   },
   "source": [
    "Procedemos ahora a entrenar el modelo usando el set de datos `train_dataset`\n",
    "\n",
    "Los pasos en el entrenamiento del modelo son los siguientes:\n",
    "\n",
    "1. Primero se limpian todos los modelos anteriores en la GPU para liberar memoria. Esto se hace usando `tf.keras.backend.clear_session()`.\n",
    "\n",
    "2. Se obtiene un nuevo modelo utilizando la función `get_model()`. Se imprime un resumen del modelo utilizando `model.summary()` para verificar que se ha creado correctamente\n",
    "\n",
    "4. Se inicia el proceso de entrenamiento del modelo utilizando el método `fit()`. En este método, se proporcionan los siguientes argumentos:\n",
    "   - `x`: los datos de entrenamiento (`train_dataset`)\n",
    "   - `steps_per_epoch`: El número de pasos que se realizarán en cada época de entrenamiento. Cada paso es una actualización de los pesos del modelo basada en un lote de muestras.\n",
    "   - `epochs`: El número total de épocas que se realizarán durante todo el entrenamiento.\n",
    "   - `validation_data`: los datos de validación (`val_dataset`). En nuestro caso `USE_VAL=False`, por lo que se establece en `None`.\n",
    "   - `validation_steps`: El número de pasos que se realizarán durante la evaluación en cada época de validación. Tampoco los utilizamos.\n",
    "   - `callbacks`: Una lista de devoluciones de llamada que se ejecutan durante el entrenamiento. En este caso, se utiliza el callback `lr_callback` para actualizar el learning rate y el callback `WeightDecayCallback()` para actualizar el peso de decaimiento (weight decay) durante el entrenamiento.\n",
    "   - `verbose`: Un valor entero que controla la cantidad de información que se muestra durante el entrenamiento. Un valor de 0 muestra nada, un valor de 1 muestra una barra de progreso, y un valor de 2 muestra una barra de progreso y el resumen de cada época."
   ]
  },
  {
   "cell_type": "code",
   "execution_count": 61,
   "id": "99292458",
   "metadata": {
    "execution": {
     "iopub.execute_input": "2023-07-31T07:22:35.982011Z",
     "iopub.status.busy": "2023-07-31T07:22:35.981673Z",
     "iopub.status.idle": "2023-07-31T07:22:35.987205Z",
     "shell.execute_reply": "2023-07-31T07:22:35.986290Z"
    },
    "papermill": {
     "duration": 0.065651,
     "end_time": "2023-07-31T07:22:35.989888",
     "exception": false,
     "start_time": "2023-07-31T07:22:35.924237",
     "status": "completed"
    },
    "tags": []
   },
   "outputs": [
    {
     "name": "stdout",
     "output_type": "stream",
     "text": [
      "TRAIN_STEPS_PER_EPOCH: 969\n",
      "N_EPOCHS: 100\n",
      "VERBOSE: 2\n"
     ]
    }
   ],
   "source": [
    "print(f'TRAIN_STEPS_PER_EPOCH: {TRAIN_STEPS_PER_EPOCH}')\n",
    "print(f'N_EPOCHS: {N_EPOCHS}')\n",
    "print(f'VERBOSE: {VERBOSE}')"
   ]
  },
  {
   "cell_type": "code",
   "execution_count": 62,
   "id": "601a2263",
   "metadata": {
    "execution": {
     "iopub.execute_input": "2023-07-31T07:22:36.103271Z",
     "iopub.status.busy": "2023-07-31T07:22:36.102981Z",
     "iopub.status.idle": "2023-07-31T11:04:05.642093Z",
     "shell.execute_reply": "2023-07-31T11:04:05.640918Z"
    },
    "papermill": {
     "duration": 13289.679869,
     "end_time": "2023-07-31T11:04:05.725693",
     "exception": false,
     "start_time": "2023-07-31T07:22:36.045824",
     "status": "completed"
    },
    "tags": []
   },
   "outputs": [
    {
     "name": "stdout",
     "output_type": "stream",
     "text": [
      "Model: \"model\"\n",
      "__________________________________________________________________________________________________\n",
      " Layer (type)                   Output Shape         Param #     Connected to                     \n",
      "==================================================================================================\n",
      " frames (InputLayer)            [(None, 128, 164)]   0           []                               \n",
      "                                                                                                  \n",
      " masking (Masking)              (None, 128, 164)     0           ['frames[0][0]']                 \n",
      "                                                                                                  \n",
      " embedding (Embedding)          (None, 128, 384)     259968      ['masking[0][0]']                \n",
      "                                                                                                  \n",
      " encoder (Encoder)              (None, 128, 256)     3643392     ['embedding[0][0]',              \n",
      "                                                                  'frames[0][0]']                 \n",
      "                                                                                                  \n",
      " phrase (InputLayer)            [(None, 32)]         0           []                               \n",
      "                                                                                                  \n",
      " decoder (Decoder)              (None, 32, 256)      1362944     ['encoder[0][0]',                \n",
      "                                                                  'phrase[0][0]',                 \n",
      "                                                                  'frames[0][0]']                 \n",
      "                                                                                                  \n",
      " classifier (Sequential)        (None, 32, 62)       15872       ['decoder[0][0]']                \n",
      "                                                                                                  \n",
      "==================================================================================================\n",
      "Total params: 5,282,176\n",
      "Trainable params: 5,282,176\n",
      "Non-trainable params: 0\n",
      "__________________________________________________________________________________________________\n",
      "\n",
      "\n",
      "\n",
      "learning rate: 9.77e-07, weight decay: 4.88e-08\n",
      "Epoch 1/100\n",
      "969/969 - 160s - loss: 4.5683 - top1acc: 0.0418 - top5acc: 0.1584 - lr: 9.7656e-07 - 160s/epoch - 165ms/step\n",
      "learning rate: 1.95e-06, weight decay: 9.77e-08\n",
      "Epoch 2/100\n",
      "969/969 - 133s - loss: 3.8600 - top1acc: 0.1146 - top5acc: 0.3461 - lr: 1.9531e-06 - 133s/epoch - 137ms/step\n",
      "learning rate: 3.91e-06, weight decay: 1.95e-07\n",
      "Epoch 3/100\n",
      "969/969 - 133s - loss: 3.5767 - top1acc: 0.1554 - top5acc: 0.4565 - lr: 3.9063e-06 - 133s/epoch - 137ms/step\n",
      "learning rate: 7.81e-06, weight decay: 3.91e-07\n",
      "Epoch 4/100\n",
      "969/969 - 133s - loss: 3.4509 - top1acc: 0.1749 - top5acc: 0.4958 - lr: 7.8125e-06 - 133s/epoch - 137ms/step\n",
      "learning rate: 1.56e-05, weight decay: 7.81e-07\n",
      "Epoch 5/100\n",
      "969/969 - 133s - loss: 3.3737 - top1acc: 0.1899 - top5acc: 0.5194 - lr: 1.5625e-05 - 133s/epoch - 138ms/step\n",
      "learning rate: 3.13e-05, weight decay: 1.56e-06\n",
      "Epoch 6/100\n",
      "969/969 - 133s - loss: 3.3128 - top1acc: 0.2032 - top5acc: 0.5407 - lr: 3.1250e-05 - 133s/epoch - 137ms/step\n",
      "learning rate: 6.25e-05, weight decay: 3.13e-06\n",
      "Epoch 7/100\n",
      "969/969 - 133s - loss: 3.2513 - top1acc: 0.2193 - top5acc: 0.5672 - lr: 6.2500e-05 - 133s/epoch - 137ms/step\n",
      "learning rate: 1.25e-04, weight decay: 6.25e-06\n",
      "Epoch 8/100\n",
      "969/969 - 133s - loss: 3.1806 - top1acc: 0.2436 - top5acc: 0.6035 - lr: 1.2500e-04 - 133s/epoch - 137ms/step\n",
      "learning rate: 2.50e-04, weight decay: 1.25e-05\n",
      "Epoch 9/100\n",
      "969/969 - 133s - loss: 3.0861 - top1acc: 0.2779 - top5acc: 0.6595 - lr: 2.5000e-04 - 133s/epoch - 137ms/step\n",
      "learning rate: 5.00e-04, weight decay: 2.50e-05\n",
      "Epoch 10/100\n",
      "969/969 - 133s - loss: 2.9968 - top1acc: 0.3124 - top5acc: 0.7033 - lr: 5.0000e-04 - 133s/epoch - 137ms/step\n",
      "learning rate: 1.00e-03, weight decay: 5.00e-05\n",
      "Epoch 11/100\n",
      "969/969 - 133s - loss: 2.7915 - top1acc: 0.4206 - top5acc: 0.7803 - lr: 0.0010 - 133s/epoch - 137ms/step\n",
      "learning rate: 1.00e-03, weight decay: 5.00e-05\n",
      "Epoch 12/100\n",
      "969/969 - 133s - loss: 2.5444 - top1acc: 0.5453 - top5acc: 0.8412 - lr: 9.9970e-04 - 133s/epoch - 137ms/step\n",
      "learning rate: 9.99e-04, weight decay: 4.99e-05\n",
      "Epoch 13/100\n",
      "969/969 - 133s - loss: 2.4041 - top1acc: 0.6146 - top5acc: 0.8662 - lr: 9.9878e-04 - 133s/epoch - 137ms/step\n",
      "learning rate: 9.97e-04, weight decay: 4.99e-05\n",
      "Epoch 14/100\n",
      "969/969 - 132s - loss: 2.3300 - top1acc: 0.6488 - top5acc: 0.8788 - lr: 9.9726e-04 - 132s/epoch - 136ms/step\n",
      "learning rate: 9.95e-04, weight decay: 4.98e-05\n",
      "Epoch 15/100\n",
      "969/969 - 132s - loss: 2.2916 - top1acc: 0.6655 - top5acc: 0.8852 - lr: 9.9513e-04 - 132s/epoch - 136ms/step\n",
      "learning rate: 9.92e-04, weight decay: 4.96e-05\n",
      "Epoch 16/100\n",
      "969/969 - 132s - loss: 2.2622 - top1acc: 0.6785 - top5acc: 0.8901 - lr: 9.9240e-04 - 132s/epoch - 136ms/step\n",
      "learning rate: 9.89e-04, weight decay: 4.95e-05\n",
      "Epoch 17/100\n",
      "969/969 - 132s - loss: 2.2355 - top1acc: 0.6907 - top5acc: 0.8954 - lr: 9.8907e-04 - 132s/epoch - 136ms/step\n",
      "learning rate: 9.85e-04, weight decay: 4.93e-05\n",
      "Epoch 18/100\n",
      "969/969 - 133s - loss: 2.2179 - top1acc: 0.6978 - top5acc: 0.8977 - lr: 9.8515e-04 - 133s/epoch - 137ms/step\n",
      "learning rate: 9.81e-04, weight decay: 4.90e-05\n",
      "Epoch 19/100\n",
      "969/969 - 133s - loss: 2.1983 - top1acc: 0.7069 - top5acc: 0.9005 - lr: 9.8063e-04 - 133s/epoch - 137ms/step\n",
      "learning rate: 9.76e-04, weight decay: 4.88e-05\n",
      "Epoch 20/100\n",
      "969/969 - 133s - loss: 2.1812 - top1acc: 0.7143 - top5acc: 0.9043 - lr: 9.7553e-04 - 133s/epoch - 137ms/step\n",
      "learning rate: 9.70e-04, weight decay: 4.85e-05\n",
      "Epoch 21/100\n",
      "969/969 - 133s - loss: 2.1678 - top1acc: 0.7204 - top5acc: 0.9058 - lr: 9.6985e-04 - 133s/epoch - 137ms/step\n",
      "learning rate: 9.64e-04, weight decay: 4.82e-05\n",
      "Epoch 22/100\n",
      "969/969 - 133s - loss: 2.1582 - top1acc: 0.7246 - top5acc: 0.9076 - lr: 9.6359e-04 - 133s/epoch - 138ms/step\n",
      "learning rate: 9.57e-04, weight decay: 4.78e-05\n",
      "Epoch 23/100\n",
      "969/969 - 133s - loss: 2.1460 - top1acc: 0.7300 - top5acc: 0.9096 - lr: 9.5677e-04 - 133s/epoch - 138ms/step\n",
      "learning rate: 9.49e-04, weight decay: 4.75e-05\n",
      "Epoch 24/100\n",
      "969/969 - 133s - loss: 2.1387 - top1acc: 0.7337 - top5acc: 0.9108 - lr: 9.4940e-04 - 133s/epoch - 137ms/step\n",
      "learning rate: 9.41e-04, weight decay: 4.71e-05\n",
      "Epoch 25/100\n",
      "969/969 - 133s - loss: 2.1251 - top1acc: 0.7393 - top5acc: 0.9133 - lr: 9.4147e-04 - 133s/epoch - 137ms/step\n",
      "learning rate: 9.33e-04, weight decay: 4.67e-05\n",
      "Epoch 26/100\n",
      "969/969 - 133s - loss: 2.1168 - top1acc: 0.7426 - top5acc: 0.9146 - lr: 9.3301e-04 - 133s/epoch - 137ms/step\n",
      "learning rate: 9.24e-04, weight decay: 4.62e-05\n",
      "Epoch 27/100\n",
      "969/969 - 133s - loss: 2.1125 - top1acc: 0.7445 - top5acc: 0.9152 - lr: 9.2402e-04 - 133s/epoch - 137ms/step\n",
      "learning rate: 9.15e-04, weight decay: 4.57e-05\n",
      "Epoch 28/100\n",
      "969/969 - 133s - loss: 2.1002 - top1acc: 0.7501 - top5acc: 0.9171 - lr: 9.1452e-04 - 133s/epoch - 137ms/step\n",
      "learning rate: 9.05e-04, weight decay: 4.52e-05\n",
      "Epoch 29/100\n",
      "969/969 - 133s - loss: 2.0942 - top1acc: 0.7524 - top5acc: 0.9183 - lr: 9.0451e-04 - 133s/epoch - 138ms/step\n",
      "learning rate: 8.94e-04, weight decay: 4.47e-05\n",
      "Epoch 30/100\n",
      "969/969 - 133s - loss: 2.0894 - top1acc: 0.7550 - top5acc: 0.9191 - lr: 8.9401e-04 - 133s/epoch - 137ms/step\n",
      "learning rate: 8.83e-04, weight decay: 4.42e-05\n",
      "Epoch 31/100\n",
      "969/969 - 133s - loss: 2.0798 - top1acc: 0.7590 - top5acc: 0.9211 - lr: 8.8302e-04 - 133s/epoch - 137ms/step\n",
      "learning rate: 8.72e-04, weight decay: 4.36e-05\n",
      "Epoch 32/100\n",
      "969/969 - 133s - loss: 2.0741 - top1acc: 0.7617 - top5acc: 0.9216 - lr: 8.7157e-04 - 133s/epoch - 137ms/step\n",
      "learning rate: 8.60e-04, weight decay: 4.30e-05\n",
      "Epoch 33/100\n",
      "969/969 - 133s - loss: 2.0648 - top1acc: 0.7654 - top5acc: 0.9236 - lr: 8.5967e-04 - 133s/epoch - 137ms/step\n",
      "learning rate: 8.47e-04, weight decay: 4.24e-05\n",
      "Epoch 34/100\n",
      "969/969 - 133s - loss: 2.0593 - top1acc: 0.7679 - top5acc: 0.9244 - lr: 8.4733e-04 - 133s/epoch - 137ms/step\n",
      "learning rate: 8.35e-04, weight decay: 4.17e-05\n",
      "Epoch 35/100\n",
      "969/969 - 133s - loss: 2.0540 - top1acc: 0.7706 - top5acc: 0.9256 - lr: 8.3457e-04 - 133s/epoch - 137ms/step\n",
      "learning rate: 8.21e-04, weight decay: 4.11e-05\n",
      "Epoch 36/100\n",
      "969/969 - 133s - loss: 2.0523 - top1acc: 0.7713 - top5acc: 0.9255 - lr: 8.2139e-04 - 133s/epoch - 137ms/step\n",
      "learning rate: 8.08e-04, weight decay: 4.04e-05\n",
      "Epoch 37/100\n",
      "969/969 - 133s - loss: 2.0436 - top1acc: 0.7749 - top5acc: 0.9273 - lr: 8.0783e-04 - 133s/epoch - 137ms/step\n",
      "learning rate: 7.94e-04, weight decay: 3.97e-05\n",
      "Epoch 38/100\n",
      "969/969 - 133s - loss: 2.0370 - top1acc: 0.7779 - top5acc: 0.9288 - lr: 7.9389e-04 - 133s/epoch - 137ms/step\n",
      "learning rate: 7.80e-04, weight decay: 3.90e-05\n",
      "Epoch 39/100\n",
      "969/969 - 133s - loss: 2.0350 - top1acc: 0.7790 - top5acc: 0.9286 - lr: 7.7960e-04 - 133s/epoch - 137ms/step\n",
      "learning rate: 7.65e-04, weight decay: 3.82e-05\n",
      "Epoch 40/100\n",
      "969/969 - 133s - loss: 2.0264 - top1acc: 0.7828 - top5acc: 0.9303 - lr: 7.6496e-04 - 133s/epoch - 137ms/step\n",
      "learning rate: 7.50e-04, weight decay: 3.75e-05\n",
      "Epoch 41/100\n",
      "969/969 - 133s - loss: 2.0207 - top1acc: 0.7853 - top5acc: 0.9316 - lr: 7.5000e-04 - 133s/epoch - 137ms/step\n",
      "learning rate: 7.35e-04, weight decay: 3.67e-05\n",
      "Epoch 42/100\n",
      "969/969 - 133s - loss: 2.0139 - top1acc: 0.7885 - top5acc: 0.9329 - lr: 7.3474e-04 - 133s/epoch - 137ms/step\n",
      "learning rate: 7.19e-04, weight decay: 3.60e-05\n",
      "Epoch 43/100\n",
      "969/969 - 133s - loss: 2.0095 - top1acc: 0.7895 - top5acc: 0.9334 - lr: 7.1919e-04 - 133s/epoch - 137ms/step\n",
      "learning rate: 7.03e-04, weight decay: 3.52e-05\n",
      "Epoch 44/100\n",
      "969/969 - 133s - loss: 2.0056 - top1acc: 0.7919 - top5acc: 0.9344 - lr: 7.0337e-04 - 133s/epoch - 137ms/step\n",
      "learning rate: 6.87e-04, weight decay: 3.44e-05\n",
      "Epoch 45/100\n",
      "969/969 - 133s - loss: 2.0004 - top1acc: 0.7941 - top5acc: 0.9353 - lr: 6.8730e-04 - 133s/epoch - 137ms/step\n",
      "learning rate: 6.71e-04, weight decay: 3.36e-05\n",
      "Epoch 46/100\n",
      "969/969 - 133s - loss: 1.9980 - top1acc: 0.7952 - top5acc: 0.9357 - lr: 6.7101e-04 - 133s/epoch - 137ms/step\n",
      "learning rate: 6.55e-04, weight decay: 3.27e-05\n",
      "Epoch 47/100\n",
      "969/969 - 133s - loss: 1.9888 - top1acc: 0.7992 - top5acc: 0.9375 - lr: 6.5451e-04 - 133s/epoch - 137ms/step\n",
      "learning rate: 6.38e-04, weight decay: 3.19e-05\n",
      "Epoch 48/100\n",
      "969/969 - 133s - loss: 1.9847 - top1acc: 0.8013 - top5acc: 0.9378 - lr: 6.3782e-04 - 133s/epoch - 137ms/step\n",
      "learning rate: 6.21e-04, weight decay: 3.10e-05\n",
      "Epoch 49/100\n",
      "969/969 - 132s - loss: 1.9841 - top1acc: 0.8015 - top5acc: 0.9380 - lr: 6.2096e-04 - 132s/epoch - 137ms/step\n",
      "learning rate: 6.04e-04, weight decay: 3.02e-05\n",
      "Epoch 50/100\n",
      "969/969 - 132s - loss: 1.9753 - top1acc: 0.8051 - top5acc: 0.9395 - lr: 6.0396e-04 - 132s/epoch - 137ms/step\n",
      "learning rate: 5.87e-04, weight decay: 2.93e-05\n",
      "Epoch 51/100\n",
      "969/969 - 133s - loss: 1.9741 - top1acc: 0.8058 - top5acc: 0.9397 - lr: 5.8682e-04 - 133s/epoch - 137ms/step\n",
      "learning rate: 5.70e-04, weight decay: 2.85e-05\n",
      "Epoch 52/100\n",
      "969/969 - 133s - loss: 1.9669 - top1acc: 0.8092 - top5acc: 0.9407 - lr: 5.6959e-04 - 133s/epoch - 137ms/step\n",
      "learning rate: 5.52e-04, weight decay: 2.76e-05\n",
      "Epoch 53/100\n",
      "969/969 - 132s - loss: 1.9678 - top1acc: 0.8087 - top5acc: 0.9407 - lr: 5.5226e-04 - 132s/epoch - 137ms/step\n",
      "learning rate: 5.35e-04, weight decay: 2.67e-05\n",
      "Epoch 54/100\n",
      "969/969 - 133s - loss: 1.9570 - top1acc: 0.8136 - top5acc: 0.9429 - lr: 5.3488e-04 - 133s/epoch - 137ms/step\n",
      "learning rate: 5.17e-04, weight decay: 2.59e-05\n",
      "Epoch 55/100\n",
      "969/969 - 133s - loss: 1.9548 - top1acc: 0.8140 - top5acc: 0.9435 - lr: 5.1745e-04 - 133s/epoch - 137ms/step\n",
      "learning rate: 5.00e-04, weight decay: 2.50e-05\n",
      "Epoch 56/100\n",
      "969/969 - 133s - loss: 1.9491 - top1acc: 0.8171 - top5acc: 0.9442 - lr: 5.0000e-04 - 133s/epoch - 137ms/step\n",
      "learning rate: 4.83e-04, weight decay: 2.41e-05\n",
      "Epoch 57/100\n",
      "969/969 - 133s - loss: 1.9458 - top1acc: 0.8186 - top5acc: 0.9445 - lr: 4.8255e-04 - 133s/epoch - 137ms/step\n",
      "learning rate: 4.65e-04, weight decay: 2.33e-05\n",
      "Epoch 58/100\n",
      "969/969 - 133s - loss: 1.9386 - top1acc: 0.8218 - top5acc: 0.9460 - lr: 4.6512e-04 - 133s/epoch - 137ms/step\n",
      "learning rate: 4.48e-04, weight decay: 2.24e-05\n",
      "Epoch 59/100\n",
      "969/969 - 133s - loss: 1.9383 - top1acc: 0.8221 - top5acc: 0.9459 - lr: 4.4774e-04 - 133s/epoch - 137ms/step\n",
      "learning rate: 4.30e-04, weight decay: 2.15e-05\n",
      "Epoch 60/100\n",
      "969/969 - 132s - loss: 1.9311 - top1acc: 0.8252 - top5acc: 0.9472 - lr: 4.3041e-04 - 132s/epoch - 136ms/step\n",
      "learning rate: 4.13e-04, weight decay: 2.07e-05\n",
      "Epoch 61/100\n",
      "969/969 - 132s - loss: 1.9263 - top1acc: 0.8274 - top5acc: 0.9484 - lr: 4.1318e-04 - 132s/epoch - 136ms/step\n",
      "learning rate: 3.96e-04, weight decay: 1.98e-05\n",
      "Epoch 62/100\n",
      "969/969 - 132s - loss: 1.9246 - top1acc: 0.8280 - top5acc: 0.9480 - lr: 3.9604e-04 - 132s/epoch - 137ms/step\n",
      "learning rate: 3.79e-04, weight decay: 1.90e-05\n",
      "Epoch 63/100\n",
      "969/969 - 133s - loss: 1.9201 - top1acc: 0.8299 - top5acc: 0.9487 - lr: 3.7904e-04 - 133s/epoch - 137ms/step\n",
      "learning rate: 3.62e-04, weight decay: 1.81e-05\n",
      "Epoch 64/100\n",
      "969/969 - 132s - loss: 1.9161 - top1acc: 0.8319 - top5acc: 0.9499 - lr: 3.6218e-04 - 132s/epoch - 137ms/step\n",
      "learning rate: 3.45e-04, weight decay: 1.73e-05\n",
      "Epoch 65/100\n",
      "969/969 - 132s - loss: 1.9123 - top1acc: 0.8332 - top5acc: 0.9507 - lr: 3.4549e-04 - 132s/epoch - 137ms/step\n",
      "learning rate: 3.29e-04, weight decay: 1.64e-05\n",
      "Epoch 66/100\n",
      "969/969 - 132s - loss: 1.9063 - top1acc: 0.8361 - top5acc: 0.9517 - lr: 3.2899e-04 - 132s/epoch - 137ms/step\n",
      "learning rate: 3.13e-04, weight decay: 1.56e-05\n",
      "Epoch 67/100\n",
      "969/969 - 132s - loss: 1.9035 - top1acc: 0.8376 - top5acc: 0.9519 - lr: 3.1270e-04 - 132s/epoch - 137ms/step\n",
      "learning rate: 2.97e-04, weight decay: 1.48e-05\n",
      "Epoch 68/100\n",
      "969/969 - 132s - loss: 1.8984 - top1acc: 0.8399 - top5acc: 0.9528 - lr: 2.9663e-04 - 132s/epoch - 136ms/step\n",
      "learning rate: 2.81e-04, weight decay: 1.40e-05\n",
      "Epoch 69/100\n",
      "969/969 - 133s - loss: 1.8950 - top1acc: 0.8412 - top5acc: 0.9534 - lr: 2.8081e-04 - 133s/epoch - 137ms/step\n",
      "learning rate: 2.65e-04, weight decay: 1.33e-05\n",
      "Epoch 70/100\n",
      "969/969 - 133s - loss: 1.8924 - top1acc: 0.8427 - top5acc: 0.9536 - lr: 2.6526e-04 - 133s/epoch - 137ms/step\n",
      "learning rate: 2.50e-04, weight decay: 1.25e-05\n",
      "Epoch 71/100\n",
      "969/969 - 132s - loss: 1.8863 - top1acc: 0.8454 - top5acc: 0.9544 - lr: 2.5000e-04 - 132s/epoch - 137ms/step\n",
      "learning rate: 2.35e-04, weight decay: 1.18e-05\n",
      "Epoch 72/100\n",
      "969/969 - 133s - loss: 1.8876 - top1acc: 0.8447 - top5acc: 0.9542 - lr: 2.3504e-04 - 133s/epoch - 137ms/step\n",
      "learning rate: 2.20e-04, weight decay: 1.10e-05\n",
      "Epoch 73/100\n",
      "969/969 - 133s - loss: 1.8788 - top1acc: 0.8487 - top5acc: 0.9561 - lr: 2.2040e-04 - 133s/epoch - 137ms/step\n",
      "learning rate: 2.06e-04, weight decay: 1.03e-05\n",
      "Epoch 74/100\n",
      "969/969 - 133s - loss: 1.8771 - top1acc: 0.8496 - top5acc: 0.9564 - lr: 2.0611e-04 - 133s/epoch - 137ms/step\n",
      "learning rate: 1.92e-04, weight decay: 9.61e-06\n",
      "Epoch 75/100\n",
      "969/969 - 133s - loss: 1.8749 - top1acc: 0.8507 - top5acc: 0.9566 - lr: 1.9217e-04 - 133s/epoch - 137ms/step\n",
      "learning rate: 1.79e-04, weight decay: 8.93e-06\n",
      "Epoch 76/100\n",
      "969/969 - 133s - loss: 1.8736 - top1acc: 0.8514 - top5acc: 0.9569 - lr: 1.7861e-04 - 133s/epoch - 137ms/step\n",
      "learning rate: 1.65e-04, weight decay: 8.27e-06\n",
      "Epoch 77/100\n",
      "969/969 - 133s - loss: 1.8675 - top1acc: 0.8541 - top5acc: 0.9577 - lr: 1.6543e-04 - 133s/epoch - 137ms/step\n",
      "learning rate: 1.53e-04, weight decay: 7.63e-06\n",
      "Epoch 78/100\n",
      "969/969 - 133s - loss: 1.8659 - top1acc: 0.8548 - top5acc: 0.9581 - lr: 1.5267e-04 - 133s/epoch - 137ms/step\n",
      "learning rate: 1.40e-04, weight decay: 7.02e-06\n",
      "Epoch 79/100\n",
      "969/969 - 133s - loss: 1.8617 - top1acc: 0.8567 - top5acc: 0.9588 - lr: 1.4033e-04 - 133s/epoch - 137ms/step\n",
      "learning rate: 1.28e-04, weight decay: 6.42e-06\n",
      "Epoch 80/100\n",
      "969/969 - 132s - loss: 1.8619 - top1acc: 0.8567 - top5acc: 0.9588 - lr: 1.2843e-04 - 132s/epoch - 137ms/step\n",
      "learning rate: 1.17e-04, weight decay: 5.85e-06\n",
      "Epoch 81/100\n",
      "969/969 - 132s - loss: 1.8607 - top1acc: 0.8570 - top5acc: 0.9589 - lr: 1.1698e-04 - 132s/epoch - 136ms/step\n",
      "learning rate: 1.06e-04, weight decay: 5.30e-06\n",
      "Epoch 82/100\n",
      "969/969 - 132s - loss: 1.8548 - top1acc: 0.8599 - top5acc: 0.9598 - lr: 1.0599e-04 - 132s/epoch - 137ms/step\n",
      "learning rate: 9.55e-05, weight decay: 4.77e-06\n",
      "Epoch 83/100\n",
      "969/969 - 132s - loss: 1.8546 - top1acc: 0.8602 - top5acc: 0.9598 - lr: 9.5492e-05 - 132s/epoch - 136ms/step\n",
      "learning rate: 8.55e-05, weight decay: 4.27e-06\n",
      "Epoch 84/100\n",
      "969/969 - 133s - loss: 1.8499 - top1acc: 0.8623 - top5acc: 0.9604 - lr: 8.5481e-05 - 133s/epoch - 137ms/step\n",
      "learning rate: 7.60e-05, weight decay: 3.80e-06\n",
      "Epoch 85/100\n",
      "969/969 - 132s - loss: 1.8500 - top1acc: 0.8621 - top5acc: 0.9607 - lr: 7.5976e-05 - 132s/epoch - 137ms/step\n",
      "learning rate: 6.70e-05, weight decay: 3.35e-06\n",
      "Epoch 86/100\n",
      "969/969 - 132s - loss: 1.8473 - top1acc: 0.8629 - top5acc: 0.9609 - lr: 6.6987e-05 - 132s/epoch - 137ms/step\n",
      "learning rate: 5.85e-05, weight decay: 2.93e-06\n",
      "Epoch 87/100\n",
      "969/969 - 132s - loss: 1.8465 - top1acc: 0.8636 - top5acc: 0.9611 - lr: 5.8526e-05 - 132s/epoch - 137ms/step\n",
      "learning rate: 5.06e-05, weight decay: 2.53e-06\n",
      "Epoch 88/100\n",
      "969/969 - 132s - loss: 1.8456 - top1acc: 0.8643 - top5acc: 0.9612 - lr: 5.0603e-05 - 132s/epoch - 137ms/step\n",
      "learning rate: 4.32e-05, weight decay: 2.16e-06\n",
      "Epoch 89/100\n",
      "969/969 - 132s - loss: 1.8438 - top1acc: 0.8650 - top5acc: 0.9615 - lr: 4.3227e-05 - 132s/epoch - 136ms/step\n",
      "learning rate: 3.64e-05, weight decay: 1.82e-06\n",
      "Epoch 90/100\n",
      "969/969 - 132s - loss: 1.8416 - top1acc: 0.8662 - top5acc: 0.9619 - lr: 3.6408e-05 - 132s/epoch - 136ms/step\n",
      "learning rate: 3.02e-05, weight decay: 1.51e-06\n",
      "Epoch 91/100\n",
      "969/969 - 133s - loss: 1.8408 - top1acc: 0.8663 - top5acc: 0.9620 - lr: 3.0154e-05 - 133s/epoch - 137ms/step\n",
      "learning rate: 2.45e-05, weight decay: 1.22e-06\n",
      "Epoch 92/100\n",
      "969/969 - 132s - loss: 1.8420 - top1acc: 0.8656 - top5acc: 0.9620 - lr: 2.4472e-05 - 132s/epoch - 137ms/step\n",
      "learning rate: 1.94e-05, weight decay: 9.68e-07\n",
      "Epoch 93/100\n",
      "969/969 - 133s - loss: 1.8393 - top1acc: 0.8673 - top5acc: 0.9622 - lr: 1.9369e-05 - 133s/epoch - 137ms/step\n",
      "learning rate: 1.49e-05, weight decay: 7.43e-07\n",
      "Epoch 94/100\n",
      "969/969 - 132s - loss: 1.8376 - top1acc: 0.8682 - top5acc: 0.9625 - lr: 1.4852e-05 - 132s/epoch - 136ms/step\n",
      "learning rate: 1.09e-05, weight decay: 5.46e-07\n",
      "Epoch 95/100\n",
      "969/969 - 132s - loss: 1.8420 - top1acc: 0.8659 - top5acc: 0.9616 - lr: 1.0926e-05 - 132s/epoch - 136ms/step\n",
      "learning rate: 7.60e-06, weight decay: 3.80e-07\n",
      "Epoch 96/100\n",
      "969/969 - 132s - loss: 1.8396 - top1acc: 0.8674 - top5acc: 0.9621 - lr: 7.5961e-06 - 132s/epoch - 136ms/step\n",
      "learning rate: 4.87e-06, weight decay: 2.43e-07\n",
      "Epoch 97/100\n",
      "969/969 - 132s - loss: 1.8387 - top1acc: 0.8675 - top5acc: 0.9623 - lr: 4.8660e-06 - 132s/epoch - 136ms/step\n",
      "learning rate: 2.74e-06, weight decay: 1.37e-07\n",
      "Epoch 98/100\n",
      "969/969 - 132s - loss: 1.8384 - top1acc: 0.8674 - top5acc: 0.9620 - lr: 2.7391e-06 - 132s/epoch - 136ms/step\n",
      "learning rate: 1.22e-06, weight decay: 6.09e-08\n",
      "Epoch 99/100\n",
      "969/969 - 132s - loss: 1.8377 - top1acc: 0.8681 - top5acc: 0.9623 - lr: 1.2180e-06 - 132s/epoch - 136ms/step\n",
      "learning rate: 3.05e-07, weight decay: 1.52e-08\n",
      "Epoch 100/100\n",
      "969/969 - 132s - loss: 1.8388 - top1acc: 0.8676 - top5acc: 0.9625 - lr: 3.0459e-07 - 132s/epoch - 136ms/step\n"
     ]
    }
   ],
   "source": [
    "if TRAIN_MODEL:\n",
    "    # Clear all models in GPU\n",
    "    tf.keras.backend.clear_session()\n",
    "\n",
    "    # Get new fresh model\n",
    "    model = get_model()\n",
    "\n",
    "    # Sanity Check\n",
    "    model.summary()\n",
    "    print('\\n\\n')\n",
    "    # Actual Training\n",
    "    history = model.fit(\n",
    "            x=train_dataset,\n",
    "            steps_per_epoch=TRAIN_STEPS_PER_EPOCH,\n",
    "            epochs=N_EPOCHS,\n",
    "            # Only used for validation data since training data is a generator\n",
    "            validation_data=val_dataset if USE_VAL else None,\n",
    "            validation_steps=N_VAL_STEPS_PER_EPOCH if USE_VAL else None,\n",
    "            callbacks=[\n",
    "                lr_callback,\n",
    "                WeightDecayCallback(),\n",
    "            ],\n",
    "            verbose = VERBOSE,\n",
    "        )"
   ]
  },
  {
   "cell_type": "code",
   "execution_count": 63,
   "id": "69fc4f75",
   "metadata": {
    "execution": {
     "iopub.execute_input": "2023-07-31T11:04:05.873156Z",
     "iopub.status.busy": "2023-07-31T11:04:05.872831Z",
     "iopub.status.idle": "2023-07-31T11:04:05.877478Z",
     "shell.execute_reply": "2023-07-31T11:04:05.876483Z"
    },
    "papermill": {
     "duration": 0.081223,
     "end_time": "2023-07-31T11:04:05.879673",
     "exception": false,
     "start_time": "2023-07-31T11:04:05.798450",
     "status": "completed"
    },
    "tags": []
   },
   "outputs": [],
   "source": [
    "# Load Weights\n",
    "if LOAD_WEIGHTS: # LOAD_WEIGHTS is set to False\n",
    "    model.load_weights('/kaggle/input/aslfr-training-python37/model.h5')\n",
    "    print(f'Successfully Loaded Pretrained Weights')"
   ]
  },
  {
   "cell_type": "code",
   "execution_count": 64,
   "id": "3c999e54",
   "metadata": {
    "execution": {
     "iopub.execute_input": "2023-07-31T11:04:06.025843Z",
     "iopub.status.busy": "2023-07-31T11:04:06.025551Z",
     "iopub.status.idle": "2023-07-31T11:04:06.137688Z",
     "shell.execute_reply": "2023-07-31T11:04:06.136754Z"
    },
    "papermill": {
     "duration": 0.18756,
     "end_time": "2023-07-31T11:04:06.139900",
     "exception": false,
     "start_time": "2023-07-31T11:04:05.952340",
     "status": "completed"
    },
    "tags": []
   },
   "outputs": [],
   "source": [
    "# Save Model Weights\n",
    "model.save_weights('model.h5')"
   ]
  },
  {
   "cell_type": "markdown",
   "id": "30a0b407",
   "metadata": {
    "execution": {
     "iopub.execute_input": "2023-07-26T17:48:41.773030Z",
     "iopub.status.busy": "2023-07-26T17:48:41.772628Z",
     "iopub.status.idle": "2023-07-26T17:48:42.511300Z",
     "shell.execute_reply": "2023-07-26T17:48:42.509845Z",
     "shell.execute_reply.started": "2023-07-26T17:48:41.772989Z"
    },
    "papermill": {
     "duration": 0.072063,
     "end_time": "2023-07-31T11:04:06.285456",
     "exception": false,
     "start_time": "2023-07-31T11:04:06.213393",
     "status": "completed"
    },
    "tags": []
   },
   "source": [
    "Ahora, evaluamos el modelo cargado en el conjunto de datos especificado y calculamos la pérdida y las métricas del modelo en ese conjunto de datos. Es una forma de verificar que el modelo esté cargado correctamente y listo para su uso. Debido a que `train_dataset` es un objeto generador, cada vez que se accede a él se obtiene un nuevo lote de datos diferente. Por ello, no estamos evaluando con los mismos datos con los que entrenamos.\n",
    "\n",
    "La función `evaluate()` nos imprime 3 valores por pantalla en forma de lista:\n",
    "\n",
    "- La pérdida (Sparse Categorical Cross Entropy with Label Smoothing en nuestro caso): medida de qué tan bien se ajustan las predicciones del modelo a las etiquetas verdaderas durante el entrenamiento. Una pérdida más baja indica un mejor ajuste del modelo a los datos de entrenamiento.\n",
    "- Precisión Top-1 (TopKAccuracy(1)): Esta es la precisión top-1, también conocida como precisión en el ranking de mayor probabilidad. Representa la fracción de muestras en las que el modelo predice correctamente la clase verdadera como la clase con la mayor probabilidad. Es decir, es la precisión para el caso en que se toma solo la clase más probable como predicción.\n",
    "- Precisión Top-5 (TopKAccuracy(5)): Esta es la precisión top-5, que representa la fracción de muestras en las que el modelo predice correctamente la clase verdadera como una de las cinco clases con las mayores probabilidades. En otras palabras, se consideran las cinco clases más probables y se verifica si la clase verdadera está presente en esas cinco clases."
   ]
  },
  {
   "cell_type": "code",
   "execution_count": 65,
   "id": "d05fc97f",
   "metadata": {
    "execution": {
     "iopub.execute_input": "2023-07-31T11:04:06.431266Z",
     "iopub.status.busy": "2023-07-31T11:04:06.430688Z",
     "iopub.status.idle": "2023-07-31T11:05:30.374692Z",
     "shell.execute_reply": "2023-07-31T11:05:30.372653Z"
    },
    "papermill": {
     "duration": 84.092339,
     "end_time": "2023-07-31T11:05:30.450136",
     "exception": false,
     "start_time": "2023-07-31T11:04:06.357797",
     "status": "completed"
    },
    "tags": []
   },
   "outputs": [
    {
     "name": "stdout",
     "output_type": "stream",
     "text": [
      "969/969 - 48s - loss: 1.7494 - top1acc: 0.9081 - top5acc: 0.9742 - 48s/epoch - 50ms/step\n"
     ]
    },
    {
     "data": {
      "text/plain": [
       "[1.7493573427200317, 0.9081131219863892, 0.9741507768630981]"
      ]
     },
     "execution_count": 65,
     "metadata": {},
     "output_type": "execute_result"
    }
   ],
   "source": [
    "# Verify Model is Loaded Correctly\n",
    "model.evaluate(\n",
    "    val_dataset if USE_VAL else train_dataset,\n",
    "    steps=N_VAL_STEPS_PER_EPOCH if USE_VAL else TRAIN_STEPS_PER_EPOCH,\n",
    "    batch_size=BATCH_SIZE,\n",
    "    verbose=VERBOSE,\n",
    ")"
   ]
  },
  {
   "cell_type": "markdown",
   "id": "165c1631",
   "metadata": {
    "papermill": {
     "duration": 0.072381,
     "end_time": "2023-07-31T11:05:30.595610",
     "exception": false,
     "start_time": "2023-07-31T11:05:30.523229",
     "status": "completed"
    },
    "tags": []
   },
   "source": [
    "# Levenshtein Distance"
   ]
  },
  {
   "cell_type": "markdown",
   "id": "8e5fb7b8",
   "metadata": {
    "papermill": {
     "duration": 0.073027,
     "end_time": "2023-07-31T11:05:30.741643",
     "exception": false,
     "start_time": "2023-07-31T11:05:30.668616",
     "status": "completed"
    },
    "tags": []
   },
   "source": [
    "Definimos una función llamada `outputs2phrase`, que se utiliza para convertir las salidas (`outputs`) del modelo en una secuencia de texto (frase). La función toma como entrada las salidas del modelo, que pueden ser un tensor de dos dimensiones o un tensor unidimensional. La función realiza lo siguiente:\n",
    "\n",
    "1. Si las salidas tienen dos dimensiones, se toma el índice de la clase con la probabilidad más alta para cada muestra utilizando `np.argmax(outputs, axis=1)`. Esto se hace asumiendo que las salidas son probabilidades de clases, y el modelo ha predicho la clase con la mayor probabilidad para cada muestra.\n",
    "\n",
    "2. Luego, la función recorre los índices de las clases predichas y utiliza un diccionario llamado `ORD2CHAR` para convertir los índices en caracteres. `ORD2CHAR` es un diccionario que mapea los índices de las clases a los caracteres correspondientes en la secuencia de texto. Por ejemplo, el índice 0 podría estar mapeado al carácter \"a\", el índice 1 al carácter \"b\" y así sucesivamente.\n",
    "\n",
    "3. Finalmente, la función une todos los caracteres para formar la secuencia de texto completa y la devuelve como resultado.\n",
    "\n",
    "En resumen, esta función es útil para convertir las salidas del modelo, que son índices de clases o probabilidades, en una secuencia de texto legible para interpretar las predicciones del modelo en forma de texto."
   ]
  },
  {
   "cell_type": "code",
   "execution_count": 66,
   "id": "35dadf7b",
   "metadata": {
    "execution": {
     "iopub.execute_input": "2023-07-31T11:05:30.893981Z",
     "iopub.status.busy": "2023-07-31T11:05:30.893653Z",
     "iopub.status.idle": "2023-07-31T11:05:30.899048Z",
     "shell.execute_reply": "2023-07-31T11:05:30.898042Z"
    },
    "papermill": {
     "duration": 0.081034,
     "end_time": "2023-07-31T11:05:30.901031",
     "exception": false,
     "start_time": "2023-07-31T11:05:30.819997",
     "status": "completed"
    },
    "tags": []
   },
   "outputs": [],
   "source": [
    "# Output Predictions to string\n",
    "def outputs2phrase(outputs):\n",
    "    if outputs.ndim == 2:\n",
    "        outputs = np.argmax(outputs, axis=1)\n",
    "    \n",
    "    return ''.join([ORD2CHAR.get(s, '') for s in outputs])"
   ]
  },
  {
   "cell_type": "markdown",
   "id": "778808f0",
   "metadata": {
    "papermill": {
     "duration": 0.071744,
     "end_time": "2023-07-31T11:05:31.045685",
     "exception": false,
     "start_time": "2023-07-31T11:05:30.973941",
     "status": "completed"
    },
    "tags": []
   },
   "source": [
    "Ahora, definimos la función llamada `predict_phrase` que se utiliza para generar predicciones de texto basadas en una secuencia de frames de entrada utilizando un modelo de lenguaje entrenado previamente.\n",
    "\n",
    "Aquí están los pasos detallados de la función `predict_phrase`:\n",
    "\n",
    "1. La función está decorada con `@tf.function()` para convertirla en un grafo de TensorFlow y obtener beneficios de rendimiento al ejecutarla.\n",
    "\n",
    "2. La función toma el tensor `frames` como entrada, secuencia de frames igual que hemos visto anteriormente (`X_batch['frames']`).\n",
    "\n",
    "3. Se agrega una dimensión batch dimension al tensor `frames` utilizando `tf.expand_dims()`. Esto es necesario porque el modelo espera una entrada con una dimensión de lote, incluso si estamos haciendo una predicción para un solo ejemplo.\n",
    "\n",
    "4. Se inicializa la variable `phrase` con la forma `[1, MAX_PHRASE_LENGTH]` y se llena con el token de relleno (`PAD_TOKEN`). Esta variable se utiliza para almacenar la secuencia de texto generada.\n",
    "\n",
    "5. Se inicia un bucle que se ejecutará `MAX_PHRASE_LENGTH` veces, que es el máximo número de tokens en la secuencia de texto generada.\n",
    "\n",
    "6. Dentro del bucle, se realiza lo siguiente:\n",
    "\n",
    "   * Se convierte `phrase` a tipo `int8`.\n",
    "   * Se llama al modelo con las entradas `X = frames` e `y = phrase` utilizando el método `model()` para obtener las predicciones del modelo para el siguiente token en la secuencia de texto. Estas predicciones se almacenan en la variable `outputs`.\n",
    "   *  `phrase = tf.cast(phrase, tf.int32)`: Se convierte el tensor `phrase` al tipo de datos int32. Esto es necesario para asegurarnos de que podamos utilizar la función `tf.where()` correctamente, ya que requiere que los argumentos tengan el mismo tipo de datos.\n",
    "   * `tf.range(MAX_PHRASE_LENGTH) < idx + 1`: Se crea un tensor booleano con forma `[MAX_PHRASE_LENGTH]=32`, donde cada elemento es `True` si su índice es menor que `idx + 1`, y `False` en caso contrario. Esto crea una máscara que indica qué posiciones de la secuencia de texto aún no han sido predichas.\n",
    "   * `tf.argmax(outputs, axis=2, output_type=tf.int32)`: Se utiliza la función `tf.argmax()` para encontrar el índice del token con la mayor probabilidad en las predicciones (`outputs`). El argumento `axis=2` indica que la búsqueda del máximo se realizará a lo largo del tercer eje de `outputs`, que corresponde a las diferentes clases o tokens posibles en la secuencia de texto. El argumento `output_type=tf.int32` asegura que el resultado de `tf.argmax()` será de tipo entero `int32`.\n",
    "   * `tf.where(condition, x, y)`: Esta función realiza una operación de \"selección condicional\". Toma tres argumentos: `condition`, `x` e `y`. Si `condition` es `True` en una posición, el valor de `x` en esa posición se selecciona; de lo contrario, se selecciona el valor de `y`. En este caso, `condition` es la máscara creada en el paso 2, `x` es el resultado de `tf.argmax()` en el paso 3 (es decir, el índice del token predicho), e `y` es la secuencia de texto actual (`phrase`). Esto significa que si una posición en la máscara es `True`, se selecciona el token predicho en esa posición; de lo contrario, se mantiene el token actual en esa posición.\n",
    "\n",
    "   * Al final de esta operación, la variable `phrase` se ha actualizado con el token predicho en la posición correspondiente, lo que permite que el bucle itere y agregue el siguiente token en la siguiente posición de la secuencia de texto. De esta manera, la secuencia de texto se va construyendo paso a paso hasta completarla con `MAX_PHRASE_LENGTH` tokens, y así se obtiene la secuencia de texto generada por el modelo de lenguaje.\n",
    "\n",
    "7. Una vez finalizado el bucle, el tensor `phrase` se comprime para eliminar la dimensión de lote agregada anteriormente, ya que solo estamos generando una secuencia de texto para un solo ejemplo.\n",
    "\n",
    "8. Los valores numéricos en `phrase` se convierten en representación \"one-hot\" utilizando `tf.one_hot()`. Esta representación \"one-hot\" es útil para obtener las etiquetas discretas (tokens) en formato numérico.\n",
    "\n",
    "9. Finalmente, la función devuelve un diccionario con la clave \"outputs\" y el tensor de salida resultante. Este tensor contiene la secuencia de texto generada en formato \"one-hot\" con forma `[MAX_PHRASE_LENGTH, N_UNIQUE_CHARACTERS]`.\n",
    "\n",
    "En resumen, la función `predict_phrase` toma una secuencia de frames de entrada y utiliza el modelo de lenguaje para predecir la siguiente palabra en la secuencia de texto generada. Luego, itera para predecir todas las palabras de la secuencia. La función devuelve la secuencia de texto generada en formato \"one-hot\" para representar los tokens numéricamente."
   ]
  },
  {
   "cell_type": "code",
   "execution_count": 67,
   "id": "0660ae93",
   "metadata": {
    "execution": {
     "iopub.execute_input": "2023-07-31T11:05:31.194120Z",
     "iopub.status.busy": "2023-07-31T11:05:31.193843Z",
     "iopub.status.idle": "2023-07-31T11:05:31.205074Z",
     "shell.execute_reply": "2023-07-31T11:05:31.203997Z"
    },
    "papermill": {
     "duration": 0.087151,
     "end_time": "2023-07-31T11:05:31.207698",
     "exception": false,
     "start_time": "2023-07-31T11:05:31.120547",
     "status": "completed"
    },
    "tags": []
   },
   "outputs": [
    {
     "name": "stdout",
     "output_type": "stream",
     "text": [
      "tf.Tensor(\n",
      "[[59 59 59 59 59 59 59 59 59 59 59 59 59 59 59 59 59 59 59 59 59 59 59 59\n",
      "  59 59 59 59 59 59 59 59]], shape=(1, 32), dtype=int32)\n",
      "tf.Tensor(\n",
      "[[59 59 59 59 59 59 59 59 59 59 59 59 59 59 59 59 59 59 59 59 59 59 59 59\n",
      "  59 59 59 59 59 59 59 59]], shape=(1, 32), dtype=int8)\n"
     ]
    }
   ],
   "source": [
    "print(tf.fill([1,MAX_PHRASE_LENGTH], PAD_TOKEN)) # MAX_PHRASE_LENGTH = 32\n",
    "print(tf.cast(tf.fill([1,MAX_PHRASE_LENGTH], PAD_TOKEN), tf.int8))"
   ]
  },
  {
   "cell_type": "code",
   "execution_count": 68,
   "id": "98eacf8c",
   "metadata": {
    "execution": {
     "iopub.execute_input": "2023-07-31T11:05:31.356124Z",
     "iopub.status.busy": "2023-07-31T11:05:31.355854Z",
     "iopub.status.idle": "2023-07-31T11:05:31.363800Z",
     "shell.execute_reply": "2023-07-31T11:05:31.362727Z"
    },
    "papermill": {
     "duration": 0.083426,
     "end_time": "2023-07-31T11:05:31.365719",
     "exception": false,
     "start_time": "2023-07-31T11:05:31.282293",
     "status": "completed"
    },
    "tags": []
   },
   "outputs": [],
   "source": [
    "@tf.function()\n",
    "def predict_phrase(frames):\n",
    "    # Add Batch Dimension\n",
    "    frames = tf.expand_dims(frames, axis=0)\n",
    "    # Start Phrase\n",
    "    phrase = tf.fill([1,MAX_PHRASE_LENGTH], PAD_TOKEN)\n",
    "\n",
    "    for idx in tf.range(MAX_PHRASE_LENGTH):\n",
    "        # Cast phrase to int8\n",
    "        phrase = tf.cast(phrase, tf.int8)\n",
    "        # Predict Next Token\n",
    "        outputs = model({\n",
    "            'frames': frames,\n",
    "            'phrase': phrase,\n",
    "        })\n",
    "\n",
    "        # Add predicted token to input phrase\n",
    "        phrase = tf.cast(phrase, tf.int32)\n",
    "        phrase = tf.where( # where its True search for max prob, if its False keep Pad token\n",
    "            tf.range(MAX_PHRASE_LENGTH) < idx + 1, # create a mask of Trues and Falses\n",
    "            tf.argmax(outputs, axis=2, output_type=tf.int32), # search for the max probability\n",
    "            phrase,\n",
    "        )\n",
    "\n",
    "    # Squeeze outputs\n",
    "    outputs = tf.squeeze(phrase, axis=0) # drop first dimension\n",
    "    outputs = tf.one_hot(outputs, N_UNIQUE_CHARACTERS) # one-hot encoding of the numbers\n",
    "\n",
    "    # Return a dictionary with the output tensor\n",
    "    return outputs"
   ]
  },
  {
   "cell_type": "markdown",
   "id": "81fbe494",
   "metadata": {
    "papermill": {
     "duration": 0.07203,
     "end_time": "2023-07-31T11:05:31.510700",
     "exception": false,
     "start_time": "2023-07-31T11:05:31.438670",
     "status": "completed"
    },
    "tags": []
   },
   "source": [
    "# Levenstein Distance Train\n",
    "\n",
    "Con estas dos funciones, creamos una última función, llamada `get_ld_train`, que se utiliza para calcular la distancia entre las frases real y la frase predicha por el modelo en el conjunto de entrenamiento.\n",
    "\n",
    "La función toma como entrada los datos de entrenamiento `X_train` y las etiquetas reales `y_train`, que contienen secuencias de 'frames' y 'phrases' representadas por índices enteros, respectivamente.\n",
    "\n",
    "Creamos una lista vacía llamada `LD_TRAIN` que se utilizará para guardar las distancias de Levenshtein de cada par de frases reales y predichas.\n",
    "\n",
    "Luego, la función itera a través de los datos de entrenamiento utilizando un bucle `for`. Para cada par de 'frames' y 'phrase', realiza lo siguiente:\n",
    "\n",
    "1. Utiliza la función `predict_phrase` para predecir la frase a partir de los frames de entrada. La función `predict_phrase` toma los frames como entrada y devuelve la secuencia predicha de caracteres en formato \"one-hot\". Posteriormente, utiliza la función `outputs2phrase` para convertir la secuencia predicha de caracteres a una cadena legible.\n",
    "\n",
    "2. Convierte la frase real de índices enteros a una cadena legible utilizando la función `outputs2phrase`.\n",
    "\n",
    "3. Calcula la distancia de Levenshtein entre la frase real y la frase predicha utilizando la función `levenshtein`. La distancia de Levenshtein es una medida de la diferencia entre dos cadenas, que se calcula contando el número mínimo de operaciones (inserciones, eliminaciones o sustituciones de caracteres) requeridas para transformar una cadena en la otra.\n",
    "\n",
    "4. Mete la frase real, la frase predicha y la distancia de Levenshtein en la lista `LD_TRAIN`.\n",
    "\n",
    "Después de completar el bucle, la función convierte la lista `LD_TRAIN` en un DataFrame de pandas llamado `LD_TRAIN_DF` y lo devuelve como resultado."
   ]
  },
  {
   "cell_type": "code",
   "execution_count": 69,
   "id": "adb135f5",
   "metadata": {
    "execution": {
     "iopub.execute_input": "2023-07-31T11:05:31.656810Z",
     "iopub.status.busy": "2023-07-31T11:05:31.656506Z",
     "iopub.status.idle": "2023-07-31T11:05:31.662691Z",
     "shell.execute_reply": "2023-07-31T11:05:31.661488Z"
    },
    "papermill": {
     "duration": 0.081441,
     "end_time": "2023-07-31T11:05:31.664705",
     "exception": false,
     "start_time": "2023-07-31T11:05:31.583264",
     "status": "completed"
    },
    "tags": []
   },
   "outputs": [
    {
     "name": "stdout",
     "output_type": "stream",
     "text": [
      "Shape X_train: (61955, 128, 164)\n",
      "Shape y_train: (61955, 32)\n"
     ]
    }
   ],
   "source": [
    "print(f'Shape X_train: {X_train.shape}')\n",
    "print(f'Shape y_train: {y_train.shape}')"
   ]
  },
  {
   "cell_type": "markdown",
   "id": "966caf1c",
   "metadata": {
    "papermill": {
     "duration": 0.07267,
     "end_time": "2023-07-31T11:05:31.810729",
     "exception": false,
     "start_time": "2023-07-31T11:05:31.738059",
     "status": "completed"
    },
    "tags": []
   },
   "source": [
    "`zip(tqdm(X_train, total=N)` en cada iteración del bucle, obtiene un par de elementos, uno de X_train y otro de tqdm. Por eso obtenemos 3 elementos en el enumerate, el índice con el tqdm, X_train e y_train"
   ]
  },
  {
   "cell_type": "code",
   "execution_count": 70,
   "id": "96ce1e29",
   "metadata": {
    "execution": {
     "iopub.execute_input": "2023-07-31T11:05:31.957637Z",
     "iopub.status.busy": "2023-07-31T11:05:31.956928Z",
     "iopub.status.idle": "2023-07-31T11:05:31.980964Z",
     "shell.execute_reply": "2023-07-31T11:05:31.980063Z"
    },
    "papermill": {
     "duration": 0.103976,
     "end_time": "2023-07-31T11:05:31.987060",
     "exception": false,
     "start_time": "2023-07-31T11:05:31.883084",
     "status": "completed"
    },
    "tags": []
   },
   "outputs": [
    {
     "data": {
      "application/vnd.jupyter.widget-view+json": {
       "model_id": "d356bbd2c74b478fb63b45b07c8ecc4b",
       "version_major": 2,
       "version_minor": 0
      },
      "text/plain": [
       "  0%|          | 0/1000 [00:00<?, ?it/s]"
      ]
     },
     "metadata": {},
     "output_type": "display_data"
    },
    {
     "name": "stdout",
     "output_type": "stream",
     "text": [
      "0\n",
      "[18  0 34 49 36 36 42 39 46 52 50 36 61 59 59 59 59 59 59 59 59 59 59 59\n",
      " 59 59 59 59 59 59 59 59]\n",
      "1\n",
      "[50 34 32 43 36 50 14 42 52 39 32 56 43 32 39 61 59 59 59 59 59 59 59 59\n",
      " 59 59 59 59 59 59 59 59]\n",
      "2\n",
      "[39 36 45 51 32 40 39 52 33 50 13 34 46 44 61 59 59 59 59 59 59 59 59 59\n",
      " 59 59 59 59 59 59 59 59]\n",
      "3\n",
      "[16 18 23 18  0 54 40 43 43 40 32 44  0 43 32 45 40 36 49 61 59 59 59 59\n",
      " 59 59 59 59 59 59 59 59]\n",
      "4\n",
      "[24 23 23  0 37 49 32 45 42 43 40 45  0 43 32 45 36 61 59 59 59 59 59 59\n",
      " 59 59 59 59 59 59 59 59]\n"
     ]
    }
   ],
   "source": [
    "i = 0\n",
    "N = 100 if IS_INTERACTIVE else 1000\n",
    "for idx, (frames, phrase_true) in enumerate(zip(tqdm(X_train, total=N), y_train)):\n",
    "    print(idx)\n",
    "    print(phrase_true)\n",
    "    i+=1\n",
    "    if i == 5:\n",
    "        break"
   ]
  },
  {
   "cell_type": "code",
   "execution_count": 71,
   "id": "1edef664",
   "metadata": {
    "execution": {
     "iopub.execute_input": "2023-07-31T11:05:32.137209Z",
     "iopub.status.busy": "2023-07-31T11:05:32.136429Z",
     "iopub.status.idle": "2023-07-31T11:05:32.143462Z",
     "shell.execute_reply": "2023-07-31T11:05:32.142633Z"
    },
    "papermill": {
     "duration": 0.084418,
     "end_time": "2023-07-31T11:05:32.145410",
     "exception": false,
     "start_time": "2023-07-31T11:05:32.060992",
     "status": "completed"
    },
    "tags": []
   },
   "outputs": [],
   "source": [
    "# Compute Levenstein Distances\n",
    "def get_ld_train():\n",
    "    N = 100 if IS_INTERACTIVE else 1000\n",
    "    LD_TRAIN = []\n",
    "    for idx, (frames, phrase_true) in enumerate(zip(tqdm(X_train, total=N), y_train)):\n",
    "        # Predict Phrase and Convert to String\n",
    "        phrase_pred = predict_phrase(frames).numpy()\n",
    "        phrase_pred = outputs2phrase(phrase_pred)\n",
    "        # True Phrase Ordinal to String\n",
    "        phrase_true = outputs2phrase(phrase_true)\n",
    "        # Add Levenstein Distance\n",
    "        LD_TRAIN.append({\n",
    "            'phrase_true': phrase_true,\n",
    "            'phrase_pred': phrase_pred,\n",
    "            'levenshtein_distance': levenshtein(phrase_pred, phrase_true),\n",
    "        })\n",
    "        # Take subset in interactive mode\n",
    "        if idx == N:\n",
    "            break\n",
    "            \n",
    "    # Convert to DataFrame\n",
    "    LD_TRAIN_DF = pd.DataFrame(LD_TRAIN)\n",
    "    \n",
    "    return LD_TRAIN_DF"
   ]
  },
  {
   "cell_type": "code",
   "execution_count": 72,
   "id": "616e8f5d",
   "metadata": {
    "execution": {
     "iopub.execute_input": "2023-07-31T11:05:32.295195Z",
     "iopub.status.busy": "2023-07-31T11:05:32.294408Z",
     "iopub.status.idle": "2023-07-31T11:07:27.253527Z",
     "shell.execute_reply": "2023-07-31T11:07:27.252532Z"
    },
    "papermill": {
     "duration": 115.037139,
     "end_time": "2023-07-31T11:07:27.255771",
     "exception": false,
     "start_time": "2023-07-31T11:05:32.218632",
     "status": "completed"
    },
    "tags": []
   },
   "outputs": [
    {
     "data": {
      "application/vnd.jupyter.widget-view+json": {
       "model_id": "daadb7f4dc94473e9ef52d392dc88f45",
       "version_major": 2,
       "version_minor": 0
      },
      "text/plain": [
       "  0%|          | 0/1000 [00:00<?, ?it/s]"
      ]
     },
     "metadata": {},
     "output_type": "display_data"
    },
    {
     "data": {
      "text/html": [
       "<div>\n",
       "<style scoped>\n",
       "    .dataframe tbody tr th:only-of-type {\n",
       "        vertical-align: middle;\n",
       "    }\n",
       "\n",
       "    .dataframe tbody tr th {\n",
       "        vertical-align: top;\n",
       "    }\n",
       "\n",
       "    .dataframe thead th {\n",
       "        text-align: right;\n",
       "    }\n",
       "</style>\n",
       "<table border=\"1\" class=\"dataframe\">\n",
       "  <thead>\n",
       "    <tr style=\"text-align: right;\">\n",
       "      <th></th>\n",
       "      <th>phrase_true</th>\n",
       "      <th>phrase_pred</th>\n",
       "      <th>levenshtein_distance</th>\n",
       "      <th>len_char</th>\n",
       "    </tr>\n",
       "  </thead>\n",
       "  <tbody>\n",
       "    <tr>\n",
       "      <th>0</th>\n",
       "      <td>3 creekhouse</td>\n",
       "      <td>3 creekhouse</td>\n",
       "      <td>0</td>\n",
       "      <td>12</td>\n",
       "    </tr>\n",
       "    <tr>\n",
       "      <th>1</th>\n",
       "      <td>scales/kuhaylah</td>\n",
       "      <td>scales/kuhaylaaa</td>\n",
       "      <td>2</td>\n",
       "      <td>15</td>\n",
       "    </tr>\n",
       "    <tr>\n",
       "      <th>2</th>\n",
       "      <td>hentaihubs.com</td>\n",
       "      <td>hentaihubs.com</td>\n",
       "      <td>0</td>\n",
       "      <td>14</td>\n",
       "    </tr>\n",
       "    <tr>\n",
       "      <th>3</th>\n",
       "      <td>1383 william lanier</td>\n",
       "      <td>1383 william lanier</td>\n",
       "      <td>0</td>\n",
       "      <td>19</td>\n",
       "    </tr>\n",
       "    <tr>\n",
       "      <th>4</th>\n",
       "      <td>988 franklin lane</td>\n",
       "      <td>988 franklin lanee</td>\n",
       "      <td>1</td>\n",
       "      <td>17</td>\n",
       "    </tr>\n",
       "    <tr>\n",
       "      <th>5</th>\n",
       "      <td>6920 northeast 661st road</td>\n",
       "      <td>6920 northeast 661st road</td>\n",
       "      <td>0</td>\n",
       "      <td>25</td>\n",
       "    </tr>\n",
       "    <tr>\n",
       "      <th>6</th>\n",
       "      <td>www.freem.ne.jp</td>\n",
       "      <td>www.freem.me.jp.jp</td>\n",
       "      <td>4</td>\n",
       "      <td>15</td>\n",
       "    </tr>\n",
       "    <tr>\n",
       "      <th>7</th>\n",
       "      <td>https://jsi.is/hukuoka</td>\n",
       "      <td>https://jsi.is/hkuokaa</td>\n",
       "      <td>2</td>\n",
       "      <td>22</td>\n",
       "    </tr>\n",
       "    <tr>\n",
       "      <th>8</th>\n",
       "      <td>239613 stolze street</td>\n",
       "      <td>239613 stolze street street</td>\n",
       "      <td>7</td>\n",
       "      <td>20</td>\n",
       "    </tr>\n",
       "    <tr>\n",
       "      <th>9</th>\n",
       "      <td>242-197-6202</td>\n",
       "      <td>211-766-0212</td>\n",
       "      <td>7</td>\n",
       "      <td>12</td>\n",
       "    </tr>\n",
       "    <tr>\n",
       "      <th>10</th>\n",
       "      <td>271097 bayshore boulevard</td>\n",
       "      <td>271097 bay hore boulevard</td>\n",
       "      <td>1</td>\n",
       "      <td>25</td>\n",
       "    </tr>\n",
       "    <tr>\n",
       "      <th>11</th>\n",
       "      <td>federico pearson</td>\n",
       "      <td>federico pearsonon</td>\n",
       "      <td>2</td>\n",
       "      <td>16</td>\n",
       "    </tr>\n",
       "    <tr>\n",
       "      <th>12</th>\n",
       "      <td>/carpina/hope_&amp;_faith/litle</td>\n",
       "      <td>/carpina/hope_sz_fith/litle</td>\n",
       "      <td>3</td>\n",
       "      <td>27</td>\n",
       "    </tr>\n",
       "    <tr>\n",
       "      <th>13</th>\n",
       "      <td>dine-in/code/</td>\n",
       "      <td>dine-in/code/ec/ode//e/</td>\n",
       "      <td>10</td>\n",
       "      <td>13</td>\n",
       "    </tr>\n",
       "    <tr>\n",
       "      <th>14</th>\n",
       "      <td>+264-97-568-217-145</td>\n",
       "      <td>+264-97-568-217-45</td>\n",
       "      <td>1</td>\n",
       "      <td>19</td>\n",
       "    </tr>\n",
       "    <tr>\n",
       "      <th>15</th>\n",
       "      <td>+51-2721-208-63</td>\n",
       "      <td>+51-2712-208-633</td>\n",
       "      <td>3</td>\n",
       "      <td>15</td>\n",
       "    </tr>\n",
       "    <tr>\n",
       "      <th>16</th>\n",
       "      <td>wildberries_ru</td>\n",
       "      <td>wildberreslinders.com</td>\n",
       "      <td>10</td>\n",
       "      <td>14</td>\n",
       "    </tr>\n",
       "    <tr>\n",
       "      <th>17</th>\n",
       "      <td>leona owens</td>\n",
       "      <td>leona owensens</td>\n",
       "      <td>3</td>\n",
       "      <td>11</td>\n",
       "    </tr>\n",
       "    <tr>\n",
       "      <th>18</th>\n",
       "      <td>+220-557-859-04</td>\n",
       "      <td>+220-557-859-0444</td>\n",
       "      <td>2</td>\n",
       "      <td>15</td>\n",
       "    </tr>\n",
       "    <tr>\n",
       "      <th>19</th>\n",
       "      <td>kati castro</td>\n",
       "      <td>kati castro</td>\n",
       "      <td>0</td>\n",
       "      <td>11</td>\n",
       "    </tr>\n",
       "    <tr>\n",
       "      <th>20</th>\n",
       "      <td>5566 hellertown road</td>\n",
       "      <td>56 south 560th street west</td>\n",
       "      <td>22</td>\n",
       "      <td>20</td>\n",
       "    </tr>\n",
       "    <tr>\n",
       "      <th>21</th>\n",
       "      <td>6867 granville drive</td>\n",
       "      <td>6867 granville drive</td>\n",
       "      <td>0</td>\n",
       "      <td>20</td>\n",
       "    </tr>\n",
       "    <tr>\n",
       "      <th>22</th>\n",
       "      <td>1600 fire water</td>\n",
       "      <td>1600 waterter/</td>\n",
       "      <td>7</td>\n",
       "      <td>15</td>\n",
       "    </tr>\n",
       "    <tr>\n",
       "      <th>23</th>\n",
       "      <td>+45-39-007-1887</td>\n",
       "      <td>+45-39-007-188787</td>\n",
       "      <td>2</td>\n",
       "      <td>15</td>\n",
       "    </tr>\n",
       "    <tr>\n",
       "      <th>24</th>\n",
       "      <td>65634/tennessee%20river</td>\n",
       "      <td>65634/tennessee%20rivere</td>\n",
       "      <td>1</td>\n",
       "      <td>23</td>\n",
       "    </tr>\n",
       "    <tr>\n",
       "      <th>25</th>\n",
       "      <td>596-033-4046</td>\n",
       "      <td>515-043-04484</td>\n",
       "      <td>7</td>\n",
       "      <td>12</td>\n",
       "    </tr>\n",
       "    <tr>\n",
       "      <th>26</th>\n",
       "      <td>18 cutter ridge road</td>\n",
       "      <td>18 cutter ridge road</td>\n",
       "      <td>0</td>\n",
       "      <td>20</td>\n",
       "    </tr>\n",
       "    <tr>\n",
       "      <th>27</th>\n",
       "      <td>tampa fl</td>\n",
       "      <td>tampa fl</td>\n",
       "      <td>0</td>\n",
       "      <td>8</td>\n",
       "    </tr>\n",
       "    <tr>\n",
       "      <th>28</th>\n",
       "      <td>492288 west 28th terrace south</td>\n",
       "      <td>492288 west 28th terrace south</td>\n",
       "      <td>0</td>\n",
       "      <td>30</td>\n",
       "    </tr>\n",
       "    <tr>\n",
       "      <th>29</th>\n",
       "      <td>166 water power</td>\n",
       "      <td>661 west 160th street way</td>\n",
       "      <td>19</td>\n",
       "      <td>15</td>\n",
       "    </tr>\n",
       "  </tbody>\n",
       "</table>\n",
       "</div>"
      ],
      "text/plain": [
       "                       phrase_true                     phrase_pred  \\\n",
       "0                     3 creekhouse                    3 creekhouse   \n",
       "1                  scales/kuhaylah                scales/kuhaylaaa   \n",
       "2                   hentaihubs.com                  hentaihubs.com   \n",
       "3              1383 william lanier             1383 william lanier   \n",
       "4                988 franklin lane              988 franklin lanee   \n",
       "5        6920 northeast 661st road       6920 northeast 661st road   \n",
       "6                  www.freem.ne.jp              www.freem.me.jp.jp   \n",
       "7           https://jsi.is/hukuoka          https://jsi.is/hkuokaa   \n",
       "8             239613 stolze street     239613 stolze street street   \n",
       "9                     242-197-6202                    211-766-0212   \n",
       "10       271097 bayshore boulevard       271097 bay hore boulevard   \n",
       "11                federico pearson              federico pearsonon   \n",
       "12     /carpina/hope_&_faith/litle     /carpina/hope_sz_fith/litle   \n",
       "13                   dine-in/code/         dine-in/code/ec/ode//e/   \n",
       "14             +264-97-568-217-145              +264-97-568-217-45   \n",
       "15                 +51-2721-208-63                +51-2712-208-633   \n",
       "16                  wildberries_ru           wildberreslinders.com   \n",
       "17                     leona owens                  leona owensens   \n",
       "18                 +220-557-859-04               +220-557-859-0444   \n",
       "19                     kati castro                     kati castro   \n",
       "20            5566 hellertown road      56 south 560th street west   \n",
       "21            6867 granville drive            6867 granville drive   \n",
       "22                 1600 fire water                  1600 waterter/   \n",
       "23                 +45-39-007-1887               +45-39-007-188787   \n",
       "24         65634/tennessee%20river        65634/tennessee%20rivere   \n",
       "25                    596-033-4046                   515-043-04484   \n",
       "26            18 cutter ridge road            18 cutter ridge road   \n",
       "27                        tampa fl                        tampa fl   \n",
       "28  492288 west 28th terrace south  492288 west 28th terrace south   \n",
       "29                 166 water power       661 west 160th street way   \n",
       "\n",
       "    levenshtein_distance  len_char  \n",
       "0                      0        12  \n",
       "1                      2        15  \n",
       "2                      0        14  \n",
       "3                      0        19  \n",
       "4                      1        17  \n",
       "5                      0        25  \n",
       "6                      4        15  \n",
       "7                      2        22  \n",
       "8                      7        20  \n",
       "9                      7        12  \n",
       "10                     1        25  \n",
       "11                     2        16  \n",
       "12                     3        27  \n",
       "13                    10        13  \n",
       "14                     1        19  \n",
       "15                     3        15  \n",
       "16                    10        14  \n",
       "17                     3        11  \n",
       "18                     2        15  \n",
       "19                     0        11  \n",
       "20                    22        20  \n",
       "21                     0        20  \n",
       "22                     7        15  \n",
       "23                     2        15  \n",
       "24                     1        23  \n",
       "25                     7        12  \n",
       "26                     0        20  \n",
       "27                     0         8  \n",
       "28                     0        30  \n",
       "29                    19        15  "
      ]
     },
     "metadata": {},
     "output_type": "display_data"
    }
   ],
   "source": [
    "LD_TRAIN_DF = get_ld_train()\n",
    "\n",
    "# add column to see the length of the true phrase\n",
    "LD_TRAIN_DF['len_char'] = LD_TRAIN_DF['phrase_true'].apply(lambda x: len(x))\n",
    "\n",
    "# Display Errors\n",
    "display(LD_TRAIN_DF.head(30))"
   ]
  },
  {
   "cell_type": "markdown",
   "id": "0ef41bdc",
   "metadata": {
    "papermill": {
     "duration": 0.073283,
     "end_time": "2023-07-31T11:07:27.404493",
     "exception": false,
     "start_time": "2023-07-31T11:07:27.331210",
     "status": "completed"
    },
    "tags": []
   },
   "source": [
    "Ahora, calculamos la distribución de las distancias de Levenshtein en el conjunto de entrenamiento y creamos un gráfico de barras para visualizar cómo se distribuyen estas distancias en el conjunto de datos."
   ]
  },
  {
   "cell_type": "code",
   "execution_count": 73,
   "id": "379c550e",
   "metadata": {
    "execution": {
     "iopub.execute_input": "2023-07-31T11:07:27.553813Z",
     "iopub.status.busy": "2023-07-31T11:07:27.552328Z",
     "iopub.status.idle": "2023-07-31T11:07:28.169093Z",
     "shell.execute_reply": "2023-07-31T11:07:28.168177Z"
    },
    "papermill": {
     "duration": 0.693532,
     "end_time": "2023-07-31T11:07:28.171438",
     "exception": false,
     "start_time": "2023-07-31T11:07:27.477906",
     "status": "completed"
    },
    "tags": []
   },
   "outputs": [
    {
     "data": {
      "image/png": "[encoded data removed]",
      "text/plain": [
       "<Figure size 1500x800 with 1 Axes>"
      ]
     },
     "metadata": {},
     "output_type": "display_data"
    }
   ],
   "source": [
    "# Value Counts\n",
    "LD_TRAIN_VC = dict([(i, 0) for i in range(LD_TRAIN_DF['levenshtein_distance'].max()+1)])\n",
    "for ld in LD_TRAIN_DF['levenshtein_distance']:\n",
    "    LD_TRAIN_VC[ld] += 1\n",
    "\n",
    "plt.figure(figsize=(15,8))\n",
    "pd.Series(LD_TRAIN_VC).plot(kind='bar', width=1)\n",
    "plt.title(f'Train Levenstein Distance Distribution | Mean: {LD_TRAIN_DF.levenshtein_distance.mean():.4f}')\n",
    "plt.xlabel('Levenstein Distance')\n",
    "plt.ylabel('Sample Count')\n",
    "plt.xlim(-0.50, LD_TRAIN_DF.levenshtein_distance.max()+0.50)\n",
    "plt.grid(axis='y')\n",
    "plt.savefig('temp.png')\n",
    "plt.show()"
   ]
  },
  {
   "cell_type": "markdown",
   "id": "ba501ab6",
   "metadata": {
    "papermill": {
     "duration": 0.073498,
     "end_time": "2023-07-31T11:07:28.320077",
     "exception": false,
     "start_time": "2023-07-31T11:07:28.246579",
     "status": "completed"
    },
    "tags": []
   },
   "source": [
    "# Levenstein Distance Evaluation\n",
    "\n",
    "Hacemos lo mismo para el conjunto de validación:"
   ]
  },
  {
   "cell_type": "code",
   "execution_count": 74,
   "id": "70a33d22",
   "metadata": {
    "execution": {
     "iopub.execute_input": "2023-07-31T11:07:28.471516Z",
     "iopub.status.busy": "2023-07-31T11:07:28.469993Z",
     "iopub.status.idle": "2023-07-31T11:07:28.478390Z",
     "shell.execute_reply": "2023-07-31T11:07:28.477475Z"
    },
    "papermill": {
     "duration": 0.086109,
     "end_time": "2023-07-31T11:07:28.480214",
     "exception": false,
     "start_time": "2023-07-31T11:07:28.394105",
     "status": "completed"
    },
    "tags": []
   },
   "outputs": [],
   "source": [
    "# Compute Levenstein Distances\n",
    "def get_ld_val():\n",
    "    N = 100 if IS_INTERACTIVE else 1000\n",
    "    LD_VAL = []\n",
    "    for idx, (frames, phrase_true) in enumerate(zip(tqdm(X_val, total=N), y_val)):\n",
    "        # Predict Phrase and Convert to String\n",
    "        phrase_pred = predict_phrase(frames).numpy()\n",
    "        phrase_pred = outputs2phrase(phrase_pred)\n",
    "        # True Phrase Ordinal to String\n",
    "        phrase_true = outputs2phrase(phrase_true)\n",
    "        # Add Levenstein Distance\n",
    "        LD_VAL.append({\n",
    "            'phrase_true': phrase_true,\n",
    "            'phrase_pred': phrase_pred,\n",
    "            'levenshtein_distance': levenshtein(phrase_pred, phrase_true),\n",
    "        })\n",
    "        # Take subset in interactive mode\n",
    "        if idx == N:\n",
    "            break\n",
    "            \n",
    "    # Convert to DataFrame\n",
    "    LD_VAL_DF = pd.DataFrame(LD_VAL)\n",
    "    \n",
    "    return LD_VAL_DF"
   ]
  },
  {
   "cell_type": "code",
   "execution_count": 75,
   "id": "9b649aa0",
   "metadata": {
    "execution": {
     "iopub.execute_input": "2023-07-31T11:07:28.632220Z",
     "iopub.status.busy": "2023-07-31T11:07:28.631928Z",
     "iopub.status.idle": "2023-07-31T11:07:28.636403Z",
     "shell.execute_reply": "2023-07-31T11:07:28.635506Z"
    },
    "papermill": {
     "duration": 0.083409,
     "end_time": "2023-07-31T11:07:28.638376",
     "exception": false,
     "start_time": "2023-07-31T11:07:28.554967",
     "status": "completed"
    },
    "tags": []
   },
   "outputs": [],
   "source": [
    "if USE_VAL:\n",
    "    LD_VAL_DF = get_ld_val()\n",
    "\n",
    "    # Display Errors\n",
    "    display(LD_VAL_DF.head(30))"
   ]
  },
  {
   "cell_type": "code",
   "execution_count": 76,
   "id": "8968c973",
   "metadata": {
    "execution": {
     "iopub.execute_input": "2023-07-31T11:07:28.788528Z",
     "iopub.status.busy": "2023-07-31T11:07:28.787742Z",
     "iopub.status.idle": "2023-07-31T11:07:28.794972Z",
     "shell.execute_reply": "2023-07-31T11:07:28.794137Z"
    },
    "papermill": {
     "duration": 0.084407,
     "end_time": "2023-07-31T11:07:28.796929",
     "exception": false,
     "start_time": "2023-07-31T11:07:28.712522",
     "status": "completed"
    },
    "tags": []
   },
   "outputs": [],
   "source": [
    "# Value Counts\n",
    "if USE_VAL:\n",
    "    LD_VAL_VC = dict([(i, 0) for i in range(LD_VAL_DF['levenshtein_distance'].max()+1)])\n",
    "    for ld in LD_VAL_DF['levenshtein_distance']:\n",
    "        LD_VAL_VC[ld] += 1\n",
    "\n",
    "    plt.figure(figsize=(15,8))\n",
    "    pd.Series(LD_VAL_VC).plot(kind='bar', width=1)\n",
    "    plt.title(f'Validation Levenstein Distance Distribution | Mean: {LD_VAL_DF.levenshtein_distance.mean():.4f}')\n",
    "    plt.xlabel('Levenstein Distance')\n",
    "    plt.ylabel('Sample Count')\n",
    "    plt.xlim(0-0.50, LD_VAL_DF.levenshtein_distance.max()+0.50)\n",
    "    plt.grid(axis='y')\n",
    "    plt.savefig('temp.png')\n",
    "    plt.show()"
   ]
  },
  {
   "cell_type": "markdown",
   "id": "a2c1e8de",
   "metadata": {
    "papermill": {
     "duration": 0.076273,
     "end_time": "2023-07-31T11:07:28.947162",
     "exception": false,
     "start_time": "2023-07-31T11:07:28.870889",
     "status": "completed"
    },
    "tags": []
   },
   "source": [
    "# Training History\n",
    "\n",
    "Una vez entrenado el modelo y creado las predicciones de nuestros datos, se define una función llamada `plot_history_metric` para graficar la evolución de las distintas métricas usadas en el entrenamiento.\n",
    "\n",
    "Veamos paso a paso qué hace cada parte del código:\n",
    "\n",
    "- `if not TRAIN_MODEL: return`: Esta línea verifica si la variable `TRAIN_MODEL` es `True` o `False`. Si es `False`, la función no realizará ninguna acción y se detendrá aquí con el `return`. \n",
    "\n",
    "- `values = history.history[metric]`: Se obtienen los valores de la métrica especificada (`metric`) del historial del entrenamiento del modelo, que se almacena en el diccionario `history.history`.\n",
    "\n",
    "- `N_EPOCHS = len(values)`: Se obtiene el número total de épocas de entrenamiento al contar la longitud de los valores de la métrica.\n",
    "\n",
    "- `val = 'val' in ''.join(history.history.keys())`: Se verifica si la palabra 'val' se encuentra en las palabras clave del historial del modelo (si usamos validación). Si es así, se establece `val=True`, de lo contrario, se establece en `False`.\n",
    "\n",
    "- `if N_EPOCHS <= 20: x = np.arange(1, N_EPOCHS + 1)`: Si el número de épocas es menor o igual a 20, se crea un arange `x` con valores que van desde 1 hasta el número total de épocas.\n",
    "\n",
    "- `else: x = [1, 5] + [10 + 5 * idx for idx in range((N_EPOCHS - 10) // 5 + 1)]`: Si el número de épocas es mayor a 20, se crea una lista `x` con valores específicos que están espaciados para que el gráfico muestre claramente la evolución de la métrica.\n",
    "\n",
    "- `x_ticks = np.arange(1, N_EPOCHS+1)`: Se crea otro arange `x_ticks` que contiene los valores desde 1 hasta el número total de épocas. Este se utiliza para definir las etiquetas del eje x en el gráfico.\n",
    "\n",
    "- Si `val=True`:\n",
    "    - `val_values = history.history[f'val_{metric}']`: Se obtienen los valores de la métrica de validación específica (`val_{metric}`) del historial del modelo.\n",
    "    - `val_argmin = f_best(val_values)`: Se encuentra el índice de la métrica de validación que tiene el mejor valor, utilizando la función `f_best` que se especifica como argumento (por defecto es `np.argmax`, lo que encuentra el índice con el valor máximo).\n",
    "    - `plt.plot(x_ticks, val_values, label=f'val')`: Se traza la evolución de la métrica de validación en el gráfico con la etiqueta 'val'.\n",
    "\n",
    "- En caso de que `val=False`:\n",
    "    - `plt.plot(x_ticks, values, label=f'train')`: Se traza la evolución de la métrica de entrenamiento en el gráfico con la etiqueta 'train'.\n",
    "    - `argmin = f_best(values)`: Se encuentra el índice de la métrica de entrenamiento que tiene el mejor valor, utilizando la función `f_best` que se especifica como argumento (por defecto es `np.argmax`, lo que encuentra el índice con el valor máximo).\n",
    "    - `plt.scatter(argmin + 1, values[argmin], color='red', s=75, marker='o', label=f'train_best')`: Se agrega un punto rojo en el gráfico que indica la mejor métrica de entrenamiento y su valor correspondiente.\n",
    "\n",
    "- Si hay métricas de validación (`val`):\n",
    "    - `plt.scatter(val_argmin + 1, val_values[val_argmin], color='purple', s=75, marker='o', label=f'val_best')`: Si hay métricas de validación, se agrega un punto morado en el gráfico que indica la mejor métrica de validación y su valor correspondiente."
   ]
  },
  {
   "cell_type": "code",
   "execution_count": 77,
   "id": "daee79bc",
   "metadata": {
    "execution": {
     "iopub.execute_input": "2023-07-31T11:07:29.096783Z",
     "iopub.status.busy": "2023-07-31T11:07:29.096478Z",
     "iopub.status.idle": "2023-07-31T11:07:29.109395Z",
     "shell.execute_reply": "2023-07-31T11:07:29.108543Z"
    },
    "papermill": {
     "duration": 0.089634,
     "end_time": "2023-07-31T11:07:29.111340",
     "exception": false,
     "start_time": "2023-07-31T11:07:29.021706",
     "status": "completed"
    },
    "tags": []
   },
   "outputs": [],
   "source": [
    "def plot_history_metric(metric, f_best=np.argmax, ylim=None, yscale=None, yticks=None):\n",
    "    # Only plot when training\n",
    "    if not TRAIN_MODEL:\n",
    "        return\n",
    "    \n",
    "    plt.figure(figsize=(20, 10))\n",
    "    \n",
    "    values = history.history[metric]\n",
    "    N_EPOCHS = len(values)\n",
    "    val = 'val' in ''.join(history.history.keys())\n",
    "    # Epoch Ticks\n",
    "    if N_EPOCHS <= 20:\n",
    "        x = np.arange(1, N_EPOCHS + 1)\n",
    "    else:\n",
    "        x = [1, 5] + [10 + 5 * idx for idx in range((N_EPOCHS - 10) // 5 + 1)]\n",
    "\n",
    "    x_ticks = np.arange(1, N_EPOCHS+1)\n",
    "\n",
    "    # Validation\n",
    "    if val:\n",
    "        val_values = history.history[f'val_{metric}']\n",
    "        val_argmin = f_best(val_values)\n",
    "        plt.plot(x_ticks, val_values, label=f'val')\n",
    "\n",
    "    # summarize history for accuracy\n",
    "    plt.plot(x_ticks, values, label=f'train')\n",
    "    argmin = f_best(values)\n",
    "    plt.scatter(argmin + 1, values[argmin], color='red', s=75, marker='o', label=f'train_best')\n",
    "    if val:\n",
    "        plt.scatter(val_argmin + 1, val_values[val_argmin], color='purple', s=75, marker='o', label=f'val_best')\n",
    "\n",
    "    plt.title(f'Model {metric}', fontsize=24, pad=10)\n",
    "    plt.ylabel(metric, fontsize=20, labelpad=10)\n",
    "\n",
    "    if ylim:\n",
    "        plt.ylim(ylim)\n",
    "\n",
    "    if yscale is not None:\n",
    "        plt.yscale(yscale)\n",
    "        \n",
    "    if yticks is not None:\n",
    "        plt.yticks(yticks, fontsize=16)\n",
    "\n",
    "    plt.xlabel('epoch', fontsize=20, labelpad=10)        \n",
    "    plt.tick_params(axis='x', labelsize=8)\n",
    "    plt.xticks(x, fontsize=16) # set tick step to 1 and let x axis start at 1\n",
    "    plt.yticks(fontsize=16)\n",
    "    \n",
    "    plt.legend(prop={'size': 10})\n",
    "    plt.grid()\n",
    "    plt.show()"
   ]
  },
  {
   "cell_type": "code",
   "execution_count": 78,
   "id": "d65dce22",
   "metadata": {
    "execution": {
     "iopub.execute_input": "2023-07-31T11:07:29.260762Z",
     "iopub.status.busy": "2023-07-31T11:07:29.260008Z",
     "iopub.status.idle": "2023-07-31T11:07:29.266253Z",
     "shell.execute_reply": "2023-07-31T11:07:29.265239Z"
    },
    "papermill": {
     "duration": 0.083466,
     "end_time": "2023-07-31T11:07:29.268665",
     "exception": false,
     "start_time": "2023-07-31T11:07:29.185199",
     "status": "completed"
    },
    "tags": []
   },
   "outputs": [
    {
     "data": {
      "text/plain": [
       "dict_keys(['loss', 'top1acc', 'top5acc', 'lr'])"
      ]
     },
     "execution_count": 78,
     "metadata": {},
     "output_type": "execute_result"
    }
   ],
   "source": [
    "history.history.keys() # there's not 'val'"
   ]
  },
  {
   "cell_type": "code",
   "execution_count": 79,
   "id": "7ab348cf",
   "metadata": {
    "execution": {
     "iopub.execute_input": "2023-07-31T11:07:29.417740Z",
     "iopub.status.busy": "2023-07-31T11:07:29.417453Z",
     "iopub.status.idle": "2023-07-31T11:07:29.883507Z",
     "shell.execute_reply": "2023-07-31T11:07:29.882588Z"
    },
    "papermill": {
     "duration": 0.543096,
     "end_time": "2023-07-31T11:07:29.885785",
     "exception": false,
     "start_time": "2023-07-31T11:07:29.342689",
     "status": "completed"
    },
    "tags": []
   },
   "outputs": [
    {
     "data": {
      "image/png": "[encoded data removed]",
      "text/plain": [
       "<Figure size 2000x1000 with 1 Axes>"
      ]
     },
     "metadata": {},
     "output_type": "display_data"
    }
   ],
   "source": [
    "plot_history_metric('loss', f_best=np.argmin)"
   ]
  },
  {
   "cell_type": "code",
   "execution_count": 80,
   "id": "eca28d50",
   "metadata": {
    "execution": {
     "iopub.execute_input": "2023-07-31T11:07:30.039734Z",
     "iopub.status.busy": "2023-07-31T11:07:30.038886Z",
     "iopub.status.idle": "2023-07-31T11:07:30.500721Z",
     "shell.execute_reply": "2023-07-31T11:07:30.499516Z"
    },
    "papermill": {
     "duration": 0.540666,
     "end_time": "2023-07-31T11:07:30.502793",
     "exception": false,
     "start_time": "2023-07-31T11:07:29.962127",
     "status": "completed"
    },
    "tags": []
   },
   "outputs": [
    {
     "data": {
      "image/png": "[encoded data removed]",
      "text/plain": [
       "<Figure size 2000x1000 with 1 Axes>"
      ]
     },
     "metadata": {},
     "output_type": "display_data"
    }
   ],
   "source": [
    "plot_history_metric('top1acc', ylim=[0,1], yticks=np.arange(0.0, 1.1, 0.1))"
   ]
  },
  {
   "cell_type": "code",
   "execution_count": 81,
   "id": "c9a2c475",
   "metadata": {
    "execution": {
     "iopub.execute_input": "2023-07-31T11:07:30.661838Z",
     "iopub.status.busy": "2023-07-31T11:07:30.661101Z",
     "iopub.status.idle": "2023-07-31T11:07:31.125521Z",
     "shell.execute_reply": "2023-07-31T11:07:31.124625Z"
    },
    "papermill": {
     "duration": 0.546738,
     "end_time": "2023-07-31T11:07:31.127847",
     "exception": false,
     "start_time": "2023-07-31T11:07:30.581109",
     "status": "completed"
    },
    "tags": []
   },
   "outputs": [
    {
     "data": {
      "image/png": "[encoded data removed]",
      "text/plain": [
       "<Figure size 2000x1000 with 1 Axes>"
      ]
     },
     "metadata": {},
     "output_type": "display_data"
    }
   ],
   "source": [
    "plot_history_metric('top5acc', ylim=[0,1], yticks=np.arange(0.0, 1.1, 0.1))"
   ]
  },
  {
   "cell_type": "markdown",
   "id": "47eba5dc",
   "metadata": {
    "papermill": {
     "duration": 0.07711,
     "end_time": "2023-07-31T11:07:31.285379",
     "exception": false,
     "start_time": "2023-07-31T11:07:31.208269",
     "status": "completed"
    },
    "tags": []
   },
   "source": [
    "# Inference\n",
    "\n",
    "El siguiente código define la clase `TFLiteModel`, que representa un modelo de TensorFlow Lite (TFLite) construido a partir del modelo previamente entrenado. Esto es es útil cuando se quiere desplegar el modelo en dispositivos con recursos limitados, como teléfonos móviles, dispositivos IoT o sistemas embebidos. TFLite es una versión optimizada de TensorFlow diseñada para inferencias rápidas y eficientes en dispositivos con capacidad computacional limitada.\n",
    "\n",
    "### Paso a paso:\n",
    "\n",
    "1. `TFLiteModel(tf.Module)`: Se define una clase llamada `TFLiteModel` que hereda de `tf.Module`, indicando que es una entidad entrenable en TensorFlow.\n",
    "\n",
    "2. `def __init__(self, model)`: El método `__init__` es el constructor de la clase y se ejecuta automáticamente al crear una instancia de `TFLiteModel`. Recibe el argumento `model`, que es el modelo previamente entrenado que se utilizará como base para el modelo TFLite.\n",
    "\n",
    "3. `self.preprocess_layer = preprocess_layer`: Se asigna a `self.preprocess_layer` la capa de preprocesamiento que se utiliza para procesar los datos de entrada antes de pasarlos al modelo base.\n",
    "\n",
    "4. `self.model = model`: Se asigna a `self.model` el modelo previamente entrenado que se utilizará como base para el modelo TFLite.\n",
    "\n",
    "5. `@tf.function(jit_compile=True)`: Los siguientes métodos están decorados con `@tf.function`, lo que indica que serán compilados por TensorFlow para un rendimiento más rápido.\n",
    "\n",
    "6. `def encoder(self, x, frames_inp)`: Este método implementa la parte del modelo correspondiente al encoder. De igual forma que al construir el modelo, el encoder toma dos argumentos; `x`, que representa los datos de entrada, y `frames_inp`, que es la forma de los datos. En estaó funcin se hace embedding y luego encoding.\n",
    "\n",
    "7. `def decoder(self, x, phrase_inp)`: Este método implementa la parte del modelo correspondiente al decoder. De igual forma que al construir el modelo, el decoder toma dos argumentos; `x`, que representa la salida del codificador, y `phrase_inp`, que es la forma de los datos tipo \"phrase\".\n",
    "\n",
    "8. `@tf.function(input_signature=[tf.TensorSpec(shape=[None, N_COLS0], dtype=tf.float32, name='inputs')])`: El método `__call__` se define como una función TensorFlow que se utilizará para realizar inferencias con el modelo TFLite. Se especifica la forma y tipo de los datos de entrada utilizando `tf.TensorSpec`.\n",
    "\n",
    "9. `N_INPUT_FRAMES = tf.shape(inputs)[0]`: Se obtiene el número de filas de la entrada `inputs`, que representa el número de frames.\n",
    "\n",
    "10. `frames_inp = self.preprocess_layer(inputs)`: Se procesan los datos de entrada utilizando la capa de preprocesamiento `preprocess_layer`.\n",
    "\n",
    "11. `frames_inp = tf.expand_dims(frames_inp, axis=0)`: Se agrega una dimensión de lote (batch dimension) a `frames_inp` para que coincida con la entrada del modelo original.\n",
    "\n",
    "12. `encoding = self.encoder(frames_inp, frames_inp)`: Se obtiene la representación codificada de los datos de entrada utilizando el método `encoder` definido anteriormente.\n",
    "\n",
    "13. `phrase = tf.fill([1,MAX_PHRASE_LENGTH], PAD_TOKEN)`: De igual forma que hicimos anteriormente, se crea un tensor de forma `[1, MAX_PHRASE_LENGTH]` lleno con el valor `PAD_TOKEN`. Este tensor representa la frase de salida que se irá construyendo durante la inferencia.\n",
    "\n",
    "14. `for idx in tf.range(MAX_PHRASE_LENGTH)`: Se itera sobre el rango de índices de la longitud máxima de la frase (`MAX_PHRASE_LENGTH=32`).\n",
    "\n",
    "15. `phrase = tf.cast(phrase, tf.int8)`: Se realiza un casting del tensor `phrase` a tipo `int8`.\n",
    "\n",
    "16. `outputs = tf.cond(stop, ...)`: Se utiliza una condicional de TensorFlow (`tf.cond`) para determinar si se debe detener la generación de la frase. Si `stop=True` , lo que significa que se predijo el token de final de oración (`END_TOKEN`), se devuelve el tensor `phrase` convertido a one-hot encoding y se detiene la generación de la frase. Si `stop=False`, se continúa generando la siguiente palabra de la frase utilizando el método `decoder`.\n",
    "\n",
    "17. `phrase = tf.where(tf.range(MAX_PHRASE_LENGTH) < idx + 1, ...)`: Se actualiza el tensor `phrase` reemplazando el token de relleno (`PAD_TOKEN`) con la palabra predicha hasta el índice actual (`idx`) en la generación de la frase.\n",
    "\n",
    "18. `predicted_token = phrase[0,idx]`: Se obtiene el token predicho en la posición `idx`.\n",
    "\n",
    "19. `if not stop: stop = predicted_token == END_TOKEN`: Se actualiza la variable `stop` verificando si el token predicho es igual al token de final de oración (`END_TOKEN`). Si es así, se establece `stop` en verdadero, lo que significa que la generación de la frase debe detenerse.\n",
    "\n",
    "20. `outputs = tf.squeeze(phrase, axis=0)`: Se elimina la dimensión de lote agregada anteriormente para obtener la frase completa generada.\n",
    "\n",
    "21. `outputs = tf.one_hot(outputs, N_UNIQUE_CHARACTERS)`: Se convierte la frase generada en one-hot encoding.\n",
    "\n",
    "22. Finalmente, el método `__call__` devuelve un diccionario con la clave `'outputs'` que contiene la frase generada.\n",
    "\n",
    "Después de definir la clase `TFLiteModel`, se crea una instancia de la misma llamada `tflite_keras_model` y se realiza una demostración de inferencia utilizando datos de entrada `demo_raw_data`. La inferencia se realiza llamando al método `__call__` de `tflite_keras_model` y se muestra la frase generada, la frase verdadera y los datos de entrada en formato de tensor."
   ]
  },
  {
   "cell_type": "code",
   "execution_count": 82,
   "id": "5ea7e8e6",
   "metadata": {
    "execution": {
     "iopub.execute_input": "2023-07-31T11:07:31.441813Z",
     "iopub.status.busy": "2023-07-31T11:07:31.440104Z",
     "iopub.status.idle": "2023-07-31T11:07:31.446526Z",
     "shell.execute_reply": "2023-07-31T11:07:31.445306Z"
    },
    "papermill": {
     "duration": 0.086134,
     "end_time": "2023-07-31T11:07:31.448527",
     "exception": false,
     "start_time": "2023-07-31T11:07:31.362393",
     "status": "completed"
    },
    "tags": []
   },
   "outputs": [
    {
     "name": "stdout",
     "output_type": "stream",
     "text": [
      "frames\n",
      "masking\n",
      "embedding\n",
      "encoder\n",
      "phrase\n",
      "decoder\n",
      "classifier\n"
     ]
    }
   ],
   "source": [
    "# Model Layer Names\n",
    "for l in model.layers:\n",
    "    print(l.name)"
   ]
  },
  {
   "cell_type": "code",
   "execution_count": 83,
   "id": "ce7b371d",
   "metadata": {
    "execution": {
     "iopub.execute_input": "2023-07-31T11:07:31.604033Z",
     "iopub.status.busy": "2023-07-31T11:07:31.603751Z",
     "iopub.status.idle": "2023-07-31T11:07:37.451173Z",
     "shell.execute_reply": "2023-07-31T11:07:37.449108Z"
    },
    "papermill": {
     "duration": 5.928207,
     "end_time": "2023-07-31T11:07:37.453535",
     "exception": false,
     "start_time": "2023-07-31T11:07:31.525328",
     "status": "completed"
    },
    "tags": []
   },
   "outputs": [
    {
     "name": "stdout",
     "output_type": "stream",
     "text": [
      "demo_raw_data shape: (123, 164), dtype: float32\n",
      "demo_output shape: (32, 62), dtype: float32\n",
      "demo_outputs phrase decoded: 3 creekhouse\n",
      "phrase true: 3 creekhouse\n"
     ]
    }
   ],
   "source": [
    "# TFLite model for submission\n",
    "class TFLiteModel(tf.Module):\n",
    "    def __init__(self, model):\n",
    "        super(TFLiteModel, self).__init__()\n",
    "\n",
    "        # Load the feature generation and main models\n",
    "        self.preprocess_layer = preprocess_layer\n",
    "        self.model = model\n",
    "    \n",
    "    @tf.function(jit_compile=True)\n",
    "    def encoder(self, x, frames_inp):\n",
    "        x = self.model.get_layer('embedding')(x)\n",
    "        x = self.model.get_layer('encoder')(x, frames_inp)\n",
    "        \n",
    "        return x\n",
    "        \n",
    "    @tf.function(jit_compile=True)\n",
    "    def decoder(self, x, phrase_inp, frames_inp):\n",
    "        x = self.model.get_layer('decoder')(x, phrase_inp, frames_inp)\n",
    "        x = self.model.get_layer('classifier')(x)\n",
    "        \n",
    "        return x\n",
    "    \n",
    "    @tf.function(input_signature=[tf.TensorSpec(shape=[None, N_COLS0], dtype=tf.float32, name='inputs')])\n",
    "    def __call__(self, inputs):\n",
    "        # Number Of Input Frames\n",
    "        N_INPUT_FRAMES = tf.shape(inputs)[0]\n",
    "        # Preprocess Data\n",
    "        frames_inp = self.preprocess_layer(inputs)        \n",
    "        # Add Batch Dimension\n",
    "        frames_inp = tf.expand_dims(frames_inp, axis=0)\n",
    "        # Get Encoding\n",
    "        encoding = self.encoder(frames_inp, frames_inp)\n",
    "        # Make Prediction\n",
    "        phrase = tf.fill([1,MAX_PHRASE_LENGTH], PAD_TOKEN)\n",
    "        # Predict One Token At A Time\n",
    "        stop = False\n",
    "        for idx in tf.range(MAX_PHRASE_LENGTH):\n",
    "            # Cast phrase to int8\n",
    "            phrase = tf.cast(phrase, tf.int8)\n",
    "            # If EOS token is predicted, stop predicting\n",
    "            outputs = tf.cond(\n",
    "                stop,\n",
    "                lambda: tf.one_hot(tf.cast(phrase, tf.int32), N_UNIQUE_CHARACTERS),\n",
    "                lambda: self.decoder(encoding, phrase, frames_inp)\n",
    "            )\n",
    "            # Add predicted token to input phrase\n",
    "            phrase = tf.cast(phrase, tf.int32)\n",
    "            # Replcae PAD token with predicted token up to idx\n",
    "            phrase = tf.where(\n",
    "                tf.range(MAX_PHRASE_LENGTH) < idx + 1,\n",
    "                tf.argmax(outputs, axis=2, output_type=tf.int32),\n",
    "                phrase,\n",
    "            )\n",
    "            # Predicted Token\n",
    "            predicted_token = phrase[0,idx]\n",
    "            # If EOS (End Of Sentence) token is predicted stop\n",
    "            if not stop:\n",
    "                stop = predicted_token == END_TOKEN\n",
    "            \n",
    "        # Squeeze outputs\n",
    "        outputs = tf.squeeze(phrase, axis=0)\n",
    "        outputs = tf.one_hot(outputs, N_UNIQUE_CHARACTERS)\n",
    "            \n",
    "        # Return a dictionary with the output tensor\n",
    "        return {'outputs': outputs }\n",
    "\n",
    "# Define TF Lite Model\n",
    "tflite_keras_model = TFLiteModel(model)\n",
    "\n",
    "# Sanity Check\n",
    "# demo_sequence_id = 1816796431\n",
    "demo_sequence_id = example_parquet_df.index.unique()[0]\n",
    "demo_raw_data = example_parquet_df.loc[demo_sequence_id, COLUMNS0].values\n",
    "demo_phrase_true = train_sequence_id.loc[demo_sequence_id, 'phrase']\n",
    "print(f'demo_raw_data shape: {demo_raw_data.shape}, dtype: {demo_raw_data.dtype}')\n",
    "demo_output = tflite_keras_model(demo_raw_data)['outputs'].numpy()\n",
    "print(f'demo_output shape: {demo_output.shape}, dtype: {demo_output.dtype}')\n",
    "print(f'demo_outputs phrase decoded: {outputs2phrase(demo_output)}')\n",
    "print(f'phrase true: {demo_phrase_true}')"
   ]
  },
  {
   "cell_type": "code",
   "execution_count": 84,
   "id": "39aa0bca",
   "metadata": {
    "execution": {
     "iopub.execute_input": "2023-07-31T11:07:37.622458Z",
     "iopub.status.busy": "2023-07-31T11:07:37.622110Z",
     "iopub.status.idle": "2023-07-31T11:08:47.385936Z",
     "shell.execute_reply": "2023-07-31T11:08:47.384907Z"
    },
    "papermill": {
     "duration": 69.85344,
     "end_time": "2023-07-31T11:08:47.388487",
     "exception": false,
     "start_time": "2023-07-31T11:07:37.535047",
     "status": "completed"
    },
    "tags": []
   },
   "outputs": [],
   "source": [
    "# Create Model Converter\n",
    "keras_model_converter = tf.lite.TFLiteConverter.from_keras_model(tflite_keras_model)\n",
    "# Convert Model\n",
    "tflite_model = keras_model_converter.convert()\n",
    "# Write Model\n",
    "with open('/kaggle/working/model.tflite', 'wb') as f:\n",
    "    f.write(tflite_model)"
   ]
  },
  {
   "cell_type": "code",
   "execution_count": 85,
   "id": "25fbaaf2",
   "metadata": {
    "execution": {
     "iopub.execute_input": "2023-07-31T11:08:47.546550Z",
     "iopub.status.busy": "2023-07-31T11:08:47.545927Z",
     "iopub.status.idle": "2023-07-31T11:08:47.551842Z",
     "shell.execute_reply": "2023-07-31T11:08:47.550943Z"
    },
    "papermill": {
     "duration": 0.086346,
     "end_time": "2023-07-31T11:08:47.553983",
     "exception": false,
     "start_time": "2023-07-31T11:08:47.467637",
     "status": "completed"
    },
    "tags": []
   },
   "outputs": [],
   "source": [
    "# Add selected_columns json to only select specific columns from input frames\n",
    "with open('inference_args.json', 'w') as f:\n",
    "     json.dump({ 'selected_columns': COLUMNS0.tolist() }, f)"
   ]
  },
  {
   "cell_type": "code",
   "execution_count": 86,
   "id": "e857660c",
   "metadata": {
    "execution": {
     "iopub.execute_input": "2023-07-31T11:08:47.710744Z",
     "iopub.status.busy": "2023-07-31T11:08:47.710312Z",
     "iopub.status.idle": "2023-07-31T11:08:50.058032Z",
     "shell.execute_reply": "2023-07-31T11:08:50.056753Z"
    },
    "papermill": {
     "duration": 2.429622,
     "end_time": "2023-07-31T11:08:50.061674",
     "exception": false,
     "start_time": "2023-07-31T11:08:47.632052",
     "status": "completed"
    },
    "tags": []
   },
   "outputs": [
    {
     "name": "stdout",
     "output_type": "stream",
     "text": [
      "  adding: kaggle/working/model.tflite (deflated 9%)\r\n",
      "  adding: kaggle/working/inference_args.json (deflated 83%)\r\n"
     ]
    }
   ],
   "source": [
    "# Zip Model\n",
    "!zip submission.zip /kaggle/working/model.tflite /kaggle/working/inference_args.json"
   ]
  }
 ],
 "metadata": {
  "kernelspec": {
   "display_name": "Python 3",
   "language": "python",
   "name": "python3"
  },
  "language_info": {
   "codemirror_mode": {
    "name": "ipython",
    "version": 3
   },
   "file_extension": ".py",
   "mimetype": "text/x-python",
   "name": "python",
   "nbconvert_exporter": "python",
   "pygments_lexer": "ipython3",
   "version": "3.10.12"
  },
  "papermill": {
   "default_parameters": {},
   "duration": 13769.059041,
   "end_time": "2023-07-31T11:08:54.041235",
   "environment_variables": {},
   "exception": null,
   "input_path": "__notebook__.ipynb",
   "output_path": "__notebook__.ipynb",
   "parameters": {},
   "start_time": "2023-07-31T07:19:24.982194",
   "version": "2.4.0"
  },
  "widgets": {
   "application/vnd.jupyter.widget-state+json": {
    "state": {
     "0983779b75604cd9b3c9bbe3ccd05456": {
      "model_module": "@jupyter-widgets/controls",
      "model_module_version": "1.5.0",
      "model_name": "FloatProgressModel",
      "state": {
       "_dom_classes": [],
       "_model_module": "@jupyter-widgets/controls",
       "_model_module_version": "1.5.0",
       "_model_name": "FloatProgressModel",
       "_view_count": null,
       "_view_module": "@jupyter-widgets/controls",
       "_view_module_version": "1.5.0",
       "_view_name": "ProgressView",
       "bar_style": "danger",
       "description": "",
       "description_tooltip": null,
       "layout": "IPY_MODEL_73f0c8fe022e4b31b6faec933b7350ef",
       "max": 1000.0,
       "min": 0.0,
       "orientation": "horizontal",
       "style": "IPY_MODEL_c938be3aad2049978c75226feca726ca",
       "value": 4.0
      }
     },
     "0ff8724844f94bfaba4f9d4626abfe2a": {
      "model_module": "@jupyter-widgets/controls",
      "model_module_version": "1.5.0",
      "model_name": "DescriptionStyleModel",
      "state": {
       "_model_module": "@jupyter-widgets/controls",
       "_model_module_version": "1.5.0",
       "_model_name": "DescriptionStyleModel",
       "_view_count": null,
       "_view_module": "@jupyter-widgets/base",
       "_view_module_version": "1.2.0",
       "_view_name": "StyleView",
       "description_width": ""
      }
     },
     "1139ed91ff8d4053809ac2edbde29d8a": {
      "model_module": "@jupyter-widgets/base",
      "model_module_version": "1.2.0",
      "model_name": "LayoutModel",
      "state": {
       "_model_module": "@jupyter-widgets/base",
       "_model_module_version": "1.2.0",
       "_model_name": "LayoutModel",
       "_view_count": null,
       "_view_module": "@jupyter-widgets/base",
       "_view_module_version": "1.2.0",
       "_view_name": "LayoutView",
       "align_content": null,
       "align_items": null,
       "align_self": null,
       "border": null,
       "bottom": null,
       "display": null,
       "flex": null,
       "flex_flow": null,
       "grid_area": null,
       "grid_auto_columns": null,
       "grid_auto_flow": null,
       "grid_auto_rows": null,
       "grid_column": null,
       "grid_gap": null,
       "grid_row": null,
       "grid_template_areas": null,
       "grid_template_columns": null,
       "grid_template_rows": null,
       "height": null,
       "justify_content": null,
       "justify_items": null,
       "left": null,
       "margin": null,
       "max_height": null,
       "max_width": null,
       "min_height": null,
       "min_width": null,
       "object_fit": null,
       "object_position": null,
       "order": null,
       "overflow": null,
       "overflow_x": null,
       "overflow_y": null,
       "padding": null,
       "right": null,
       "top": null,
       "visibility": null,
       "width": null
      }
     },
     "16e598794e244a6985132b6ce3236027": {
      "model_module": "@jupyter-widgets/base",
      "model_module_version": "1.2.0",
      "model_name": "LayoutModel",
      "state": {
       "_model_module": "@jupyter-widgets/base",
       "_model_module_version": "1.2.0",
       "_model_name": "LayoutModel",
       "_view_count": null,
       "_view_module": "@jupyter-widgets/base",
       "_view_module_version": "1.2.0",
       "_view_name": "LayoutView",
       "align_content": null,
       "align_items": null,
       "align_self": null,
       "border": null,
       "bottom": null,
       "display": null,
       "flex": null,
       "flex_flow": null,
       "grid_area": null,
       "grid_auto_columns": null,
       "grid_auto_flow": null,
       "grid_auto_rows": null,
       "grid_column": null,
       "grid_gap": null,
       "grid_row": null,
       "grid_template_areas": null,
       "grid_template_columns": null,
       "grid_template_rows": null,
       "height": null,
       "justify_content": null,
       "justify_items": null,
       "left": null,
       "margin": null,
       "max_height": null,
       "max_width": null,
       "min_height": null,
       "min_width": null,
       "object_fit": null,
       "object_position": null,
       "order": null,
       "overflow": null,
       "overflow_x": null,
       "overflow_y": null,
       "padding": null,
       "right": null,
       "top": null,
       "visibility": null,
       "width": null
      }
     },
     "267c2a651bde47809dfb8603c72ae023": {
      "model_module": "@jupyter-widgets/base",
      "model_module_version": "1.2.0",
      "model_name": "LayoutModel",
      "state": {
       "_model_module": "@jupyter-widgets/base",
       "_model_module_version": "1.2.0",
       "_model_name": "LayoutModel",
       "_view_count": null,
       "_view_module": "@jupyter-widgets/base",
       "_view_module_version": "1.2.0",
       "_view_name": "LayoutView",
       "align_content": null,
       "align_items": null,
       "align_self": null,
       "border": null,
       "bottom": null,
       "display": null,
       "flex": null,
       "flex_flow": null,
       "grid_area": null,
       "grid_auto_columns": null,
       "grid_auto_flow": null,
       "grid_auto_rows": null,
       "grid_column": null,
       "grid_gap": null,
       "grid_row": null,
       "grid_template_areas": null,
       "grid_template_columns": null,
       "grid_template_rows": null,
       "height": null,
       "justify_content": null,
       "justify_items": null,
       "left": null,
       "margin": null,
       "max_height": null,
       "max_width": null,
       "min_height": null,
       "min_width": null,
       "object_fit": null,
       "object_position": null,
       "order": null,
       "overflow": null,
       "overflow_x": null,
       "overflow_y": null,
       "padding": null,
       "right": null,
       "top": null,
       "visibility": null,
       "width": null
      }
     },
     "33193488ea5e4956b04a032febd37b91": {
      "model_module": "@jupyter-widgets/base",
      "model_module_version": "1.2.0",
      "model_name": "LayoutModel",
      "state": {
       "_model_module": "@jupyter-widgets/base",
       "_model_module_version": "1.2.0",
       "_model_name": "LayoutModel",
       "_view_count": null,
       "_view_module": "@jupyter-widgets/base",
       "_view_module_version": "1.2.0",
       "_view_name": "LayoutView",
       "align_content": null,
       "align_items": null,
       "align_self": null,
       "border": null,
       "bottom": null,
       "display": null,
       "flex": null,
       "flex_flow": null,
       "grid_area": null,
       "grid_auto_columns": null,
       "grid_auto_flow": null,
       "grid_auto_rows": null,
       "grid_column": null,
       "grid_gap": null,
       "grid_row": null,
       "grid_template_areas": null,
       "grid_template_columns": null,
       "grid_template_rows": null,
       "height": null,
       "justify_content": null,
       "justify_items": null,
       "left": null,
       "margin": null,
       "max_height": null,
       "max_width": null,
       "min_height": null,
       "min_width": null,
       "object_fit": null,
       "object_position": null,
       "order": null,
       "overflow": null,
       "overflow_x": null,
       "overflow_y": null,
       "padding": null,
       "right": null,
       "top": null,
       "visibility": null,
       "width": null
      }
     },
     "337ed8e0cf1a424087253ab7026a8304": {
      "model_module": "@jupyter-widgets/controls",
      "model_module_version": "1.5.0",
      "model_name": "HTMLModel",
      "state": {
       "_dom_classes": [],
       "_model_module": "@jupyter-widgets/controls",
       "_model_module_version": "1.5.0",
       "_model_name": "HTMLModel",
       "_view_count": null,
       "_view_module": "@jupyter-widgets/controls",
       "_view_module_version": "1.5.0",
       "_view_name": "HTMLView",
       "description": "",
       "description_tooltip": null,
       "layout": "IPY_MODEL_bb7ee5290d184cc18ccfd62d6acf1a94",
       "placeholder": "​",
       "style": "IPY_MODEL_f409a1630e69427bb5579092caa8ce31",
       "value": " 1000/1000 [01:54&lt;00:00,  9.35it/s]"
      }
     },
     "3fa61027342c4b1d86eb9902995c6420": {
      "model_module": "@jupyter-widgets/controls",
      "model_module_version": "1.5.0",
      "model_name": "DescriptionStyleModel",
      "state": {
       "_model_module": "@jupyter-widgets/controls",
       "_model_module_version": "1.5.0",
       "_model_name": "DescriptionStyleModel",
       "_view_count": null,
       "_view_module": "@jupyter-widgets/base",
       "_view_module_version": "1.2.0",
       "_view_name": "StyleView",
       "description_width": ""
      }
     },
     "43b1f68232474f6c8ac0446ce19a50bb": {
      "model_module": "@jupyter-widgets/base",
      "model_module_version": "1.2.0",
      "model_name": "LayoutModel",
      "state": {
       "_model_module": "@jupyter-widgets/base",
       "_model_module_version": "1.2.0",
       "_model_name": "LayoutModel",
       "_view_count": null,
       "_view_module": "@jupyter-widgets/base",
       "_view_module_version": "1.2.0",
       "_view_name": "LayoutView",
       "align_content": null,
       "align_items": null,
       "align_self": null,
       "border": null,
       "bottom": null,
       "display": null,
       "flex": null,
       "flex_flow": null,
       "grid_area": null,
       "grid_auto_columns": null,
       "grid_auto_flow": null,
       "grid_auto_rows": null,
       "grid_column": null,
       "grid_gap": null,
       "grid_row": null,
       "grid_template_areas": null,
       "grid_template_columns": null,
       "grid_template_rows": null,
       "height": null,
       "justify_content": null,
       "justify_items": null,
       "left": null,
       "margin": null,
       "max_height": null,
       "max_width": null,
       "min_height": null,
       "min_width": null,
       "object_fit": null,
       "object_position": null,
       "order": null,
       "overflow": null,
       "overflow_x": null,
       "overflow_y": null,
       "padding": null,
       "right": null,
       "top": null,
       "visibility": null,
       "width": null
      }
     },
     "46136329c5304a288c55cbf42a2a1fc3": {
      "model_module": "@jupyter-widgets/base",
      "model_module_version": "1.2.0",
      "model_name": "LayoutModel",
      "state": {
       "_model_module": "@jupyter-widgets/base",
       "_model_module_version": "1.2.0",
       "_model_name": "LayoutModel",
       "_view_count": null,
       "_view_module": "@jupyter-widgets/base",
       "_view_module_version": "1.2.0",
       "_view_name": "LayoutView",
       "align_content": null,
       "align_items": null,
       "align_self": null,
       "border": null,
       "bottom": null,
       "display": null,
       "flex": null,
       "flex_flow": null,
       "grid_area": null,
       "grid_auto_columns": null,
       "grid_auto_flow": null,
       "grid_auto_rows": null,
       "grid_column": null,
       "grid_gap": null,
       "grid_row": null,
       "grid_template_areas": null,
       "grid_template_columns": null,
       "grid_template_rows": null,
       "height": null,
       "justify_content": null,
       "justify_items": null,
       "left": null,
       "margin": null,
       "max_height": null,
       "max_width": null,
       "min_height": null,
       "min_width": null,
       "object_fit": null,
       "object_position": null,
       "order": null,
       "overflow": null,
       "overflow_x": null,
       "overflow_y": null,
       "padding": null,
       "right": null,
       "top": null,
       "visibility": null,
       "width": null
      }
     },
     "463a3b86b1f94314afd07845fa628001": {
      "model_module": "@jupyter-widgets/base",
      "model_module_version": "1.2.0",
      "model_name": "LayoutModel",
      "state": {
       "_model_module": "@jupyter-widgets/base",
       "_model_module_version": "1.2.0",
       "_model_name": "LayoutModel",
       "_view_count": null,
       "_view_module": "@jupyter-widgets/base",
       "_view_module_version": "1.2.0",
       "_view_name": "LayoutView",
       "align_content": null,
       "align_items": null,
       "align_self": null,
       "border": null,
       "bottom": null,
       "display": null,
       "flex": null,
       "flex_flow": null,
       "grid_area": null,
       "grid_auto_columns": null,
       "grid_auto_flow": null,
       "grid_auto_rows": null,
       "grid_column": null,
       "grid_gap": null,
       "grid_row": null,
       "grid_template_areas": null,
       "grid_template_columns": null,
       "grid_template_rows": null,
       "height": null,
       "justify_content": null,
       "justify_items": null,
       "left": null,
       "margin": null,
       "max_height": null,
       "max_width": null,
       "min_height": null,
       "min_width": null,
       "object_fit": null,
       "object_position": null,
       "order": null,
       "overflow": null,
       "overflow_x": null,
       "overflow_y": null,
       "padding": null,
       "right": null,
       "top": null,
       "visibility": null,
       "width": null
      }
     },
     "463e4d2ffc534cff96170a175aa41017": {
      "model_module": "@jupyter-widgets/controls",
      "model_module_version": "1.5.0",
      "model_name": "ProgressStyleModel",
      "state": {
       "_model_module": "@jupyter-widgets/controls",
       "_model_module_version": "1.5.0",
       "_model_name": "ProgressStyleModel",
       "_view_count": null,
       "_view_module": "@jupyter-widgets/base",
       "_view_module_version": "1.2.0",
       "_view_name": "StyleView",
       "bar_color": null,
       "description_width": ""
      }
     },
     "4bc56b6ae43d4dae9066318387be6f64": {
      "model_module": "@jupyter-widgets/controls",
      "model_module_version": "1.5.0",
      "model_name": "HTMLModel",
      "state": {
       "_dom_classes": [],
       "_model_module": "@jupyter-widgets/controls",
       "_model_module_version": "1.5.0",
       "_model_name": "HTMLModel",
       "_view_count": null,
       "_view_module": "@jupyter-widgets/controls",
       "_view_module_version": "1.5.0",
       "_view_name": "HTMLView",
       "description": "",
       "description_tooltip": null,
       "layout": "IPY_MODEL_d1edf24079204dfaa2c597a05d9fb110",
       "placeholder": "​",
       "style": "IPY_MODEL_3fa61027342c4b1d86eb9902995c6420",
       "value": "100%"
      }
     },
     "580bbe202da64f22878f62328c9c5e31": {
      "model_module": "@jupyter-widgets/controls",
      "model_module_version": "1.5.0",
      "model_name": "HTMLModel",
      "state": {
       "_dom_classes": [],
       "_model_module": "@jupyter-widgets/controls",
       "_model_module_version": "1.5.0",
       "_model_name": "HTMLModel",
       "_view_count": null,
       "_view_module": "@jupyter-widgets/controls",
       "_view_module_version": "1.5.0",
       "_view_name": "HTMLView",
       "description": "",
       "description_tooltip": null,
       "layout": "IPY_MODEL_842e2920e8964647a957c76c390c039b",
       "placeholder": "​",
       "style": "IPY_MODEL_96f1f9c578754589a990911e96875565",
       "value": "100%"
      }
     },
     "62f0e8083d7e4daf9dbb245894ce57b6": {
      "model_module": "@jupyter-widgets/controls",
      "model_module_version": "1.5.0",
      "model_name": "ProgressStyleModel",
      "state": {
       "_model_module": "@jupyter-widgets/controls",
       "_model_module_version": "1.5.0",
       "_model_name": "ProgressStyleModel",
       "_view_count": null,
       "_view_module": "@jupyter-widgets/base",
       "_view_module_version": "1.2.0",
       "_view_name": "StyleView",
       "bar_color": null,
       "description_width": ""
      }
     },
     "69eb5636db9b41a58ed18764b5080a1c": {
      "model_module": "@jupyter-widgets/controls",
      "model_module_version": "1.5.0",
      "model_name": "HTMLModel",
      "state": {
       "_dom_classes": [],
       "_model_module": "@jupyter-widgets/controls",
       "_model_module_version": "1.5.0",
       "_model_name": "HTMLModel",
       "_view_count": null,
       "_view_module": "@jupyter-widgets/controls",
       "_view_module_version": "1.5.0",
       "_view_name": "HTMLView",
       "description": "",
       "description_tooltip": null,
       "layout": "IPY_MODEL_463a3b86b1f94314afd07845fa628001",
       "placeholder": "​",
       "style": "IPY_MODEL_0ff8724844f94bfaba4f9d4626abfe2a",
       "value": "  0%"
      }
     },
     "6b3165b4ed0e4f658d3d1105d0be6e40": {
      "model_module": "@jupyter-widgets/controls",
      "model_module_version": "1.5.0",
      "model_name": "DescriptionStyleModel",
      "state": {
       "_model_module": "@jupyter-widgets/controls",
       "_model_module_version": "1.5.0",
       "_model_name": "DescriptionStyleModel",
       "_view_count": null,
       "_view_module": "@jupyter-widgets/base",
       "_view_module_version": "1.2.0",
       "_view_name": "StyleView",
       "description_width": ""
      }
     },
     "6ceadc6db58b4234af463737a52b5897": {
      "model_module": "@jupyter-widgets/base",
      "model_module_version": "1.2.0",
      "model_name": "LayoutModel",
      "state": {
       "_model_module": "@jupyter-widgets/base",
       "_model_module_version": "1.2.0",
       "_model_name": "LayoutModel",
       "_view_count": null,
       "_view_module": "@jupyter-widgets/base",
       "_view_module_version": "1.2.0",
       "_view_name": "LayoutView",
       "align_content": null,
       "align_items": null,
       "align_self": null,
       "border": null,
       "bottom": null,
       "display": null,
       "flex": null,
       "flex_flow": null,
       "grid_area": null,
       "grid_auto_columns": null,
       "grid_auto_flow": null,
       "grid_auto_rows": null,
       "grid_column": null,
       "grid_gap": null,
       "grid_row": null,
       "grid_template_areas": null,
       "grid_template_columns": null,
       "grid_template_rows": null,
       "height": null,
       "justify_content": null,
       "justify_items": null,
       "left": null,
       "margin": null,
       "max_height": null,
       "max_width": null,
       "min_height": null,
       "min_width": null,
       "object_fit": null,
       "object_position": null,
       "order": null,
       "overflow": null,
       "overflow_x": null,
       "overflow_y": null,
       "padding": null,
       "right": null,
       "top": null,
       "visibility": null,
       "width": null
      }
     },
     "6d7e6c3aeeae419da8d78355414e4b66": {
      "model_module": "@jupyter-widgets/base",
      "model_module_version": "1.2.0",
      "model_name": "LayoutModel",
      "state": {
       "_model_module": "@jupyter-widgets/base",
       "_model_module_version": "1.2.0",
       "_model_name": "LayoutModel",
       "_view_count": null,
       "_view_module": "@jupyter-widgets/base",
       "_view_module_version": "1.2.0",
       "_view_name": "LayoutView",
       "align_content": null,
       "align_items": null,
       "align_self": null,
       "border": null,
       "bottom": null,
       "display": null,
       "flex": null,
       "flex_flow": null,
       "grid_area": null,
       "grid_auto_columns": null,
       "grid_auto_flow": null,
       "grid_auto_rows": null,
       "grid_column": null,
       "grid_gap": null,
       "grid_row": null,
       "grid_template_areas": null,
       "grid_template_columns": null,
       "grid_template_rows": null,
       "height": null,
       "justify_content": null,
       "justify_items": null,
       "left": null,
       "margin": null,
       "max_height": null,
       "max_width": null,
       "min_height": null,
       "min_width": null,
       "object_fit": null,
       "object_position": null,
       "order": null,
       "overflow": null,
       "overflow_x": null,
       "overflow_y": null,
       "padding": null,
       "right": null,
       "top": null,
       "visibility": null,
       "width": null
      }
     },
     "70aedaed13804ca6900f185b59334ebd": {
      "model_module": "@jupyter-widgets/base",
      "model_module_version": "1.2.0",
      "model_name": "LayoutModel",
      "state": {
       "_model_module": "@jupyter-widgets/base",
       "_model_module_version": "1.2.0",
       "_model_name": "LayoutModel",
       "_view_count": null,
       "_view_module": "@jupyter-widgets/base",
       "_view_module_version": "1.2.0",
       "_view_name": "LayoutView",
       "align_content": null,
       "align_items": null,
       "align_self": null,
       "border": null,
       "bottom": null,
       "display": null,
       "flex": null,
       "flex_flow": null,
       "grid_area": null,
       "grid_auto_columns": null,
       "grid_auto_flow": null,
       "grid_auto_rows": null,
       "grid_column": null,
       "grid_gap": null,
       "grid_row": null,
       "grid_template_areas": null,
       "grid_template_columns": null,
       "grid_template_rows": null,
       "height": null,
       "justify_content": null,
       "justify_items": null,
       "left": null,
       "margin": null,
       "max_height": null,
       "max_width": null,
       "min_height": null,
       "min_width": null,
       "object_fit": null,
       "object_position": null,
       "order": null,
       "overflow": null,
       "overflow_x": null,
       "overflow_y": null,
       "padding": null,
       "right": null,
       "top": null,
       "visibility": null,
       "width": null
      }
     },
     "73f0c8fe022e4b31b6faec933b7350ef": {
      "model_module": "@jupyter-widgets/base",
      "model_module_version": "1.2.0",
      "model_name": "LayoutModel",
      "state": {
       "_model_module": "@jupyter-widgets/base",
       "_model_module_version": "1.2.0",
       "_model_name": "LayoutModel",
       "_view_count": null,
       "_view_module": "@jupyter-widgets/base",
       "_view_module_version": "1.2.0",
       "_view_name": "LayoutView",
       "align_content": null,
       "align_items": null,
       "align_self": null,
       "border": null,
       "bottom": null,
       "display": null,
       "flex": null,
       "flex_flow": null,
       "grid_area": null,
       "grid_auto_columns": null,
       "grid_auto_flow": null,
       "grid_auto_rows": null,
       "grid_column": null,
       "grid_gap": null,
       "grid_row": null,
       "grid_template_areas": null,
       "grid_template_columns": null,
       "grid_template_rows": null,
       "height": null,
       "justify_content": null,
       "justify_items": null,
       "left": null,
       "margin": null,
       "max_height": null,
       "max_width": null,
       "min_height": null,
       "min_width": null,
       "object_fit": null,
       "object_position": null,
       "order": null,
       "overflow": null,
       "overflow_x": null,
       "overflow_y": null,
       "padding": null,
       "right": null,
       "top": null,
       "visibility": null,
       "width": null
      }
     },
     "76b36eacfd884663be64e8609b629a1d": {
      "model_module": "@jupyter-widgets/controls",
      "model_module_version": "1.5.0",
      "model_name": "HBoxModel",
      "state": {
       "_dom_classes": [],
       "_model_module": "@jupyter-widgets/controls",
       "_model_module_version": "1.5.0",
       "_model_name": "HBoxModel",
       "_view_count": null,
       "_view_module": "@jupyter-widgets/controls",
       "_view_module_version": "1.5.0",
       "_view_name": "HBoxView",
       "box_style": "",
       "children": [
        "IPY_MODEL_4bc56b6ae43d4dae9066318387be6f64",
        "IPY_MODEL_f655ba7e46cc4074a4d1eb7f10e21b00",
        "IPY_MODEL_e64613c9263444f1bc9e655261e585d6"
       ],
       "layout": "IPY_MODEL_33193488ea5e4956b04a032febd37b91"
      }
     },
     "842e2920e8964647a957c76c390c039b": {
      "model_module": "@jupyter-widgets/base",
      "model_module_version": "1.2.0",
      "model_name": "LayoutModel",
      "state": {
       "_model_module": "@jupyter-widgets/base",
       "_model_module_version": "1.2.0",
       "_model_name": "LayoutModel",
       "_view_count": null,
       "_view_module": "@jupyter-widgets/base",
       "_view_module_version": "1.2.0",
       "_view_name": "LayoutView",
       "align_content": null,
       "align_items": null,
       "align_self": null,
       "border": null,
       "bottom": null,
       "display": null,
       "flex": null,
       "flex_flow": null,
       "grid_area": null,
       "grid_auto_columns": null,
       "grid_auto_flow": null,
       "grid_auto_rows": null,
       "grid_column": null,
       "grid_gap": null,
       "grid_row": null,
       "grid_template_areas": null,
       "grid_template_columns": null,
       "grid_template_rows": null,
       "height": null,
       "justify_content": null,
       "justify_items": null,
       "left": null,
       "margin": null,
       "max_height": null,
       "max_width": null,
       "min_height": null,
       "min_width": null,
       "object_fit": null,
       "object_position": null,
       "order": null,
       "overflow": null,
       "overflow_x": null,
       "overflow_y": null,
       "padding": null,
       "right": null,
       "top": null,
       "visibility": null,
       "width": null
      }
     },
     "934f85d6ecf64c1490804fb4830325e1": {
      "model_module": "@jupyter-widgets/controls",
      "model_module_version": "1.5.0",
      "model_name": "DescriptionStyleModel",
      "state": {
       "_model_module": "@jupyter-widgets/controls",
       "_model_module_version": "1.5.0",
       "_model_name": "DescriptionStyleModel",
       "_view_count": null,
       "_view_module": "@jupyter-widgets/base",
       "_view_module_version": "1.2.0",
       "_view_name": "StyleView",
       "description_width": ""
      }
     },
     "96f1f9c578754589a990911e96875565": {
      "model_module": "@jupyter-widgets/controls",
      "model_module_version": "1.5.0",
      "model_name": "DescriptionStyleModel",
      "state": {
       "_model_module": "@jupyter-widgets/controls",
       "_model_module_version": "1.5.0",
       "_model_name": "DescriptionStyleModel",
       "_view_count": null,
       "_view_module": "@jupyter-widgets/base",
       "_view_module_version": "1.2.0",
       "_view_name": "StyleView",
       "description_width": ""
      }
     },
     "a0129c424a3d4247b6b74111f70825a5": {
      "model_module": "@jupyter-widgets/controls",
      "model_module_version": "1.5.0",
      "model_name": "HBoxModel",
      "state": {
       "_dom_classes": [],
       "_model_module": "@jupyter-widgets/controls",
       "_model_module_version": "1.5.0",
       "_model_name": "HBoxModel",
       "_view_count": null,
       "_view_module": "@jupyter-widgets/controls",
       "_view_module_version": "1.5.0",
       "_view_name": "HBoxView",
       "box_style": "",
       "children": [
        "IPY_MODEL_580bbe202da64f22878f62328c9c5e31",
        "IPY_MODEL_a418c3d8d9694f7e91072d045daf28c1",
        "IPY_MODEL_c5d5a606f3554a52837305271d67687f"
       ],
       "layout": "IPY_MODEL_e50cecb5ca9e42f8a6a3d5d58b5ad0e3"
      }
     },
     "a2693ce70dff4e72b50a0241ebd7f9d9": {
      "model_module": "@jupyter-widgets/controls",
      "model_module_version": "1.5.0",
      "model_name": "DescriptionStyleModel",
      "state": {
       "_model_module": "@jupyter-widgets/controls",
       "_model_module_version": "1.5.0",
       "_model_name": "DescriptionStyleModel",
       "_view_count": null,
       "_view_module": "@jupyter-widgets/base",
       "_view_module_version": "1.2.0",
       "_view_name": "StyleView",
       "description_width": ""
      }
     },
     "a418c3d8d9694f7e91072d045daf28c1": {
      "model_module": "@jupyter-widgets/controls",
      "model_module_version": "1.5.0",
      "model_name": "FloatProgressModel",
      "state": {
       "_dom_classes": [],
       "_model_module": "@jupyter-widgets/controls",
       "_model_module_version": "1.5.0",
       "_model_name": "FloatProgressModel",
       "_view_count": null,
       "_view_module": "@jupyter-widgets/controls",
       "_view_module_version": "1.5.0",
       "_view_name": "ProgressView",
       "bar_style": "success",
       "description": "",
       "description_tooltip": null,
       "layout": "IPY_MODEL_c5b85441102c4b14a6169f4656005b1f",
       "max": 10.0,
       "min": 0.0,
       "orientation": "horizontal",
       "style": "IPY_MODEL_62f0e8083d7e4daf9dbb245894ce57b6",
       "value": 10.0
      }
     },
     "b0167ee9b74747d4a9abb16c4625e96c": {
      "model_module": "@jupyter-widgets/controls",
      "model_module_version": "1.5.0",
      "model_name": "HTMLModel",
      "state": {
       "_dom_classes": [],
       "_model_module": "@jupyter-widgets/controls",
       "_model_module_version": "1.5.0",
       "_model_name": "HTMLModel",
       "_view_count": null,
       "_view_module": "@jupyter-widgets/controls",
       "_view_module_version": "1.5.0",
       "_view_name": "HTMLView",
       "description": "",
       "description_tooltip": null,
       "layout": "IPY_MODEL_43b1f68232474f6c8ac0446ce19a50bb",
       "placeholder": "​",
       "style": "IPY_MODEL_d7fe5679370d420ebab6329d2ad96124",
       "value": "100%"
      }
     },
     "bb7ee5290d184cc18ccfd62d6acf1a94": {
      "model_module": "@jupyter-widgets/base",
      "model_module_version": "1.2.0",
      "model_name": "LayoutModel",
      "state": {
       "_model_module": "@jupyter-widgets/base",
       "_model_module_version": "1.2.0",
       "_model_name": "LayoutModel",
       "_view_count": null,
       "_view_module": "@jupyter-widgets/base",
       "_view_module_version": "1.2.0",
       "_view_name": "LayoutView",
       "align_content": null,
       "align_items": null,
       "align_self": null,
       "border": null,
       "bottom": null,
       "display": null,
       "flex": null,
       "flex_flow": null,
       "grid_area": null,
       "grid_auto_columns": null,
       "grid_auto_flow": null,
       "grid_auto_rows": null,
       "grid_column": null,
       "grid_gap": null,
       "grid_row": null,
       "grid_template_areas": null,
       "grid_template_columns": null,
       "grid_template_rows": null,
       "height": null,
       "justify_content": null,
       "justify_items": null,
       "left": null,
       "margin": null,
       "max_height": null,
       "max_width": null,
       "min_height": null,
       "min_width": null,
       "object_fit": null,
       "object_position": null,
       "order": null,
       "overflow": null,
       "overflow_x": null,
       "overflow_y": null,
       "padding": null,
       "right": null,
       "top": null,
       "visibility": null,
       "width": null
      }
     },
     "c461aee0452c4150bd72f1d01aff9c48": {
      "model_module": "@jupyter-widgets/controls",
      "model_module_version": "1.5.0",
      "model_name": "FloatProgressModel",
      "state": {
       "_dom_classes": [],
       "_model_module": "@jupyter-widgets/controls",
       "_model_module_version": "1.5.0",
       "_model_name": "FloatProgressModel",
       "_view_count": null,
       "_view_module": "@jupyter-widgets/controls",
       "_view_module_version": "1.5.0",
       "_view_name": "ProgressView",
       "bar_style": "danger",
       "description": "",
       "description_tooltip": null,
       "layout": "IPY_MODEL_1139ed91ff8d4053809ac2edbde29d8a",
       "max": 1000.0,
       "min": 0.0,
       "orientation": "horizontal",
       "style": "IPY_MODEL_463e4d2ffc534cff96170a175aa41017",
       "value": 1000.0
      }
     },
     "c5b85441102c4b14a6169f4656005b1f": {
      "model_module": "@jupyter-widgets/base",
      "model_module_version": "1.2.0",
      "model_name": "LayoutModel",
      "state": {
       "_model_module": "@jupyter-widgets/base",
       "_model_module_version": "1.2.0",
       "_model_name": "LayoutModel",
       "_view_count": null,
       "_view_module": "@jupyter-widgets/base",
       "_view_module_version": "1.2.0",
       "_view_name": "LayoutView",
       "align_content": null,
       "align_items": null,
       "align_self": null,
       "border": null,
       "bottom": null,
       "display": null,
       "flex": null,
       "flex_flow": null,
       "grid_area": null,
       "grid_auto_columns": null,
       "grid_auto_flow": null,
       "grid_auto_rows": null,
       "grid_column": null,
       "grid_gap": null,
       "grid_row": null,
       "grid_template_areas": null,
       "grid_template_columns": null,
       "grid_template_rows": null,
       "height": null,
       "justify_content": null,
       "justify_items": null,
       "left": null,
       "margin": null,
       "max_height": null,
       "max_width": null,
       "min_height": null,
       "min_width": null,
       "object_fit": null,
       "object_position": null,
       "order": null,
       "overflow": null,
       "overflow_x": null,
       "overflow_y": null,
       "padding": null,
       "right": null,
       "top": null,
       "visibility": null,
       "width": null
      }
     },
     "c5d5a606f3554a52837305271d67687f": {
      "model_module": "@jupyter-widgets/controls",
      "model_module_version": "1.5.0",
      "model_name": "HTMLModel",
      "state": {
       "_dom_classes": [],
       "_model_module": "@jupyter-widgets/controls",
       "_model_module_version": "1.5.0",
       "_model_name": "HTMLModel",
       "_view_count": null,
       "_view_module": "@jupyter-widgets/controls",
       "_view_module_version": "1.5.0",
       "_view_name": "HTMLView",
       "description": "",
       "description_tooltip": null,
       "layout": "IPY_MODEL_16e598794e244a6985132b6ce3236027",
       "placeholder": "​",
       "style": "IPY_MODEL_6b3165b4ed0e4f658d3d1105d0be6e40",
       "value": " 10/10 [00:01&lt;00:00,  6.02it/s]"
      }
     },
     "c7e8509b037b4c7abcf474592a587328": {
      "model_module": "@jupyter-widgets/controls",
      "model_module_version": "1.5.0",
      "model_name": "HTMLModel",
      "state": {
       "_dom_classes": [],
       "_model_module": "@jupyter-widgets/controls",
       "_model_module_version": "1.5.0",
       "_model_name": "HTMLModel",
       "_view_count": null,
       "_view_module": "@jupyter-widgets/controls",
       "_view_module_version": "1.5.0",
       "_view_name": "HTMLView",
       "description": "",
       "description_tooltip": null,
       "layout": "IPY_MODEL_6d7e6c3aeeae419da8d78355414e4b66",
       "placeholder": "​",
       "style": "IPY_MODEL_a2693ce70dff4e72b50a0241ebd7f9d9",
       "value": " 4/1000 [00:00&lt;00:04, 232.77it/s]"
      }
     },
     "c938be3aad2049978c75226feca726ca": {
      "model_module": "@jupyter-widgets/controls",
      "model_module_version": "1.5.0",
      "model_name": "ProgressStyleModel",
      "state": {
       "_model_module": "@jupyter-widgets/controls",
       "_model_module_version": "1.5.0",
       "_model_name": "ProgressStyleModel",
       "_view_count": null,
       "_view_module": "@jupyter-widgets/base",
       "_view_module_version": "1.2.0",
       "_view_name": "StyleView",
       "bar_color": null,
       "description_width": ""
      }
     },
     "d1edf24079204dfaa2c597a05d9fb110": {
      "model_module": "@jupyter-widgets/base",
      "model_module_version": "1.2.0",
      "model_name": "LayoutModel",
      "state": {
       "_model_module": "@jupyter-widgets/base",
       "_model_module_version": "1.2.0",
       "_model_name": "LayoutModel",
       "_view_count": null,
       "_view_module": "@jupyter-widgets/base",
       "_view_module_version": "1.2.0",
       "_view_name": "LayoutView",
       "align_content": null,
       "align_items": null,
       "align_self": null,
       "border": null,
       "bottom": null,
       "display": null,
       "flex": null,
       "flex_flow": null,
       "grid_area": null,
       "grid_auto_columns": null,
       "grid_auto_flow": null,
       "grid_auto_rows": null,
       "grid_column": null,
       "grid_gap": null,
       "grid_row": null,
       "grid_template_areas": null,
       "grid_template_columns": null,
       "grid_template_rows": null,
       "height": null,
       "justify_content": null,
       "justify_items": null,
       "left": null,
       "margin": null,
       "max_height": null,
       "max_width": null,
       "min_height": null,
       "min_width": null,
       "object_fit": null,
       "object_position": null,
       "order": null,
       "overflow": null,
       "overflow_x": null,
       "overflow_y": null,
       "padding": null,
       "right": null,
       "top": null,
       "visibility": null,
       "width": null
      }
     },
     "d356bbd2c74b478fb63b45b07c8ecc4b": {
      "model_module": "@jupyter-widgets/controls",
      "model_module_version": "1.5.0",
      "model_name": "HBoxModel",
      "state": {
       "_dom_classes": [],
       "_model_module": "@jupyter-widgets/controls",
       "_model_module_version": "1.5.0",
       "_model_name": "HBoxModel",
       "_view_count": null,
       "_view_module": "@jupyter-widgets/controls",
       "_view_module_version": "1.5.0",
       "_view_name": "HBoxView",
       "box_style": "",
       "children": [
        "IPY_MODEL_69eb5636db9b41a58ed18764b5080a1c",
        "IPY_MODEL_0983779b75604cd9b3c9bbe3ccd05456",
        "IPY_MODEL_c7e8509b037b4c7abcf474592a587328"
       ],
       "layout": "IPY_MODEL_70aedaed13804ca6900f185b59334ebd"
      }
     },
     "d7fe5679370d420ebab6329d2ad96124": {
      "model_module": "@jupyter-widgets/controls",
      "model_module_version": "1.5.0",
      "model_name": "DescriptionStyleModel",
      "state": {
       "_model_module": "@jupyter-widgets/controls",
       "_model_module_version": "1.5.0",
       "_model_name": "DescriptionStyleModel",
       "_view_count": null,
       "_view_module": "@jupyter-widgets/base",
       "_view_module_version": "1.2.0",
       "_view_name": "StyleView",
       "description_width": ""
      }
     },
     "daadb7f4dc94473e9ef52d392dc88f45": {
      "model_module": "@jupyter-widgets/controls",
      "model_module_version": "1.5.0",
      "model_name": "HBoxModel",
      "state": {
       "_dom_classes": [],
       "_model_module": "@jupyter-widgets/controls",
       "_model_module_version": "1.5.0",
       "_model_name": "HBoxModel",
       "_view_count": null,
       "_view_module": "@jupyter-widgets/controls",
       "_view_module_version": "1.5.0",
       "_view_name": "HBoxView",
       "box_style": "",
       "children": [
        "IPY_MODEL_b0167ee9b74747d4a9abb16c4625e96c",
        "IPY_MODEL_c461aee0452c4150bd72f1d01aff9c48",
        "IPY_MODEL_337ed8e0cf1a424087253ab7026a8304"
       ],
       "layout": "IPY_MODEL_267c2a651bde47809dfb8603c72ae023"
      }
     },
     "e50cecb5ca9e42f8a6a3d5d58b5ad0e3": {
      "model_module": "@jupyter-widgets/base",
      "model_module_version": "1.2.0",
      "model_name": "LayoutModel",
      "state": {
       "_model_module": "@jupyter-widgets/base",
       "_model_module_version": "1.2.0",
       "_model_name": "LayoutModel",
       "_view_count": null,
       "_view_module": "@jupyter-widgets/base",
       "_view_module_version": "1.2.0",
       "_view_name": "LayoutView",
       "align_content": null,
       "align_items": null,
       "align_self": null,
       "border": null,
       "bottom": null,
       "display": null,
       "flex": null,
       "flex_flow": null,
       "grid_area": null,
       "grid_auto_columns": null,
       "grid_auto_flow": null,
       "grid_auto_rows": null,
       "grid_column": null,
       "grid_gap": null,
       "grid_row": null,
       "grid_template_areas": null,
       "grid_template_columns": null,
       "grid_template_rows": null,
       "height": null,
       "justify_content": null,
       "justify_items": null,
       "left": null,
       "margin": null,
       "max_height": null,
       "max_width": null,
       "min_height": null,
       "min_width": null,
       "object_fit": null,
       "object_position": null,
       "order": null,
       "overflow": null,
       "overflow_x": null,
       "overflow_y": null,
       "padding": null,
       "right": null,
       "top": null,
       "visibility": null,
       "width": null
      }
     },
     "e64613c9263444f1bc9e655261e585d6": {
      "model_module": "@jupyter-widgets/controls",
      "model_module_version": "1.5.0",
      "model_name": "HTMLModel",
      "state": {
       "_dom_classes": [],
       "_model_module": "@jupyter-widgets/controls",
       "_model_module_version": "1.5.0",
       "_model_name": "HTMLModel",
       "_view_count": null,
       "_view_module": "@jupyter-widgets/controls",
       "_view_module_version": "1.5.0",
       "_view_name": "HTMLView",
       "description": "",
       "description_tooltip": null,
       "layout": "IPY_MODEL_46136329c5304a288c55cbf42a2a1fc3",
       "placeholder": "​",
       "style": "IPY_MODEL_934f85d6ecf64c1490804fb4830325e1",
       "value": " 10/10 [00:01&lt;00:00,  6.28it/s]"
      }
     },
     "ebb54d3bdbef4e52b18a7d2c9da3fb2a": {
      "model_module": "@jupyter-widgets/controls",
      "model_module_version": "1.5.0",
      "model_name": "ProgressStyleModel",
      "state": {
       "_model_module": "@jupyter-widgets/controls",
       "_model_module_version": "1.5.0",
       "_model_name": "ProgressStyleModel",
       "_view_count": null,
       "_view_module": "@jupyter-widgets/base",
       "_view_module_version": "1.2.0",
       "_view_name": "StyleView",
       "bar_color": null,
       "description_width": ""
      }
     },
     "f409a1630e69427bb5579092caa8ce31": {
      "model_module": "@jupyter-widgets/controls",
      "model_module_version": "1.5.0",
      "model_name": "DescriptionStyleModel",
      "state": {
       "_model_module": "@jupyter-widgets/controls",
       "_model_module_version": "1.5.0",
       "_model_name": "DescriptionStyleModel",
       "_view_count": null,
       "_view_module": "@jupyter-widgets/base",
       "_view_module_version": "1.2.0",
       "_view_name": "StyleView",
       "description_width": ""
      }
     },
     "f655ba7e46cc4074a4d1eb7f10e21b00": {
      "model_module": "@jupyter-widgets/controls",
      "model_module_version": "1.5.0",
      "model_name": "FloatProgressModel",
      "state": {
       "_dom_classes": [],
       "_model_module": "@jupyter-widgets/controls",
       "_model_module_version": "1.5.0",
       "_model_name": "FloatProgressModel",
       "_view_count": null,
       "_view_module": "@jupyter-widgets/controls",
       "_view_module_version": "1.5.0",
       "_view_name": "ProgressView",
       "bar_style": "success",
       "description": "",
       "description_tooltip": null,
       "layout": "IPY_MODEL_6ceadc6db58b4234af463737a52b5897",
       "max": 10.0,
       "min": 0.0,
       "orientation": "horizontal",
       "style": "IPY_MODEL_ebb54d3bdbef4e52b18a7d2c9da3fb2a",
       "value": 10.0
      }
     }
    },
    "version_major": 2,
    "version_minor": 0
   }
  }
 },
 "nbformat": 4,
 "nbformat_minor": 5
}
